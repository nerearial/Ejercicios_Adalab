{
 "cells": [
  {
   "cell_type": "code",
   "execution_count": 1,
   "metadata": {},
   "outputs": [
    {
     "name": "stdout",
     "output_type": "stream",
     "text": [
      "Collecting tqdm\n",
      "  Downloading tqdm-4.66.4-py3-none-any.whl.metadata (57 kB)\n",
      "     ---------------------------------------- 0.0/57.6 kB ? eta -:--:--\n",
      "     ---------------------------------------- 57.6/57.6 kB 1.0 MB/s eta 0:00:00\n",
      "Requirement already satisfied: colorama in c:\\users\\nerea\\appdata\\local\\packages\\pythonsoftwarefoundation.python.3.11_qbz5n2kfra8p0\\localcache\\local-packages\\python311\\site-packages (from tqdm) (0.4.6)\n",
      "Downloading tqdm-4.66.4-py3-none-any.whl (78 kB)\n",
      "   ---------------------------------------- 0.0/78.3 kB ? eta -:--:--\n",
      "   ---------------------------------------- 78.3/78.3 kB 2.2 MB/s eta 0:00:00\n",
      "Installing collected packages: tqdm\n",
      "Successfully installed tqdm-4.66.4\n"
     ]
    },
    {
     "name": "stderr",
     "output_type": "stream",
     "text": [
      "\n",
      "[notice] A new release of pip is available: 24.0 -> 24.1.2\n",
      "[notice] To update, run: C:\\Users\\nerea\\AppData\\Local\\Microsoft\\WindowsApps\\PythonSoftwareFoundation.Python.3.11_qbz5n2kfra8p0\\python.exe -m pip install --upgrade pip\n"
     ]
    }
   ],
   "source": [
    "! pip install tqdm"
   ]
  },
  {
   "cell_type": "code",
   "execution_count": 2,
   "metadata": {},
   "outputs": [],
   "source": [
    "import requests\n",
    "import pandas as pd\n",
    "from time import sleep\n",
    "from tqdm import tqdm"
   ]
  },
  {
   "cell_type": "code",
   "execution_count": 20,
   "metadata": {},
   "outputs": [],
   "source": [
    "import requests\n",
    "from json import JSONDecodeError"
   ]
  },
  {
   "cell_type": "code",
   "execution_count": 3,
   "metadata": {},
   "outputs": [
    {
     "name": "stderr",
     "output_type": "stream",
     "text": [
      "  0%|          | 0/1 [00:00<?, ?it/s]"
     ]
    },
    {
     "name": "stdout",
     "output_type": "stream",
     "text": [
      "Drama\n",
      "1960\n",
      "1961\n",
      "1962\n",
      "1963\n",
      "1964\n",
      "1965\n",
      "1966\n",
      "1967\n",
      "1968\n",
      "1969\n",
      "1970\n",
      "1971\n",
      "1972\n",
      "1973\n",
      "1974\n",
      "1975\n"
     ]
    },
    {
     "name": "stderr",
     "output_type": "stream",
     "text": [
      "100%|██████████| 1/1 [01:10<00:00, 70.23s/it]"
     ]
    },
    {
     "name": "stdout",
     "output_type": "stream",
     "text": [
      "[('Herr Puntila und sein Knecht Matti', 'Movie', '1960', 'Drama', 'tt0048162'), ('Toro bravo', 'Movie', '1960', 'Drama', 'tt0048066'), ('Juicio final', 'Movie', '1960', 'Drama', 'tt0048234'), ('El impostor', 'Movie', '1960', 'Drama', 'tt0049360'), ('La encrucijada', 'Movie', '1960', 'Drama', 'tt0051582'), ('Los pequeños gigantes', 'Movie', '1960', 'Drama', 'tt0051869'), ('Kapò', 'Movie', '1960', 'Drama', 'tt0052961'), ('Konec cesty', 'Movie', '1960', 'Drama', 'tt0052973'), ('The Crowning Experience', 'Movie', '1960', 'Drama', 'tt0052715'), ('Il peccato degli anni verdi', 'Movie', '1960', 'Drama', 'tt0052584'), ('Herr Puntila und sein Knecht Matti', 'Movie', '1960', 'Drama', 'tt0048162'), ('Toro bravo', 'Movie', '1960', 'Drama', 'tt0048066'), ('Juicio final', 'Movie', '1960', 'Drama', 'tt0048234'), ('El impostor', 'Movie', '1960', 'Drama', 'tt0049360'), ('La encrucijada', 'Movie', '1960', 'Drama', 'tt0051582'), ('Los pequeños gigantes', 'Movie', '1960', 'Drama', 'tt0051869'), ('Kapò', 'Movie', '1960', 'Drama', 'tt0052961'), ('Konec cesty', 'Movie', '1960', 'Drama', 'tt0052973'), ('The Crowning Experience', 'Movie', '1960', 'Drama', 'tt0052715'), ('Il peccato degli anni verdi', 'Movie', '1960', 'Drama', 'tt0052584'), ('Herr Puntila und sein Knecht Matti', 'Movie', '1960', 'Drama', 'tt0048162'), ('Toro bravo', 'Movie', '1960', 'Drama', 'tt0048066'), ('Juicio final', 'Movie', '1960', 'Drama', 'tt0048234'), ('El impostor', 'Movie', '1960', 'Drama', 'tt0049360'), ('La encrucijada', 'Movie', '1960', 'Drama', 'tt0051582'), ('Los pequeños gigantes', 'Movie', '1960', 'Drama', 'tt0051869'), ('Kapò', 'Movie', '1960', 'Drama', 'tt0052961'), ('Konec cesty', 'Movie', '1960', 'Drama', 'tt0052973'), ('The Crowning Experience', 'Movie', '1960', 'Drama', 'tt0052715'), ('Il peccato degli anni verdi', 'Movie', '1960', 'Drama', 'tt0052584'), ('Herr Puntila und sein Knecht Matti', 'Movie', '1960', 'Drama', 'tt0048162'), ('Toro bravo', 'Movie', '1960', 'Drama', 'tt0048066'), ('Juicio final', 'Movie', '1960', 'Drama', 'tt0048234'), ('El impostor', 'Movie', '1960', 'Drama', 'tt0049360'), ('La encrucijada', 'Movie', '1960', 'Drama', 'tt0051582'), ('Los pequeños gigantes', 'Movie', '1960', 'Drama', 'tt0051869'), ('Kapò', 'Movie', '1960', 'Drama', 'tt0052961'), ('Konec cesty', 'Movie', '1960', 'Drama', 'tt0052973'), ('The Crowning Experience', 'Movie', '1960', 'Drama', 'tt0052715'), ('Il peccato degli anni verdi', 'Movie', '1960', 'Drama', 'tt0052584'), ('War Is Hell', 'Movie', '1961', 'Drama', 'tt0052376'), ('Dúvad', 'Movie', '1961', 'Drama', 'tt0052768'), ('Obaltan', 'Movie', '1961', 'Drama', 'tt0053577'), ('Senda prohibida', 'Movie', '1961', 'Drama', 'tt0053262'), ('Ellas también son rebeldes', 'Movie', '1961', 'Drama', 'tt0052774'), ('Dostigaev i drugie', 'Movie', '1961', 'Drama', 'tt0052756'), ('Ce soir ou jamais', 'Movie', '1961', 'Drama', 'tt0053704'), ('Atlas', 'Movie', '1961', 'Drama', 'tt0053610'), ('Aproape de soare', 'Movie', '1961', 'Drama', 'tt0053605'), ('Aas Ka Panchhi', 'Movie', '1961', 'Drama', 'tt0053566'), ('War Is Hell', 'Movie', '1961', 'Drama', 'tt0052376'), ('Dúvad', 'Movie', '1961', 'Drama', 'tt0052768'), ('Obaltan', 'Movie', '1961', 'Drama', 'tt0053577'), ('Senda prohibida', 'Movie', '1961', 'Drama', 'tt0053262'), ('Ellas también son rebeldes', 'Movie', '1961', 'Drama', 'tt0052774'), ('Dostigaev i drugie', 'Movie', '1961', 'Drama', 'tt0052756'), ('Ce soir ou jamais', 'Movie', '1961', 'Drama', 'tt0053704'), ('Atlas', 'Movie', '1961', 'Drama', 'tt0053610'), ('Aproape de soare', 'Movie', '1961', 'Drama', 'tt0053605'), ('Aas Ka Panchhi', 'Movie', '1961', 'Drama', 'tt0053566'), ('War Is Hell', 'Movie', '1961', 'Drama', 'tt0052376'), ('Dúvad', 'Movie', '1961', 'Drama', 'tt0052768'), ('Obaltan', 'Movie', '1961', 'Drama', 'tt0053577'), ('Senda prohibida', 'Movie', '1961', 'Drama', 'tt0053262'), ('Ellas también son rebeldes', 'Movie', '1961', 'Drama', 'tt0052774'), ('Dostigaev i drugie', 'Movie', '1961', 'Drama', 'tt0052756'), ('Ce soir ou jamais', 'Movie', '1961', 'Drama', 'tt0053704'), ('Atlas', 'Movie', '1961', 'Drama', 'tt0053610'), ('Aproape de soare', 'Movie', '1961', 'Drama', 'tt0053605'), ('Aas Ka Panchhi', 'Movie', '1961', 'Drama', 'tt0053566'), ('War Is Hell', 'Movie', '1961', 'Drama', 'tt0052376'), ('Dúvad', 'Movie', '1961', 'Drama', 'tt0052768'), ('Obaltan', 'Movie', '1961', 'Drama', 'tt0053577'), ('Senda prohibida', 'Movie', '1961', 'Drama', 'tt0053262'), ('Ellas también son rebeldes', 'Movie', '1961', 'Drama', 'tt0052774'), ('Dostigaev i drugie', 'Movie', '1961', 'Drama', 'tt0052756'), ('Ce soir ou jamais', 'Movie', '1961', 'Drama', 'tt0053704'), ('Atlas', 'Movie', '1961', 'Drama', 'tt0053610'), ('Aproape de soare', 'Movie', '1961', 'Drama', 'tt0053605'), ('Aas Ka Panchhi', 'Movie', '1961', 'Drama', 'tt0053566'), ('Red Nightmare', 'Short', '1962', 'Drama', 'tt0050261'), ('El reflejo del alma', 'Movie', '1962', 'Drama', 'tt0050889'), ('Le signe du lion', 'Movie', '1962', 'Drama', 'tt0053279'), ('Los desamparados', 'Movie', '1962', 'Drama', 'tt0053760'), ('La burrerita de Ypacaraí', 'Movie', '1962', 'Drama', 'tt0053684'), ('El pecado de una madre', 'Movie', '1962', 'Drama', 'tt0054166'), ('The Boys', 'Movie', '1962', 'Drama', 'tt0054697'), (\"The Devil's Agent\", 'Movie', '1962', 'Drama', 'tt0054806'), ('Um Dia de Vida', 'Movie', '1962', 'Drama', 'tt0054808'), ('Das Brot der frühen Jahre', 'Movie', '1962', 'Drama', 'tt0054705'), ('Red Nightmare', 'Short', '1962', 'Drama', 'tt0050261'), ('El reflejo del alma', 'Movie', '1962', 'Drama', 'tt0050889'), ('Le signe du lion', 'Movie', '1962', 'Drama', 'tt0053279'), ('Los desamparados', 'Movie', '1962', 'Drama', 'tt0053760'), ('La burrerita de Ypacaraí', 'Movie', '1962', 'Drama', 'tt0053684'), ('El pecado de una madre', 'Movie', '1962', 'Drama', 'tt0054166'), ('The Boys', 'Movie', '1962', 'Drama', 'tt0054697'), (\"The Devil's Agent\", 'Movie', '1962', 'Drama', 'tt0054806'), ('Um Dia de Vida', 'Movie', '1962', 'Drama', 'tt0054808'), ('Das Brot der frühen Jahre', 'Movie', '1962', 'Drama', 'tt0054705'), ('Red Nightmare', 'Short', '1962', 'Drama', 'tt0050261'), ('El reflejo del alma', 'Movie', '1962', 'Drama', 'tt0050889'), ('Le signe du lion', 'Movie', '1962', 'Drama', 'tt0053279'), ('Los desamparados', 'Movie', '1962', 'Drama', 'tt0053760'), ('La burrerita de Ypacaraí', 'Movie', '1962', 'Drama', 'tt0053684'), ('El pecado de una madre', 'Movie', '1962', 'Drama', 'tt0054166'), ('The Boys', 'Movie', '1962', 'Drama', 'tt0054697'), (\"The Devil's Agent\", 'Movie', '1962', 'Drama', 'tt0054806'), ('Um Dia de Vida', 'Movie', '1962', 'Drama', 'tt0054808'), ('Das Brot der frühen Jahre', 'Movie', '1962', 'Drama', 'tt0054705'), ('Red Nightmare', 'Short', '1962', 'Drama', 'tt0050261'), ('El reflejo del alma', 'Movie', '1962', 'Drama', 'tt0050889'), ('Le signe du lion', 'Movie', '1962', 'Drama', 'tt0053279'), ('Los desamparados', 'Movie', '1962', 'Drama', 'tt0053760'), ('La burrerita de Ypacaraí', 'Movie', '1962', 'Drama', 'tt0053684'), ('El pecado de una madre', 'Movie', '1962', 'Drama', 'tt0054166'), ('The Boys', 'Movie', '1962', 'Drama', 'tt0054697'), (\"The Devil's Agent\", 'Movie', '1962', 'Drama', 'tt0054806'), ('Um Dia de Vida', 'Movie', '1962', 'Drama', 'tt0054808'), ('Das Brot der frühen Jahre', 'Movie', '1962', 'Drama', 'tt0054705'), ('The Small World of Sammy Lee', 'Movie', '1963', 'Drama', 'tt0052205'), ('A fost prietenul meu', 'Movie', '1963', 'Drama', 'tt0054588'), ('Le gladiatrici', 'Movie', '1963', 'Drama', 'tt0054382'), ('Carta a una mujer', 'Movie', '1963', 'Drama', 'tt0054728'), ('Flaming Creatures', 'Movie', '1963', 'Drama', 'tt0054880'), ('Le petit soldat', 'Movie', '1963', 'Drama', 'tt0054177'), ('Pasazerka', 'Movie', '1963', 'Drama', 'tt0054159'), ('Il pirata del diavolo', 'Movie', '1963', 'Drama', 'tt0054267'), ('Wu Ze Tian', 'Movie', '1963', 'Drama', 'tt0054486'), ('Rififi à Tokyo', 'Movie', '1963', 'Drama', 'tt0055935'), ('The Small World of Sammy Lee', 'Movie', '1963', 'Drama', 'tt0052205'), ('A fost prietenul meu', 'Movie', '1963', 'Drama', 'tt0054588'), ('Le gladiatrici', 'Movie', '1963', 'Drama', 'tt0054382'), ('Carta a una mujer', 'Movie', '1963', 'Drama', 'tt0054728'), ('Flaming Creatures', 'Movie', '1963', 'Drama', 'tt0054880'), ('Le petit soldat', 'Movie', '1963', 'Drama', 'tt0054177'), ('Pasazerka', 'Movie', '1963', 'Drama', 'tt0054159'), ('Il pirata del diavolo', 'Movie', '1963', 'Drama', 'tt0054267'), ('Wu Ze Tian', 'Movie', '1963', 'Drama', 'tt0054486'), ('Rififi à Tokyo', 'Movie', '1963', 'Drama', 'tt0055935'), ('The Small World of Sammy Lee', 'Movie', '1963', 'Drama', 'tt0052205'), ('A fost prietenul meu', 'Movie', '1963', 'Drama', 'tt0054588'), ('Le gladiatrici', 'Movie', '1963', 'Drama', 'tt0054382'), ('Carta a una mujer', 'Movie', '1963', 'Drama', 'tt0054728'), ('Flaming Creatures', 'Movie', '1963', 'Drama', 'tt0054880'), ('Le petit soldat', 'Movie', '1963', 'Drama', 'tt0054177'), ('Pasazerka', 'Movie', '1963', 'Drama', 'tt0054159'), ('Il pirata del diavolo', 'Movie', '1963', 'Drama', 'tt0054267'), ('Wu Ze Tian', 'Movie', '1963', 'Drama', 'tt0054486'), ('Rififi à Tokyo', 'Movie', '1963', 'Drama', 'tt0055935'), ('The Small World of Sammy Lee', 'Movie', '1963', 'Drama', 'tt0052205'), ('A fost prietenul meu', 'Movie', '1963', 'Drama', 'tt0054588'), ('Le gladiatrici', 'Movie', '1963', 'Drama', 'tt0054382'), ('Carta a una mujer', 'Movie', '1963', 'Drama', 'tt0054728'), ('Flaming Creatures', 'Movie', '1963', 'Drama', 'tt0054880'), ('Le petit soldat', 'Movie', '1963', 'Drama', 'tt0054177'), ('Pasazerka', 'Movie', '1963', 'Drama', 'tt0054159'), ('Il pirata del diavolo', 'Movie', '1963', 'Drama', 'tt0054267'), ('Wu Ze Tian', 'Movie', '1963', 'Drama', 'tt0054486'), ('Rififi à Tokyo', 'Movie', '1963', 'Drama', 'tt0055935'), ('Romeo e Giulietta', 'Movie', '1964', 'Drama', 'tt0050441'), ('Prima della rivoluzione', 'Movie', '1964', 'Drama', 'tt0056371'), ('Rebel tegen rome', 'Movie', '1964', 'Drama', 'tt0056954'), ('El camino', 'Movie', '1964', 'Drama', 'tt0056898'), ('Private Potter', 'Movie', '1964', 'Drama', 'tt0056376'), ('Begegnung in Salzburg', 'Movie', '1964', 'Drama', 'tt0056861'), ('Children of the Damned', 'Movie', '1964', 'Drama', 'tt0056931'), ('Duelo en el desierto', 'Movie', '1964', 'Drama', 'tt0057017'), ('Crimen', 'Movie', '1964', 'Drama', 'tt0056962'), ('La duquesa diabólica', 'Movie', '1964', 'Drama', 'tt0057019'), ('Romeo e Giulietta', 'Movie', '1964', 'Drama', 'tt0050441'), ('Prima della rivoluzione', 'Movie', '1964', 'Drama', 'tt0056371'), ('Rebel tegen rome', 'Movie', '1964', 'Drama', 'tt0056954'), ('El camino', 'Movie', '1964', 'Drama', 'tt0056898'), ('Private Potter', 'Movie', '1964', 'Drama', 'tt0056376'), ('Begegnung in Salzburg', 'Movie', '1964', 'Drama', 'tt0056861'), ('Children of the Damned', 'Movie', '1964', 'Drama', 'tt0056931'), ('Duelo en el desierto', 'Movie', '1964', 'Drama', 'tt0057017'), ('Crimen', 'Movie', '1964', 'Drama', 'tt0056962'), ('La duquesa diabólica', 'Movie', '1964', 'Drama', 'tt0057019'), ('Romeo e Giulietta', 'Movie', '1964', 'Drama', 'tt0050441'), ('Prima della rivoluzione', 'Movie', '1964', 'Drama', 'tt0056371'), ('Rebel tegen rome', 'Movie', '1964', 'Drama', 'tt0056954'), ('El camino', 'Movie', '1964', 'Drama', 'tt0056898'), ('Private Potter', 'Movie', '1964', 'Drama', 'tt0056376'), ('Begegnung in Salzburg', 'Movie', '1964', 'Drama', 'tt0056861'), ('Children of the Damned', 'Movie', '1964', 'Drama', 'tt0056931'), ('Duelo en el desierto', 'Movie', '1964', 'Drama', 'tt0057017'), ('Crimen', 'Movie', '1964', 'Drama', 'tt0056962'), ('La duquesa diabólica', 'Movie', '1964', 'Drama', 'tt0057019'), ('Romeo e Giulietta', 'Movie', '1964', 'Drama', 'tt0050441'), ('Prima della rivoluzione', 'Movie', '1964', 'Drama', 'tt0056371'), ('Rebel tegen rome', 'Movie', '1964', 'Drama', 'tt0056954'), ('El camino', 'Movie', '1964', 'Drama', 'tt0056898'), ('Private Potter', 'Movie', '1964', 'Drama', 'tt0056376'), ('Begegnung in Salzburg', 'Movie', '1964', 'Drama', 'tt0056861'), ('Children of the Damned', 'Movie', '1964', 'Drama', 'tt0056931'), ('Duelo en el desierto', 'Movie', '1964', 'Drama', 'tt0057017'), ('Crimen', 'Movie', '1964', 'Drama', 'tt0056962'), ('La duquesa diabólica', 'Movie', '1964', 'Drama', 'tt0057019'), ('La extranjera', 'Movie', '1965', 'Drama', 'tt0051599'), ('Subarnarekha', 'Movie', '1965', 'Drama', 'tt0056537'), ('Un hombre en la trampa', 'Movie', '1965', 'Drama', 'tt0057148'), ('La frontera de Dios', 'Movie', '1965', 'Drama', 'tt0057077'), ('El diablo también llora', 'Movie', '1965', 'Drama', 'tt0056992'), (\"La violenza e l'amore\", 'Movie', '1965', 'Drama', 'tt0057314'), ('Indian Paint', 'Movie', '1965', 'Drama', 'tt0057182'), ('Das Haus in der Karpfengasse', 'Movie', '1965', 'Drama', 'tt0057131'), ('Puente de coplas', 'Movie', '1965', 'Drama', 'tt0055339'), ('Loca juventud', 'Movie', '1965', 'Drama', 'tt0056191'), ('La extranjera', 'Movie', '1965', 'Drama', 'tt0051599'), ('Subarnarekha', 'Movie', '1965', 'Drama', 'tt0056537'), ('Un hombre en la trampa', 'Movie', '1965', 'Drama', 'tt0057148'), ('La frontera de Dios', 'Movie', '1965', 'Drama', 'tt0057077'), ('El diablo también llora', 'Movie', '1965', 'Drama', 'tt0056992'), (\"La violenza e l'amore\", 'Movie', '1965', 'Drama', 'tt0057314'), ('Indian Paint', 'Movie', '1965', 'Drama', 'tt0057182'), ('Das Haus in der Karpfengasse', 'Movie', '1965', 'Drama', 'tt0057131'), ('Puente de coplas', 'Movie', '1965', 'Drama', 'tt0055339'), ('Loca juventud', 'Movie', '1965', 'Drama', 'tt0056191'), ('La extranjera', 'Movie', '1965', 'Drama', 'tt0051599'), ('Subarnarekha', 'Movie', '1965', 'Drama', 'tt0056537'), ('Un hombre en la trampa', 'Movie', '1965', 'Drama', 'tt0057148'), ('La frontera de Dios', 'Movie', '1965', 'Drama', 'tt0057077'), ('El diablo también llora', 'Movie', '1965', 'Drama', 'tt0056992'), (\"La violenza e l'amore\", 'Movie', '1965', 'Drama', 'tt0057314'), ('Indian Paint', 'Movie', '1965', 'Drama', 'tt0057182'), ('Das Haus in der Karpfengasse', 'Movie', '1965', 'Drama', 'tt0057131'), ('Puente de coplas', 'Movie', '1965', 'Drama', 'tt0055339'), ('Loca juventud', 'Movie', '1965', 'Drama', 'tt0056191'), ('La extranjera', 'Movie', '1965', 'Drama', 'tt0051599'), ('Subarnarekha', 'Movie', '1965', 'Drama', 'tt0056537'), ('Un hombre en la trampa', 'Movie', '1965', 'Drama', 'tt0057148'), ('La frontera de Dios', 'Movie', '1965', 'Drama', 'tt0057077'), ('El diablo también llora', 'Movie', '1965', 'Drama', 'tt0056992'), (\"La violenza e l'amore\", 'Movie', '1965', 'Drama', 'tt0057314'), ('Indian Paint', 'Movie', '1965', 'Drama', 'tt0057182'), ('Das Haus in der Karpfengasse', 'Movie', '1965', 'Drama', 'tt0057131'), ('Puente de coplas', 'Movie', '1965', 'Drama', 'tt0055339'), ('Loca juventud', 'Movie', '1965', 'Drama', 'tt0056191'), ('Moonlighting Wives', 'Movie', '1966', 'Drama', 'tt0057320'), ('La mujer de tu prójimo', 'Movie', '1966', 'Drama', 'tt0056260'), ('Sinaia', 'Movie', '1966', 'Drama', 'tt0056494'), ('El Greco', 'Movie', '1966', 'Drama', 'tt0057026'), (\"The Devil's Sisters\", 'Movie', '1966', 'Drama', 'tt0058008'), ('The Naked Fog', 'Movie', '1966', 'Drama', 'tt0057352'), ('Marcelo y María', 'Movie', '1966', 'Drama', 'tt0058327'), ('Im Nest der gelben Viper - Das FBI schlägt zu', 'Movie', '1966', 'Drama', 'tt0058227'), ('El ojo de la cerradura', 'Movie', '1966', 'Drama', 'tt0058426'), ('Platero y yo', 'Movie', '1966', 'Drama', 'tt0058477'), ('Moonlighting Wives', 'Movie', '1966', 'Drama', 'tt0057320'), ('La mujer de tu prójimo', 'Movie', '1966', 'Drama', 'tt0056260'), ('Sinaia', 'Movie', '1966', 'Drama', 'tt0056494'), ('El Greco', 'Movie', '1966', 'Drama', 'tt0057026'), (\"The Devil's Sisters\", 'Movie', '1966', 'Drama', 'tt0058008'), ('The Naked Fog', 'Movie', '1966', 'Drama', 'tt0057352'), ('Marcelo y María', 'Movie', '1966', 'Drama', 'tt0058327'), ('Im Nest der gelben Viper - Das FBI schlägt zu', 'Movie', '1966', 'Drama', 'tt0058227'), ('El ojo de la cerradura', 'Movie', '1966', 'Drama', 'tt0058426'), ('Platero y yo', 'Movie', '1966', 'Drama', 'tt0058477'), ('Moonlighting Wives', 'Movie', '1966', 'Drama', 'tt0057320'), ('La mujer de tu prójimo', 'Movie', '1966', 'Drama', 'tt0056260'), ('Sinaia', 'Movie', '1966', 'Drama', 'tt0056494'), ('El Greco', 'Movie', '1966', 'Drama', 'tt0057026'), (\"The Devil's Sisters\", 'Movie', '1966', 'Drama', 'tt0058008'), ('The Naked Fog', 'Movie', '1966', 'Drama', 'tt0057352'), ('Marcelo y María', 'Movie', '1966', 'Drama', 'tt0058327'), ('Im Nest der gelben Viper - Das FBI schlägt zu', 'Movie', '1966', 'Drama', 'tt0058227'), ('El ojo de la cerradura', 'Movie', '1966', 'Drama', 'tt0058426'), ('Platero y yo', 'Movie', '1966', 'Drama', 'tt0058477'), ('Moonlighting Wives', 'Movie', '1966', 'Drama', 'tt0057320'), ('La mujer de tu prójimo', 'Movie', '1966', 'Drama', 'tt0056260'), ('Sinaia', 'Movie', '1966', 'Drama', 'tt0056494'), ('El Greco', 'Movie', '1966', 'Drama', 'tt0057026'), (\"The Devil's Sisters\", 'Movie', '1966', 'Drama', 'tt0058008'), ('The Naked Fog', 'Movie', '1966', 'Drama', 'tt0057352'), ('Marcelo y María', 'Movie', '1966', 'Drama', 'tt0058327'), ('Im Nest der gelben Viper - Das FBI schlägt zu', 'Movie', '1966', 'Drama', 'tt0058227'), ('El ojo de la cerradura', 'Movie', '1966', 'Drama', 'tt0058426'), ('Platero y yo', 'Movie', '1966', 'Drama', 'tt0058477'), ('El próximo otoño', 'Movie', '1967', 'Drama', 'tt0057433'), ('El filo del miedo', 'Movie', '1967', 'Drama', 'tt0058098'), ('Después del gran robo', 'Movie', '1967', 'Drama', 'tt0058005'), ('El halcón de Castilla', 'Movie', '1967', 'Drama', 'tt0059249'), ('La morte viene dal pianeta Aytin', 'Movie', '1967', 'Drama', 'tt0059104'), ('De cuerpo presente', 'Movie', '1967', 'Drama', 'tt0059088'), ('Los perversos', 'Movie', '1967', 'Drama', 'tt0059583'), ('Sellö a pecsétgyürün I', 'Movie', '1967', 'Drama', 'tt0059699'), ('I criminali della metropoli', 'Movie', '1967', 'Drama', 'tt0059167'), (\"White Lightnin' Road\", 'Movie', '1967', 'Drama', 'tt0059907'), ('El próximo otoño', 'Movie', '1967', 'Drama', 'tt0057433'), ('El filo del miedo', 'Movie', '1967', 'Drama', 'tt0058098'), ('Después del gran robo', 'Movie', '1967', 'Drama', 'tt0058005'), ('El halcón de Castilla', 'Movie', '1967', 'Drama', 'tt0059249'), ('La morte viene dal pianeta Aytin', 'Movie', '1967', 'Drama', 'tt0059104'), ('De cuerpo presente', 'Movie', '1967', 'Drama', 'tt0059088'), ('Los perversos', 'Movie', '1967', 'Drama', 'tt0059583'), ('Sellö a pecsétgyürün I', 'Movie', '1967', 'Drama', 'tt0059699'), ('I criminali della metropoli', 'Movie', '1967', 'Drama', 'tt0059167'), (\"White Lightnin' Road\", 'Movie', '1967', 'Drama', 'tt0059907'), ('El próximo otoño', 'Movie', '1967', 'Drama', 'tt0057433'), ('El filo del miedo', 'Movie', '1967', 'Drama', 'tt0058098'), ('Después del gran robo', 'Movie', '1967', 'Drama', 'tt0058005'), ('El halcón de Castilla', 'Movie', '1967', 'Drama', 'tt0059249'), ('La morte viene dal pianeta Aytin', 'Movie', '1967', 'Drama', 'tt0059104'), ('De cuerpo presente', 'Movie', '1967', 'Drama', 'tt0059088'), ('Los perversos', 'Movie', '1967', 'Drama', 'tt0059583'), ('Sellö a pecsétgyürün I', 'Movie', '1967', 'Drama', 'tt0059699'), ('I criminali della metropoli', 'Movie', '1967', 'Drama', 'tt0059167'), (\"White Lightnin' Road\", 'Movie', '1967', 'Drama', 'tt0059907'), ('El próximo otoño', 'Movie', '1967', 'Drama', 'tt0057433'), ('El filo del miedo', 'Movie', '1967', 'Drama', 'tt0058098'), ('Después del gran robo', 'Movie', '1967', 'Drama', 'tt0058005'), ('El halcón de Castilla', 'Movie', '1967', 'Drama', 'tt0059249'), ('La morte viene dal pianeta Aytin', 'Movie', '1967', 'Drama', 'tt0059104'), ('De cuerpo presente', 'Movie', '1967', 'Drama', 'tt0059088'), ('Los perversos', 'Movie', '1967', 'Drama', 'tt0059583'), ('Sellö a pecsétgyürün I', 'Movie', '1967', 'Drama', 'tt0059699'), ('I criminali della metropoli', 'Movie', '1967', 'Drama', 'tt0059167'), (\"White Lightnin' Road\", 'Movie', '1967', 'Drama', 'tt0059907'), ('Po xiao shi fen', 'Movie', '1968', 'Drama', 'tt0054191'), ('Escuela de enfermeras', 'Movie', '1968', 'Drama', 'tt0058068'), ('Fedra West', 'Movie', '1968', 'Drama', 'tt0058936'), ('A Falecida', 'Movie', '1968', 'Drama', 'tt0059163'), ('Los ángeles de Puebla', 'Movie', '1968', 'Drama', 'tt0060108'), ('Tokugawa onna keibatsu-shi', 'Movie', '1968', 'Drama', 'tt0059816'), ('The Chinese Room', 'Movie', '1968', 'Drama', 'tt0060265'), ('Dnevnye zvyozdy', 'Movie', '1968', 'Drama', 'tt0060316'), ('Koshoku', 'Movie', '1968', 'Drama', 'tt0059367'), ('The Alley Tramp', 'Movie', '1968', 'Drama', 'tt0060092'), ('Po xiao shi fen', 'Movie', '1968', 'Drama', 'tt0054191'), ('Escuela de enfermeras', 'Movie', '1968', 'Drama', 'tt0058068'), ('Fedra West', 'Movie', '1968', 'Drama', 'tt0058936'), ('A Falecida', 'Movie', '1968', 'Drama', 'tt0059163'), ('Los ángeles de Puebla', 'Movie', '1968', 'Drama', 'tt0060108'), ('Tokugawa onna keibatsu-shi', 'Movie', '1968', 'Drama', 'tt0059816'), ('The Chinese Room', 'Movie', '1968', 'Drama', 'tt0060265'), ('Dnevnye zvyozdy', 'Movie', '1968', 'Drama', 'tt0060316'), ('Koshoku', 'Movie', '1968', 'Drama', 'tt0059367'), ('The Alley Tramp', 'Movie', '1968', 'Drama', 'tt0060092'), ('Po xiao shi fen', 'Movie', '1968', 'Drama', 'tt0054191'), ('Escuela de enfermeras', 'Movie', '1968', 'Drama', 'tt0058068'), ('Fedra West', 'Movie', '1968', 'Drama', 'tt0058936'), ('A Falecida', 'Movie', '1968', 'Drama', 'tt0059163'), ('Los ángeles de Puebla', 'Movie', '1968', 'Drama', 'tt0060108'), ('Tokugawa onna keibatsu-shi', 'Movie', '1968', 'Drama', 'tt0059816'), ('The Chinese Room', 'Movie', '1968', 'Drama', 'tt0060265'), ('Dnevnye zvyozdy', 'Movie', '1968', 'Drama', 'tt0060316'), ('Koshoku', 'Movie', '1968', 'Drama', 'tt0059367'), ('The Alley Tramp', 'Movie', '1968', 'Drama', 'tt0060092'), ('Po xiao shi fen', 'Movie', '1968', 'Drama', 'tt0054191'), ('Escuela de enfermeras', 'Movie', '1968', 'Drama', 'tt0058068'), ('Fedra West', 'Movie', '1968', 'Drama', 'tt0058936'), ('A Falecida', 'Movie', '1968', 'Drama', 'tt0059163'), ('Los ángeles de Puebla', 'Movie', '1968', 'Drama', 'tt0060108'), ('Tokugawa onna keibatsu-shi', 'Movie', '1968', 'Drama', 'tt0059816'), ('The Chinese Room', 'Movie', '1968', 'Drama', 'tt0060265'), ('Dnevnye zvyozdy', 'Movie', '1968', 'Drama', 'tt0060316'), ('Koshoku', 'Movie', '1968', 'Drama', 'tt0059367'), ('The Alley Tramp', 'Movie', '1968', 'Drama', 'tt0060092'), ('Doorbraak naar de hel', 'Movie', '1969', 'Drama', 'tt0055329'), ('Un hombre solo', 'Movie', '1969', 'Drama', 'tt0058199'), ('El día de mañana', 'Movie', '1969', 'Drama', 'tt0059140'), ('Big Daddy', 'Movie', '1969', 'Drama', 'tt0058968'), ('Adiós cordera', 'Movie', '1969', 'Drama', 'tt0060066'), ('De barro y oro', 'Movie', '1969', 'Drama', 'tt0060285'), ('Joë Caligula - Du suif chez les dabes', 'Movie', '1969', 'Drama', 'tt0060561'), ('Passion in Hot Hollows', 'Movie', '1969', 'Drama', 'tt0062100'), ('Pasto de fieras', 'Movie', '1969', 'Drama', 'tt0062102'), ('Ditirambo', 'Movie', '1969', 'Drama', 'tt0061580'), ('Doorbraak naar de hel', 'Movie', '1969', 'Drama', 'tt0055329'), ('Un hombre solo', 'Movie', '1969', 'Drama', 'tt0058199'), ('El día de mañana', 'Movie', '1969', 'Drama', 'tt0059140'), ('Big Daddy', 'Movie', '1969', 'Drama', 'tt0058968'), ('Adiós cordera', 'Movie', '1969', 'Drama', 'tt0060066'), ('De barro y oro', 'Movie', '1969', 'Drama', 'tt0060285'), ('Joë Caligula - Du suif chez les dabes', 'Movie', '1969', 'Drama', 'tt0060561'), ('Passion in Hot Hollows', 'Movie', '1969', 'Drama', 'tt0062100'), ('Pasto de fieras', 'Movie', '1969', 'Drama', 'tt0062102'), ('Ditirambo', 'Movie', '1969', 'Drama', 'tt0061580'), ('Doorbraak naar de hel', 'Movie', '1969', 'Drama', 'tt0055329'), ('Un hombre solo', 'Movie', '1969', 'Drama', 'tt0058199'), ('El día de mañana', 'Movie', '1969', 'Drama', 'tt0059140'), ('Big Daddy', 'Movie', '1969', 'Drama', 'tt0058968'), ('Adiós cordera', 'Movie', '1969', 'Drama', 'tt0060066'), ('De barro y oro', 'Movie', '1969', 'Drama', 'tt0060285'), ('Joë Caligula - Du suif chez les dabes', 'Movie', '1969', 'Drama', 'tt0060561'), ('Passion in Hot Hollows', 'Movie', '1969', 'Drama', 'tt0062100'), ('Pasto de fieras', 'Movie', '1969', 'Drama', 'tt0062102'), ('Ditirambo', 'Movie', '1969', 'Drama', 'tt0061580'), ('Doorbraak naar de hel', 'Movie', '1969', 'Drama', 'tt0055329'), ('Un hombre solo', 'Movie', '1969', 'Drama', 'tt0058199'), ('El día de mañana', 'Movie', '1969', 'Drama', 'tt0059140'), ('Big Daddy', 'Movie', '1969', 'Drama', 'tt0058968'), ('Adiós cordera', 'Movie', '1969', 'Drama', 'tt0060066'), ('De barro y oro', 'Movie', '1969', 'Drama', 'tt0060285'), ('Joë Caligula - Du suif chez les dabes', 'Movie', '1969', 'Drama', 'tt0060561'), ('Passion in Hot Hollows', 'Movie', '1969', 'Drama', 'tt0062100'), ('Pasto de fieras', 'Movie', '1969', 'Drama', 'tt0062102'), ('Ditirambo', 'Movie', '1969', 'Drama', 'tt0061580'), ('Strop', 'Short', '1970', 'Drama', 'tt0056533'), ('Gregorio y su ángel', 'Movie', '1970', 'Drama', 'tt0060477'), ('The Girls from Thunder Strip', 'Movie', '1970', 'Drama', 'tt0060462'), ('Chun huo', 'Movie', '1970', 'Drama', 'tt0061478'), ('El coleccionista de cadáveres', 'Movie', '1970', 'Drama', 'tt0061494'), ('Daddy, Darling', 'Movie', '1970', 'Drama', 'tt0062847'), ('O Ritual dos Sádicos', 'Movie', '1970', 'Drama', 'tt0062690'), ('Hola... señor Dios', 'Movie', '1970', 'Drama', 'tt0063074'), ('Effi Briest', 'TV Movie', '1970', 'Drama', 'tt0062924'), ('The Challengers', 'TV Movie', '1970', 'Drama', 'tt0062788'), ('Strop', 'Short', '1970', 'Drama', 'tt0056533'), ('Gregorio y su ángel', 'Movie', '1970', 'Drama', 'tt0060477'), ('The Girls from Thunder Strip', 'Movie', '1970', 'Drama', 'tt0060462'), ('Chun huo', 'Movie', '1970', 'Drama', 'tt0061478'), ('El coleccionista de cadáveres', 'Movie', '1970', 'Drama', 'tt0061494'), ('Daddy, Darling', 'Movie', '1970', 'Drama', 'tt0062847'), ('O Ritual dos Sádicos', 'Movie', '1970', 'Drama', 'tt0062690'), ('Hola... señor Dios', 'Movie', '1970', 'Drama', 'tt0063074'), ('Effi Briest', 'TV Movie', '1970', 'Drama', 'tt0062924'), ('The Challengers', 'TV Movie', '1970', 'Drama', 'tt0062788'), ('Strop', 'Short', '1970', 'Drama', 'tt0056533'), ('Gregorio y su ángel', 'Movie', '1970', 'Drama', 'tt0060477'), ('The Girls from Thunder Strip', 'Movie', '1970', 'Drama', 'tt0060462'), ('Chun huo', 'Movie', '1970', 'Drama', 'tt0061478'), ('El coleccionista de cadáveres', 'Movie', '1970', 'Drama', 'tt0061494'), ('Daddy, Darling', 'Movie', '1970', 'Drama', 'tt0062847'), ('O Ritual dos Sádicos', 'Movie', '1970', 'Drama', 'tt0062690'), ('Hola... señor Dios', 'Movie', '1970', 'Drama', 'tt0063074'), ('Effi Briest', 'TV Movie', '1970', 'Drama', 'tt0062924'), ('The Challengers', 'TV Movie', '1970', 'Drama', 'tt0062788'), ('Strop', 'Short', '1970', 'Drama', 'tt0056533'), ('Gregorio y su ángel', 'Movie', '1970', 'Drama', 'tt0060477'), ('The Girls from Thunder Strip', 'Movie', '1970', 'Drama', 'tt0060462'), ('Chun huo', 'Movie', '1970', 'Drama', 'tt0061478'), ('El coleccionista de cadáveres', 'Movie', '1970', 'Drama', 'tt0061494'), ('Daddy, Darling', 'Movie', '1970', 'Drama', 'tt0062847'), ('O Ritual dos Sádicos', 'Movie', '1970', 'Drama', 'tt0062690'), ('Hola... señor Dios', 'Movie', '1970', 'Drama', 'tt0063074'), ('Effi Briest', 'TV Movie', '1970', 'Drama', 'tt0062924'), ('The Challengers', 'TV Movie', '1970', 'Drama', 'tt0062788'), ('Santo contra los cazadores de cabezas', 'Movie', '1971', 'Drama', 'tt0060939'), ('Der verlorene Engel', 'Movie', '1971', 'Drama', 'tt0061151'), ('Pattern of Evil', 'Movie', '1971', 'Drama', 'tt0062104'), ('The Big Snatch', 'Movie', '1971', 'Drama', 'tt0062730'), ('Historia de una chica sola', 'Movie', '1971', 'Drama', 'tt0063070'), ('Saute ma ville', 'Short', '1971', 'Drama', 'tt0063551'), ('Exklusiv!', 'TV Episode', '1971', 'Drama', 'tt0064304'), ('Rimal min dhahab', 'Movie', '1971', 'Drama', 'tt0064182'), ('The Female Bunch', 'Movie', '1971', 'Drama', 'tt0064321'), ('Xia nü', 'Movie', '1971', 'Drama', 'tt0064451'), ('Santo contra los cazadores de cabezas', 'Movie', '1971', 'Drama', 'tt0060939'), ('Der verlorene Engel', 'Movie', '1971', 'Drama', 'tt0061151'), ('Pattern of Evil', 'Movie', '1971', 'Drama', 'tt0062104'), ('The Big Snatch', 'Movie', '1971', 'Drama', 'tt0062730'), ('Historia de una chica sola', 'Movie', '1971', 'Drama', 'tt0063070'), ('Saute ma ville', 'Short', '1971', 'Drama', 'tt0063551'), ('Exklusiv!', 'TV Episode', '1971', 'Drama', 'tt0064304'), ('Rimal min dhahab', 'Movie', '1971', 'Drama', 'tt0064182'), ('The Female Bunch', 'Movie', '1971', 'Drama', 'tt0064321'), ('Xia nü', 'Movie', '1971', 'Drama', 'tt0064451'), ('Santo contra los cazadores de cabezas', 'Movie', '1971', 'Drama', 'tt0060939'), ('Der verlorene Engel', 'Movie', '1971', 'Drama', 'tt0061151'), ('Pattern of Evil', 'Movie', '1971', 'Drama', 'tt0062104'), ('The Big Snatch', 'Movie', '1971', 'Drama', 'tt0062730'), ('Historia de una chica sola', 'Movie', '1971', 'Drama', 'tt0063070'), ('Saute ma ville', 'Short', '1971', 'Drama', 'tt0063551'), ('Exklusiv!', 'TV Episode', '1971', 'Drama', 'tt0064304'), ('Rimal min dhahab', 'Movie', '1971', 'Drama', 'tt0064182'), ('The Female Bunch', 'Movie', '1971', 'Drama', 'tt0064321'), ('Xia nü', 'Movie', '1971', 'Drama', 'tt0064451'), ('Santo contra los cazadores de cabezas', 'Movie', '1971', 'Drama', 'tt0060939'), ('Der verlorene Engel', 'Movie', '1971', 'Drama', 'tt0061151'), ('Pattern of Evil', 'Movie', '1971', 'Drama', 'tt0062104'), ('The Big Snatch', 'Movie', '1971', 'Drama', 'tt0062730'), ('Historia de una chica sola', 'Movie', '1971', 'Drama', 'tt0063070'), ('Saute ma ville', 'Short', '1971', 'Drama', 'tt0063551'), ('Exklusiv!', 'TV Episode', '1971', 'Drama', 'tt0064304'), ('Rimal min dhahab', 'Movie', '1971', 'Drama', 'tt0064182'), ('The Female Bunch', 'Movie', '1971', 'Drama', 'tt0064321'), ('Xia nü', 'Movie', '1971', 'Drama', 'tt0064451'), ('Al-nass wal Nil', 'Movie', '1972', 'Drama', 'tt0063337'), ('Lettres de Stalingrad', 'Movie', '1972', 'Drama', 'tt0064585'), ('Chayka', 'Movie', '1972', 'Drama', 'tt0065533'), ('Laia', 'Movie', '1972', 'Drama', 'tt0065959'), ('Out 1: Spectre', 'Movie', '1972', 'Drama', 'tt0066192'), ('The Class Reunion', 'Movie', '1972', 'Drama', 'tt0065557'), ('Fuenteovejuna', 'Movie', '1972', 'Drama', 'tt0065748'), ('La cabina', 'TV Movie', '1972', 'Drama', 'tt0065513'), ('Uma Abelha na Chuva', 'Movie', '1972', 'Drama', 'tt0066739'), ('Amar Prem', 'Movie', '1972', 'Drama', 'tt0066758'), ('Al-nass wal Nil', 'Movie', '1972', 'Drama', 'tt0063337'), ('Lettres de Stalingrad', 'Movie', '1972', 'Drama', 'tt0064585'), ('Chayka', 'Movie', '1972', 'Drama', 'tt0065533'), ('Laia', 'Movie', '1972', 'Drama', 'tt0065959'), ('Out 1: Spectre', 'Movie', '1972', 'Drama', 'tt0066192'), ('The Class Reunion', 'Movie', '1972', 'Drama', 'tt0065557'), ('Fuenteovejuna', 'Movie', '1972', 'Drama', 'tt0065748'), ('La cabina', 'TV Movie', '1972', 'Drama', 'tt0065513'), ('Uma Abelha na Chuva', 'Movie', '1972', 'Drama', 'tt0066739'), ('Amar Prem', 'Movie', '1972', 'Drama', 'tt0066758'), ('Al-nass wal Nil', 'Movie', '1972', 'Drama', 'tt0063337'), ('Lettres de Stalingrad', 'Movie', '1972', 'Drama', 'tt0064585'), ('Chayka', 'Movie', '1972', 'Drama', 'tt0065533'), ('Laia', 'Movie', '1972', 'Drama', 'tt0065959'), ('Out 1: Spectre', 'Movie', '1972', 'Drama', 'tt0066192'), ('The Class Reunion', 'Movie', '1972', 'Drama', 'tt0065557'), ('Fuenteovejuna', 'Movie', '1972', 'Drama', 'tt0065748'), ('La cabina', 'TV Movie', '1972', 'Drama', 'tt0065513'), ('Uma Abelha na Chuva', 'Movie', '1972', 'Drama', 'tt0066739'), ('Amar Prem', 'Movie', '1972', 'Drama', 'tt0066758'), ('Al-nass wal Nil', 'Movie', '1972', 'Drama', 'tt0063337'), ('Lettres de Stalingrad', 'Movie', '1972', 'Drama', 'tt0064585'), ('Chayka', 'Movie', '1972', 'Drama', 'tt0065533'), ('Laia', 'Movie', '1972', 'Drama', 'tt0065959'), ('Out 1: Spectre', 'Movie', '1972', 'Drama', 'tt0066192'), ('The Class Reunion', 'Movie', '1972', 'Drama', 'tt0065557'), ('Fuenteovejuna', 'Movie', '1972', 'Drama', 'tt0065748'), ('La cabina', 'TV Movie', '1972', 'Drama', 'tt0065513'), ('Uma Abelha na Chuva', 'Movie', '1972', 'Drama', 'tt0066739'), ('Amar Prem', 'Movie', '1972', 'Drama', 'tt0066758'), ('Habla, mudita', 'Movie', '1973', 'Drama', 'tt0039442'), ('Fleshpot on 42nd Street', 'Movie', '1973', 'Drama', 'tt0062980'), ('Fade In', 'TV Movie', '1973', 'Drama', 'tt0062953'), ('The Man Who Died Twice', 'TV Movie', '1973', 'Drama', 'tt0066051'), ('Bust Out', 'Movie', '1973', 'Drama', 'tt0065574'), ('M comme Mathieu', 'Movie', '1973', 'Drama', 'tt0065359'), ('Los meses y los días', 'Movie', '1973', 'Drama', 'tt0066073'), ('Drop Out', 'Movie', '1973', 'Drama', 'tt0067019'), ('Tie wa', 'Movie', '1973', 'Drama', 'tt0066790'), ('Los cachorros', 'Movie', '1973', 'Drama', 'tt0066877'), ('Habla, mudita', 'Movie', '1973', 'Drama', 'tt0039442'), ('Fleshpot on 42nd Street', 'Movie', '1973', 'Drama', 'tt0062980'), ('Fade In', 'TV Movie', '1973', 'Drama', 'tt0062953'), ('The Man Who Died Twice', 'TV Movie', '1973', 'Drama', 'tt0066051'), ('Bust Out', 'Movie', '1973', 'Drama', 'tt0065574'), ('M comme Mathieu', 'Movie', '1973', 'Drama', 'tt0065359'), ('Los meses y los días', 'Movie', '1973', 'Drama', 'tt0066073'), ('Drop Out', 'Movie', '1973', 'Drama', 'tt0067019'), ('Tie wa', 'Movie', '1973', 'Drama', 'tt0066790'), ('Los cachorros', 'Movie', '1973', 'Drama', 'tt0066877'), ('Habla, mudita', 'Movie', '1973', 'Drama', 'tt0039442'), ('Fleshpot on 42nd Street', 'Movie', '1973', 'Drama', 'tt0062980'), ('Fade In', 'TV Movie', '1973', 'Drama', 'tt0062953'), ('The Man Who Died Twice', 'TV Movie', '1973', 'Drama', 'tt0066051'), ('Bust Out', 'Movie', '1973', 'Drama', 'tt0065574'), ('M comme Mathieu', 'Movie', '1973', 'Drama', 'tt0065359'), ('Los meses y los días', 'Movie', '1973', 'Drama', 'tt0066073'), ('Drop Out', 'Movie', '1973', 'Drama', 'tt0067019'), ('Tie wa', 'Movie', '1973', 'Drama', 'tt0066790'), ('Los cachorros', 'Movie', '1973', 'Drama', 'tt0066877'), ('Habla, mudita', 'Movie', '1973', 'Drama', 'tt0039442'), ('Fleshpot on 42nd Street', 'Movie', '1973', 'Drama', 'tt0062980'), ('Fade In', 'TV Movie', '1973', 'Drama', 'tt0062953'), ('The Man Who Died Twice', 'TV Movie', '1973', 'Drama', 'tt0066051'), ('Bust Out', 'Movie', '1973', 'Drama', 'tt0065574'), ('M comme Mathieu', 'Movie', '1973', 'Drama', 'tt0065359'), ('Los meses y los días', 'Movie', '1973', 'Drama', 'tt0066073'), ('Drop Out', 'Movie', '1973', 'Drama', 'tt0067019'), ('Tie wa', 'Movie', '1973', 'Drama', 'tt0066790'), ('Los cachorros', 'Movie', '1973', 'Drama', 'tt0066877'), ('La noche de los brujos', 'Movie', '1974', 'Drama', 'tt0066144'), ('Angelica: The Young Vixen', 'Movie', '1974', 'Drama', 'tt0065402'), ('Fe, esperanza y caridad', 'Movie', '1974', 'Drama', 'tt0065716'), ('Bárbara', 'Movie', '1974', 'Drama', 'tt0066876'), ('A Private Enterprise', 'Movie', '1974', 'Drama', 'tt0067619'), ('Cinco mil dolares de recompensa', 'Movie', '1974', 'Drama', 'tt0068382'), ('Deixem-me ao Menos Subir às Palmeiras', 'Movie', '1974', 'Drama', 'tt0068469'), ('Vera, un cuento cruel', 'Movie', '1974', 'Drama', 'tt0068433'), ('Dead of Night', 'Movie', '1974', 'Drama', 'tt0068457'), ('Street Sisters', 'Movie', '1974', 'Drama', 'tt0069322'), ('La noche de los brujos', 'Movie', '1974', 'Drama', 'tt0066144'), ('Angelica: The Young Vixen', 'Movie', '1974', 'Drama', 'tt0065402'), ('Fe, esperanza y caridad', 'Movie', '1974', 'Drama', 'tt0065716'), ('Bárbara', 'Movie', '1974', 'Drama', 'tt0066876'), ('A Private Enterprise', 'Movie', '1974', 'Drama', 'tt0067619'), ('Cinco mil dolares de recompensa', 'Movie', '1974', 'Drama', 'tt0068382'), ('Deixem-me ao Menos Subir às Palmeiras', 'Movie', '1974', 'Drama', 'tt0068469'), ('Vera, un cuento cruel', 'Movie', '1974', 'Drama', 'tt0068433'), ('Dead of Night', 'Movie', '1974', 'Drama', 'tt0068457'), ('Street Sisters', 'Movie', '1974', 'Drama', 'tt0069322'), ('La noche de los brujos', 'Movie', '1974', 'Drama', 'tt0066144'), ('Angelica: The Young Vixen', 'Movie', '1974', 'Drama', 'tt0065402'), ('Fe, esperanza y caridad', 'Movie', '1974', 'Drama', 'tt0065716'), ('Bárbara', 'Movie', '1974', 'Drama', 'tt0066876'), ('A Private Enterprise', 'Movie', '1974', 'Drama', 'tt0067619'), ('Cinco mil dolares de recompensa', 'Movie', '1974', 'Drama', 'tt0068382'), ('Deixem-me ao Menos Subir às Palmeiras', 'Movie', '1974', 'Drama', 'tt0068469'), ('Vera, un cuento cruel', 'Movie', '1974', 'Drama', 'tt0068433'), ('Dead of Night', 'Movie', '1974', 'Drama', 'tt0068457'), ('Street Sisters', 'Movie', '1974', 'Drama', 'tt0069322'), ('La noche de los brujos', 'Movie', '1974', 'Drama', 'tt0066144'), ('Angelica: The Young Vixen', 'Movie', '1974', 'Drama', 'tt0065402'), ('Fe, esperanza y caridad', 'Movie', '1974', 'Drama', 'tt0065716'), ('Bárbara', 'Movie', '1974', 'Drama', 'tt0066876'), ('A Private Enterprise', 'Movie', '1974', 'Drama', 'tt0067619'), ('Cinco mil dolares de recompensa', 'Movie', '1974', 'Drama', 'tt0068382'), ('Deixem-me ao Menos Subir às Palmeiras', 'Movie', '1974', 'Drama', 'tt0068469'), ('Vera, un cuento cruel', 'Movie', '1974', 'Drama', 'tt0068433'), ('Dead of Night', 'Movie', '1974', 'Drama', 'tt0068457'), ('Street Sisters', 'Movie', '1974', 'Drama', 'tt0069322'), ('Katerina a jeji deti', 'Movie', '1975', 'Drama', 'tt0065935'), (\"Eliza's Horoscope\", 'Movie', '1975', 'Drama', 'tt0065685'), ('Smoke in the Wind', 'Movie', '1975', 'Drama', 'tt0067766'), ('El clan de los inmorales', 'Movie', '1975', 'Drama', 'tt0069887'), ('La comtesse perverse', 'Movie', '1975', 'Drama', 'tt0069930'), ('Butterflies', 'Movie', '1975', 'Drama', 'tt0069831'), ('Cartas na Mesa', 'Movie', '1975', 'Drama', 'tt0069849'), ('Libera, amore mio!', 'Movie', '1975', 'Drama', 'tt0070308'), ('Anderusen dôwa ningyo-hime', 'Movie', '1975', 'Drama', 'tt0070326'), ('The Kill', 'Movie', '1975', 'Drama', 'tt0070269'), ('Katerina a jeji deti', 'Movie', '1975', 'Drama', 'tt0065935'), (\"Eliza's Horoscope\", 'Movie', '1975', 'Drama', 'tt0065685'), ('Smoke in the Wind', 'Movie', '1975', 'Drama', 'tt0067766'), ('El clan de los inmorales', 'Movie', '1975', 'Drama', 'tt0069887'), ('La comtesse perverse', 'Movie', '1975', 'Drama', 'tt0069930'), ('Butterflies', 'Movie', '1975', 'Drama', 'tt0069831'), ('Cartas na Mesa', 'Movie', '1975', 'Drama', 'tt0069849'), ('Libera, amore mio!', 'Movie', '1975', 'Drama', 'tt0070308'), ('Anderusen dôwa ningyo-hime', 'Movie', '1975', 'Drama', 'tt0070326'), ('The Kill', 'Movie', '1975', 'Drama', 'tt0070269'), ('Katerina a jeji deti', 'Movie', '1975', 'Drama', 'tt0065935'), (\"Eliza's Horoscope\", 'Movie', '1975', 'Drama', 'tt0065685'), ('Smoke in the Wind', 'Movie', '1975', 'Drama', 'tt0067766'), ('El clan de los inmorales', 'Movie', '1975', 'Drama', 'tt0069887'), ('La comtesse perverse', 'Movie', '1975', 'Drama', 'tt0069930'), ('Butterflies', 'Movie', '1975', 'Drama', 'tt0069831'), ('Cartas na Mesa', 'Movie', '1975', 'Drama', 'tt0069849'), ('Libera, amore mio!', 'Movie', '1975', 'Drama', 'tt0070308'), ('Anderusen dôwa ningyo-hime', 'Movie', '1975', 'Drama', 'tt0070326'), ('The Kill', 'Movie', '1975', 'Drama', 'tt0070269'), ('Katerina a jeji deti', 'Movie', '1975', 'Drama', 'tt0065935'), (\"Eliza's Horoscope\", 'Movie', '1975', 'Drama', 'tt0065685'), ('Smoke in the Wind', 'Movie', '1975', 'Drama', 'tt0067766'), ('El clan de los inmorales', 'Movie', '1975', 'Drama', 'tt0069887'), ('La comtesse perverse', 'Movie', '1975', 'Drama', 'tt0069930'), ('Butterflies', 'Movie', '1975', 'Drama', 'tt0069831'), ('Cartas na Mesa', 'Movie', '1975', 'Drama', 'tt0069849'), ('Libera, amore mio!', 'Movie', '1975', 'Drama', 'tt0070308'), ('Anderusen dôwa ningyo-hime', 'Movie', '1975', 'Drama', 'tt0070326'), ('The Kill', 'Movie', '1975', 'Drama', 'tt0070269')]\n"
     ]
    },
    {
     "name": "stderr",
     "output_type": "stream",
     "text": [
      "\n"
     ]
    }
   ],
   "source": [
    "url = \"https://dev.adalab.es/api/cinema/movies?year=2010&genre=Drama\"\n",
    "\n",
    "genreList = [\"Drama\"]\n",
    "movieList = []\n",
    "\n",
    "for genre in tqdm(genreList):\n",
    "    print(genre)\n",
    "    for year in range(1960,1976):\n",
    "        print(year)\n",
    "        sleep(4)\n",
    "        url = f\"https://dev.adalab.es/api/cinema/movies?year={year}&genre={genre}\"\n",
    "        response = requests.get(url)\n",
    "\n",
    "        # Verificamos que el status code es 200.\n",
    "        movies = response.json()[\"results\"]\n",
    "\n",
    "        for index, movie in enumerate(movies):\n",
    "            ## distinguimos cortometraje de pelicula\n",
    "            resultado = []\n",
    "            resultado.append(movie[\"title\"])\n",
    "            resultado.append(movie[\"type\"])\n",
    "            resultado.append(movie[\"year\"])\n",
    "            resultado.append(movie[\"genre\"])\n",
    "            resultado.append(movie[\"idOwner\"])\n",
    "            movieList.append(tuple(resultado))\n",
    "    print(movieList)\n",
    "\n",
    "        "
   ]
  },
  {
   "cell_type": "code",
   "execution_count": 8,
   "metadata": {},
   "outputs": [
    {
     "data": {
      "text/plain": [
       "640"
      ]
     },
     "execution_count": 8,
     "metadata": {},
     "output_type": "execute_result"
    }
   ],
   "source": [
    "len(movieList)"
   ]
  },
  {
   "cell_type": "code",
   "execution_count": 4,
   "metadata": {},
   "outputs": [],
   "source": [
    "## Convertimos en DataFrame y pasamos a CSV\n",
    "\n",
    "df = pd.DataFrame(movieList, columns = [\"title\", \"type\", \"year\",\"genre\",\"idOwner\"])\n",
    "df.to_csv(\"dramaMovies.csv\", index = False)"
   ]
  },
  {
   "cell_type": "code",
   "execution_count": 5,
   "metadata": {},
   "outputs": [
    {
     "data": {
      "text/html": [
       "<div>\n",
       "<style scoped>\n",
       "    .dataframe tbody tr th:only-of-type {\n",
       "        vertical-align: middle;\n",
       "    }\n",
       "\n",
       "    .dataframe tbody tr th {\n",
       "        vertical-align: top;\n",
       "    }\n",
       "\n",
       "    .dataframe thead th {\n",
       "        text-align: right;\n",
       "    }\n",
       "</style>\n",
       "<table border=\"1\" class=\"dataframe\">\n",
       "  <thead>\n",
       "    <tr style=\"text-align: right;\">\n",
       "      <th></th>\n",
       "      <th>title</th>\n",
       "      <th>type</th>\n",
       "      <th>year</th>\n",
       "      <th>genre</th>\n",
       "      <th>idOwner</th>\n",
       "    </tr>\n",
       "  </thead>\n",
       "  <tbody>\n",
       "    <tr>\n",
       "      <th>0</th>\n",
       "      <td>Herr Puntila und sein Knecht Matti</td>\n",
       "      <td>Movie</td>\n",
       "      <td>1960</td>\n",
       "      <td>Drama</td>\n",
       "      <td>tt0048162</td>\n",
       "    </tr>\n",
       "    <tr>\n",
       "      <th>1</th>\n",
       "      <td>Toro bravo</td>\n",
       "      <td>Movie</td>\n",
       "      <td>1960</td>\n",
       "      <td>Drama</td>\n",
       "      <td>tt0048066</td>\n",
       "    </tr>\n",
       "    <tr>\n",
       "      <th>2</th>\n",
       "      <td>Juicio final</td>\n",
       "      <td>Movie</td>\n",
       "      <td>1960</td>\n",
       "      <td>Drama</td>\n",
       "      <td>tt0048234</td>\n",
       "    </tr>\n",
       "    <tr>\n",
       "      <th>3</th>\n",
       "      <td>El impostor</td>\n",
       "      <td>Movie</td>\n",
       "      <td>1960</td>\n",
       "      <td>Drama</td>\n",
       "      <td>tt0049360</td>\n",
       "    </tr>\n",
       "    <tr>\n",
       "      <th>4</th>\n",
       "      <td>La encrucijada</td>\n",
       "      <td>Movie</td>\n",
       "      <td>1960</td>\n",
       "      <td>Drama</td>\n",
       "      <td>tt0051582</td>\n",
       "    </tr>\n",
       "    <tr>\n",
       "      <th>...</th>\n",
       "      <td>...</td>\n",
       "      <td>...</td>\n",
       "      <td>...</td>\n",
       "      <td>...</td>\n",
       "      <td>...</td>\n",
       "    </tr>\n",
       "    <tr>\n",
       "      <th>635</th>\n",
       "      <td>Butterflies</td>\n",
       "      <td>Movie</td>\n",
       "      <td>1975</td>\n",
       "      <td>Drama</td>\n",
       "      <td>tt0069831</td>\n",
       "    </tr>\n",
       "    <tr>\n",
       "      <th>636</th>\n",
       "      <td>Cartas na Mesa</td>\n",
       "      <td>Movie</td>\n",
       "      <td>1975</td>\n",
       "      <td>Drama</td>\n",
       "      <td>tt0069849</td>\n",
       "    </tr>\n",
       "    <tr>\n",
       "      <th>637</th>\n",
       "      <td>Libera, amore mio!</td>\n",
       "      <td>Movie</td>\n",
       "      <td>1975</td>\n",
       "      <td>Drama</td>\n",
       "      <td>tt0070308</td>\n",
       "    </tr>\n",
       "    <tr>\n",
       "      <th>638</th>\n",
       "      <td>Anderusen dôwa ningyo-hime</td>\n",
       "      <td>Movie</td>\n",
       "      <td>1975</td>\n",
       "      <td>Drama</td>\n",
       "      <td>tt0070326</td>\n",
       "    </tr>\n",
       "    <tr>\n",
       "      <th>639</th>\n",
       "      <td>The Kill</td>\n",
       "      <td>Movie</td>\n",
       "      <td>1975</td>\n",
       "      <td>Drama</td>\n",
       "      <td>tt0070269</td>\n",
       "    </tr>\n",
       "  </tbody>\n",
       "</table>\n",
       "<p>640 rows × 5 columns</p>\n",
       "</div>"
      ],
      "text/plain": [
       "                                  title   type  year  genre    idOwner\n",
       "0    Herr Puntila und sein Knecht Matti  Movie  1960  Drama  tt0048162\n",
       "1                            Toro bravo  Movie  1960  Drama  tt0048066\n",
       "2                          Juicio final  Movie  1960  Drama  tt0048234\n",
       "3                           El impostor  Movie  1960  Drama  tt0049360\n",
       "4                        La encrucijada  Movie  1960  Drama  tt0051582\n",
       "..                                  ...    ...   ...    ...        ...\n",
       "635                         Butterflies  Movie  1975  Drama  tt0069831\n",
       "636                      Cartas na Mesa  Movie  1975  Drama  tt0069849\n",
       "637                  Libera, amore mio!  Movie  1975  Drama  tt0070308\n",
       "638          Anderusen dôwa ningyo-hime  Movie  1975  Drama  tt0070326\n",
       "639                            The Kill  Movie  1975  Drama  tt0070269\n",
       "\n",
       "[640 rows x 5 columns]"
      ]
     },
     "execution_count": 5,
     "metadata": {},
     "output_type": "execute_result"
    }
   ],
   "source": [
    "df"
   ]
  }
 ],
 "metadata": {
  "kernelspec": {
   "display_name": "Python 3",
   "language": "python",
   "name": "python3"
  },
  "language_info": {
   "codemirror_mode": {
    "name": "ipython",
    "version": 3
   },
   "file_extension": ".py",
   "mimetype": "text/x-python",
   "name": "python",
   "nbconvert_exporter": "python",
   "pygments_lexer": "ipython3",
   "version": "3.11.9"
  }
 },
 "nbformat": 4,
 "nbformat_minor": 2
}
