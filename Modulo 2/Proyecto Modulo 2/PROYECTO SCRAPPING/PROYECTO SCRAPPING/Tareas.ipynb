{
 "cells": [
  {
   "cell_type": "markdown",
   "metadata": {},
   "source": [
    "Borrador de distribución del proyecto por tareas"
   ]
  },
  {
   "cell_type": "markdown",
   "metadata": {},
   "source": [
    "### FASE 1"
   ]
  },
  {
   "cell_type": "markdown",
   "metadata": {},
   "source": [
    "1. FASE 1.1: Extracción de Datos de API de MoviesDataset. \n",
    "Haremos solicitudes a la API de MoviesDataset y extraer información relevante sobre las películas:\n",
    "\n",
    "- Elige un rango de años, que incluya 15 años y extrae información de las películas de esos años.\n",
    "- Elige 2 géneros por cada integrante del equipo y extrae información de esos géneros: \"Drama\", \"Comedy\", \"Action\", \"Fantasy\", \"Horror\", \"Mystery\", \"Romance\" y \"Thriller\".\n",
    "- De cada una de las películas tendreis que sacar la siguiente información:\n",
    "    - Tipo (si es corto o película).\n",
    "    - Nombre de la película o corto\n",
    "    - Año de estreno \n",
    "    - Mes de estreno\n",
    "    - Id de la película\n",
    "\n",
    "Endpoint de ejemplo: https://dev.adalab.es/api/cinema/movies?year=2010&genre=Drama.\n",
    "\n",
    "NOTA: La información de la API deberá ser almacenada en una lista de tuplas. Cada tupla corresponderá a una película. Siguiendo el siguiente ejemplo:\n",
    "\n",
    "``[(\"Pelicula\", \"Titanic\", 1997, 12, \"abc123\"), (\"Pelicula\", \"Los Gonnies\", 1985, 6, \"abc456\"), ...]``\n"
   ]
  },
  {
   "cell_type": "markdown",
   "metadata": {},
   "source": [
    "2. FASE 1.2. Extracción de Detalles de Películas con Selenium\n",
    "Con la lista de películas de la API, el siguiente paso es obtener información más detallada. \n",
    "Utilizaras la herramienta de automatización web Selenium para navegar a sitios web de reseñas de películas (IMDB y Rotten Tomatoes) y extraer información sobre:\n",
    "\n",
    "- Puntuacion de IMDB (en caso de que la tenga).\n",
    "- Puntuación de Rotten Tomatoes (Tomatometer).\n",
    "- Dirección (director/a o directore/as de cada película).\n",
    "- Gionistas (de cada película).\n",
    "- Argumento.\n",
    "- Duración (en minutos).\n",
    "- Nombre de la película\n",
    "\n",
    "NOTA: La información de la API deberá ser almacenada en una lista de tuplas. Cada tupla corresponderá a una película:\n",
    "\n",
    "\n",
    "``[(7.7, 77,  \"Richard Donner\", [\"Chris ColumbusSteven\", \"Spielberg\"], \"Los Goonies son un grupo de amigos que viven en Goon Docks, Astoria, pero sus casas han sido compradas y van a ser demolidas. Sin embargo, vivirán su última aventura en busca de un tesoro que pueda salvar el barrio.\", \"Aventura\", \"1h 54min\", \"Los Gonnies\"),  ...]``\n"
   ]
  },
  {
   "cell_type": "markdown",
   "metadata": {},
   "source": [
    "FASE 1.3: Extracción de Detalles de Actores con Selenium\n",
    "Extraer información detallada de los 10 principales actores (solo 10)de cada una de las películas (o cortos) de la fase 1 utilizando Selenium (desde la página e IMDB). \n",
    "Hay que extraer:\n",
    "- Nombre.\n",
    "- Año nacimiento.\n",
    "- ¿Por qué es conocido?\n",
    "- ¿Qué hace?\n",
    "- Premios.\n",
    "\n",
    "NOTA: La información de la API deberá ser almacenada en una lista de tuplas. Cada tupla corresponderá a una película:\n",
    "\n",
    "\n",
    "``[(\"Adam Sadler\", 1966, [\"El aguador\", \"Little Nicky\", \"Un papá genial\", \"El chico ideal\" ], [\"Reparto\", \"Producción\", \"Guion\"] , [\"American Comedy Awards, USA\", \"Annie Awards\"],   ), ...]``\n"
   ]
  },
  {
   "cell_type": "markdown",
   "metadata": {},
   "source": [
    "FASE 1.4: Extracción de Tablas de los Premios Oscar con Beautiful Soup.\n",
    "Se trabajá con la biblioteca Beautiful Soup para extraer información relevante de las tablas de los premios Oscar desde 2000.\n",
    "\n",
    "Link a la tabla: https://es.wikipedia.org/wiki/Premios_Óscar\n",
    "\n",
    "La información que deberás sacar es:\n",
    "- Fecha de la ceremonia.\n",
    "- Mejor película.\n",
    "- Mejor director.\n",
    "- Mejor actor.\n",
    "- Mejor actriz.\n",
    "\n",
    "NOTA: La información de la API deberá ser almacenada en una lista de tuplas. Cada tupla corresponderá a una película:\n",
    "\n",
    "``  [(1990, 'Driving Miss Daisy', 'O. Stone', \"D. Day-Lewis\",' J. Tandy' ),  ...]``\n"
   ]
  },
  {
   "cell_type": "markdown",
   "metadata": {},
   "source": [
    "### FASE 2"
   ]
  },
  {
   "cell_type": "markdown",
   "metadata": {},
   "source": [
    "FASE 2.1: Creación de una Base de Datos con SQL\n",
    "\n",
    "Una vez que hayas reunido toda la información necesaria, es hora de pensar en la organización. Usando SQL debes pensar en la estructura que debe tener la BBDD para almacenar toda la información recopilada y crear todas las tablas y conexiones entre ellas."
   ]
  },
  {
   "cell_type": "markdown",
   "metadata": {},
   "source": [
    "FASE 2.2: Inserción de Datos en la Base de Datos\n",
    "\n",
    "Una vez que tengas la estructura de la base de datos lista, debes insertar todos los datos en la BBDD diseñada en el paso anterior."
   ]
  },
  {
   "cell_type": "markdown",
   "metadata": {},
   "source": [
    "### FASE 3"
   ]
  },
  {
   "cell_type": "markdown",
   "metadata": {},
   "source": [
    "FASE 3: Realización de Consultas para Obtener Información\n",
    "\n",
    "Con los datos almacenados en la base de datos, debes realizar consultas SQL para recuperar información específica. \n",
    "\n",
    "Podrán hacer consultas para encontrar películas con ciertas calificaciones, encontrar películas dirigidas por un director en particular o incluso obtener una lista de películas ganadoras de un premio Oscar en una categoría específica.\n",
    "\n",
    "Las preguntas que deberás contestar son: \n",
    "\n",
    "- ¿Qué géneros han recibido más premios Óscar?\n",
    "\n",
    "- ¿Qué género es el mejor valorado en IMDB?\n",
    "- ¿En que año se estrenaron más películas?\n",
    "- ¿En que año se estrenaron mas cortos?\n",
    "- ¿Cuál es la mejor serie valorada en IMDB?\n",
    "- ¿Cuál es la película mejor valorada en IMDB?\n",
    "- ¿Qué actor/actriz ha recibido más premios?\n",
    "- ¿Hay algun actor/actriz que haya recibido más de un premio Óscar?"
   ]
  }
 ],
 "metadata": {
  "kernelspec": {
   "display_name": "py39",
   "language": "python",
   "name": "python3"
  },
  "language_info": {
   "codemirror_mode": {
    "name": "ipython",
    "version": 3
   },
   "file_extension": ".py",
   "mimetype": "text/x-python",
   "name": "python",
   "nbconvert_exporter": "python",
   "pygments_lexer": "ipython3",
   "version": "3.9.19"
  }
 },
 "nbformat": 4,
 "nbformat_minor": 2
}
