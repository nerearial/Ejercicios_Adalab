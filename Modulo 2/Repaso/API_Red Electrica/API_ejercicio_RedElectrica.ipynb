{
 "cells": [
  {
   "cell_type": "markdown",
   "metadata": {},
   "source": [
    "# EJERCICIO API"
   ]
  },
  {
   "cell_type": "markdown",
   "metadata": {},
   "source": [
    "Enunciado - Obtener datos energéticos usando la API de Red Eléctrica.\n",
    "\n",
    "Descripción: La empresa para la que trabajamos dispone de una base de datos que contiene información sobre el número de personas censadas en las distintas Comunidades Autónomas españolas desde 1998 hasta 2022. El objetivo es enriquecer estos datos con información sobre la generación de energía renovable y no renovable, utilizando la API de REData, la cual proporciona información sobre el mercado energético en España. Puedes encontrar la documentación de la API aquí.\n",
    "\n",
    "1. Extracción de Datos a Nivel Nacional:\n",
    "\n",
    "Extraer datos de generación de energía renovable y no renovable a nivel nacional desde el 1 de enero de 2011 hasta el 31 de diciembre de 2022. La información debe ser recopilada a nivel mensual.\n",
    "\n",
    "Transformar los datos para incluir una columna nueva que identifique si la energía es renovable o no renovable.\n",
    "\n",
    "Almacenar los datos en un DataFrame.\n"
   ]
  },
  {
   "cell_type": "code",
   "execution_count": 1,
   "metadata": {},
   "outputs": [
    {
     "name": "stdout",
     "output_type": "stream",
     "text": [
      "Requirement already satisfied: requests in c:\\users\\nerea\\anaconda3\\lib\\site-packages (2.31.0)\n",
      "Requirement already satisfied: charset-normalizer<4,>=2 in c:\\users\\nerea\\anaconda3\\lib\\site-packages (from requests) (2.0.4)\n",
      "Requirement already satisfied: idna<4,>=2.5 in c:\\users\\nerea\\anaconda3\\lib\\site-packages (from requests) (3.4)\n",
      "Requirement already satisfied: urllib3<3,>=1.21.1 in c:\\users\\nerea\\anaconda3\\lib\\site-packages (from requests) (2.0.7)\n",
      "Requirement already satisfied: certifi>=2017.4.17 in c:\\users\\nerea\\anaconda3\\lib\\site-packages (from requests) (2024.2.2)\n"
     ]
    }
   ],
   "source": [
    "# Lo primero, necesitamos la librería requests.\n",
    "\n",
    "! pip install requests\n"
   ]
  },
  {
   "cell_type": "code",
   "execution_count": 2,
   "metadata": {},
   "outputs": [],
   "source": [
    "# Importación de librerías.\n",
    "\n",
    "# 1. Pandas para el tratamiento de datos.\n",
    "import pandas as pd\n",
    "\n",
    "# 2. Uso de APIs\n",
    "import requests\n",
    "\n",
    "# 3. Procesamiento de texto.\n",
    "import re\n",
    "\n",
    "# Configuración para poder visualizar todas las columnas de los DataFrame\n",
    "pd.set_option('display.max_columns', None)"
   ]
  },
  {
   "cell_type": "code",
   "execution_count": 3,
   "metadata": {},
   "outputs": [],
   "source": [
    "# Vamos a definir una función para llamar a la API.\n",
    "\n",
    "def llamar_api(url):\n",
    "\n",
    "    # Solicitud GET almacenada en 'llamada'\n",
    "    llamada = requests.get(url)\n",
    "\n",
    "    # Impresión del status code\n",
    "    print(f'La llamada a la API nos ha dado la respuesta de tipo: {llamada.status_code}')\n",
    "\n",
    "    # Si el código es distinto a 200 (favorable):\n",
    "    if llamada.status_code != 200:\n",
    "        print(f'El error de llamada ha sido {llamada.status_code}')\n",
    "    else: # la llamada fue exitosa, código 200, nos devolverá un JSON con los datos de respuesta\n",
    "        return llamada.json()"
   ]
  },
  {
   "cell_type": "code",
   "execution_count": null,
   "metadata": {},
   "outputs": [],
   "source": [
    "# Procedemos a definir el ENDPOINT a la que llamaremos.\n",
    "\n",
    "url = \"\""
   ]
  }
 ],
 "metadata": {
  "kernelspec": {
   "display_name": "base",
   "language": "python",
   "name": "python3"
  },
  "language_info": {
   "codemirror_mode": {
    "name": "ipython",
    "version": 3
   },
   "file_extension": ".py",
   "mimetype": "text/x-python",
   "name": "python",
   "nbconvert_exporter": "python",
   "pygments_lexer": "ipython3",
   "version": "3.11.7"
  }
 },
 "nbformat": 4,
 "nbformat_minor": 2
}
