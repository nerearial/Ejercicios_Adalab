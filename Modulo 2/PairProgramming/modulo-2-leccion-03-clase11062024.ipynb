{
 "cells": [
  {
   "cell_type": "code",
   "execution_count": 1,
   "metadata": {},
   "outputs": [
    {
     "name": "stdout",
     "output_type": "stream",
     "text": [
      "Collecting selenium\n",
      "  Downloading selenium-4.21.0-py3-none-any.whl.metadata (6.9 kB)\n",
      "Requirement already satisfied: urllib3<3,>=1.26 in c:\\users\\nerea\\anaconda3\\lib\\site-packages (from urllib3[socks]<3,>=1.26->selenium) (2.0.7)\n",
      "Collecting trio~=0.17 (from selenium)\n",
      "  Downloading trio-0.25.1-py3-none-any.whl.metadata (8.7 kB)\n",
      "Collecting trio-websocket~=0.9 (from selenium)\n",
      "  Downloading trio_websocket-0.11.1-py3-none-any.whl.metadata (4.7 kB)\n",
      "Requirement already satisfied: certifi>=2021.10.8 in c:\\users\\nerea\\anaconda3\\lib\\site-packages (from selenium) (2024.2.2)\n",
      "Requirement already satisfied: typing_extensions>=4.9.0 in c:\\users\\nerea\\anaconda3\\lib\\site-packages (from selenium) (4.9.0)\n",
      "Collecting attrs>=23.2.0 (from trio~=0.17->selenium)\n",
      "  Downloading attrs-23.2.0-py3-none-any.whl.metadata (9.5 kB)\n",
      "Requirement already satisfied: sortedcontainers in c:\\users\\nerea\\anaconda3\\lib\\site-packages (from trio~=0.17->selenium) (2.4.0)\n",
      "Requirement already satisfied: idna in c:\\users\\nerea\\anaconda3\\lib\\site-packages (from trio~=0.17->selenium) (3.4)\n",
      "Collecting outcome (from trio~=0.17->selenium)\n",
      "  Downloading outcome-1.3.0.post0-py2.py3-none-any.whl.metadata (2.6 kB)\n",
      "Requirement already satisfied: sniffio>=1.3.0 in c:\\users\\nerea\\anaconda3\\lib\\site-packages (from trio~=0.17->selenium) (1.3.0)\n",
      "Requirement already satisfied: cffi>=1.14 in c:\\users\\nerea\\anaconda3\\lib\\site-packages (from trio~=0.17->selenium) (1.16.0)\n",
      "Collecting wsproto>=0.14 (from trio-websocket~=0.9->selenium)\n",
      "  Downloading wsproto-1.2.0-py3-none-any.whl.metadata (5.6 kB)\n",
      "Requirement already satisfied: pysocks!=1.5.7,<2.0,>=1.5.6 in c:\\users\\nerea\\anaconda3\\lib\\site-packages (from urllib3[socks]<3,>=1.26->selenium) (1.7.1)\n",
      "Requirement already satisfied: pycparser in c:\\users\\nerea\\anaconda3\\lib\\site-packages (from cffi>=1.14->trio~=0.17->selenium) (2.21)\n",
      "Collecting h11<1,>=0.9.0 (from wsproto>=0.14->trio-websocket~=0.9->selenium)\n",
      "  Downloading h11-0.14.0-py3-none-any.whl.metadata (8.2 kB)\n",
      "Downloading selenium-4.21.0-py3-none-any.whl (9.5 MB)\n",
      "   ---------------------------------------- 0.0/9.5 MB ? eta -:--:--\n",
      "    --------------------------------------- 0.2/9.5 MB 4.8 MB/s eta 0:00:02\n",
      "   -- ------------------------------------- 0.6/9.5 MB 5.9 MB/s eta 0:00:02\n",
      "   --- ------------------------------------ 0.9/9.5 MB 6.5 MB/s eta 0:00:02\n",
      "   ----- ---------------------------------- 1.3/9.5 MB 7.1 MB/s eta 0:00:02\n",
      "   ------- -------------------------------- 1.8/9.5 MB 7.8 MB/s eta 0:00:01\n",
      "   ---------- ----------------------------- 2.4/9.5 MB 8.6 MB/s eta 0:00:01\n",
      "   ------------- -------------------------- 3.1/9.5 MB 9.5 MB/s eta 0:00:01\n",
      "   ---------------- ----------------------- 3.9/9.5 MB 10.5 MB/s eta 0:00:01\n",
      "   -------------------- ------------------- 4.9/9.5 MB 11.6 MB/s eta 0:00:01\n",
      "   ------------------------- -------------- 5.9/9.5 MB 12.6 MB/s eta 0:00:01\n",
      "   ------------------------------ --------- 7.3/9.5 MB 14.1 MB/s eta 0:00:01\n",
      "   ------------------------------------- -- 8.8/9.5 MB 15.6 MB/s eta 0:00:01\n",
      "   ---------------------------------------- 9.5/9.5 MB 15.9 MB/s eta 0:00:00\n",
      "Downloading trio-0.25.1-py3-none-any.whl (467 kB)\n",
      "   ---------------------------------------- 0.0/467.7 kB ? eta -:--:--\n",
      "   --------------------------------------- 467.7/467.7 kB 28.6 MB/s eta 0:00:00\n",
      "Downloading trio_websocket-0.11.1-py3-none-any.whl (17 kB)\n",
      "Downloading attrs-23.2.0-py3-none-any.whl (60 kB)\n",
      "   ---------------------------------------- 0.0/60.8 kB ? eta -:--:--\n",
      "   ---------------------------------------- 60.8/60.8 kB ? eta 0:00:00\n",
      "Downloading wsproto-1.2.0-py3-none-any.whl (24 kB)\n",
      "Downloading outcome-1.3.0.post0-py2.py3-none-any.whl (10 kB)\n",
      "Downloading h11-0.14.0-py3-none-any.whl (58 kB)\n",
      "   ---------------------------------------- 0.0/58.3 kB ? eta -:--:--\n",
      "   ---------------------------------------- 58.3/58.3 kB 3.0 MB/s eta 0:00:00\n",
      "Installing collected packages: h11, attrs, wsproto, outcome, trio, trio-websocket, selenium\n",
      "  Attempting uninstall: attrs\n",
      "    Found existing installation: attrs 23.1.0\n",
      "    Uninstalling attrs-23.1.0:\n",
      "      Successfully uninstalled attrs-23.1.0\n",
      "Successfully installed attrs-23.2.0 h11-0.14.0 outcome-1.3.0.post0 selenium-4.21.0 trio-0.25.1 trio-websocket-0.11.1 wsproto-1.2.0\n",
      "Collecting webdriver-manager\n",
      "  Downloading webdriver_manager-4.0.1-py2.py3-none-any.whl.metadata (12 kB)\n",
      "Requirement already satisfied: requests in c:\\users\\nerea\\anaconda3\\lib\\site-packages (from webdriver-manager) (2.31.0)\n",
      "Requirement already satisfied: python-dotenv in c:\\users\\nerea\\anaconda3\\lib\\site-packages (from webdriver-manager) (0.21.0)\n",
      "Requirement already satisfied: packaging in c:\\users\\nerea\\anaconda3\\lib\\site-packages (from webdriver-manager) (23.1)\n",
      "Requirement already satisfied: charset-normalizer<4,>=2 in c:\\users\\nerea\\anaconda3\\lib\\site-packages (from requests->webdriver-manager) (2.0.4)\n",
      "Requirement already satisfied: idna<4,>=2.5 in c:\\users\\nerea\\anaconda3\\lib\\site-packages (from requests->webdriver-manager) (3.4)\n",
      "Requirement already satisfied: urllib3<3,>=1.21.1 in c:\\users\\nerea\\anaconda3\\lib\\site-packages (from requests->webdriver-manager) (2.0.7)\n",
      "Requirement already satisfied: certifi>=2017.4.17 in c:\\users\\nerea\\anaconda3\\lib\\site-packages (from requests->webdriver-manager) (2024.2.2)\n",
      "Downloading webdriver_manager-4.0.1-py2.py3-none-any.whl (27 kB)\n",
      "Installing collected packages: webdriver-manager\n",
      "Successfully installed webdriver-manager-4.0.1\n"
     ]
    }
   ],
   "source": [
    "! pip install selenium\n",
    "! pip install webdriver-manager"
   ]
  },
  {
   "cell_type": "code",
   "execution_count": 9,
   "metadata": {},
   "outputs": [],
   "source": [
    "# Importar librerías para tratamiento de datos\n",
    "# -----------------------------------------------------------------------\n",
    "import pandas as pd  # Pandas es una poderosa librería para manipulación y análisis de datos en Python.\n",
    "# Importar librerías para web scraping y manipulación de datos\n",
    "# -----------------------------------------------------------------------\n",
    "from bs4 import BeautifulSoup\n",
    "import requests\n",
    "# Importar librerías para automatización de navegadores web con Selenium\n",
    "# -----------------------------------------------------------------------\n",
    "from selenium import webdriver  # Selenium es una herramienta para automatizar la interacción con navegadores web.\n",
    "from webdriver_manager.chrome import ChromeDriverManager  # ChromeDriverManager gestiona la instalación del controlador de Chrome.\n",
    "from selenium.webdriver.common.keys import Keys  # Keys es útil para simular eventos de teclado en Selenium.\n",
    "from selenium.webdriver.support.ui import Select  # Select se utiliza para interactuar con elementos <select> en páginas web.\n",
    "# Importar librerías para pausar la ejecución\n",
    "# -----------------------------------------------------------------------\n",
    "from time import sleep"
   ]
  },
  {
   "cell_type": "code",
   "execution_count": 12,
   "metadata": {},
   "outputs": [
    {
     "name": "stdout",
     "output_type": "stream",
     "text": [
      "accediendo a la web\n",
      "Hemos accedido correctamente a la web\n",
      "aceptando cookies\n",
      "cookies aceptadas\n"
     ]
    }
   ],
   "source": [
    "# esto lo llamamos driver pero podemos llamarle patata.\n",
    "# inicializar el driver que es el objeto que vamos utilizar para poder utilizar los métodos de selenium\n",
    "\n",
    "driver = webdriver.Chrome()\n",
    "\n",
    "# recomendaciones: 745 prints por línea de código\n",
    "print(\"accediendo a la web\")\n",
    "# el primer método\n",
    "\n",
    "driver.get(\"https://www.adalab.es\")\n",
    "\n",
    "print(\"Hemos accedido correctamente a la web\")\n",
    "\n",
    "sleep(3) # esto es para que dé tiempo a que cargue el botón de cukis\n",
    "\n",
    "print(\"aceptando cookies\")\n",
    "\n",
    "# el find element busca la matrícula \n",
    "# wt-cli-accept-all-btn - el selector es la \"matricula\" de algún elemento de la página\n",
    "driver.find_element(\"css selector\", \"#wt-cli-accept-all-btn\").click()\n",
    "\n",
    "print(\"cookies aceptadas\")\n",
    "\n",
    "driver.close()"
   ]
  },
  {
   "cell_type": "code",
   "execution_count": 22,
   "metadata": {},
   "outputs": [
    {
     "name": "stdout",
     "output_type": "stream",
     "text": [
      "Accediendo a Día\n",
      "cookies aceptadas\n",
      "entrando en carniceria\n"
     ]
    },
    {
     "ename": "NoSuchElementException",
     "evalue": "Message: no such element: Unable to locate element: {\"method\":\"css selector\",\"selector\":\"#app > div > div > div.categories-layout__content > div.categories-layout__right-content > div.plp-view > div:nth-child(3) > div > div > ul > li:nth-child(1) > div > div.search-product-card__top-section > div.search-product-card__top-section-content > a.search-product-card__product-link > p\"}\n  (Session info: chrome=125.0.6422.142); For documentation on this error, please visit: https://www.selenium.dev/documentation/webdriver/troubleshooting/errors#no-such-element-exception\nStacktrace:\n\tGetHandleVerifier [0x00007FF733D51F52+60322]\n\t(No symbol) [0x00007FF733CCCEC9]\n\t(No symbol) [0x00007FF733B87EBA]\n\t(No symbol) [0x00007FF733BD7676]\n\t(No symbol) [0x00007FF733BD773C]\n\t(No symbol) [0x00007FF733C1E967]\n\t(No symbol) [0x00007FF733BFC25F]\n\t(No symbol) [0x00007FF733C1BC80]\n\t(No symbol) [0x00007FF733BFBFC3]\n\t(No symbol) [0x00007FF733BC9617]\n\t(No symbol) [0x00007FF733BCA211]\n\tGetHandleVerifier [0x00007FF7340694AD+3301629]\n\tGetHandleVerifier [0x00007FF7340B36D3+3605283]\n\tGetHandleVerifier [0x00007FF7340A9450+3563680]\n\tGetHandleVerifier [0x00007FF733E04326+790390]\n\t(No symbol) [0x00007FF733CD750F]\n\t(No symbol) [0x00007FF733CD3404]\n\t(No symbol) [0x00007FF733CD3592]\n\t(No symbol) [0x00007FF733CC2F9F]\n\tBaseThreadInitThunk [0x00007FF9D236257D+29]\n\tRtlUserThreadStart [0x00007FF9D3ACAA48+40]\n",
     "output_type": "error",
     "traceback": [
      "\u001b[1;31m---------------------------------------------------------------------------\u001b[0m",
      "\u001b[1;31mNoSuchElementException\u001b[0m                    Traceback (most recent call last)",
      "Cell \u001b[1;32mIn[22], line 31\u001b[0m\n\u001b[0;32m     29\u001b[0m \u001b[38;5;28;01mfor\u001b[39;00m child \u001b[38;5;129;01min\u001b[39;00m \u001b[38;5;28mrange\u001b[39m(\u001b[38;5;241m1\u001b[39m,\u001b[38;5;241m4\u001b[39m):\n\u001b[0;32m     30\u001b[0m     sleep(\u001b[38;5;241m2\u001b[39m)\n\u001b[1;32m---> 31\u001b[0m     driver\u001b[38;5;241m.\u001b[39mfind_element(\u001b[38;5;124m\"\u001b[39m\u001b[38;5;124mcss selector\u001b[39m\u001b[38;5;124m\"\u001b[39m, \u001b[38;5;124mf\u001b[39m\u001b[38;5;124m\"\u001b[39m\u001b[38;5;124m#app > div > div > div.categories-layout__content > div.categories-layout__right-content > div.plp-view > div:nth-child(3) > div > div > ul > li:nth-child(\u001b[39m\u001b[38;5;132;01m{\u001b[39;00mchild\u001b[38;5;132;01m}\u001b[39;00m\u001b[38;5;124m) > div > div.search-product-card__top-section > div.search-product-card__top-section-content > a.search-product-card__product-link > p\u001b[39m\u001b[38;5;124m\"\u001b[39m)\u001b[38;5;241m.\u001b[39mclick()\n\u001b[0;32m     32\u001b[0m     diccionario[\u001b[38;5;124m\"\u001b[39m\u001b[38;5;124mnombres\u001b[39m\u001b[38;5;124m\"\u001b[39m]\u001b[38;5;241m.\u001b[39mappend(driver\u001b[38;5;241m.\u001b[39mfind_element(\u001b[38;5;124m\"\u001b[39m\u001b[38;5;124mcss selector\u001b[39m\u001b[38;5;124m\"\u001b[39m, \u001b[38;5;124m\"\u001b[39m\u001b[38;5;124m#app > div > div > div > div.pdp-view__content > div.pdp-view__right-content > div > h1\u001b[39m\u001b[38;5;124m\"\u001b[39m)\u001b[38;5;241m.\u001b[39mtext)\n\u001b[0;32m     33\u001b[0m     driver\u001b[38;5;241m.\u001b[39mback()\n",
      "File \u001b[1;32mc:\\Users\\Nerea\\anaconda3\\Lib\\site-packages\\selenium\\webdriver\\remote\\webdriver.py:741\u001b[0m, in \u001b[0;36mWebDriver.find_element\u001b[1;34m(self, by, value)\u001b[0m\n\u001b[0;32m    738\u001b[0m     by \u001b[38;5;241m=\u001b[39m By\u001b[38;5;241m.\u001b[39mCSS_SELECTOR\n\u001b[0;32m    739\u001b[0m     value \u001b[38;5;241m=\u001b[39m \u001b[38;5;124mf\u001b[39m\u001b[38;5;124m'\u001b[39m\u001b[38;5;124m[name=\u001b[39m\u001b[38;5;124m\"\u001b[39m\u001b[38;5;132;01m{\u001b[39;00mvalue\u001b[38;5;132;01m}\u001b[39;00m\u001b[38;5;124m\"\u001b[39m\u001b[38;5;124m]\u001b[39m\u001b[38;5;124m'\u001b[39m\n\u001b[1;32m--> 741\u001b[0m \u001b[38;5;28;01mreturn\u001b[39;00m \u001b[38;5;28mself\u001b[39m\u001b[38;5;241m.\u001b[39mexecute(Command\u001b[38;5;241m.\u001b[39mFIND_ELEMENT, {\u001b[38;5;124m\"\u001b[39m\u001b[38;5;124musing\u001b[39m\u001b[38;5;124m\"\u001b[39m: by, \u001b[38;5;124m\"\u001b[39m\u001b[38;5;124mvalue\u001b[39m\u001b[38;5;124m\"\u001b[39m: value})[\u001b[38;5;124m\"\u001b[39m\u001b[38;5;124mvalue\u001b[39m\u001b[38;5;124m\"\u001b[39m]\n",
      "File \u001b[1;32mc:\\Users\\Nerea\\anaconda3\\Lib\\site-packages\\selenium\\webdriver\\remote\\webdriver.py:347\u001b[0m, in \u001b[0;36mWebDriver.execute\u001b[1;34m(self, driver_command, params)\u001b[0m\n\u001b[0;32m    345\u001b[0m response \u001b[38;5;241m=\u001b[39m \u001b[38;5;28mself\u001b[39m\u001b[38;5;241m.\u001b[39mcommand_executor\u001b[38;5;241m.\u001b[39mexecute(driver_command, params)\n\u001b[0;32m    346\u001b[0m \u001b[38;5;28;01mif\u001b[39;00m response:\n\u001b[1;32m--> 347\u001b[0m     \u001b[38;5;28mself\u001b[39m\u001b[38;5;241m.\u001b[39merror_handler\u001b[38;5;241m.\u001b[39mcheck_response(response)\n\u001b[0;32m    348\u001b[0m     response[\u001b[38;5;124m\"\u001b[39m\u001b[38;5;124mvalue\u001b[39m\u001b[38;5;124m\"\u001b[39m] \u001b[38;5;241m=\u001b[39m \u001b[38;5;28mself\u001b[39m\u001b[38;5;241m.\u001b[39m_unwrap_value(response\u001b[38;5;241m.\u001b[39mget(\u001b[38;5;124m\"\u001b[39m\u001b[38;5;124mvalue\u001b[39m\u001b[38;5;124m\"\u001b[39m, \u001b[38;5;28;01mNone\u001b[39;00m))\n\u001b[0;32m    349\u001b[0m     \u001b[38;5;28;01mreturn\u001b[39;00m response\n",
      "File \u001b[1;32mc:\\Users\\Nerea\\anaconda3\\Lib\\site-packages\\selenium\\webdriver\\remote\\errorhandler.py:229\u001b[0m, in \u001b[0;36mErrorHandler.check_response\u001b[1;34m(self, response)\u001b[0m\n\u001b[0;32m    227\u001b[0m         alert_text \u001b[38;5;241m=\u001b[39m value[\u001b[38;5;124m\"\u001b[39m\u001b[38;5;124malert\u001b[39m\u001b[38;5;124m\"\u001b[39m]\u001b[38;5;241m.\u001b[39mget(\u001b[38;5;124m\"\u001b[39m\u001b[38;5;124mtext\u001b[39m\u001b[38;5;124m\"\u001b[39m)\n\u001b[0;32m    228\u001b[0m     \u001b[38;5;28;01mraise\u001b[39;00m exception_class(message, screen, stacktrace, alert_text)  \u001b[38;5;66;03m# type: ignore[call-arg]  # mypy is not smart enough here\u001b[39;00m\n\u001b[1;32m--> 229\u001b[0m \u001b[38;5;28;01mraise\u001b[39;00m exception_class(message, screen, stacktrace)\n",
      "\u001b[1;31mNoSuchElementException\u001b[0m: Message: no such element: Unable to locate element: {\"method\":\"css selector\",\"selector\":\"#app > div > div > div.categories-layout__content > div.categories-layout__right-content > div.plp-view > div:nth-child(3) > div > div > ul > li:nth-child(1) > div > div.search-product-card__top-section > div.search-product-card__top-section-content > a.search-product-card__product-link > p\"}\n  (Session info: chrome=125.0.6422.142); For documentation on this error, please visit: https://www.selenium.dev/documentation/webdriver/troubleshooting/errors#no-such-element-exception\nStacktrace:\n\tGetHandleVerifier [0x00007FF733D51F52+60322]\n\t(No symbol) [0x00007FF733CCCEC9]\n\t(No symbol) [0x00007FF733B87EBA]\n\t(No symbol) [0x00007FF733BD7676]\n\t(No symbol) [0x00007FF733BD773C]\n\t(No symbol) [0x00007FF733C1E967]\n\t(No symbol) [0x00007FF733BFC25F]\n\t(No symbol) [0x00007FF733C1BC80]\n\t(No symbol) [0x00007FF733BFBFC3]\n\t(No symbol) [0x00007FF733BC9617]\n\t(No symbol) [0x00007FF733BCA211]\n\tGetHandleVerifier [0x00007FF7340694AD+3301629]\n\tGetHandleVerifier [0x00007FF7340B36D3+3605283]\n\tGetHandleVerifier [0x00007FF7340A9450+3563680]\n\tGetHandleVerifier [0x00007FF733E04326+790390]\n\t(No symbol) [0x00007FF733CD750F]\n\t(No symbol) [0x00007FF733CD3404]\n\t(No symbol) [0x00007FF733CD3592]\n\t(No symbol) [0x00007FF733CC2F9F]\n\tBaseThreadInitThunk [0x00007FF9D236257D+29]\n\tRtlUserThreadStart [0x00007FF9D3ACAA48+40]\n"
     ]
    }
   ],
   "source": [
    "driver = webdriver.Chrome()\n",
    "\n",
    "# driver es el vehículo para podernos comunicar con el navegador\n",
    "\n",
    "url = \"https://www.dia.es/\"\n",
    "\n",
    "driver.get(url)\n",
    "\n",
    "print(\"Accediendo a Día\")\n",
    "\n",
    "driver.maximize_window()\n",
    "\n",
    "sleep(3)\n",
    "\n",
    "driver.find_element(\"css selector\",\"#onetrust-accept-btn-handler\").click()\n",
    "\n",
    "print(\"cookies aceptadas\")\n",
    "\n",
    "# send_keys lo que hace es escribir un texto en esa cajita\n",
    "driver.find_element(\"css selector\", \"#app > div > div > div > div.home-view__header > div.dia-header > div.dia-header__section.dia-header__section--middle > div > div > input\").send_keys(\"carniceria\", Keys.ENTER)\n",
    "print(\"entrando en carniceria\")\n",
    "\n",
    "sleep(3)\n",
    "\n",
    "driver.find_element(\"css selector\",\"#searchComponent > div > div:nth-child(4) > div > ul > li:nth-child(1) > div > div.search-product-card__top-section > div.search-product-card__top-section-content > a.search-product-card__product-link > p\").click()\n",
    "\n",
    "sleep(2)\n",
    "\n",
    "diccionario = {\"nombres\":[], \"precio\":[]}\n",
    "for child in range(1,4):\n",
    "    sleep(2)\n",
    "    driver.find_element(\"css selector\", f\"#app > div > div > div.categories-layout__content > div.categories-layout__right-content > div.plp-view > div:nth-child(3) > div > div > ul > li:nth-child({child}) > div > div.search-product-card__top-section > div.search-product-card__top-section-content > a.search-product-card__product-link > p\").click()\n",
    "    diccionario[\"nombres\"].append(driver.find_element(\"css selector\", \"#app > div > div > div > div.pdp-view__content > div.pdp-view__right-content > div > h1\").text)\n",
    "    driver.back()\n",
    "\n",
    "sleep(3)    \n",
    "driver.close()"
   ]
  },
  {
   "cell_type": "code",
   "execution_count": 25,
   "metadata": {},
   "outputs": [
    {
     "data": {
      "text/plain": [
       "{'nombres': [], 'precio': []}"
      ]
     },
     "execution_count": 25,
     "metadata": {},
     "output_type": "execute_result"
    }
   ],
   "source": [
    "diccionario"
   ]
  },
  {
   "cell_type": "code",
   "execution_count": 24,
   "metadata": {},
   "outputs": [
    {
     "name": "stdout",
     "output_type": "stream",
     "text": [
      "#app > div > div > div.categories-layout__content > div.categories-layout__right-content > div.plp-view > div:nth-child(3) > div > div > ul > li:nth-child(1) > div > div.search-product-card__top-section > div.search-product-card__top-section-content > a.search-product-card__product-link > p\n",
      "------------------------------\n",
      "#app > div > div > div.categories-layout__content > div.categories-layout__right-content > div.plp-view > div:nth-child(3) > div > div > ul > li:nth-child(2) > div > div.search-product-card__top-section > div.search-product-card__top-section-content > a.search-product-card__product-link > p\n",
      "------------------------------\n",
      "#app > div > div > div.categories-layout__content > div.categories-layout__right-content > div.plp-view > div:nth-child(3) > div > div > ul > li:nth-child(3) > div > div.search-product-card__top-section > div.search-product-card__top-section-content > a.search-product-card__product-link > p\n",
      "------------------------------\n"
     ]
    }
   ],
   "source": [
    "for child in range(1,4):\n",
    "    print(f\"#app > div > div > div.categories-layout__content > div.categories-layout__right-content > div.plp-view > div:nth-child(3) > div > div > ul > li:nth-child({child}) > div > div.search-product-card__top-section > div.search-product-card__top-section-content > a.search-product-card__product-link > p\")\n",
    "    print(\"------------------------------\")"
   ]
  }
 ],
 "metadata": {
  "kernelspec": {
   "display_name": "base",
   "language": "python",
   "name": "python3"
  },
  "language_info": {
   "codemirror_mode": {
    "name": "ipython",
    "version": 3
   },
   "file_extension": ".py",
   "mimetype": "text/x-python",
   "name": "python",
   "nbconvert_exporter": "python",
   "pygments_lexer": "ipython3",
   "version": "3.11.7"
  }
 },
 "nbformat": 4,
 "nbformat_minor": 2
}
