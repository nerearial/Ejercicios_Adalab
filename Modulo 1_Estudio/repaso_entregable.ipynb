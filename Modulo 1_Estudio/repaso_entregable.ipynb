{
 "cells": [
  {
   "cell_type": "code",
   "execution_count": 7,
   "metadata": {},
   "outputs": [],
   "source": [
    "\n",
    "class TiendaOnline:\n",
    "\n",
    "    def __init__(self, inventario, clientes, ventas_totales = \"0\"):\n",
    "        self.inventario = inventario \n",
    "        self.clientes = clientes\n",
    "        self.ventas_totales = ventas_totales\n",
    "\n",
    "        inventario = {\"nombre\":0,\"precio\":0.0,\"cantidad\":0.0}\n",
    "        clientes = {\"nombre\":\"\",\"email\":\"\"}\n",
    "        ventas_totales = float(ventas_totales)\n",
    "\n",
    "    \n",
    "    def agregar_producto(self, nombre, precio, cantidad): # 1. método que agrega un producto al inventario o actualiza su cantidad\n",
    "        \n",
    "        nuevo_producto = {\"nombre\":nombre,\"precio\":precio,\"cantidad\":cantidad} # variable diccionario key - value para el producto nuevo\n",
    "\n",
    "        if nuevo_producto[\"nombre\"] in self.inventario: # comprobamos si este producto ya figura en nuestro inventario\n",
    "            print(f'¡Este producto existe! Se ha aumentado en 1 unidad el producto {nuevo_producto[nombre]}')\n",
    "            self.inventario[nombre][\"cantidad\"] += 1 # le decimos que para ese producto, debemos añadir 1 unidad más\n",
    "            print(f'Actualmente tenemos del producto {nuevo_producto[\"nombre\"]}, {cantidad} unidades a {precio} euros.')\n",
    "        else: # no figura, pues lo añadimos\n",
    "            self.inventario[nuevo_producto[\"nombre\"]] = {\"nombre\":nombre, \"precio\":precio, \"cantidad\":cantidad}\n",
    "\n",
    "        return\n",
    "\n",
    "\n",
    "# añadimos inventario\n",
    "\n",
    "inventario = [{'nombre': 'Camisa', 'precio': 20, 'cantidad': 40},{'nombre': 'Pantalón', 'precio': 30, 'cantidad': 30}]\n",
    "\n",
    "clientes =  {'Cliente1': {'email': 'cliente1@email.com', 'compras': []},'Cliente2': {'email': 'cliente2@email.com', 'compras': []}}\n"
   ]
  },
  {
   "cell_type": "code",
   "execution_count": 6,
   "metadata": {},
   "outputs": [
    {
     "name": "stdout",
     "output_type": "stream",
     "text": [
      "<__main__.TiendaOnline object at 0x00000211BC497A90>\n"
     ]
    }
   ],
   "source": [
    "tienda = TiendaOnline(inventario,clientes)\n",
    "print(tienda)"
   ]
  },
  {
   "cell_type": "code",
   "execution_count": 30,
   "metadata": {},
   "outputs": [
    {
     "ename": "NameError",
     "evalue": "name 'nuevo_producto' is not defined",
     "output_type": "error",
     "traceback": [
      "\u001b[1;31m---------------------------------------------------------------------------\u001b[0m",
      "\u001b[1;31mNameError\u001b[0m                                 Traceback (most recent call last)",
      "Cell \u001b[1;32mIn[30], line 1\u001b[0m\n\u001b[1;32m----> 1\u001b[0m producto1 \u001b[38;5;241m=\u001b[39m \u001b[43mnuevo_producto\u001b[49m(\u001b[38;5;124m\"\u001b[39m\u001b[38;5;124mpatata\u001b[39m\u001b[38;5;124m\"\u001b[39m,\u001b[38;5;241m2.3\u001b[39m,\u001b[38;5;241m5\u001b[39m)\n\u001b[0;32m      2\u001b[0m TiendaOnline\u001b[38;5;241m.\u001b[39magregar_producto(producto1)\n",
      "\u001b[1;31mNameError\u001b[0m: name 'nuevo_producto' is not defined"
     ]
    }
   ],
   "source": [
    "producto1 = \n",
    "TiendaOnline.agregar_producto(producto1)"
   ]
  }
 ],
 "metadata": {
  "kernelspec": {
   "display_name": "Python 3",
   "language": "python",
   "name": "python3"
  },
  "language_info": {
   "codemirror_mode": {
    "name": "ipython",
    "version": 3
   },
   "file_extension": ".py",
   "mimetype": "text/x-python",
   "name": "python",
   "nbconvert_exporter": "python",
   "pygments_lexer": "ipython3",
   "version": "3.11.9"
  }
 },
 "nbformat": 4,
 "nbformat_minor": 2
}
