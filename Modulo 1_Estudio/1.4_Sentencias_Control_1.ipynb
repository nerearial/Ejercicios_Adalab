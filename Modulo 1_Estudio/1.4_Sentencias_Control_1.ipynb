{
 "cells": [
  {
   "cell_type": "markdown",
   "metadata": {},
   "source": [
    "## EJERCICIOS SENTENCIAS DE CONTROL 1 "
   ]
  },
  {
   "cell_type": "code",
   "execution_count": 11,
   "metadata": {},
   "outputs": [],
   "source": [
    "# 1. Crea las siguientes variables:\n",
    "\n",
    "var1 = 8\n",
    "var2 = 2\n",
    "var3 = 8 "
   ]
  },
  {
   "cell_type": "code",
   "execution_count": 2,
   "metadata": {},
   "outputs": [
    {
     "name": "stdout",
     "output_type": "stream",
     "text": [
      "¡Es enorme\n"
     ]
    }
   ],
   "source": [
    "# 2. Comprueba si var1 es mayor que 6;\n",
    "\n",
    "if var1 > 6:\n",
    "    print(\"¡Es enorme!\")\n"
   ]
  },
  {
   "cell_type": "code",
   "execution_count": 4,
   "metadata": {},
   "outputs": [
    {
     "name": "stdout",
     "output_type": "stream",
     "text": [
      "Es pequeñito\n"
     ]
    }
   ],
   "source": [
    "# 3. Comprueba si var2 es mayor que 6\n",
    "\n",
    "if var2 > 6:\n",
    "    print(\"¡Es enorme también!\")\n",
    "else:\n",
    "    print(\"Es pequeñito\")"
   ]
  },
  {
   "cell_type": "code",
   "execution_count": 12,
   "metadata": {},
   "outputs": [
    {
     "name": "stdout",
     "output_type": "stream",
     "text": [
      "¡Es enorme!\n",
      "¡Pero de verdad!\n"
     ]
    }
   ],
   "source": [
    "# 4. Comprueba si var3 es mayor que 6, seguido con otro print\n",
    "\n",
    "if var3 > 6:\n",
    "    print(\"¡Es enorme!\")\n",
    "    print(\"¡Pero de verdad!\")\n",
    "else:\n",
    "    print(\"Que pasa\")"
   ]
  },
  {
   "cell_type": "code",
   "execution_count": 13,
   "metadata": {},
   "outputs": [
    {
     "name": "stdout",
     "output_type": "stream",
     "text": [
      "var1 y var3 son iguales\n"
     ]
    }
   ],
   "source": [
    "# 5. Comprueba si var1 es igual que var3, y si es asi imprime.\n",
    "\n",
    "if var1 == var3:\n",
    "    print(\"var1 y var3 son iguales\")\n",
    "else:\n",
    "    pass"
   ]
  },
  {
   "cell_type": "code",
   "execution_count": 14,
   "metadata": {},
   "outputs": [
    {
     "name": "stdout",
     "output_type": "stream",
     "text": [
      "La diferencia es: 6\n"
     ]
    }
   ],
   "source": [
    "# 6. Comprueba si var1 es mayor o igual que var2,\n",
    "\n",
    "if var1 >= var2:\n",
    "    print(\"La diferencia es:\",var1-var2)\n",
    "else:\n",
    "    pass"
   ]
  },
  {
   "cell_type": "code",
   "execution_count": 16,
   "metadata": {},
   "outputs": [
    {
     "name": "stdout",
     "output_type": "stream",
     "text": [
      "La diferencia es: 6\n"
     ]
    }
   ],
   "source": [
    "# 7. Comprueba si var1 es mayor o igual que var2, si es así imprime y guardala en una variable.\n",
    "\n",
    "if var1 >= var2:\n",
    "    # dif = 0\n",
    "    dif = var1 - var2\n",
    "else:\n",
    "    pass\n",
    "\n",
    "print(\"La diferencia es:\",dif)"
   ]
  },
  {
   "cell_type": "code",
   "execution_count": 17,
   "metadata": {},
   "outputs": [
    {
     "name": "stdout",
     "output_type": "stream",
     "text": [
      "¡Es enorme!\n"
     ]
    }
   ],
   "source": [
    "# 8. Comprueba si var1 es mayor que seis, sino imprime otra cosa.\n",
    "\n",
    "if var1 > 6:\n",
    "    print(\"¡Es enorme!\")\n",
    "else:\n",
    "    print(\"Es chiquitín...\")"
   ]
  },
  {
   "cell_type": "code",
   "execution_count": 19,
   "metadata": {},
   "outputs": [
    {
     "name": "stdout",
     "output_type": "stream",
     "text": [
      "Es chiquitín\n"
     ]
    }
   ],
   "source": [
    "# 9. Comprueba si var2 es mayor que 6 e imprime.\n",
    "\n",
    "if var2 > 6:\n",
    "    print(\"¡Es enorme también!\")\n",
    "else:\n",
    "    print(\"Es chiquitín\")"
   ]
  },
  {
   "cell_type": "code",
   "execution_count": 20,
   "metadata": {},
   "outputs": [
    {
     "name": "stdout",
     "output_type": "stream",
     "text": [
      "Son iguales\n"
     ]
    }
   ],
   "source": [
    "# 10. Comprueba si var1 es igual a var3.\n",
    "\n",
    "if var1 == var3:\n",
    "    print(\"Son iguales\")\n",
    "else:\n",
    "    f\"Son distintos\""
   ]
  },
  {
   "cell_type": "code",
   "execution_count": 23,
   "metadata": {},
   "outputs": [
    {
     "name": "stdout",
     "output_type": "stream",
     "text": [
      "Pagas una entrada de 10€\n"
     ]
    }
   ],
   "source": [
    "# 11. Escribe un programa para una emrpesa que tiene salas de \n",
    "# juegos para todas las edades y quiere calcular de forma automática\n",
    "# el precio que debe cobrar a sus clientes \n",
    "\n",
    "pregunta_edad = int(input(\"Hola, Bienvenido, ¿qué edad tienes?\"))\n",
    "\n",
    "if pregunta_edad < 4:\n",
    "    print(\"Entras gratis\")\n",
    "elif 4 <= pregunta_edad <= 18:\n",
    "    print(\"Debes pagar 5€ por entrar\")\n",
    "else:\n",
    "    print(\"Pagas una entrada de 10€\")"
   ]
  },
  {
   "cell_type": "code",
   "execution_count": 25,
   "metadata": {},
   "outputs": [
    {
     "name": "stdout",
     "output_type": "stream",
     "text": [
      "5\n",
      "10\n",
      "15\n",
      "20\n"
     ]
    }
   ],
   "source": [
    "# 12. Crea un bucle while que mientras los ahorros sean menor o igual que 20\n",
    "# imprima por pantalla la cantidad de ahorros que tengamos y añadele 5 más\n",
    "# cuando la variable supere el valor de 20 el bucle debe parar\n",
    "\n",
    "ahorros = 5\n",
    "\n",
    "while ahorros <= 20:\n",
    "    print(ahorros)\n",
    "    ahorros = ahorros + 5\n"
   ]
  },
  {
   "cell_type": "code",
   "execution_count": 38,
   "metadata": {},
   "outputs": [
    {
     "name": "stderr",
     "output_type": "stream",
     "text": [
      "<>:6: SyntaxWarning: \"is\" with a literal. Did you mean \"==\"?\n",
      "<>:6: SyntaxWarning: \"is\" with a literal. Did you mean \"==\"?\n",
      "C:\\Users\\nerea\\AppData\\Local\\Temp\\ipykernel_11584\\3590945920.py:6: SyntaxWarning: \"is\" with a literal. Did you mean \"==\"?\n",
      "  if tipo is \"fahrenheit\":\n"
     ]
    },
    {
     "name": "stdout",
     "output_type": "stream",
     "text": [
      "45 grados Celsius son 113.0 grados Fahrenheit.\n"
     ]
    }
   ],
   "source": [
    "# 13. Escribe un programa que convierta grados celsius a fahrenheit o al reves.\n",
    "# Según la elección del usuario,\n",
    "\n",
    "tipo = input(\"¿Qué tipo de unidades vas a utilizar?\")\n",
    "\n",
    "if tipo is \"fahrenheit\":\n",
    "    grados_fahrenheit = int(input(\"Indica los grados Fahrenheit a convertir a Celsius\"))\n",
    "    fahrenheit_celsius = ((grados_fahrenheit - 32)*(5/9))\n",
    "    print(grados_fahrenheit,\"grados Fahrenheit son\",fahrenheit_celsius,\"grados Celsius\")\n",
    "else:\n",
    "    grados_celsius = int(input(\"indica los grados Celsius a convertir a Fahrenheit\"))\n",
    "    celsius_fahrenheit = ((grados_celsius*(9/5))+32)\n",
    "    print(grados_celsius,\"grados Celsius son\",celsius_fahrenheit,\"grados Fahrenheit.\")"
   ]
  },
  {
   "cell_type": "code",
   "execution_count": 52,
   "metadata": {},
   "outputs": [
    {
     "name": "stdout",
     "output_type": "stream",
     "text": [
      "Me temo que vas a pagar mucho...\n"
     ]
    }
   ],
   "source": [
    "# 14. Programa que calcule el IPRF basado en su ingreso anual y su estado civil (soltero o casado):\n",
    "\n",
    "ingreso = int(input(\"¿Cuánto cobras bruto al año?\"))\n",
    "estado = str(input(\"¿Estás soltero o casado? S/C\"))\n",
    "\n",
    "if estado == \"S\":\n",
    "    if ingreso <= 9875:\n",
    "        print(\"Pagarás de IRPF\",ingreso*0.10)\n",
    "    elif 9876 < ingreso < 40125:\n",
    "        print(\"Pagarás de IRPF\", (9875*0.10)+((ingreso-9875)*0.12))\n",
    "    else:\n",
    "        print(\"Me temo que vas a pagar mucho...\")\n",
    "\n",
    "elif estado == \"C\":\n",
    "    if ingreso <= 19850:\n",
    "        print(\"Vas a pagar de IRPF el 10%\",(ingreso*0,10))\n",
    "    elif 19851 < ingreso < 80250:\n",
    "        print(\"Vas a pagar de IRPF el 10 hasta 19850, más el 12 el restante\",(19850*0,10)+((ingreso-19850)*0,12))\n",
    "    else:\n",
    "        pass\n",
    "else:\n",
    "    print(\"Qué suerte que no existes para pagar impuestos!\")"
   ]
  },
  {
   "cell_type": "code",
   "execution_count": 55,
   "metadata": {},
   "outputs": [
    {
     "name": "stdout",
     "output_type": "stream",
     "text": [
      "El aire NO se considera SALUDABLE para grupos sensibles\n",
      "Debemos advertirle sobre posibles efectos sobre la salud.\n"
     ]
    }
   ],
   "source": [
    "# 15. Evaluar nivel de contaminación del aire en función de la concentración de partículas en suspensión (PM2.5) en microgramos por metro cúbico.\n",
    "\n",
    "concentracion = int(input(\"Ingresa la concentración de PM2.5 en el aire en microgramos por metro cúbico.\"))\n",
    "\n",
    "if concentracion <= 12:\n",
    "    print(\"El aire se considera EXCELENTE\")\n",
    "elif 13 <= concentracion <= 35:\n",
    "    print(\"El aire se considera BUENO\")\n",
    "elif 36 <= concentracion <= 55:\n",
    "    print(\"El aire se considera ACEPTABLE\")\n",
    "elif 56 <= concentracion <= 150:\n",
    "    print(\"El aire NO se considera SALUDABLE para grupos sensibles\")\n",
    "    print(\"Debemos advertirle sobre posibles efectos sobre la salud.\")\n",
    "elif concentracion > 150:\n",
    "    print(\"El aire se considera NO SALUDABLE\")\n",
    "else:\n",
    "    print(\"El número indicado como concentración no es válido\")\n"
   ]
  }
 ],
 "metadata": {
  "kernelspec": {
   "display_name": "Python 3",
   "language": "python",
   "name": "python3"
  },
  "language_info": {
   "codemirror_mode": {
    "name": "ipython",
    "version": 3
   },
   "file_extension": ".py",
   "mimetype": "text/x-python",
   "name": "python",
   "nbconvert_exporter": "python",
   "pygments_lexer": "ipython3",
   "version": "3.11.9"
  }
 },
 "nbformat": 4,
 "nbformat_minor": 2
}
