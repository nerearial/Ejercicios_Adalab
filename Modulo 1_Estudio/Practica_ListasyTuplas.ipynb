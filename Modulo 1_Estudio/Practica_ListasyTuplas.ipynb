{
 "cells": [
  {
   "cell_type": "markdown",
   "metadata": {},
   "source": [
    "# Listas y Tuplas"
   ]
  },
  {
   "cell_type": "markdown",
   "metadata": {},
   "source": [
    "Una lista es una estructura para almacenar los datos:\n",
    "Laura\n",
    "María\n",
    "Belén\n",
    "Luz"
   ]
  },
  {
   "cell_type": "code",
   "execution_count": 3,
   "metadata": {},
   "outputs": [
    {
     "name": "stdout",
     "output_type": "stream",
     "text": [
      "['Laura', 'María', 'Belén', 'Luz']\n",
      "[]\n"
     ]
    }
   ],
   "source": [
    "lista_nombres = [\"Laura\",\"María\",\"Belén\",\"Luz\"]\n",
    "print(lista_nombres)\n",
    "# Una lista va a contener strings, buleanos, etc, el orden es importante\n",
    "# También podemos hacer una lista vacía\n",
    "lista_apellidos = []\n",
    "print(lista_apellidos)"
   ]
  },
  {
   "cell_type": "code",
   "execution_count": 7,
   "metadata": {},
   "outputs": [
    {
     "name": "stdout",
     "output_type": "stream",
     "text": [
      "<class 'list'>\n"
     ]
    },
    {
     "data": {
      "text/plain": [
       "True"
      ]
     },
     "execution_count": 7,
     "metadata": {},
     "output_type": "execute_result"
    }
   ],
   "source": [
    "# Creamos una lista de una variable\n",
    "lista_de_compra = [\"peras\"]\n",
    "\n",
    "# Podemos hacer listas de numeros\n",
    "notas_biologia_este_año = [7]\n",
    "\n",
    "print(type(lista_de_compra))\n",
    "\n",
    "isinstance(lista_de_compra, list)"
   ]
  },
  {
   "cell_type": "code",
   "execution_count": 8,
   "metadata": {},
   "outputs": [],
   "source": [
    "notas_biologia_primer_examen = []\n",
    "\n",
    "nota_lola = 8\n",
    "nota_marta = 7.5\n",
    "nota_rocio = 4"
   ]
  },
  {
   "cell_type": "code",
   "execution_count": 9,
   "metadata": {},
   "outputs": [
    {
     "name": "stdout",
     "output_type": "stream",
     "text": [
      "[8, 7.5, 4]\n"
     ]
    }
   ],
   "source": [
    "notas_biologia_primer_examen = [nota_lola,nota_marta,nota_rocio]\n",
    "print(notas_biologia_primer_examen)"
   ]
  },
  {
   "cell_type": "code",
   "execution_count": 18,
   "metadata": {},
   "outputs": [],
   "source": [
    "notas_biologia_examen_profe_2 = [5, 4.5, 8, 9, 10]"
   ]
  },
  {
   "cell_type": "code",
   "execution_count": 19,
   "metadata": {},
   "outputs": [
    {
     "name": "stdout",
     "output_type": "stream",
     "text": [
      "[[8, 7.5, 4], [5, 4.5, 8, 9, 10]]\n"
     ]
    }
   ],
   "source": [
    "notas_biologias = [notas_biologia_primer_examen,notas_biologia_examen_profe_2]\n",
    "print(notas_biologias)"
   ]
  },
  {
   "cell_type": "code",
   "execution_count": 23,
   "metadata": {},
   "outputs": [
    {
     "name": "stdout",
     "output_type": "stream",
     "text": [
      "[8, 7.5, 4, 5, 4.5, 8, 9, 10]\n"
     ]
    }
   ],
   "source": [
    "notas_biologias = notas_biologia_primer_examen + notas_biologia_examen_profe_2\n",
    "print(notas_biologias)"
   ]
  },
  {
   "cell_type": "code",
   "execution_count": 25,
   "metadata": {},
   "outputs": [
    {
     "data": {
      "text/plain": [
       "[]"
      ]
     },
     "execution_count": 25,
     "metadata": {},
     "output_type": "execute_result"
    }
   ],
   "source": [
    "# apellido como lista es una lista que se hace de otra lista\n",
    "apellido = []\n",
    "apellido2 = list(apellido)\n",
    "apellido2"
   ]
  },
  {
   "cell_type": "code",
   "execution_count": 26,
   "metadata": {},
   "outputs": [
    {
     "ename": "TypeError",
     "evalue": "'int' object is not iterable",
     "output_type": "error",
     "traceback": [
      "\u001b[1;31m---------------------------------------------------------------------------\u001b[0m",
      "\u001b[1;31mTypeError\u001b[0m                                 Traceback (most recent call last)",
      "Cell \u001b[1;32mIn[26], line 2\u001b[0m\n\u001b[0;32m      1\u001b[0m numero \u001b[38;5;241m=\u001b[39m \u001b[38;5;241m29\u001b[39m\n\u001b[1;32m----> 2\u001b[0m \u001b[38;5;28;43mlist\u001b[39;49m\u001b[43m(\u001b[49m\u001b[43mnumero\u001b[49m\u001b[43m)\u001b[49m\n",
      "\u001b[1;31mTypeError\u001b[0m: 'int' object is not iterable"
     ]
    }
   ],
   "source": [
    "numero = 29\n",
    "list(numero)\n",
    "# aqui nos da error porque no se puede hacer una lista de un número porque no se puede dividir"
   ]
  },
  {
   "cell_type": "code",
   "execution_count": 28,
   "metadata": {},
   "outputs": [
    {
     "name": "stdout",
     "output_type": "stream",
     "text": [
      "['m', 'a', 'r', 'i', 'a']\n"
     ]
    }
   ],
   "source": [
    "name = \"maria\"\n",
    "print(list(name))"
   ]
  },
  {
   "cell_type": "code",
   "execution_count": 29,
   "metadata": {},
   "outputs": [],
   "source": [
    "lista_pasos = [15413, 15855, 22399, 19988, 12709, 19138, 22951, 22322, 24454, 28931, 16609, 18277, 12261, 25552, 11730, \n",
    "                17414, 14479, 26870, 16749, 21189, 19111, 16711, 15188, 16891, 19333, 29310, 11159, 24780, 16162, 27243, \n",
    "                25509, 12093, 27936, 26384, 21533, 10279, 21935, 14639, 25367, 14355, 20347, 10813, 24580, 10046, 18483, \n",
    "                10346, 16868, 24809, 17471, 27576, 12517, 25732, 14591, 11987, 17810, 20176, 16391, 16024, 16048, 28676, \n",
    "                25335, 24034, 15485, 18399, 17836, 14875, 27566, 18089, 23797, 22918, 14073, 29187, 12087, 19085, 17569,\n",
    "                 18140, 17459, 28245, 15109, 16016, 28216, 28022, 25157, 18087, 16358, 14994, 10962, 19821, 21092, 12134, \n",
    "                 12009, 22892, 24083, 11765, 21264, 28741, 14182, 13915, 12436, 10187, 11471, 10577, 11485, 11433, 11658, \n",
    "                 20848, 17796, 22679, 23067, 21890, 28220, 29285, 16309, 29817, 28804, 11005, 15401, 23702, 16786, 14896, \n",
    "                 24178, 10373, 16763, 22812, 28614, 26935, 25784, 11107, 25799, 17822, 12292, 11369, 14136, 16532, 24141,\n",
    "                  29349, 16447, 10077, 15471, 20883, 29682, 28964, 18774, 27953, 21658, 21828, 11803, 15622, 15064, 21091, \n",
    "                  14322, 13228, 28119, 27390, 21449, 27791, 21033, 20343, 20624, 23884, 11718, 21409, 18171, 18300, 29974, \n",
    "                  12643, 22086, 20843, 10437, 21713, 25663, 17602, 15319, 28865, 26728, 17051, 26404, 23716, 27192, 17778, \n",
    "                  25141, 11897, 10691, 24129, 21320, 18542, 21270, 12789, 25850, 20380, 14328, 21286, 28167, 29278, 22621, \n",
    "                  14658, 20507, 24664, 23576, 17824, 24224, 25997, 16528, 14958, 27292, 25185, 29302, 16500, 15896, 22053, \n",
    "                  14121, 25440, 25696, 21035, 21016, 10251, 22260, 12858, 20643, 22233, 27120, 28756, 21280, 21858, 16179, \n",
    "                  18970, 23784, 20594, 11523, 17052, 12248, 23102, 29652, 20581, 22300, 10141, 10804, 21182, 21917, 18006, \n",
    "                  23043, 19801, 23799, 12779, 22009, 12428, 13167, 11087, 12019, 13030, 23132, 24114, 11621, 15943, 14911, \n",
    "                  18857, 25109, 15980, 15324, 12708, 25638, 26344, 21300, 21780, 26383, 23641, 13083, 18088, 12258, 16420, \n",
    "                  15178, 21808, 18541, 18323, 19952, 28899, 24621, 14852, 28315, 11183, 20733, 29485, 27289, 14919, 16103, \n",
    "                  13592, 18814, 12244, 26812, 20472, 16635, 19761, 21187, 28498, 27037, 26134, 26325, 10239, 15529, 23709, \n",
    "                  28892, 25489, 27935, 20024, 22262, 16285, 18170, 19127, 24562, 25679, 29445, 18534, 12315, 20296, 21402, \n",
    "                  18490, 21050, 12527, 10716, 28409, 16710, 10650, 28504, 11451, 12253, 12896, 12195, 20017, 18136, 21939, \n",
    "                  24418, 17189, 26919, 28040, 15253, 28981, 29642, 15128, 27981, 19670, 20169, 28455, 18773, 25855, 27110, \n",
    "                  25800, 29737, 26784, 26341, 24567, 19608, 26170, 16374, 12422, 20258, 26122, 19105, 29678, 15851, 27466, \n",
    "                  26650, 24711, 19865, 25322, 11362]"
   ]
  },
  {
   "cell_type": "code",
   "execution_count": 32,
   "metadata": {},
   "outputs": [
    {
     "name": "stdout",
     "output_type": "stream",
     "text": [
      "El número de los pasos es [15413, 15855, 22399, 19988, 12709, 19138, 22951, 22322, 24454, 28931, 16609, 18277, 12261, 25552, 11730, 17414, 14479, 26870, 16749, 21189, 19111, 16711, 15188, 16891, 19333, 29310, 11159, 24780, 16162, 27243, 25509, 12093, 27936, 26384, 21533, 10279, 21935, 14639, 25367, 14355, 20347, 10813, 24580, 10046, 18483, 10346, 16868, 24809, 17471, 27576, 12517, 25732, 14591, 11987, 17810, 20176, 16391, 16024, 16048, 28676, 25335, 24034, 15485, 18399, 17836, 14875, 27566, 18089, 23797, 22918, 14073, 29187, 12087, 19085, 17569, 18140, 17459, 28245, 15109, 16016, 28216, 28022, 25157, 18087, 16358, 14994, 10962, 19821, 21092, 12134, 12009, 22892, 24083, 11765, 21264, 28741, 14182, 13915, 12436, 10187, 11471, 10577, 11485, 11433, 11658, 20848, 17796, 22679, 23067, 21890, 28220, 29285, 16309, 29817, 28804, 11005, 15401, 23702, 16786, 14896, 24178, 10373, 16763, 22812, 28614, 26935, 25784, 11107, 25799, 17822, 12292, 11369, 14136, 16532, 24141, 29349, 16447, 10077, 15471, 20883, 29682, 28964, 18774, 27953, 21658, 21828, 11803, 15622, 15064, 21091, 14322, 13228, 28119, 27390, 21449, 27791, 21033, 20343, 20624, 23884, 11718, 21409, 18171, 18300, 29974, 12643, 22086, 20843, 10437, 21713, 25663, 17602, 15319, 28865, 26728, 17051, 26404, 23716, 27192, 17778, 25141, 11897, 10691, 24129, 21320, 18542, 21270, 12789, 25850, 20380, 14328, 21286, 28167, 29278, 22621, 14658, 20507, 24664, 23576, 17824, 24224, 25997, 16528, 14958, 27292, 25185, 29302, 16500, 15896, 22053, 14121, 25440, 25696, 21035, 21016, 10251, 22260, 12858, 20643, 22233, 27120, 28756, 21280, 21858, 16179, 18970, 23784, 20594, 11523, 17052, 12248, 23102, 29652, 20581, 22300, 10141, 10804, 21182, 21917, 18006, 23043, 19801, 23799, 12779, 22009, 12428, 13167, 11087, 12019, 13030, 23132, 24114, 11621, 15943, 14911, 18857, 25109, 15980, 15324, 12708, 25638, 26344, 21300, 21780, 26383, 23641, 13083, 18088, 12258, 16420, 15178, 21808, 18541, 18323, 19952, 28899, 24621, 14852, 28315, 11183, 20733, 29485, 27289, 14919, 16103, 13592, 18814, 12244, 26812, 20472, 16635, 19761, 21187, 28498, 27037, 26134, 26325, 10239, 15529, 23709, 28892, 25489, 27935, 20024, 22262, 16285, 18170, 19127, 24562, 25679, 29445, 18534, 12315, 20296, 21402, 18490, 21050, 12527, 10716, 28409, 16710, 10650, 28504, 11451, 12253, 12896, 12195, 20017, 18136, 21939, 24418, 17189, 26919, 28040, 15253, 28981, 29642, 15128, 27981, 19670, 20169, 28455, 18773, 25855, 27110, 25800, 29737, 26784, 26341, 24567, 19608, 26170, 16374, 12422, 20258, 26122, 19105, 29678, 15851, 27466, 26650, 24711, 19865, 25322, 11362]\n"
     ]
    }
   ],
   "source": [
    "print(\"El número de los pasos\", \"es\", lista_pasos)"
   ]
  },
  {
   "cell_type": "markdown",
   "metadata": {},
   "source": [
    "## Funciones con la lista"
   ]
  },
  {
   "cell_type": "code",
   "execution_count": 34,
   "metadata": {},
   "outputs": [
    {
     "name": "stdout",
     "output_type": "stream",
     "text": [
      "Mínima de pasos: 10046\n",
      "Máximo de pasos: 29974\n"
     ]
    }
   ],
   "source": [
    "minima = min(lista_pasos)\n",
    "maximo = max(lista_pasos)\n",
    "print(\"Mínima de pasos:\",minima)\n",
    "print(\"Máximo de pasos:\", maximo)"
   ]
  },
  {
   "cell_type": "code",
   "execution_count": 35,
   "metadata": {},
   "outputs": [
    {
     "ename": "TypeError",
     "evalue": "'<' not supported between instances of 'int' and 'str'",
     "output_type": "error",
     "traceback": [
      "\u001b[1;31m---------------------------------------------------------------------------\u001b[0m",
      "\u001b[1;31mTypeError\u001b[0m                                 Traceback (most recent call last)",
      "Cell \u001b[1;32mIn[35], line 3\u001b[0m\n\u001b[0;32m      1\u001b[0m \u001b[38;5;66;03m# Lista mezclada de strings y números\u001b[39;00m\n\u001b[0;32m      2\u001b[0m lista_mezcla \u001b[38;5;241m=\u001b[39m [\u001b[38;5;124m\"\u001b[39m\u001b[38;5;124mLaura\u001b[39m\u001b[38;5;124m\"\u001b[39m,\u001b[38;5;124m\"\u001b[39m\u001b[38;5;124mBelén\u001b[39m\u001b[38;5;124m\"\u001b[39m,\u001b[38;5;241m2\u001b[39m,\u001b[38;5;241m6\u001b[39m]\n\u001b[1;32m----> 3\u001b[0m \u001b[38;5;28mprint\u001b[39m(\u001b[38;5;28;43mmin\u001b[39;49m\u001b[43m(\u001b[49m\u001b[43mlista_mezcla\u001b[49m\u001b[43m)\u001b[49m)\n",
      "\u001b[1;31mTypeError\u001b[0m: '<' not supported between instances of 'int' and 'str'"
     ]
    }
   ],
   "source": [
    "# Lista mezclada de strings y números, las func. de max y min no van.\n",
    "lista_mezcla = [\"Laura\",\"Belén\",2,6]\n",
    "print(min(lista_mezcla))\n"
   ]
  },
  {
   "cell_type": "code",
   "execution_count": 36,
   "metadata": {},
   "outputs": [
    {
     "data": {
      "text/plain": [
       "False"
      ]
     },
     "execution_count": 36,
     "metadata": {},
     "output_type": "execute_result"
    }
   ],
   "source": [
    "frutas = [\"manzana\", \"naranja\", \"platano\"]\n",
    "# voy a examinar si mi lista tiene una pera\n",
    "\"pera\" in  frutas"
   ]
  },
  {
   "cell_type": "code",
   "execution_count": 39,
   "metadata": {},
   "outputs": [
    {
     "name": "stdout",
     "output_type": "stream",
     "text": [
      "is this number in the list of pasos False\n"
     ]
    }
   ],
   "source": [
    "print(\"is this number in the list of pasos\",4753 in lista_pasos)"
   ]
  },
  {
   "cell_type": "code",
   "execution_count": 40,
   "metadata": {},
   "outputs": [
    {
     "name": "stdout",
     "output_type": "stream",
     "text": [
      "[15413, 15855, 22399, 19988, 12709, 19138, 22951, 22322, 24454, 28931, 16609, 18277, 12261, 25552, 11730, 17414, 14479, 26870, 16749, 21189, 19111, 16711, 15188, 16891, 19333, 29310, 11159, 24780, 16162, 27243, 25509, 12093, 27936, 26384, 21533, 10279, 21935, 14639, 25367, 14355, 20347, 10813, 24580, 10046, 18483, 10346, 16868, 24809, 17471, 27576, 12517, 25732, 14591, 11987, 17810, 20176, 16391, 16024, 16048, 28676, 25335, 24034, 15485, 18399, 17836, 14875, 27566, 18089, 23797, 22918, 14073, 29187, 12087, 19085, 17569, 18140, 17459, 28245, 15109, 16016, 28216, 28022, 25157, 18087, 16358, 14994, 10962, 19821, 21092, 12134, 12009, 22892, 24083, 11765, 21264, 28741, 14182, 13915, 12436, 10187, 11471, 10577, 11485, 11433, 11658, 20848, 17796, 22679, 23067, 21890, 28220, 29285, 16309, 29817, 28804, 11005, 15401, 23702, 16786, 14896, 24178, 10373, 16763, 22812, 28614, 26935, 25784, 11107, 25799, 17822, 12292, 11369, 14136, 16532, 24141, 29349, 16447, 10077, 15471, 20883, 29682, 28964, 18774, 27953, 21658, 21828, 11803, 15622, 15064, 21091, 14322, 13228, 28119, 27390, 21449, 27791, 21033, 20343, 20624, 23884, 11718, 21409, 18171, 18300, 29974, 12643, 22086, 20843, 10437, 21713, 25663, 17602, 15319, 28865, 26728, 17051, 26404, 23716, 27192, 17778, 25141, 11897, 10691, 24129, 21320, 18542, 21270, 12789, 25850, 20380, 14328, 21286, 28167, 29278, 22621, 14658, 20507, 24664, 23576, 17824, 24224, 25997, 16528, 14958, 27292, 25185, 29302, 16500, 15896, 22053, 14121, 25440, 25696, 21035, 21016, 10251, 22260, 12858, 20643, 22233, 27120, 28756, 21280, 21858, 16179, 18970, 23784, 20594, 11523, 17052, 12248, 23102, 29652, 20581, 22300, 10141, 10804, 21182, 21917, 18006, 23043, 19801, 23799, 12779, 22009, 12428, 13167, 11087, 12019, 13030, 23132, 24114, 11621, 15943, 14911, 18857, 25109, 15980, 15324, 12708, 25638, 26344, 21300, 21780, 26383, 23641, 13083, 18088, 12258, 16420, 15178, 21808, 18541, 18323, 19952, 28899, 24621, 14852, 28315, 11183, 20733, 29485, 27289, 14919, 16103, 13592, 18814, 12244, 26812, 20472, 16635, 19761, 21187, 28498, 27037, 26134, 26325, 10239, 15529, 23709, 28892, 25489, 27935, 20024, 22262, 16285, 18170, 19127, 24562, 25679, 29445, 18534, 12315, 20296, 21402, 18490, 21050, 12527, 10716, 28409, 16710, 10650, 28504, 11451, 12253, 12896, 12195, 20017, 18136, 21939, 24418, 17189, 26919, 28040, 15253, 28981, 29642, 15128, 27981, 19670, 20169, 28455, 18773, 25855, 27110, 25800, 29737, 26784, 26341, 24567, 19608, 26170, 16374, 12422, 20258, 26122, 19105, 29678, 15851, 27466, 26650, 24711, 19865, 25322, 11362]\n"
     ]
    }
   ],
   "source": [
    "print(lista_pasos)"
   ]
  },
  {
   "cell_type": "code",
   "execution_count": 41,
   "metadata": {},
   "outputs": [
    {
     "name": "stdout",
     "output_type": "stream",
     "text": [
      "El tercer paso que tenemos en la lista es: 22399\n"
     ]
    }
   ],
   "source": [
    "print(\"El tercer paso que tenemos en la lista es:\",lista_pasos[2])"
   ]
  },
  {
   "cell_type": "code",
   "execution_count": 44,
   "metadata": {},
   "outputs": [
    {
     "data": {
      "text/plain": [
       "365"
      ]
     },
     "execution_count": 44,
     "metadata": {},
     "output_type": "execute_result"
    }
   ],
   "source": [
    "len(lista_pasos)\n",
    "#aquí hay 365 ítems numéricos en esta lista"
   ]
  },
  {
   "cell_type": "code",
   "execution_count": 45,
   "metadata": {},
   "outputs": [
    {
     "data": {
      "text/plain": [
       "11362"
      ]
     },
     "execution_count": 45,
     "metadata": {},
     "output_type": "execute_result"
    }
   ],
   "source": [
    "lista_pasos[len(lista_pasos)-1]\n",
    "# cuando queremos saber que nos devuelve la última de la lista"
   ]
  },
  {
   "cell_type": "code",
   "execution_count": 46,
   "metadata": {},
   "outputs": [
    {
     "data": {
      "text/plain": [
       "['A', 'V', 'L', 'M', 'P']"
      ]
     },
     "execution_count": 46,
     "metadata": {},
     "output_type": "execute_result"
    }
   ],
   "source": [
    "letras = [\"A\",\"V\",\"L\",\"M\",\"P\"]\n",
    "letras"
   ]
  },
  {
   "cell_type": "code",
   "execution_count": 49,
   "metadata": {},
   "outputs": [
    {
     "data": {
      "text/plain": [
       "'M'"
      ]
     },
     "execution_count": 49,
     "metadata": {},
     "output_type": "execute_result"
    }
   ],
   "source": [
    "letras[3]"
   ]
  },
  {
   "cell_type": "code",
   "execution_count": 51,
   "metadata": {},
   "outputs": [
    {
     "data": {
      "text/plain": [
       "['V', 'L', 'M']"
      ]
     },
     "execution_count": 51,
     "metadata": {},
     "output_type": "execute_result"
    }
   ],
   "source": [
    "# El icono \":\" significa HASTA sin incluirlo.\n",
    "letras[1:4]"
   ]
  },
  {
   "cell_type": "code",
   "execution_count": 66,
   "metadata": {},
   "outputs": [
    {
     "name": "stdout",
     "output_type": "stream",
     "text": [
      "['A', 'V', 'L', 'M', 'P']\n",
      "['A', 'V', 'L', 'M', 'P']\n"
     ]
    }
   ],
   "source": [
    "letras2 = letras.copy()\n",
    "print(letras)\n",
    "print(letras2)"
   ]
  },
  {
   "cell_type": "code",
   "execution_count": 69,
   "metadata": {},
   "outputs": [
    {
     "ename": "ValueError",
     "evalue": "list.remove(x): x not in list",
     "output_type": "error",
     "traceback": [
      "\u001b[1;31m---------------------------------------------------------------------------\u001b[0m",
      "\u001b[1;31mValueError\u001b[0m                                Traceback (most recent call last)",
      "Cell \u001b[1;32mIn[69], line 2\u001b[0m\n\u001b[0;32m      1\u001b[0m letras3 \u001b[38;5;241m=\u001b[39m letras2\u001b[38;5;241m.\u001b[39mcopy()\n\u001b[1;32m----> 2\u001b[0m \u001b[43mletras3\u001b[49m\u001b[38;5;241;43m.\u001b[39;49m\u001b[43mremove\u001b[49m\u001b[43m(\u001b[49m\u001b[38;5;124;43m\"\u001b[39;49m\u001b[38;5;124;43mM\u001b[39;49m\u001b[38;5;124;43m\"\u001b[39;49m\u001b[43m)\u001b[49m\n\u001b[0;32m      3\u001b[0m \u001b[38;5;28mprint\u001b[39m(letras2)\n\u001b[0;32m      4\u001b[0m \u001b[38;5;28mprint\u001b[39m(letras3)\n",
      "\u001b[1;31mValueError\u001b[0m: list.remove(x): x not in list"
     ]
    }
   ],
   "source": [
    "letras3 = letras2.copy()\n",
    "letras3.remove(\"M\")\n",
    "print(letras2)\n",
    "print(letras3)"
   ]
  },
  {
   "cell_type": "markdown",
   "metadata": {},
   "source": [
    "## TUPLAS"
   ]
  },
  {
   "cell_type": "code",
   "execution_count": 78,
   "metadata": {},
   "outputs": [
    {
     "name": "stdout",
     "output_type": "stream",
     "text": [
      "{'Lorena', 'Lola', 'Paula'}\n"
     ]
    }
   ],
   "source": [
    "tupla_nombres = {\"Laura\",\"Belen\"}\n",
    "print(tuplas_nombres)"
   ]
  },
  {
   "cell_type": "code",
   "execution_count": 79,
   "metadata": {},
   "outputs": [
    {
     "name": "stdout",
     "output_type": "stream",
     "text": [
      "<class 'set'>\n"
     ]
    }
   ],
   "source": [
    "print(type(tuplas_nombres))"
   ]
  },
  {
   "cell_type": "code",
   "execution_count": 90,
   "metadata": {},
   "outputs": [],
   "source": [
    "tupla_nombres = {\"Lola\",\"Paula\",\"Lorena\"}\n",
    "# cambiamos esta tupla a una lista\n",
    "lista_nombres = list(tupla_nombres)"
   ]
  },
  {
   "cell_type": "code",
   "execution_count": 101,
   "metadata": {},
   "outputs": [
    {
     "name": "stdout",
     "output_type": "stream",
     "text": [
      "['Lorena', 'Lola', 'Paula']\n"
     ]
    }
   ],
   "source": [
    "lista_nombres.remove(\"Luz\")\n",
    "print(lista_nombres)"
   ]
  },
  {
   "cell_type": "code",
   "execution_count": 92,
   "metadata": {},
   "outputs": [
    {
     "name": "stdout",
     "output_type": "stream",
     "text": [
      "['Luz', 'Lorena', 'Lola', 'Paula']\n"
     ]
    }
   ],
   "source": [
    "lista_nombres_extended = lista_nombres\n",
    "lista_nombres_extended.insert(0,\"Luz\")\n",
    "# ojo, hay que definir a que posición va\n",
    "print(lista_nombres_extended)"
   ]
  }
 ],
 "metadata": {
  "kernelspec": {
   "display_name": "Python 3",
   "language": "python",
   "name": "python3"
  },
  "language_info": {
   "codemirror_mode": {
    "name": "ipython",
    "version": 3
   },
   "file_extension": ".py",
   "mimetype": "text/x-python",
   "name": "python",
   "nbconvert_exporter": "python",
   "pygments_lexer": "ipython3",
   "version": "3.11.9"
  }
 },
 "nbformat": 4,
 "nbformat_minor": 2
}
