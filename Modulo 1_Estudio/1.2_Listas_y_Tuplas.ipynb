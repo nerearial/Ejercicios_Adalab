{
 "cells": [
  {
   "cell_type": "markdown",
   "metadata": {},
   "source": [
    "### EJERCICIOS LISTAS ###"
   ]
  },
  {
   "cell_type": "code",
   "execution_count": 1,
   "metadata": {},
   "outputs": [],
   "source": [
    "# 1, 2 y 3:\n",
    "\n",
    "colores = [\"azul\",\"rosa\",\"naranja\",\"rojo\",\"verde\"]\n",
    "buses = [1,3,33,15]\n",
    "temperaturas = [17,18,18,19,22,23,24,24]"
   ]
  },
  {
   "cell_type": "code",
   "execution_count": 6,
   "metadata": {},
   "outputs": [
    {
     "name": "stdout",
     "output_type": "stream",
     "text": [
      "['N', 'e', 'r', 'e', 'a']\n"
     ]
    }
   ],
   "source": [
    "# 4. Convertir tu nombre a una lista de caracteres:\n",
    "\n",
    "minombre = \"Nerea\"\n",
    "minombre_lista = [letra for letra in minombre]\n",
    "\n",
    "print(minombre_lista)"
   ]
  },
  {
   "cell_type": "code",
   "execution_count": 11,
   "metadata": {},
   "outputs": [
    {
     "name": "stdout",
     "output_type": "stream",
     "text": [
      "['R', 'i', 'a', 'l', ' ', 'C', 'o', 'n', 'd', 'e']\n"
     ]
    }
   ],
   "source": [
    "# 5. Convertir apellidos a una lista apellidos de caracteres\n",
    "miprimerapellido = \"Rial\"\n",
    "misegundoapellido = \"Conde\"\n",
    "misapellidos = miprimerapellido + \" \" + misegundoapellido\n",
    "milistadeapellidos = [letra for letra in misapellidos]\n",
    "print(milistadeapellidos)"
   ]
  },
  {
   "cell_type": "code",
   "execution_count": 13,
   "metadata": {},
   "outputs": [
    {
     "name": "stdout",
     "output_type": "stream",
     "text": [
      "4\n",
      "10\n",
      "La temperatura máxima para esta semana es: 24\n",
      "La temperatura mínima para esta semana es: 17\n"
     ]
    }
   ],
   "source": [
    "# 6. ¿Cuántos buses pasan por tu casa?\n",
    "print(len(buses))\n",
    "# 7. ¿Cuántos caracteres hay en tus apellidos incluyendo los espacios?\n",
    "print(len(misapellidos))\n",
    "# 8. ¿Cuáles son las temperaturas máximas (t_max) y mínimas (t_min) para esta semana? \n",
    "print(\"La temperatura máxima para esta semana es:\",max(temperaturas))\n",
    "print(\"La temperatura mínima para esta semana es:\",min(temperaturas))"
   ]
  },
  {
   "cell_type": "code",
   "execution_count": 16,
   "metadata": {},
   "outputs": [
    {
     "name": "stdout",
     "output_type": "stream",
     "text": [
      "True\n",
      "True\n",
      "True\n"
     ]
    }
   ],
   "source": [
    "# 9, 10 y 11: usar in, not in:\n",
    "print(\"e\" in minombre)\n",
    "print(\"rosa\" in colores)\n",
    "print(\"x\" not in minombre)\n"
   ]
  },
  {
   "cell_type": "code",
   "execution_count": 34,
   "metadata": {},
   "outputs": [
    {
     "name": "stdout",
     "output_type": "stream",
     "text": [
      "[17, 18, 18, 19, 22, 23, 24, 24]\n",
      "None\n",
      "[17, 18, 18, 19, 22, 23, 24, 24]\n",
      "[17, 18, 18, 19, 22, 23, 24, 24]\n",
      "['N', 'e', 'r', 'e', 'a'] ['R', 'i', 'a', 'l', ' ', 'C', 'o', 'n', 'd', 'e']\n"
     ]
    }
   ],
   "source": [
    "# Hacer copias y borrar sus contenidos, 12-13-14-15-16:\n",
    "temperaturas2 = []\n",
    "temperaturas3 = []\n",
    "temperaturas2 = temperaturas.copy()\n",
    "temperaturas3 = temperaturas.copy()\n",
    "\n",
    "print(temperaturas2)\n",
    "temperaturas2 = temperaturas2.clear()\n",
    "print(temperaturas2)\n",
    "print(temperaturas)\n",
    "print(temperaturas3)\n",
    "\n",
    "nombres2 = []\n",
    "nombres2 = minombre_lista.copy()\n",
    "apellidos2 = []\n",
    "apellidos2 = milistadeapellidos.copy()\n",
    "print(nombres2,apellidos2)"
   ]
  },
  {
   "cell_type": "code",
   "execution_count": 37,
   "metadata": {},
   "outputs": [
    {
     "name": "stdout",
     "output_type": "stream",
     "text": [
      "None\n",
      "[17, 18, 18, 19, 22, 23, 24, 24]\n",
      "[' ', 'C', 'N', 'R', 'a', 'a', 'd', 'e', 'e', 'e', 'i', 'l', 'n', 'o', 'r']\n"
     ]
    }
   ],
   "source": [
    "# 17 y 18. Cambiar el orden de los contenidos:\n",
    "print(temperaturas3.sort())\n",
    "print(temperaturas3)\n",
    "\n",
    "nombrecompleto = milistadeapellidos + minombre_lista\n",
    "nombrecompleto.sort()\n",
    "print(nombrecompleto)"
   ]
  },
  {
   "cell_type": "code",
   "execution_count": 46,
   "metadata": {},
   "outputs": [
    {
     "name": "stdout",
     "output_type": "stream",
     "text": [
      "2\n",
      "1\n",
      "1\n",
      "0\n"
     ]
    }
   ],
   "source": [
    "# 19, 20 y 21. Contar duplicados:\n",
    "print(nombrecompleto.count(\"a\"))\n",
    "print(nombrecompleto.count(\"o\"))\n",
    "print(nombres2.count(\"a\"))\n",
    "print(nombres2.count(\"o\"))\n"
   ]
  },
  {
   "cell_type": "code",
   "execution_count": 47,
   "metadata": {},
   "outputs": [],
   "source": [
    "# 22, 23; definir otra lista:\n",
    "lista_dias = [\"monday\",\"tuesday\",\"wednesday\",\"thursday\",\"friday\",\"saturday\",\"sunday\"]\n",
    "temperaturas_diciembre = [10, 10, 13, 14, 12, 15, \n",
    "                            12, 11, 13, 17, 18, 15, \n",
    "                            15, 17, 17, 13, 13, 11,\n",
    "                            12, 10, 12, 14, 12, 12,\n",
    "                            11, 12, 16, 16, 14, 17, 18]\n",
    "\n"
   ]
  },
  {
   "cell_type": "code",
   "execution_count": 56,
   "metadata": {},
   "outputs": [
    {
     "name": "stdout",
     "output_type": "stream",
     "text": [
      "saturday\n",
      "18\n",
      "True\n",
      "La temperatura máxima en diciembre es: 18\n",
      "La posición de miércoles es: 2\n"
     ]
    }
   ],
   "source": [
    "# Indexación de listas - 24, 25, 26, 27 y 28:\n",
    "# Imprimir penúltimo día de la semana:\n",
    "penultimo = len(lista_dias)-2\n",
    "print(lista_dias[penultimo])\n",
    "\n",
    "ultimolistadiciembre = len(temperaturas_diciembre)-1\n",
    "print(temperaturas_diciembre[ultimolistadiciembre])\n",
    "\n",
    "print(\"friday\" in lista_dias)\n",
    "\n",
    "print(\"La temperatura máxima en diciembre es:\",max(temperaturas_diciembre))\n",
    "\n",
    "dias_es = lista_dias.index(\"wednesday\")\n",
    "print(\"La posición de miércoles es:\",dias_es)"
   ]
  },
  {
   "cell_type": "code",
   "execution_count": 66,
   "metadata": {},
   "outputs": [
    {
     "name": "stdout",
     "output_type": "stream",
     "text": [
      "La temperatura máxima esta semana será 18 que ocurrirá en 1 días(s). El día más frío tendrá una temperatura máxima de 10 que ocurrirá en 2 días.\n"
     ]
    }
   ],
   "source": [
    "# BONUS - Imprime esta frase en la pantalla:\n",
    "palabra1 = [] \n",
    "palabra2 = []\n",
    "palabra1 = max(temperaturas_diciembre)\n",
    "palabra2 = min(temperaturas_diciembre)\n",
    "print(\"La temperatura máxima esta semana será\",palabra1, \"que ocurrirá en 1 días(s). El día más frío tendrá una temperatura máxima de\", palabra2, \"que ocurrirá en 2 días.\")"
   ]
  },
  {
   "cell_type": "markdown",
   "metadata": {},
   "source": [
    "### PARTE 2 - TUPLAS"
   ]
  },
  {
   "cell_type": "markdown",
   "metadata": {},
   "source": [
    "#### Ejercicios del temario"
   ]
  },
  {
   "cell_type": "markdown",
   "metadata": {},
   "source": [
    "Las tuplas son como las listas pero no se pueden modificar.\n",
    "- Tienen valores ordenados e inmutables. \n",
    "- No se puede agregar, eliminar o modificar elementos de una tupla una vez creada.\n",
    "- Se crean utilizando (), separando los elementos por comas, o utilizando el método tuple().\n",
    "\n",
    "Propiedades de las tuplas\n",
    "    Para sacar los elementos de las tuplas (0 el primero, -1 el último):\n",
    "- print(nombretupla[0:2], el segundo número es el rango)\n",
    "- len(): devuelve el número de elementos en la tupla.\n",
    "- max(): devuelve el elemento de mayor valor en la tupla.\n",
    "- min(): devuelve el elemento de menor valor en la tupla.\n",
    "\n",
    "Métodos de las tuplas\n",
    "- index(): devuelve el índice de la primera ocurrencia de un elemento en la tupla.\n",
    "- count(): devuelve el número de veces que aparece un elemento en la tupla.\n",
    "\n",
    "Para modificar una tupla, la convertimos a una lista.\n",
    "\n",
    "- Descomponer los valores de una tupla generando las X variables:\n",
    "- a, b, c = nombre_tupla\n",
    "- Luego creamos una nueva tupla, usando las variables que nos interesen.\n",
    "\n",
    "Para combinar dos tuplas (intercalar sus elementos):\n",
    "- zip_loquesea = zip(tupla1, tupla2)\n",
    "- Para que nos devuelva algo legible: list(zip_loquesea)\n",
    "- zip_loquesea = list(zip(tupla1,tupla2))\n",
    "- zip_loquesea.sort() -> nos devuelve la lista ordenada.\n",
    "\n",
    "\n"
   ]
  },
  {
   "cell_type": "code",
   "execution_count": 3,
   "metadata": {},
   "outputs": [],
   "source": [
    "# 1, 2 y 3: Creamos una tupla, con tipo int float y str.\n",
    "\n",
    "persona1 = 61, 1.54, \"pelo marrón\"\n",
    "persona2 = 68, 1.65, \"pelo rubio\"\n",
    "talla = (\"M\", 42, 39)"
   ]
  },
  {
   "cell_type": "code",
   "execution_count": 5,
   "metadata": {},
   "outputs": [
    {
     "name": "stdout",
     "output_type": "stream",
     "text": [
      "('M', 42, 39) ('M', 42, 39, 61, 1.54, 'pelo marrón')\n"
     ]
    }
   ],
   "source": [
    "# 4 y 5. Convertir lista a tupla y juntar las dos tuplas.\n",
    "talla1 = tuple(talla)\n",
    "persona1talla = talla1 + persona1\n",
    "print(talla1, persona1talla)"
   ]
  },
  {
   "cell_type": "code",
   "execution_count": 11,
   "metadata": {},
   "outputs": [
    {
     "name": "stdout",
     "output_type": "stream",
     "text": [
      "(68, 1.65, 'pelo rubio')\n",
      "pelo rubio\n",
      "3\n"
     ]
    }
   ],
   "source": [
    "# 6 y 7. Indexar tuplas:\n",
    "# Saca de persona 2 el tercer elemento y llámalo color.\n",
    "color = persona2[-1] \n",
    "print(persona2)\n",
    "print(color)\n",
    "\n",
    "print(len(persona1))"
   ]
  },
  {
   "cell_type": "code",
   "execution_count": 14,
   "metadata": {},
   "outputs": [
    {
     "name": "stdout",
     "output_type": "stream",
     "text": [
      "61 , 1.54 , pelo marrón\n"
     ]
    }
   ],
   "source": [
    "# 8. Crea las variables peso, altura, color_pelo y llénalas\n",
    "# con el contenido de persona1. Imprime color_pelo para comprobar.\n",
    "\n",
    "peso = persona1[-3]\n",
    "altura = persona1[-2]\n",
    "color_pelo = persona1[-1]\n",
    "print(peso,\",\",altura,\",\",color_pelo)"
   ]
  },
  {
   "cell_type": "code",
   "execution_count": 29,
   "metadata": {},
   "outputs": [
    {
     "name": "stdout",
     "output_type": "stream",
     "text": [
      "3\n"
     ]
    }
   ],
   "source": [
    "# 9 y 10: Crea, cuenta elementos, crea nueva tupla con otros elementos\n",
    "\n",
    "personas = zip(persona1, persona2)\n",
    "personas_lista = list(personas)\n",
    "print(len(personas_lista))\n"
   ]
  },
  {
   "cell_type": "code",
   "execution_count": 31,
   "metadata": {},
   "outputs": [
    {
     "name": "stdout",
     "output_type": "stream",
     "text": [
      "(61, 1.54, 'pelo marrón')\n",
      "[(61, 61, 68), (1.54, 1.54, 1.65), ('pelo marrón', 'pelo marrón', 'pelo rubio')]\n"
     ]
    }
   ],
   "source": [
    "# 11 y 12: Crea una tupla y luego el zip:\n",
    "\n",
    "etiquetas = peso, altura, color_pelo\n",
    "print(etiquetas)\n",
    "\n",
    "todo = zip(etiquetas, persona1, persona2)\n",
    "print(list(todo))"
   ]
  },
  {
   "cell_type": "code",
   "execution_count": 36,
   "metadata": {},
   "outputs": [
    {
     "name": "stdout",
     "output_type": "stream",
     "text": [
      "None\n"
     ]
    }
   ],
   "source": [
    "# 13. Mira si se puede ordenar las propiedades de la variable persona de manera alfabética\n",
    "personas_lista = list(personas)\n",
    "print(personas_lista.sort())\n",
    "# No deja ordenarlo porque es un zip!!!!!"
   ]
  }
 ],
 "metadata": {
  "kernelspec": {
   "display_name": "base",
   "language": "python",
   "name": "python3"
  },
  "language_info": {
   "codemirror_mode": {
    "name": "ipython",
    "version": 3
   },
   "file_extension": ".py",
   "mimetype": "text/x-python",
   "name": "python",
   "nbconvert_exporter": "python",
   "pygments_lexer": "ipython3",
   "version": "3.11.9"
  }
 },
 "nbformat": 4,
 "nbformat_minor": 2
}
