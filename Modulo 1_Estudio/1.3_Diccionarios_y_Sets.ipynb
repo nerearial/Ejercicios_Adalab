{
 "cells": [
  {
   "cell_type": "markdown",
   "metadata": {},
   "source": [
    "# PARTE 1 - DICCIONARIOS\n",
    "\n",
    "Los diccionarios es una estructura de datos, que almacena elementos en pares:\n",
    "> clave-valor (key-value)\n",
    "\n",
    "- Los *valores* pueden ser: números, cadenas, listas, tuplas u otros diccionarios.\n",
    "\n",
    "> Definimos un diccionario utilizando {}.\n",
    "\n",
    "Características:\n",
    "- No están ordenados\n",
    "- Las claves son únicas\n",
    "- Se pueden modificar, añadir o eliminar sus pares.\n",
    "- Pueden contener cualquier tipo de int, str, ...\n",
    "\n",
    "Un diccionario se define así:\n",
    "> - diccionario = {\"clave1\":\"valor1\",\"clave2\":\"valor2\",...}\n",
    "> - diccionario2 = {int:\"str\"}\n",
    "> - diccionario3 = {\"str\":[loquesea,loquesea]}\n",
    "\n",
    "- definimos el diccionario con \"dict\" usando el operador \"=\" y cada par de clave-valor separado por comas:\n",
    "\n",
    "> diccionario5 = dict( jueves = 'thursday', viernes='friday' )\n",
    "\n",
    "- definimos el diccionario con \"dict\" usando una lista de tuplas, separando cada tupla por coma. Cada tupla será el par de clave-valor\n",
    "\n",
    "> diccionario6 = dict( [ ('sábado','saturday'), ('domingo','sunday') ] )\n",
    "\n",
    "Para crear un diccionario con claves y valores predeterminados:\n",
    "\n",
    "> claves = ['jueves', 'viernes', 'sabado']\n",
    "\n",
    "- establecemos el valor predeterminado de lo que serán nuestro futuros values. En este caso todos tendrán el valor de una lista vacía\n",
    "\n",
    "> valor_predeterminado = []\n",
    "\n",
    "- definimos el diccionario usando: \n",
    "\n",
    "> diccionario7 = dict.fromkeys(claves, valor_predeterminado)\n",
    "\n",
    "PROPIEDADES DE LOS DICCIONARIOS\n",
    "- len()\n",
    "- keys() \n",
    "- values()\n",
    "- items()\n",
    "\n",
    "MÉTODOS:\n",
    "- copy(): devuelve una copia superficial del diccionario.\n",
    "- clear(): elimina todos los elementos del diccionario.\n",
    "- update(): actualiza el diccionario con pares clave-valor de otro diccionario o de una lista de tuplas (clave,valor).\n",
    "- get(): devuelve el valor de la clave si está presente, sino un valor predeterminado.\n",
    "- setdefault(): si la clave está en el diccionario, devuelve el valor, sino inserta en la clave con el valor predeterminado.\n",
    "- pop(argumento): elimina la clave y devuelve su valor. \n",
    "    - Si la clave no está presente y se proporciona un valor predeterminado, se devuelve ese valor. \n",
    "    - Si la clave no está presente y no se proporciona un valor predeterminado, se produce una excepción KeyError. \n",
    "- popitem(): elimina y devuelve un par clave-valor arbitrario del diccionario. EL ÚLTIMO.\n",
    "    - Si el diccionario está vacío, se produce una excepción KeyError.\n",
    "\n",
    "- sorted(): devuelve una lista de tuplas que representan cada par clave-valor ordenado por la clave. (si son strings)\n"
   ]
  },
  {
   "cell_type": "markdown",
   "metadata": {},
   "source": [
    "## EJERCICIOS DICCIONARIOS"
   ]
  },
  {
   "cell_type": "code",
   "execution_count": 21,
   "metadata": {},
   "outputs": [],
   "source": [
    "# 1 y 2: crear diccionarios:\n",
    "\n",
    "# import datetime\n",
    "\n",
    "# fecha1 = datetime.date(datetime.MINYEAR,1,1)\n",
    "# fecha2 = datetime.date(datetime.MINYEAR,1,6)\n",
    "# fecha3 = datetime.date(datetime.MINYEAR,4,15)\n",
    "# fecha4 = datetime.date(datetime.MINYEAR,8,15)\n",
    "# fecha5 = datetime.date(datetime.MINYEAR,10,12)\n",
    "# fecha6 = datetime.date(datetime.MINYEAR,11,1)\n",
    "# fecha7 = datetime.date(datetime.MINYEAR,12,6)\n",
    "# fecha8 = datetime.date(datetime.MINYEAR,12,8)\n",
    "\n",
    "# festivos = {\n",
    "#     fecha1:\"Año Nuevo\",\n",
    "#     fecha2:\"Epifanía del Señor\",\n",
    "#     fecha3:\"Viernes Santo\",\n",
    "#     fecha4:\"Asunción de la Virgen\",\n",
    "#     fecha5:\"Fiesta Nacional de España\",\n",
    "#     fecha6:\"Todos los Santos\",\n",
    "#     fecha7:\"Día de la Constitución Española\",\n",
    "#     fecha8:\"Inmaculada Concepción\"\n",
    "#             }\n",
    "\n",
    "festivos = {\n",
    "    \"01/01\":\"Año Nuevo\",\n",
    "    \"06/01\":\"Epifanía del Señor\",\n",
    "    \"15/04\":\"Viernes Santo\",\n",
    "    \"15/08\":\"Asunción de la Virgen\",\n",
    "    \"12/10\":\"Fiesta Nacional de España\",\n",
    "    \"01/11\":\"Todos los Santos\",\n",
    "    \"06/12\":\"Día de la Constitución Española\",\n",
    "    \"08/12\":\"Inmaculada Concepción\"\n",
    "           }\n",
    "\n",
    "monarcas = {\n",
    "    \"Bélgica\":\"Philippe\",\n",
    "    \"Dinamarca\":\"Margrethe II\",\n",
    "    \"Holanda\":\"Beatrix\",\n",
    "    \"Noruega\":\"Harald V\",\n",
    "    \"España\":\"Felipe VI\",\n",
    "    \"Reino Unido\":\"Carlos III\"\n",
    "}"
   ]
  },
  {
   "cell_type": "code",
   "execution_count": 32,
   "metadata": {},
   "outputs": [
    {
     "name": "stdout",
     "output_type": "stream",
     "text": [
      "El día 15 de abril es: Viernes Santo\n",
      "Willem-Alexander\n",
      "{'Bélgica': 'Philippe', 'Dinamarca': 'Margrethe II', 'Noruega': 'Harald V', 'España': 'Felipe VI', 'Reino Unido': 'Carlos III', 'Holanda': 'Willem-Alexander', 'Luxemburgo': 'Henri'}\n"
     ]
    }
   ],
   "source": [
    "# 3, 4 y 5. Leer, añadir y cambiar elementos.\n",
    "\n",
    "quefestivo = festivos.get(\"15/04\")\n",
    "print(\"El día 15 de abril es:\",quefestivo)\n",
    "\n",
    "monarcas.pop(\"Holanda\")\n",
    "monarcas1 = {\"Holanda\":\"Willem-Alexander\"}\n",
    "monarcas.update(monarcas1)\n",
    "\n",
    "mirarsiestabien = monarcas.get(\"Holanda\")\n",
    "print(mirarsiestabien)\n",
    "\n",
    "monarcas2 = {\"Luxemburgo\":\"Henri\"}\n",
    "monarcas.update(monarcas2)\n",
    "print(monarcas)"
   ]
  },
  {
   "cell_type": "code",
   "execution_count": 37,
   "metadata": {},
   "outputs": [
    {
     "name": "stdout",
     "output_type": "stream",
     "text": [
      "7\n",
      "None\n",
      "False\n"
     ]
    }
   ],
   "source": [
    "# 6, 7 y 8 - Comprobar contenidos\n",
    "\n",
    "saber1 = len(monarcas)\n",
    "print(saber1)\n",
    "\n",
    "saber2 = monarcas.get(\"Monaco\")\n",
    "print(saber2)\n",
    "\n",
    "saber3 = True\n",
    "if \"Suecia\" in monarcas:\n",
    "    print(saber3)\n",
    "else:\n",
    "    saber3 = False\n",
    "    print(saber3)"
   ]
  },
  {
   "cell_type": "code",
   "execution_count": 43,
   "metadata": {},
   "outputs": [
    {
     "name": "stdout",
     "output_type": "stream",
     "text": [
      "{'01/01': 'Año Nuevo', '06/01': 'Epifanía del Señor', '15/04': 'Viernes Santo', '15/08': 'Asunción de la Virgen', '12/10': 'Fiesta Nacional de España', '01/11': 'Todos los Santos', '06/12': 'Día de la Constitución Española', '08/12': 'Inmaculada Concepción'}\n",
      "[('01/01', 'Año Nuevo'), ('06/01', 'Epifanía del Señor'), ('15/04', 'Viernes Santo'), ('15/08', 'Asunción de la Virgen'), ('12/10', 'Fiesta Nacional de España'), ('01/11', 'Todos los Santos'), ('06/12', 'Día de la Constitución Española'), ('08/12', 'Inmaculada Concepción')]\n"
     ]
    }
   ],
   "source": [
    "# 9, 10, 11 y 12: Listas los contenidos:\n",
    "\n",
    "lista_monarcas = list(monarcas)\n",
    "lista_festivos = list(festivos.items())\n",
    "\n",
    "print(festivos)\n",
    "print(lista_festivos)"
   ]
  },
  {
   "cell_type": "code",
   "execution_count": 47,
   "metadata": {},
   "outputs": [
    {
     "data": {
      "text/plain": [
       "('Luxemburgo', 'Henri')"
      ]
     },
     "execution_count": 47,
     "metadata": {},
     "output_type": "execute_result"
    }
   ],
   "source": [
    "# 13, 14 y 15: Copiar dicts y borrar elementos.\n",
    "\n",
    "monarcas2010 = monarcas.copy()\n",
    "\n",
    "monarcas2010.pop(\"España\")\n",
    "monarcas2010.popitem()\n"
   ]
  },
  {
   "cell_type": "code",
   "execution_count": 48,
   "metadata": {},
   "outputs": [
    {
     "name": "stdout",
     "output_type": "stream",
     "text": [
      "None\n"
     ]
    }
   ],
   "source": [
    "# 16. Vaciar el diccionario.\n",
    "\n",
    "monarcas2010 = monarcas2010.clear()\n",
    "print(monarcas2010)"
   ]
  },
  {
   "cell_type": "code",
   "execution_count": 54,
   "metadata": {},
   "outputs": [
    {
     "name": "stdout",
     "output_type": "stream",
     "text": [
      "Epifanía del Señor\n",
      "Día Internacional de la mujer\n",
      "Día Internacional de la mujer\n",
      "Día Internacional de la mujer\n"
     ]
    }
   ],
   "source": [
    "# 17 y 18. Obtener valores\n",
    "\n",
    "# ¿Qué festivo hay el 06/01?\n",
    "\n",
    "cualfestivo = festivos.get(\"06/01\")\n",
    "print(cualfestivo)\n",
    "\n",
    "# Obtén el festivo del 8 de marzo, y en su defecto que devuelva\n",
    "# \"Día Internacional de la Mujer\"\n",
    "\n",
    "festivomujer = festivos.get(\"08/03\")\n",
    "print(festivomujer)\n",
    "\n",
    "actualizardia = festivos.setdefault(\"08/03\",\"Día Internacional de la mujer\")\n",
    "print(actualizardia)\n",
    "\n",
    "print(festivomujer)"
   ]
  },
  {
   "cell_type": "code",
   "execution_count": 68,
   "metadata": {},
   "outputs": [
    {
     "ename": "AttributeError",
     "evalue": "'str' object has no attribute 'setdefault'",
     "output_type": "error",
     "traceback": [
      "\u001b[1;31m---------------------------------------------------------------------------\u001b[0m",
      "\u001b[1;31mAttributeError\u001b[0m                            Traceback (most recent call last)",
      "Cell \u001b[1;32mIn[68], line 6\u001b[0m\n\u001b[0;32m      1\u001b[0m \u001b[38;5;66;03m# 19. Obten el 31 de diciembre, sino crea un par clave-valor \"Todos los santos\"\u001b[39;00m\n\u001b[0;32m      2\u001b[0m \n\u001b[0;32m      3\u001b[0m \u001b[38;5;66;03m# festivo_santos = festivos.get(\"31/11\")\u001b[39;00m\n\u001b[0;32m      4\u001b[0m \u001b[38;5;66;03m# print(festivo_santos)\u001b[39;00m\n\u001b[1;32m----> 6\u001b[0m \u001b[43mfestivos\u001b[49m\u001b[38;5;241;43m.\u001b[39;49m\u001b[43msetdefault\u001b[49m(\u001b[38;5;124m\"\u001b[39m\u001b[38;5;124m31/11\u001b[39m\u001b[38;5;124m\"\u001b[39m,\u001b[38;5;124m\"\u001b[39m\u001b[38;5;124mTodos los Santos\u001b[39m\u001b[38;5;124m\"\u001b[39m)\n\u001b[0;32m      7\u001b[0m festivos\n",
      "\u001b[1;31mAttributeError\u001b[0m: 'str' object has no attribute 'setdefault'"
     ]
    }
   ],
   "source": [
    "# 19. Obten el 31 de diciembre, sino crea un par clave-valor \"Todos los santos\"\n",
    "\n",
    "# festivo_santos = festivos.get(\"31/11\")\n",
    "# print(festivo_santos)\n",
    "\n",
    "festivos.setdefault(\"31/11\",\"Todos los Santos\")\n",
    "festivos"
   ]
  }
 ],
 "metadata": {
  "kernelspec": {
   "display_name": "Python 3",
   "language": "python",
   "name": "python3"
  },
  "language_info": {
   "codemirror_mode": {
    "name": "ipython",
    "version": 3
   },
   "file_extension": ".py",
   "mimetype": "text/x-python",
   "name": "python",
   "nbconvert_exporter": "python",
   "pygments_lexer": "ipython3",
   "version": "3.11.9"
  }
 },
 "nbformat": 4,
 "nbformat_minor": 2
}
