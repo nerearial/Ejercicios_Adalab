{
 "cells": [
  {
   "cell_type": "markdown",
   "metadata": {},
   "source": [
    "### FUNCIONES - INTRODUCCIÓN\n",
    "\n",
    "> def nombre_funcion(parámetros):\n",
    "\n",
    ">    return (variables multiplicacioines lo que quieras)"
   ]
  },
  {
   "cell_type": "code",
   "execution_count": 1,
   "metadata": {},
   "outputs": [
    {
     "data": {
      "text/plain": [
       "'Me gusta python'"
      ]
     },
     "execution_count": 1,
     "metadata": {},
     "output_type": "execute_result"
    }
   ],
   "source": [
    "# Ejercicios PRÁCTICOS de la lección\n",
    "\n",
    "# 1. Crear una función:\n",
    "\n",
    "def mi_funcion():\n",
    "    # variable local\n",
    "    verdad = \"Me gusta python\"\n",
    "    return verdad\n",
    "\n",
    "mi_funcion()"
   ]
  },
  {
   "cell_type": "code",
   "execution_count": 2,
   "metadata": {},
   "outputs": [
    {
     "name": "stdout",
     "output_type": "stream",
     "text": [
      "Dentro de la función: Python es el mejor lenguaje de programación\n"
     ]
    }
   ],
   "source": [
    "# 2. Creamos una función con variables GLOBALES.\n",
    "\n",
    "la_verdad = \"Python es el mejor lenguaje de programación\"\n",
    "\n",
    "# Definimos otra función\n",
    "\n",
    "def mi_funcion2():\n",
    "    print(f\"Dentro de la función: {la_verdad}\")\n",
    "\n",
    "# después de definirla, la llamamos\n",
    "mi_funcion2()"
   ]
  },
  {
   "cell_type": "code",
   "execution_count": 3,
   "metadata": {},
   "outputs": [
    {
     "name": "stdout",
     "output_type": "stream",
     "text": [
      "Fuera de la función:Python es el mejor lenguaje de programación\n"
     ]
    }
   ],
   "source": [
    "# La variable global, la podemos llamar en cualquier función:\n",
    "print(f\"Fuera de la función:{la_verdad}\")"
   ]
  },
  {
   "cell_type": "code",
   "execution_count": 4,
   "metadata": {},
   "outputs": [],
   "source": [
    "# Para diferenciar parámetros de argumentos:\n",
    "\n",
    "def multiplicar(num1,num2): # num 1 y num2 son los parámetros\n",
    "    return num1 * num2\n",
    "\n",
    "resultado = multiplicar (2,3) # 2 y 3 son los argumentos"
   ]
  },
  {
   "cell_type": "code",
   "execution_count": 5,
   "metadata": {},
   "outputs": [
    {
     "name": "stdout",
     "output_type": "stream",
     "text": [
      "El valor de x dentro de la función es: 10\n"
     ]
    }
   ],
   "source": [
    "# Función sin parámetros. \n",
    "\n",
    "def ejemplo_funcion():\n",
    "    # dentro de la funcion creamos una variable local\n",
    "    x= 10\n",
    "    # ponemos un print para que nos salga un mensaje\n",
    "    print(f\"El valor de x dentro de la función es: {x}\")\n",
    "\n",
    "# la llamamos\n",
    "ejemplo_funcion()"
   ]
  },
  {
   "cell_type": "code",
   "execution_count": 6,
   "metadata": {},
   "outputs": [
    {
     "name": "stdout",
     "output_type": "stream",
     "text": [
      "El valor de x dentro de la función es: 10\n",
      "El print que tenemos dentro de la función es None\n"
     ]
    }
   ],
   "source": [
    "# Podemos almacenar el return de una función en una variable:\n",
    "mensaje = ejemplo_funcion()\n",
    "print(\"El print que tenemos dentro de la función es\",mensaje)\n",
    "\n",
    "# Nos devuelve un None porque no hay return."
   ]
  },
  {
   "cell_type": "code",
   "execution_count": 7,
   "metadata": {},
   "outputs": [
    {
     "name": "stdout",
     "output_type": "stream",
     "text": [
      "hola mundo!\n"
     ]
    }
   ],
   "source": [
    "# Recordamos que la clave print es para mostrar información en la pantalla.\n",
    "def imprimir_mensaje():\n",
    "    mensaje = \"hola mundo!\"\n",
    "    print(mensaje)\n",
    "\n",
    "imprimir_mensaje()"
   ]
  },
  {
   "cell_type": "code",
   "execution_count": 8,
   "metadata": {},
   "outputs": [
    {
     "name": "stdout",
     "output_type": "stream",
     "text": [
      "12\n"
     ]
    }
   ],
   "source": [
    "# el return se utiliza para devolver un valor desde la función\n",
    "# return devuelve el valor de una variable o una expresión\n",
    "\n",
    "def sumar_numeros(a,b):\n",
    "    resultado = a + b\n",
    "    return resultado\n",
    "\n",
    "total = sumar_numeros(5,7)\n",
    "print(total)"
   ]
  },
  {
   "cell_type": "code",
   "execution_count": 9,
   "metadata": {},
   "outputs": [
    {
     "name": "stdout",
     "output_type": "stream",
     "text": [
      "Los números pares de la lista son [2, 4, 6, 8]\n"
     ]
    }
   ],
   "source": [
    "# Función para identificar los números pares en una lista.\n",
    "\n",
    "def es_par():\n",
    "\n",
    "    # definimos lista números\n",
    "    numeros = [1,2,3,4,5,6,7,8,9]\n",
    "\n",
    "    # definimos lista vacía para los pares\n",
    "    pares = []\n",
    "\n",
    "    # hacemos la iteración\n",
    "    for num in numeros:\n",
    "\n",
    "        if num % 2 == 0:\n",
    "            pares.append(num)\n",
    "\n",
    "        else:\n",
    "            pass\n",
    "\n",
    "    # cuando termine de iterar toda la lista, queremos que la función nos printee los pares\n",
    "    return pares\n",
    "\n",
    "# llamamos a la función y almacenamos los resultados en una variable\n",
    "pares = es_par()\n",
    "print(f\"Los números pares de la lista son {pares}\")"
   ]
  },
  {
   "cell_type": "code",
   "execution_count": 10,
   "metadata": {},
   "outputs": [
    {
     "name": "stdout",
     "output_type": "stream",
     "text": [
      "Los numeros pares son: None\n"
     ]
    }
   ],
   "source": [
    "# ahora pero este caso sin return\n",
    "\n",
    "def es_par2():\n",
    "    numeros = [1,2,3,4,5,6,7,8,9]\n",
    "    pares = []\n",
    "    for num in numeros:\n",
    "        if num % 2 == 0:\n",
    "            pares.append(num)\n",
    "        else:\n",
    "            pass\n",
    "\n",
    "pares2 = es_par2()\n",
    "print(\"Los numeros pares son:\",pares2)        "
   ]
  },
  {
   "cell_type": "code",
   "execution_count": 11,
   "metadata": {},
   "outputs": [
    {
     "name": "stdout",
     "output_type": "stream",
     "text": [
      "Los pares de la lista que tenemos dentro de la función es: [44, 56, 22, 98]\n",
      "---------------------------\n",
      "Los pares de la lista pares5 son: [12, 14, 16, 18, 20]\n"
     ]
    }
   ],
   "source": [
    "# Modificamos la función de arriba:\n",
    "\n",
    "def es_par_4(nuestra_lista):\n",
    "    pares = []\n",
    "    for num in nuestra_lista:\n",
    "        if num % 2 == 0:\n",
    "            pares.append(num)\n",
    "        else:\n",
    "            pass\n",
    "    return pares\n",
    "\n",
    "lista_numeros1 = [23,44,56,22,98,67]\n",
    "\n",
    "pares4 = es_par_4(lista_numeros1)\n",
    "print(\"Los pares de la lista que tenemos dentro de la función es:\",pares4)\n",
    "print(f\"---------------------------\")\n",
    "\n",
    "lista_numeros2 = [12,13,14,15,16,17,18,19,20]\n",
    "\n",
    "pares5 = es_par_4(lista_numeros2)\n",
    "print(\"Los pares de la lista pares5 son:\",pares5)"
   ]
  },
  {
   "cell_type": "code",
   "execution_count": null,
   "metadata": {},
   "outputs": [],
   "source": [
    "# FUNCIONES LAMBDAS: funciones pequeñas y anónimas. \n",
    "# La sintaxis básica es\n",
    "> lambda argumentos: expresion\n",
    "# Son útiles para crear una función que solo tendrá que usarse una vez\n",
    "> lambda parámetro_1, parámetro_2: mifuncionx(parámetro_1,parámetro_2)"
   ]
  },
  {
   "cell_type": "code",
   "execution_count": 12,
   "metadata": {},
   "outputs": [
    {
     "name": "stdout",
     "output_type": "stream",
     "text": [
      "El resultado de la función es: 4\n"
     ]
    }
   ],
   "source": [
    "# Lambdas con un parámetro\n",
    "\n",
    "def cuadrados(numero):\n",
    "    return numero ** 2\n",
    "\n",
    "print(\"El resultado de la función es:\",cuadrados(2))"
   ]
  },
  {
   "cell_type": "code",
   "execution_count": 13,
   "metadata": {},
   "outputs": [
    {
     "name": "stdout",
     "output_type": "stream",
     "text": [
      "el resultado de la función es: 4\n"
     ]
    }
   ],
   "source": [
    "# Lambdas con expresión\n",
    "\n",
    "cuadrados2 = lambda numero : numero ** 2\n",
    "\n",
    "print(\"el resultado de la función es:\",cuadrados2(2))"
   ]
  },
  {
   "cell_type": "code",
   "execution_count": 14,
   "metadata": {},
   "outputs": [
    {
     "name": "stdout",
     "output_type": "stream",
     "text": [
      "el resultado de la función es: 6\n"
     ]
    }
   ],
   "source": [
    "# Lambdas con 2 parámetros o lambdas con parámetros por defecto.\n",
    "\n",
    "def multiplicacion (a,b):\n",
    "    return a*b\n",
    "\n",
    "print(\"el resultado de la función es:\",multiplicacion(2,3))"
   ]
  },
  {
   "cell_type": "code",
   "execution_count": 18,
   "metadata": {},
   "outputs": [
    {
     "name": "stdout",
     "output_type": "stream",
     "text": [
      "Esto funciona asi? 6\n"
     ]
    }
   ],
   "source": [
    "# Ahora con una lambda:\n",
    "\n",
    "multiplicacion1 = lambda a,b : a*b\n",
    "print(\"Esto funciona asi?\",multiplicacion1(2,3))"
   ]
  },
  {
   "cell_type": "code",
   "execution_count": 23,
   "metadata": {},
   "outputs": [
    {
     "name": "stdout",
     "output_type": "stream",
     "text": [
      "la lista de numeros aleatorios es: [6, 13, 47, 9, 2, 49, 40, 33, 46, 12, 14, 26, 15, 35, 38, 28, 17, 22, 20, 4]\n",
      "_------_\n",
      "la lista de números impares es: [13, 47, 9, 49, 33, 15, 35, 17]\n"
     ]
    }
   ],
   "source": [
    "import random\n",
    "\n",
    "# creamos una lista de 20 numeros aleatorios entre el 1 y el 50:\n",
    "lista = random.sample(range(1,50), 20)\n",
    "print(\"la lista de numeros aleatorios es:\",lista)\n",
    "\n",
    "def impares(lst):\n",
    "    \n",
    "    impares = []\n",
    "\n",
    "    for i in lst:\n",
    "        if i % 2 != 0:\n",
    "            impares.append(i)\n",
    "        else:\n",
    "            pass\n",
    "    \n",
    "    return impares\n",
    "\n",
    "print(\"_------_\")\n",
    "num_impares = impares(lista)\n",
    "print(\"la lista de números impares es:\",num_impares)"
   ]
  },
  {
   "cell_type": "code",
   "execution_count": 30,
   "metadata": {},
   "outputs": [
    {
     "name": "stdout",
     "output_type": "stream",
     "text": [
      "La lista de números impares es: [13, 47, 9, 49, 33, 15, 35, 17]\n"
     ]
    }
   ],
   "source": [
    "# Ahora lo hacemos con una LAMBDA. \n",
    "\n",
    "funcion_impares = lambda lista_a: [i for i in lista_a if i % 2 != 0]\n",
    "\n",
    "num_impares2 = funcion_impares(lista)\n",
    "print(\"La lista de números impares es:\", num_impares2)"
   ]
  },
  {
   "cell_type": "markdown",
   "metadata": {},
   "source": [
    "### EJERCICIOS INTRODUCCIÓN FUNCIONES"
   ]
  },
  {
   "cell_type": "code",
   "execution_count": 51,
   "metadata": {},
   "outputs": [
    {
     "name": "stdout",
     "output_type": "stream",
     "text": [
      "{'h': 3, 'o': 5, 'l': 5, 'a': 5, ' ': 3, 'c': 1, 'm': 2, 't': 1, 'e': 1, 's': 1}\n"
     ]
    }
   ],
   "source": [
    "# 1. Escribe una función que reciba una cadena de texto como parámetro\n",
    "# devolviendo un diccioanrio con las frecuencias de cada letra en la cadena\n",
    "# Los espacios no deben ser considerados.\n",
    "\n",
    "def contar_letras(string):\n",
    "    \n",
    "    diccionario_letras = {}\n",
    "\n",
    "    for letra in frase:\n",
    "        if letra in diccionario_letras.keys() or letra == \" \":\n",
    "            pass\n",
    "        else:\n",
    "            diccionario_letras[letra] = string.count(letra)\n",
    "    return diccionario_letras\n",
    "\n",
    "string = input(\"Escribe una cadena de texto\")\n",
    "resultado1 = diccionario_letras(frase)\n",
    "print(resultado1)\n"
   ]
  },
  {
   "cell_type": "code",
   "execution_count": 43,
   "metadata": {},
   "outputs": [
    {
     "name": "stdout",
     "output_type": "stream",
     "text": [
      "['felisinda', 'gonzalez']\n"
     ]
    }
   ],
   "source": [
    "# 2. Función que reciba una cadena de texto como parámetro\n",
    "# y devuelva una lista con todas las palabras que tienen más de 5 letras.\n",
    "\n",
    "lista_cincoletras = []\n",
    "\n",
    "def funcion_cadena(cadenatexto):\n",
    "    for palabra in cadenatexto.split():\n",
    "        if len(palabra) > 5:\n",
    "            lista_cincoletras.append(palabra)\n",
    "    return lista_cincoletras\n",
    "\n",
    "cadenatexto = input(\"Escribe una frase\")\n",
    "listapalabras = funcion_cadena(cadenatexto)\n",
    "\n",
    "print(listapalabras)"
   ]
  },
  {
   "cell_type": "code",
   "execution_count": 66,
   "metadata": {},
   "outputs": [
    {
     "data": {
      "text/plain": [
       "['programacion', 'bootcamp', 'hola', 'computadora', 'aprendizaje']"
      ]
     },
     "execution_count": 66,
     "metadata": {},
     "output_type": "execute_result"
    }
   ],
   "source": [
    "# 3. Función que tome una lista de palabras como entrada\n",
    "# y devuelva una lista de palabras que tenga más de una vocal.\n",
    "\n",
    "lista_palabras_vocal = []\n",
    "\n",
    "def funcion_vocales(frase11):\n",
    "\n",
    "    contar_vocales = 0\n",
    "\n",
    "    for palabra in frase11:\n",
    "\n",
    "        for letra in palabra: # aqui contamos las vocales\n",
    "            if letra.lower() in \"aeiou\":\n",
    "                contar_vocales += 1\n",
    "\n",
    "        # si la palabra tiene más de una vocal\n",
    "        if contar_vocales > 1:\n",
    "            lista_palabras_vocal.append(palabra)\n",
    "\n",
    "    return lista_palabras_vocal\n",
    "\n",
    "\n",
    "frase11 = [\"python\",\"programacion\",\"bootcamp\",\"hola\",\"computadora\",\"aprendizaje\"]\n",
    "funcion_vocales(frase11)\n"
   ]
  }
 ],
 "metadata": {
  "kernelspec": {
   "display_name": "base",
   "language": "python",
   "name": "python3"
  },
  "language_info": {
   "codemirror_mode": {
    "name": "ipython",
    "version": 3
   },
   "file_extension": ".py",
   "mimetype": "text/x-python",
   "name": "python",
   "nbconvert_exporter": "python",
   "pygments_lexer": "ipython3",
   "version": "3.11.7"
  }
 },
 "nbformat": 4,
 "nbformat_minor": 2
}
