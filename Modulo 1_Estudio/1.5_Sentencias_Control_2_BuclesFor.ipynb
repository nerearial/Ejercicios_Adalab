{
 "cells": [
  {
   "cell_type": "markdown",
   "metadata": {},
   "source": [
    "### EJERCICIOS SENTENCIAS DE CONTROL - BUCLES FOR"
   ]
  },
  {
   "cell_type": "code",
   "execution_count": 5,
   "metadata": {},
   "outputs": [
    {
     "name": "stdout",
     "output_type": "stream",
     "text": [
      "y\n",
      "t\n",
      "h\n",
      "o\n",
      "n\n"
     ]
    },
    {
     "name": "stderr",
     "output_type": "stream",
     "text": [
      "<>:6: SyntaxWarning: \"is\" with a literal. Did you mean \"==\"?\n",
      "<>:6: SyntaxWarning: \"is\" with a literal. Did you mean \"==\"?\n",
      "C:\\Users\\nerea\\AppData\\Local\\Temp\\ipykernel_8296\\3094998799.py:6: SyntaxWarning: \"is\" with a literal. Did you mean \"==\"?\n",
      "  if letra is \"P\":\n"
     ]
    }
   ],
   "source": [
    "# 1. Crea una variable que sea igual a \"Python\" y genera un código que nos printee todas las letras menos la \"P\" usando la sentencia continue\n",
    "\n",
    "python = \"Python\"\n",
    "\n",
    "for letra in python:\n",
    "    if letra is \"P\":\n",
    "        continue\n",
    "    print(letra)"
   ]
  },
  {
   "cell_type": "code",
   "execution_count": 13,
   "metadata": {},
   "outputs": [
    {
     "name": "stdout",
     "output_type": "stream",
     "text": [
      "H\n",
      "e\n",
      "o\n"
     ]
    }
   ],
   "source": [
    "# 2. De la frase \"Hello\" imprime todas las letras que no sean una l.\n",
    "# 3. Ya lo hicimos directamente utilizando el continue.\n",
    "frase = \"Hello\"\n",
    "\n",
    "for letra in frase:\n",
    "    if letra == \"l\":\n",
    "        continue \n",
    "    else:\n",
    "        pass\n",
    "    print(letra)"
   ]
  },
  {
   "cell_type": "code",
   "execution_count": 18,
   "metadata": {},
   "outputs": [
    {
     "name": "stdout",
     "output_type": "stream",
     "text": [
      "H\n",
      "e\n",
      "l\n",
      "l\n"
     ]
    }
   ],
   "source": [
    "# 4. De la frase Hello imprime todas las letras parando el bucle si ves una o.\n",
    "\n",
    "for letra in frase:\n",
    "    if letra == \"o\":\n",
    "        break\n",
    "    else:\n",
    "        print(letra)"
   ]
  },
  {
   "cell_type": "code",
   "execution_count": 23,
   "metadata": {},
   "outputs": [
    {
     "name": "stdout",
     "output_type": "stream",
     "text": [
      "Error!\n"
     ]
    }
   ],
   "source": [
    "# 5. Define ambas variables e intenta sumarles. En el caso de que sea error, imprime un ¡Error!\n",
    "# Para eso usa un try except.\n",
    "\n",
    "doce = '12'\n",
    "seis = 6\n",
    "\n",
    "try: \n",
    "    suma = doce + seis\n",
    "    print(suma)\n",
    "except: \n",
    "    print(\"Error!\")"
   ]
  },
  {
   "cell_type": "code",
   "execution_count": 24,
   "metadata": {},
   "outputs": [
    {
     "name": "stdout",
     "output_type": "stream",
     "text": [
      "18\n"
     ]
    }
   ],
   "source": [
    "# 6. Basándonos en el ejercicio anterior, sin usar un try except. Cómo podremos solucionar el problema.\n",
    "# Pasando la variable doce a un int.\n",
    "\n",
    "doce = int(doce)\n",
    "\n",
    "suma = doce + seis\n",
    "print(suma)\n"
   ]
  },
  {
   "cell_type": "code",
   "execution_count": 52,
   "metadata": {},
   "outputs": [
    {
     "name": "stdout",
     "output_type": "stream",
     "text": [
      "La suma de los números es: 1\n",
      "La suma de los números es: 3\n",
      "Has metido un número negativo!!\n"
     ]
    }
   ],
   "source": [
    "# 7. Solicita al usuario ingresar núm. enteros positivos hasta que ingrese un negativo.\n",
    "\n",
    "# numero = int(input(\"Escribe un número\"))\n",
    "suma_numeros = 0\n",
    "\n",
    "    # preguntamos por el número\n",
    "\n",
    "while numero == True:\n",
    "    num = int(input(\"Mete un número\"))\n",
    "    if num < 0:\n",
    "        print(\"Has metido un número negativo!!\")\n",
    "        break\n",
    "    else:\n",
    "        suma_numeros = suma_numeros + num\n",
    "        print(\"La suma de los números es:\",suma_numeros)\n",
    "\n"
   ]
  },
  {
   "cell_type": "code",
   "execution_count": 56,
   "metadata": {},
   "outputs": [
    {
     "name": "stdout",
     "output_type": "stream",
     "text": [
      "No se puede dividir entre cero\n"
     ]
    }
   ],
   "source": [
    "# 8. Solicita al usuario ingresar 2 números y muestra el resultado de dividir el primero por el segundo.\n",
    "# Asegúrate de manejar la excepción si el segundo es cero.\n",
    "\n",
    "try:\n",
    "    num1 = int(input(\"Dime un dividendo\"))\n",
    "    num2 = int(input(\"Dime un divisor\"))\n",
    "    resultado = num1 / num2\n",
    "    print(resultado)\n",
    "except ZeroDivisionError:\n",
    "    print(\"No se puede dividir entre cero\")"
   ]
  },
  {
   "cell_type": "code",
   "execution_count": 68,
   "metadata": {},
   "outputs": [
    {
     "name": "stdout",
     "output_type": "stream",
     "text": [
      "Debe ingresar un número válido\n"
     ]
    }
   ],
   "source": [
    "# 9. Solicita al usuario ingresar un número y muestra la raíz cuadrada.\n",
    "# Ojo, no se pueden hacer raíces cuadrades de números negativos.\n",
    "\n",
    "import math\n",
    "\n",
    "try:\n",
    "    numerito = int(input(\"Dame un número del que quieras saber su raíz cuadrada\"))\n",
    "    resultado = math.sqrt(numerito)\n",
    "    print(resultado)\n",
    "except ValueError:\n",
    "    print(\"Debe ingresar un número válido\")"
   ]
  },
  {
   "cell_type": "code",
   "execution_count": 87,
   "metadata": {},
   "outputs": [
    {
     "name": "stdout",
     "output_type": "stream",
     "text": [
      "No hay ese índice\n"
     ]
    }
   ],
   "source": [
    "# 10. Crea una lista de números y solicita al usuario ingresar un índice para acceder a un elemento de la lista.\n",
    "# Maneja la excepción si el índice está fuera de rango.\n",
    "\n",
    "\n",
    "mi_lista = [1,5,3,4,5]\n",
    "\n",
    "try:\n",
    "    numeros = int(input(\"Ingresa un índice del 0 al 4\"))\n",
    "    elementito = mi_lista[numeros]\n",
    "    print(elementito)\n",
    "except:\n",
    "    numeros not in mi_lista\n",
    "    print(\"No hay ese índice\")\n"
   ]
  }
 ],
 "metadata": {
  "kernelspec": {
   "display_name": "Python 3",
   "language": "python",
   "name": "python3"
  },
  "language_info": {
   "codemirror_mode": {
    "name": "ipython",
    "version": 3
   },
   "file_extension": ".py",
   "mimetype": "text/x-python",
   "name": "python",
   "nbconvert_exporter": "python",
   "pygments_lexer": "ipython3",
   "version": "3.11.9"
  }
 },
 "nbformat": 4,
 "nbformat_minor": 2
}
