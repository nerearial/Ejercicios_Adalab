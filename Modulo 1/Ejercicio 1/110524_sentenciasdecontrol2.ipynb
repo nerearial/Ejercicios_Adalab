{
 "cells": [
  {
   "cell_type": "code",
   "execution_count": null,
   "metadata": {},
   "outputs": [],
   "source": [
    "# SENTENCIAS DE CONTROL Nº 2\n",
    "\n",
    "# El \"for\" se utiliza para realizar una operación a una secuencia de elementos\n",
    "# Operacion en bucle a cada uno de los elementos de la secuencia, hasta que se acaben los elementos\n",
    "# A diferencia del while, el for acaba cuando acaba de aplicar la operación a todos los elementos"
   ]
  },
  {
   "cell_type": "code",
   "execution_count": 1,
   "metadata": {},
   "outputs": [
    {
     "name": "stdout",
     "output_type": "stream",
     "text": [
      "['manzana', 'pera', 'uva']\n",
      "La fruta de hoy es manzana\n",
      "La fruta de hoy es pera\n",
      "La fruta de hoy es uva\n"
     ]
    }
   ],
   "source": [
    "# Probamos el bucle flor con una lista de frutas, \n",
    "# con una condicion binaria y print.\n",
    "\n",
    "frutas = [\"manzana\",\"pera\",\"uva\"]\n",
    "print(frutas)\n",
    "\n",
    "for elemento in frutas:\n",
    "    # no hace predefinir el elemento, lo definimos en el propio for\n",
    "    print(\"La fruta de hoy es\",elemento)"
   ]
  },
  {
   "cell_type": "code",
   "execution_count": 7,
   "metadata": {},
   "outputs": [
    {
     "name": "stdout",
     "output_type": "stream",
     "text": [
      "Las notas favorbales son: [7, 8, 9, 10]\n",
      "Las notas desfavorables son: [1, 4, 5, 4]\n",
      "Las notas medias son: []\n"
     ]
    }
   ],
   "source": [
    "# Vamos asignar los elementos de una lista de notass de examen, y clasificarlas en 3 grados\n",
    "\n",
    "lista_notas = [1,4,5,7,8,9,4,10]\n",
    "\n",
    "favorables = []\n",
    "desfavorables = []\n",
    "media = []\n",
    "\n",
    "for nota in lista_notas:\n",
    "\n",
    "    if nota >= 7:\n",
    "        favorables.append(nota)\n",
    "    elif nota >= 6:\n",
    "        media.append(nota)\n",
    "    else:\n",
    "        desfavorables.append(nota)\n",
    "\n",
    "print(\"Las notas favorbales son:\",favorables)\n",
    "print(\"Las notas desfavorables son:\",desfavorables)\n",
    "print(\"Las notas medias son:\",media)"
   ]
  },
  {
   "cell_type": "code",
   "execution_count": 9,
   "metadata": {},
   "outputs": [
    {
     "name": "stdout",
     "output_type": "stream",
     "text": [
      "Estamos en primavera\n",
      "Estamos en verano\n",
      "Estamos en otoño\n",
      "Estamos en invierno\n"
     ]
    }
   ],
   "source": [
    "# Otro ejemplo con print y estaciones del año\n",
    "\n",
    "estaciones = [\"primavera\",\"verano\",\"otoño\",\"invierno\"]\n",
    "\n",
    "for estacion in estaciones:\n",
    "    print(f\"Estamos en {estacion}\")"
   ]
  },
  {
   "cell_type": "code",
   "execution_count": 10,
   "metadata": {},
   "outputs": [
    {
     "name": "stdout",
     "output_type": "stream",
     "text": [
      "p\n",
      "r\n",
      "i\n",
      "m\n",
      "a\n",
      "v\n",
      "e\n",
      "r\n",
      "a\n"
     ]
    }
   ],
   "source": [
    "# Usar for con una variable de tipo cadena\n",
    "\n",
    "estacion = \"primavera\"\n",
    "\n",
    "for string in estacion:\n",
    "    print(string)"
   ]
  },
  {
   "cell_type": "code",
   "execution_count": 11,
   "metadata": {},
   "outputs": [
    {
     "name": "stdout",
     "output_type": "stream",
     "text": [
      "El estado de la lista vacía es: [30]\n",
      "El estado de la lista vacía es: [30, 20]\n",
      "El estado de la lista vacía es: [30, 20, 40]\n",
      "El estado de la lista vacía es: [30, 20, 40, 20]\n",
      "El estado de la lista vacía es: [30, 20, 40, 20, 10]\n"
     ]
    }
   ],
   "source": [
    "# En lista de precios, un listado vacio de precios, un for y un append\n",
    "\n",
    "lista = [30,20,40,20,10]\n",
    "lista_aniadidos = []\n",
    "\n",
    "for numero in lista:\n",
    "    lista_aniadidos.append(numero)\n",
    "    #cada vez que me añade cada elemento, quiero que me lo imprima\n",
    "    print(\"El estado de la lista vacía es:\",lista_aniadidos)\n",
    "    "
   ]
  },
  {
   "cell_type": "code",
   "execution_count": 14,
   "metadata": {},
   "outputs": [
    {
     "name": "stdout",
     "output_type": "stream",
     "text": [
      "['MADRID', 'BARCELONA', 'SEVILLA', 'JAEN']\n"
     ]
    }
   ],
   "source": [
    "# podemos hacer lo mismo usando .upper() para hacer una nueva lista de ciudades con mayuscula\n",
    "\n",
    "Lista = [\"madrid\",\"barcelona\",\"sevilla\",\"jaen\"]\n",
    "Lista_mayusculas = []\n",
    "\n",
    "for ciudad in Lista:\n",
    "    Lista_mayusculas.append(ciudad.upper())\n",
    "\n",
    "print(Lista_mayusculas)"
   ]
  },
  {
   "cell_type": "code",
   "execution_count": 20,
   "metadata": {},
   "outputs": [
    {
     "name": "stdout",
     "output_type": "stream",
     "text": [
      "laura\n",
      "bella\n",
      "maria\n",
      "167\n",
      "172\n",
      "155\n",
      "('laura', 167)\n",
      "('bella', 172)\n",
      "('maria', 155)\n"
     ]
    }
   ],
   "source": [
    "# Como usar el for con un diccionario:\n",
    "# Primero definimos diccionario con nombres y alturas,\n",
    "\n",
    "lista_alturas = {\"laura\":167,\"bella\":172,\"maria\":155}\n",
    "\n",
    "# probamos un if basico con print, al hacer esto nos da solo las keys\n",
    "\n",
    "for elemento in lista_alturas:\n",
    "    print(elemento)\n",
    "\n",
    "# Si queremos ver los keys (valores):\n",
    "\n",
    "for elemento in lista_alturas.values():\n",
    "    print(elemento)\n",
    "\n",
    "# todo junto:\n",
    "\n",
    "for elemento in lista_alturas.items():\n",
    "    print(elemento)"
   ]
  },
  {
   "cell_type": "code",
   "execution_count": 21,
   "metadata": {},
   "outputs": [
    {
     "name": "stdout",
     "output_type": "stream",
     "text": [
      "range(3, 30)\n"
     ]
    }
   ],
   "source": [
    "# RANGE: Es una manera de hacer listas de secuencias\n",
    "# Tiene 3 fases: START STOP STEP\n",
    "\n",
    "lista_range = range(3,30)\n",
    "print(lista_range)"
   ]
  },
  {
   "cell_type": "code",
   "execution_count": 22,
   "metadata": {},
   "outputs": [
    {
     "name": "stdout",
     "output_type": "stream",
     "text": [
      "3\n",
      "4\n",
      "5\n",
      "6\n",
      "7\n",
      "8\n",
      "9\n",
      "10\n",
      "11\n",
      "12\n",
      "13\n",
      "14\n",
      "15\n",
      "16\n",
      "17\n",
      "18\n",
      "19\n",
      "20\n",
      "21\n",
      "22\n",
      "23\n",
      "24\n",
      "25\n",
      "26\n",
      "27\n",
      "28\n",
      "29\n"
     ]
    }
   ],
   "source": [
    "for num in lista_range:\n",
    "    print(num)"
   ]
  }
 ],
 "metadata": {
  "kernelspec": {
   "display_name": "Python 3",
   "language": "python",
   "name": "python3"
  },
  "language_info": {
   "codemirror_mode": {
    "name": "ipython",
    "version": 3
   },
   "file_extension": ".py",
   "mimetype": "text/x-python",
   "name": "python",
   "nbconvert_exporter": "python",
   "pygments_lexer": "ipython3",
   "version": "3.11.9"
  }
 },
 "nbformat": 4,
 "nbformat_minor": 2
}
