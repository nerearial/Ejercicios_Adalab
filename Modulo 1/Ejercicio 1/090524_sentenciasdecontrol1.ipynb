{
 "cells": [
  {
   "cell_type": "code",
   "execution_count": null,
   "metadata": {},
   "outputs": [],
   "source": [
    "# estructuras que te permiten controlar el flujo de ejecuccion de un programa: if, else, elif y while\n",
    "# las estructuras de seleccion funcionan asi\n",
    "if condicion:\n",
    "    # bloque d ecodigo si la condicion es verdadera\n",
    "    else \n",
    "    # bloque de codigo si la condicion es falsa"
   ]
  },
  {
   "cell_type": "code",
   "execution_count": 2,
   "metadata": {},
   "outputs": [
    {
     "name": "stdout",
     "output_type": "stream",
     "text": [
      "¡Eso es demasiado!\n"
     ]
    }
   ],
   "source": [
    "# while - condicon una condicion... \n",
    "# mientras llueve, me quedo en casa\n",
    "\n",
    "# PRACTICA,\n",
    "# vamos a practicar con input otra vez y usar un variable numero_peras para empezar con sentencia if\n",
    "\n",
    "numero_peras = int(input(\"¿Cuántas peras quieres?\"))\n",
    "\n",
    "if numero_peras >= 5:\n",
    "    print(\"¡Eso es demasiado!\")\n",
    "else:\n",
    "    print(\"Lo tenemos\")"
   ]
  },
  {
   "cell_type": "code",
   "execution_count": 5,
   "metadata": {},
   "outputs": [
    {
     "name": "stdout",
     "output_type": "stream",
     "text": [
      "¡Sigue ahorrando!\n"
     ]
    }
   ],
   "source": [
    "# empezamos con hacer un if basico con comanda print\n",
    "\n",
    "tu_salario = 500\n",
    "\n",
    "if tu_salario > 1000000:\n",
    "    print(\"¡Eres millonario!\")\n",
    "else:\n",
    "    print(\"¡Sigue ahorrando!\")"
   ]
  },
  {
   "cell_type": "code",
   "execution_count": 7,
   "metadata": {},
   "outputs": [],
   "source": [
    "# y ya probamos un si else cuando la condicion no se cumple, que pasa??\n",
    "\n",
    "tu_salario = 500\n",
    "\n",
    "if tu_salario > 1000000:\n",
    "    print(\"Eres muy rico\")"
   ]
  },
  {
   "cell_type": "code",
   "execution_count": 8,
   "metadata": {},
   "outputs": [
    {
     "name": "stdout",
     "output_type": "stream",
     "text": [
      "['pera']\n"
     ]
    }
   ],
   "source": [
    "# en lugar de print, vamos a probar otra comanda. otra accion, por ejemplo, añadir elementos a una lista;\n",
    "\n",
    "lista_compra = []\n",
    "numero_peras = int(input(\"¿Cuántas peras?\"))\n",
    "\n",
    "if numero_peras < 7:\n",
    "    lista_compra.append(\"pera\")\n",
    "\n",
    "print(lista_compra)"
   ]
  },
  {
   "cell_type": "code",
   "execution_count": 12,
   "metadata": {},
   "outputs": [
    {
     "name": "stdout",
     "output_type": "stream",
     "text": [
      "['pera']\n",
      "3\n"
     ]
    }
   ],
   "source": [
    "# probamos un if con otro tipo de operacion binaria como \"in\" y otro tipo de operacion en comanda como suma\n",
    "\n",
    "peras_almacen = 2\n",
    "\n",
    "numero_peras = int(input(\"¿Cuántas peras tienes?\"))\n",
    "\n",
    "if \"pera\" in lista_compra:\n",
    "    peras_almacen += 1\n",
    "else:\n",
    "    lista_compra.append(\"2 peras\")\n",
    "\n",
    "print(lista_compra)\n",
    "print(peras_almacen)"
   ]
  },
  {
   "cell_type": "code",
   "execution_count": 13,
   "metadata": {},
   "outputs": [
    {
     "name": "stdout",
     "output_type": "stream",
     "text": [
      "eres un adulto\n"
     ]
    }
   ],
   "source": [
    "# IF ELSE CON VARIAS CONDICIONES\n",
    "# probamos primer if elif con print usando ejemplo de edad\n",
    "# leemos cada vez que ha pasado con las condiciones y el resultado de sentencia if\n",
    "\n",
    "edad = 45\n",
    "\n",
    "if edad > 18:\n",
    "    print(\"eres un adulto\")\n",
    "elif edad > 11:\n",
    "    print(\"eres un adolescente\")\n",
    "else:\n",
    "    print(\"eres un bebé\")"
   ]
  },
  {
   "cell_type": "code",
   "execution_count": 17,
   "metadata": {},
   "outputs": [
    {
     "name": "stdout",
     "output_type": "stream",
     "text": [
      "tiene trabajo\n"
     ]
    }
   ],
   "source": [
    "# se puede usar una sentencia de if dentro de otra sentencia de if????\n",
    "# probamos esta estructura con un ejemplo de edades y estado de trabajo y una lista\n",
    "\n",
    "edad = int(input(\"Cuántos años tienes?\"))\n",
    "nivel_estudios = input(\"¿Cuál es tu nivel de estudios? Bajo o alto\")\n",
    "\n",
    "if edad >= 20:\n",
    "\n",
    "    if nivel_estudios == \"bajo\":\n",
    "        print(\"Busca trabajo\")\n",
    "    else: \n",
    "        print(\"tiene trabajo\")\n",
    "\n",
    "else:\n",
    "    print(\"todavia no trabaja\")"
   ]
  },
  {
   "cell_type": "code",
   "execution_count": 20,
   "metadata": {},
   "outputs": [
    {
     "name": "stdout",
     "output_type": "stream",
     "text": [
      "Deberías haber estudiado de pequeño!\n"
     ]
    }
   ],
   "source": [
    "# probamos tener en lugar cde una condicion, una mezcla con comanda print y and\n",
    "\n",
    "edad = int(input(\"Cuántos años tienes?\"))\n",
    "nivel_estudios = input(\"¿Cuál es tu nivel de estudios? Bajo o alto\")\n",
    "\n",
    "if edad >=20 and nivel_estudios == \"bajo\":\n",
    "    print(\"Deberías haber estudiado de pequeño!\")\n",
    "elif edad>=20 and nivel_estudios != \"bajo\":\n",
    "    print(\"Buen trabajo\")\n",
    "else:\n",
    "    print(\"¡Sigue estudiando!\")"
   ]
  },
  {
   "cell_type": "code",
   "execution_count": 1,
   "metadata": {},
   "outputs": [
    {
     "name": "stdout",
     "output_type": "stream",
     "text": [
      "No tienes 21 años\n"
     ]
    }
   ],
   "source": [
    "# probamos el WHILE con un ejemplo básico con print\n",
    "\n",
    "edad = 20\n",
    "# OJO SI PONEMOS EDAD = 21 SE QUEDA CARGANDO EL BUCLE HASTA QUE LO PAREMOS\n",
    "\n",
    "while edad == 21:\n",
    "    print(\"Tienes 21 años\")\n",
    "else:\n",
    "    print(\"No tienes 21 años\")"
   ]
  },
  {
   "cell_type": "code",
   "execution_count": 24,
   "metadata": {},
   "outputs": [
    {
     "name": "stdout",
     "output_type": "stream",
     "text": [
      "Número incorrecto. Intenta nuevamente\n",
      "Número incorrecto. Intenta nuevamente\n",
      "Felicidades! Adivinaste el numero secreto en 3 intentos.\n"
     ]
    }
   ],
   "source": [
    "# probamos un ejemplo con límite, con ifs dentro de while\n",
    "\n",
    "numero_secreto = 8\n",
    "intentos = 0\n",
    "adivinado = False\n",
    "\n",
    "while not adivinado:\n",
    "    intento = int(input(\"Adivina el número secreto!\"))\n",
    "    intentos += 1\n",
    "\n",
    "    if intento == numero_secreto:\n",
    "        print(\"Felicidades! Adivinaste el numero secreto en\", intentos,\"intentos.\")\n",
    "        adivinado = True\n",
    "    else:\n",
    "        print(\"Número incorrecto. Intenta nuevamente\")"
   ]
  }
 ],
 "metadata": {
  "kernelspec": {
   "display_name": "base",
   "language": "python",
   "name": "python3"
  },
  "language_info": {
   "codemirror_mode": {
    "name": "ipython",
    "version": 3
   },
   "file_extension": ".py",
   "mimetype": "text/x-python",
   "name": "python",
   "nbconvert_exporter": "python",
   "pygments_lexer": "ipython3",
   "version": "3.11.7"
  }
 },
 "nbformat": 4,
 "nbformat_minor": 2
}
