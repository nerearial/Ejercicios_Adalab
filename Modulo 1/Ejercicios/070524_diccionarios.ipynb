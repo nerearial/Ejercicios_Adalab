{
 "cells": [
  {
   "cell_type": "markdown",
   "metadata": {},
   "source": [
    "CARACTERISTICAS\n",
    "- Coleccion de pares clave-valor\n",
    "- Claves unicos\n",
    "- Flexible\n",
    "- Mutable\n",
    "- Desordenada\n",
    "- Eficiente en búsquedas"
   ]
  },
  {
   "cell_type": "code",
   "execution_count": 1,
   "metadata": {},
   "outputs": [],
   "source": [
    "# definimos un diccionario de nombres y edades, y otros de nombres y una lista de días\n",
    "clase_uno = {\"laura\":21,\"maria\":45,\"belen\":27}"
   ]
  },
  {
   "cell_type": "code",
   "execution_count": 4,
   "metadata": {},
   "outputs": [
    {
     "ename": "SyntaxError",
     "evalue": "unterminated string literal (detected at line 5) (1392889073.py, line 5)",
     "output_type": "error",
     "traceback": [
      "\u001b[1;36m  Cell \u001b[1;32mIn[4], line 5\u001b[1;36m\u001b[0m\n\u001b[1;33m    dicc_meses = dict([(\"january,\"enero\"),(\"february\",\"febrero\")}])\u001b[0m\n\u001b[1;37m                                                              ^\u001b[0m\n\u001b[1;31mSyntaxError\u001b[0m\u001b[1;31m:\u001b[0m unterminated string literal (detected at line 5)\n"
     ]
    }
   ],
   "source": [
    "# definimos un diccionario de meses en ingles y castellano pero usando la funcion dict: con = y paréntesis entre \n",
    "dicc_meses = dict(january=\"enero\",februar=\"febrero\",march=\"marzo\")\n",
    "print(dicc_meses)\n",
    "\n",
    "dicc_meses = dict([(\"january,\"enero\"),(\"february\",\"febrero\")}])\n",
    "                    print(dicc_meses)"
   ]
  },
  {
   "cell_type": "markdown",
   "metadata": {},
   "source": [
    "## Propiedades de un diccionario\n",
    "- len()\n",
    "- keys()\n",
    "- values()\n",
    "- items()"
   ]
  },
  {
   "cell_type": "code",
   "execution_count": 12,
   "metadata": {},
   "outputs": [
    {
     "name": "stdout",
     "output_type": "stream",
     "text": [
      "{'laura': 21, 'maria': 45, 'belen': 27}\n",
      "3\n",
      "eso es lo que hace keys(), te da las claves dict_keys(['laura', 'maria', 'belen'])\n",
      "esto es lo que hace values(), te da los valores dict_values([21, 45, 27])\n",
      "esto es lo que hace items(), te da tanto los valores como las claves dict_items([('laura', 21), ('maria', 45), ('belen', 27)])\n"
     ]
    }
   ],
   "source": [
    "# probamos algunas propiedades con el diccionario que tenemos, pone 3 porque hay 3 -- keys te da un alista de las claves\n",
    "print(clase_uno)\n",
    "print(len(clase_uno))\n",
    "print(\"eso es lo que hace keys(), te da las claves\",clase_uno.keys())\n",
    "print(\"esto es lo que hace values(), te da los valores\",clase_uno.values())\n",
    "print(\"esto es lo que hace items(), te da tanto los valores como las claves\",clase_uno.items())"
   ]
  },
  {
   "cell_type": "markdown",
   "metadata": {},
   "source": [
    "- copy()\n",
    "- clear()\n",
    "- update()\n",
    "- get()\n",
    "- setdefault()\n",
    "- pop()\n",
    "- popitem()\n",
    "en el diccionario (a diferencia de la lista), es que a cada ítem le damos un valor"
   ]
  },
  {
   "cell_type": "code",
   "execution_count": 25,
   "metadata": {},
   "outputs": [
    {
     "name": "stdout",
     "output_type": "stream",
     "text": [
      "esto es la edad de Laura None\n",
      "esto es la edad de Mariana None\n",
      "esto es la edad de mariana 45\n",
      "{'maria': 45, 'belen': 27, 'Estrella': 45, 'Ana': 38, 'mariana': 45}\n",
      "{}\n",
      "Aquí está mi nuevo diccionario None\n",
      "{'maria': 45, 'belen': 27, 'Estrella': 45, 'Ana': 38}\n"
     ]
    },
    {
     "ename": "KeyError",
     "evalue": "'laura'",
     "output_type": "error",
     "traceback": [
      "\u001b[1;31m---------------------------------------------------------------------------\u001b[0m",
      "\u001b[1;31mKeyError\u001b[0m                                  Traceback (most recent call last)",
      "Cell \u001b[1;32mIn[25], line 24\u001b[0m\n\u001b[0;32m     21\u001b[0m \u001b[38;5;28mprint\u001b[39m(clase_uno)\n\u001b[0;32m     23\u001b[0m \u001b[38;5;66;03m# probamos pop\u001b[39;00m\n\u001b[1;32m---> 24\u001b[0m \u001b[38;5;28mprint\u001b[39m(\u001b[38;5;124m\"\u001b[39m\u001b[38;5;124mAqui está mi diccionario después de pop\u001b[39m\u001b[38;5;124m\"\u001b[39m,clase_uno\u001b[38;5;241m.\u001b[39mpop(\u001b[38;5;124m\"\u001b[39m\u001b[38;5;124mlaura\u001b[39m\u001b[38;5;124m\"\u001b[39m))\n\u001b[0;32m     25\u001b[0m \u001b[38;5;28mprint\u001b[39m(clase_uno)\n",
      "\u001b[1;31mKeyError\u001b[0m: 'laura'"
     ]
    }
   ],
   "source": [
    "# probamos algunos metodos pero siempr eusando copias de nuestro diccionario\n",
    "clase_uno.copy()\n",
    "clase_uno_copy = clase_uno.copy()\n",
    "print(\"esto es la edad de Laura\",clase_uno_copy.get(\"laura\"))\n",
    "\n",
    "# vamos a probar con claves que no existen en nuestro diccionario - nos devuelve NONE porque no existe (ojo, esto no da error, escupe un NONE)\n",
    "print(\"esto es la edad de Mariana\",clase_uno_copy.get(\"mariana\"))\n",
    "\n",
    "# voy a usar setdefault para poner mariana\n",
    "print(\"esto es la edad de mariana\",clase_uno_copy.setdefault(\"mariana\",45))\n",
    "print(clase_uno_copy)\n",
    "\n",
    "# vamos a vaciar el diccionario\n",
    "# 1. probamos clear con diccionario\n",
    "clase_uno_copy.clear()\n",
    "print(clase_uno_copy)\n",
    "\n",
    "# probamos update\n",
    "nuevo_miembro = {\"Estrella\":45,\"Ana\":38}\n",
    "print(\"Aquí está mi nuevo diccionario\",clase_uno.update(nuevo_miembro))\n",
    "print(clase_uno)\n",
    "\n",
    "# probamos pop - pop quita cosas, te dice el valor y luego lo quita, es como remove pero antes de eliminarlo te escupe la información que procede a borrar\n",
    "print(\"Aqui está mi diccionario después de pop\",clase_uno.pop(\"laura\"))\n",
    "print(clase_uno)"
   ]
  },
  {
   "cell_type": "markdown",
   "metadata": {},
   "source": [
    "## SETS (CONJUNTOS) {}\n",
    "Definición: una estructura de datos desordenada y mutable que se utiliza para almacenar elementos únicos con llaves {[]}\n",
    "Características:\n",
    "- Mutable, como la lista, como el diccionario...\n",
    "- Elementos unicos: en un set solo podemos poner elementos unicos, (en listas y tuplas puedes repetir cosas)\n",
    "- desordenado (sin indice)\n",
    "- flexibles...\n"
   ]
  },
  {
   "cell_type": "code",
   "execution_count": 32,
   "metadata": {},
   "outputs": [
    {
     "name": "stdout",
     "output_type": "stream",
     "text": [
      "Hay alguien con edad 22? False\n",
      "el tpye de lista nombres es: <class 'list'>\n",
      "el tpye de lista nombres es: <class 'set'>\n"
     ]
    }
   ],
   "source": [
    "# definimos un SET y probamos propiedades\n",
    "edades = {34,67,21,87}\n",
    "print(\"Hay alguien con edad 22?\", 22 in edades)\n",
    "\n",
    "nombres = [\"maria\",\"marta\",\"jose\"]\n",
    "print(\"el tpye de lista nombres es:\",type(nombres))\n",
    "\n",
    "nombre_set = set(nombres)\n",
    "print(\"el tpye de lista nombres es:\",type(nombre_set))"
   ]
  },
  {
   "cell_type": "code",
   "execution_count": 35,
   "metadata": {},
   "outputs": [
    {
     "name": "stdout",
     "output_type": "stream",
     "text": [
      "aqui el conjunto extendido None\n",
      "{67, 80, 21, 87}\n",
      "{80, 21, 87}\n"
     ]
    }
   ],
   "source": [
    "# probamos algunos metodos (pop aqui es aleatorio)\n",
    "print(\"aqui el conjunto extendido\",edades.add(80))\n",
    "print(edades)\n",
    "\n",
    "edades.pop()\n",
    "print(edades)"
   ]
  },
  {
   "cell_type": "code",
   "execution_count": 45,
   "metadata": {},
   "outputs": [
    {
     "name": "stdout",
     "output_type": "stream",
     "text": [
      "Esto es set1: {0, 1, 3, 5}\n",
      "Esto es set2: {0, 2, 4, 6}\n",
      "Esto es la unión {0, 1, 2, 3, 4, 5, 6}\n",
      "y esto es el resultado de la interseccion {0}\n",
      "esto es el resultado de difference {1, 3, 5}\n",
      "y esto el resultado de simetric difference {1, 2, 3, 4, 5, 6}\n",
      "y esto es el resultado de uppsuset (operacion binaria, estoy preguntando si set1 es subconjunto de set2) False\n"
     ]
    }
   ],
   "source": [
    "# probamos las operaciones\n",
    "set1 = {0,1,3,5}\n",
    "set2 = {0,2,4,6}\n",
    "\n",
    "\n",
    "print(\"Esto es set1:\",set1)\n",
    "print(\"Esto es set2:\",set2)\n",
    "\n",
    "print(\"Esto es la unión\",set1.union(set2))\n",
    "\n",
    "# probamos interseccion\n",
    "print(\"y esto es el resultado de la interseccion\",set1.intersection(set2))\n",
    "\n",
    "#probamos diferencia - pone las partes diferentes entre ellas\n",
    "print(\"esto es el resultado de difference\",set1.difference(set2))\n",
    "print(\"y esto el resultado de simetric difference\",set1.symmetric_difference(set2))\n",
    "print(\"y esto es el resultado de uppsuset (operacion binaria, estoy preguntando si set1 es subconjunto de set2)\",set1.issubset(set2))\n",
    "\n",
    "\n"
   ]
  }
 ],
 "metadata": {
  "kernelspec": {
   "display_name": "base",
   "language": "python",
   "name": "python3"
  },
  "language_info": {
   "codemirror_mode": {
    "name": "ipython",
    "version": 3
   },
   "file_extension": ".py",
   "mimetype": "text/x-python",
   "name": "python",
   "nbconvert_exporter": "python",
   "pygments_lexer": "ipython3",
   "version": "3.11.7"
  }
 },
 "nbformat": 4,
 "nbformat_minor": 2
}
