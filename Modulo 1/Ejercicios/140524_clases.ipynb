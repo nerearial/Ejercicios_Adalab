{
 "cells": [
  {
   "cell_type": "markdown",
   "metadata": {},
   "source": [
    "#### PROGRAMACIÓN ORIENTADA A OBJETOS\n",
    "\n",
    "- Objetos son instancias de clases\n",
    "    - Métodos: comportamientos\n",
    "    - Atributos: propiedades"
   ]
  },
  {
   "cell_type": "code",
   "execution_count": 1,
   "metadata": {},
   "outputs": [],
   "source": [
    "# Crear una clase y llamarla con una variable:\n",
    "# Ojo, las clases deben empezar siempre con Mayúscula, y el esquema es class Nombre: -pass (lo de pass es que no hay nada)\n",
    "\n",
    "class Mascota:\n",
    "    pass"
   ]
  },
  {
   "cell_type": "code",
   "execution_count": 2,
   "metadata": {},
   "outputs": [
    {
     "data": {
      "text/plain": [
       "<__main__.Mascota at 0x1ddb816f9d0>"
      ]
     },
     "execution_count": 2,
     "metadata": {},
     "output_type": "execute_result"
    }
   ],
   "source": [
    "# Llamamos a la clase y almacenamos en una variable:\n",
    "# Definimos nuestro OBJETO en esta clase, un gato que se llama Felix:\n",
    "\n",
    "felix = Mascota()\n",
    "felix"
   ]
  },
  {
   "cell_type": "code",
   "execution_count": 3,
   "metadata": {},
   "outputs": [],
   "source": [
    "# Crearemos la clase y definir sus propiedades (atributos)\n",
    "# metodo constructor: clave __init__ para llamar atributos de instancia\n",
    "\n",
    "# Creamos clase Mascota con atributos: animal, edad y raza, vamos con el estándar del método constructor.\n",
    "\n",
    "class Mascota:\n",
    "    def __init__(self,animal,edad,raza):\n",
    "\n",
    "        self.animal = animal\n",
    "        self.edad = edad\n",
    "        self.raza = raza\n",
    "        self.hogar = \"domicilio\"\n",
    "\n",
    "\n",
    "# Hogar es un atributo fijo, que es domicilio. "
   ]
  },
  {
   "cell_type": "code",
   "execution_count": 5,
   "metadata": {},
   "outputs": [
    {
     "data": {
      "text/plain": [
       "<__main__.Mascota at 0x1ddb81b31d0>"
      ]
     },
     "execution_count": 5,
     "metadata": {},
     "output_type": "execute_result"
    }
   ],
   "source": [
    "# Instanciar un objeto = crear un objeto de la clase\n",
    "# Estamos poniendo los argumentos de este objetos dentro de la clase\n",
    "\n",
    "felix = Mascota(\"gato\",2,\"gato comun\")\n",
    "\n",
    "# la primera instancia de nuestra lase es Felix que es un gato que tiene 2 años y es un gato común. \n",
    "felix"
   ]
  },
  {
   "cell_type": "code",
   "execution_count": 11,
   "metadata": {},
   "outputs": [
    {
     "name": "stdout",
     "output_type": "stream",
     "text": [
      "gato\n",
      "2\n",
      "gato comun\n",
      "domicilio\n"
     ]
    }
   ],
   "source": [
    "# ¿Qué tipo de animal es Félix? ¿Y edad? ¿Y raza? ¿Y su hogar?\n",
    "\n",
    "print(felix.animal)\n",
    "print(felix.edad)\n",
    "print(felix.raza)\n",
    "\n",
    "print(felix.hogar)"
   ]
  },
  {
   "cell_type": "code",
   "execution_count": 13,
   "metadata": {},
   "outputs": [],
   "source": [
    "# Vamos a hacer un class completo con atributos y métodos.\n",
    "\n",
    "# Volvemos a crear el mismo clase pero con métodos rango_edad y vacunas().\n",
    "# Función vacuna() coge un parámetro que s ellama numero_vacunas.\n",
    "\n",
    "class Mascota: \n",
    "\n",
    "    def __init__(self,animal,edad,raza):\n",
    "        self.animal = animal\n",
    "        self.edad = edad\n",
    "        self.raza = raza\n",
    "        self.hogar = \"domicilio\"\n",
    "\n",
    "    def rango_edad(self):\n",
    "        if self.edad < 2:\n",
    "            return \"junior\"\n",
    "        elif self.edad > 10:\n",
    "            return \"senior\"\n",
    "        else:\n",
    "            return \"adulto\"\n",
    "    \n",
    "    def vacunas(self, numero_vacunas):\n",
    "        self.numero_vacunas = numero_vacunas\n",
    "\n",
    "        if self.animal == \"gato\":\n",
    "            if numero_vacunas < 3:\n",
    "                return \"Debes vacunar más.\"\n",
    "            else:\n",
    "                return \"Tu gato está bien.\"\n",
    "        elif self.animal == \"perro\":\n",
    "            if numero_vacunas < 5:\n",
    "                return \"Debes vacunar más.\"\n",
    "            else:\n",
    "                return \"Tu perro está bien.\"\n",
    "        else: \n",
    "            return \"No hace falta poner vacunas\""
   ]
  },
  {
   "cell_type": "code",
   "execution_count": 15,
   "metadata": {},
   "outputs": [
    {
     "data": {
      "text/plain": [
       "2"
      ]
     },
     "execution_count": 15,
     "metadata": {},
     "output_type": "execute_result"
    }
   ],
   "source": [
    "# Vamos a volver a llamar a Felix, redefinimos a Felix\n",
    "\n",
    "felix = Mascota(\"gato\",2,\"gato comun\")\n",
    "felix.edad"
   ]
  },
  {
   "cell_type": "code",
   "execution_count": 16,
   "metadata": {},
   "outputs": [
    {
     "data": {
      "text/plain": [
       "'adulto'"
      ]
     },
     "execution_count": 16,
     "metadata": {},
     "output_type": "execute_result"
    }
   ],
   "source": [
    "# ¿Cuál rango de edad tiene Félix?\n",
    "\n",
    "felix.rango_edad()"
   ]
  },
  {
   "cell_type": "code",
   "execution_count": 18,
   "metadata": {},
   "outputs": [
    {
     "data": {
      "text/plain": [
       "'Tu gato está bien.'"
      ]
     },
     "execution_count": 18,
     "metadata": {},
     "output_type": "execute_result"
    }
   ],
   "source": [
    "# ¿Qué pasa si nuestro gato tiene dos vacunas?\n",
    "\n",
    "felix.vacunas(3)"
   ]
  },
  {
   "cell_type": "code",
   "execution_count": 23,
   "metadata": {},
   "outputs": [
    {
     "name": "stdout",
     "output_type": "stream",
     "text": [
      "1\n",
      "pez rojo\n",
      "No hace falta poner vacunas\n"
     ]
    }
   ],
   "source": [
    "# Para saber el número de vacunas tendremos que hacer:\n",
    "\n",
    "mi_pez = Mascota(\"pez\",1,\"pez rojo\")\n",
    "\n",
    "print(mi_pez.edad)\n",
    "print(mi_pez.raza)\n",
    "print(mi_pez.vacunas(0))"
   ]
  },
  {
   "cell_type": "markdown",
   "metadata": {},
   "source": [
    "### Parte 2: Herencia de las clases"
   ]
  },
  {
   "cell_type": "code",
   "execution_count": 24,
   "metadata": {},
   "outputs": [],
   "source": [
    "# class nueva_clase(clase_que_hereda)"
   ]
  },
  {
   "cell_type": "code",
   "execution_count": 29,
   "metadata": {},
   "outputs": [],
   "source": [
    "# En este caso la clase madre es Mascota y la hija Perros.\n",
    "\n",
    "class Perros(Mascota): \n",
    "    pass"
   ]
  },
  {
   "cell_type": "code",
   "execution_count": 30,
   "metadata": {},
   "outputs": [
    {
     "ename": "TypeError",
     "evalue": "Mascota.__init__() missing 3 required positional arguments: 'animal', 'edad', and 'raza'",
     "output_type": "error",
     "traceback": [
      "\u001b[1;31m---------------------------------------------------------------------------\u001b[0m",
      "\u001b[1;31mTypeError\u001b[0m                                 Traceback (most recent call last)",
      "Cell \u001b[1;32mIn[30], line 3\u001b[0m\n\u001b[0;32m      1\u001b[0m \u001b[38;5;66;03m# Nuestra clase hija tendrá un perro sin parámetros.\u001b[39;00m\n\u001b[1;32m----> 3\u001b[0m belfi \u001b[38;5;241m=\u001b[39m Perros()\n",
      "\u001b[1;31mTypeError\u001b[0m: Mascota.__init__() missing 3 required positional arguments: 'animal', 'edad', and 'raza'"
     ]
    }
   ],
   "source": [
    "# Nuestra clase hija tendrá un perro sin parámetros.\n",
    "\n",
    "belfi = Perros()"
   ]
  },
  {
   "cell_type": "code",
   "execution_count": null,
   "metadata": {},
   "outputs": [],
   "source": [
    "# Para añadir métodos a una clase hija:\n",
    "\n",
    "def __init__(self,parametro1,parametro2,...):\n",
    "    super().__init__(parametro1,parametro2,...)"
   ]
  }
 ],
 "metadata": {
  "kernelspec": {
   "display_name": "base",
   "language": "python",
   "name": "python3"
  },
  "language_info": {
   "codemirror_mode": {
    "name": "ipython",
    "version": 3
   },
   "file_extension": ".py",
   "mimetype": "text/x-python",
   "name": "python",
   "nbconvert_exporter": "python",
   "pygments_lexer": "ipython3",
   "version": "3.11.7"
  }
 },
 "nbformat": 4,
 "nbformat_minor": 2
}
