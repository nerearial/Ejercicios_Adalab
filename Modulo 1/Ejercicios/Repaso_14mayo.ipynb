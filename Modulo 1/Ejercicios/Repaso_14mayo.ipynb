{
 "cells": [
  {
   "cell_type": "markdown",
   "metadata": {},
   "source": [
    "#### Crear una cadena de texto que se incorpora variables por dentro (f string):"
   ]
  },
  {
   "cell_type": "code",
   "execution_count": 4,
   "metadata": {},
   "outputs": [
    {
     "data": {
      "text/plain": [
       "'mi Nombre es Alicia y tengo 34 años'"
      ]
     },
     "execution_count": 4,
     "metadata": {},
     "output_type": "execute_result"
    }
   ],
   "source": [
    "# Voy a definir dos variables primero:\n",
    "\n",
    "nombre = \"Alicia\"\n",
    "edad = 34\n",
    "\n",
    "# puedo incorporar variables por dentro\n",
    "f\"mi Nombre es {nombre} y tengo {edad} años\""
   ]
  },
  {
   "cell_type": "markdown",
   "metadata": {},
   "source": [
    "#### Range():"
   ]
  },
  {
   "cell_type": "code",
   "execution_count": 8,
   "metadata": {},
   "outputs": [
    {
     "name": "stdout",
     "output_type": "stream",
     "text": [
      "[1, 2, 3, 4, 5, 6]\n",
      "range(1, 7)\n"
     ]
    },
    {
     "data": {
      "text/plain": [
       "[1, 2, 3, 4, 5, 6]"
      ]
     },
     "execution_count": 8,
     "metadata": {},
     "output_type": "execute_result"
    }
   ],
   "source": [
    "# hacer una secuencia normal de numeros \n",
    "\n",
    "lista1 = [1,2,3,4,5,6]\n",
    "lista2 = range(1,7)\n",
    "\n",
    "print(lista1)\n",
    "print(lista2)\n",
    "\n",
    "# Para verlo como una lista, el range...\n",
    "\n",
    "list(range(1,7))\n",
    "\n",
    "# Range() normalmente se utiliza para los bucles."
   ]
  },
  {
   "cell_type": "code",
   "execution_count": 9,
   "metadata": {},
   "outputs": [
    {
     "data": {
      "text/plain": [
       "range(0, 5)"
      ]
     },
     "execution_count": 9,
     "metadata": {},
     "output_type": "execute_result"
    }
   ],
   "source": [
    "# Probamos un range de un sólo parámetro:\n",
    "\n",
    "range(5)"
   ]
  },
  {
   "cell_type": "markdown",
   "metadata": {},
   "source": [
    "#### Parámetros por defecto\n",
    "\n",
    "*** def mi_funcion(parametro1, parametro2= x):**\n",
    "***      body***"
   ]
  },
  {
   "cell_type": "code",
   "execution_count": 15,
   "metadata": {},
   "outputs": [
    {
     "data": {
      "text/plain": [
       "'Mi nombre es Nerea y vivo en Madrid'"
      ]
     },
     "execution_count": 15,
     "metadata": {},
     "output_type": "execute_result"
    }
   ],
   "source": [
    "# Creamos una funcion que crea un texto con nombre de unas personas, que su ciudad es Madrid:\n",
    "\n",
    "nombre = input(\"¿Cómo te llamas?\")\n",
    "\n",
    "def mi_funccion(nombre,ciudad=\"Madrid\"):\n",
    "        return f\"Mi nombre es {nombre} y vivo en {ciudad}\"\n",
    "# Poniendo Madrid, le damos un parámetro por defecto. Al hacer print,\n",
    "# nos pide el parametro nombre porque el de ciudad ya está definido por defecto.\n",
    "\n",
    "mi_funccion(nombre)"
   ]
  },
  {
   "cell_type": "code",
   "execution_count": 16,
   "metadata": {},
   "outputs": [],
   "source": [
    "# Una funcion que no tiene return, va a devolver un none, si que funciona pero no va a devolver ningún valor. \n",
    "# Una función siempre te devuelve cosas que vienen después de return. Este es el concepto.\n",
    "\n"
   ]
  }
 ],
 "metadata": {
  "kernelspec": {
   "display_name": "base",
   "language": "python",
   "name": "python3"
  },
  "language_info": {
   "codemirror_mode": {
    "name": "ipython",
    "version": 3
   },
   "file_extension": ".py",
   "mimetype": "text/x-python",
   "name": "python",
   "nbconvert_exporter": "python",
   "pygments_lexer": "ipython3",
   "version": "3.11.7"
  }
 },
 "nbformat": 4,
 "nbformat_minor": 2
}
