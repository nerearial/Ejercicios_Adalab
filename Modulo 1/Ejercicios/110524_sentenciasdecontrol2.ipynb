{
 "cells": [
  {
   "cell_type": "code",
   "execution_count": null,
   "metadata": {},
   "outputs": [],
   "source": [
    "# SENTENCIAS DE CONTROL Nº 2\n",
    "\n",
    "# El \"for\" se utiliza para realizar una operación a una secuencia de elementos\n",
    "# Operacion en bucle a cada uno de los elementos de la secuencia, hasta que se acaben los elementos\n",
    "# A diferencia del while, el for acaba cuando acaba de aplicar la operación a todos los elementos"
   ]
  },
  {
   "cell_type": "code",
   "execution_count": 1,
   "metadata": {},
   "outputs": [
    {
     "name": "stdout",
     "output_type": "stream",
     "text": [
      "['manzana', 'pera', 'uva']\n",
      "La fruta de hoy es manzana\n",
      "La fruta de hoy es pera\n",
      "La fruta de hoy es uva\n"
     ]
    }
   ],
   "source": [
    "# Probamos el bucle flor con una lista de frutas, \n",
    "# con una condicion binaria y print.\n",
    "\n",
    "frutas = [\"manzana\",\"pera\",\"uva\"]\n",
    "print(frutas)\n",
    "\n",
    "for elemento in frutas:\n",
    "    # no hace predefinir el elemento, lo definimos en el propio for\n",
    "    print(\"La fruta de hoy es\",elemento)"
   ]
  },
  {
   "cell_type": "code",
   "execution_count": 7,
   "metadata": {},
   "outputs": [
    {
     "name": "stdout",
     "output_type": "stream",
     "text": [
      "Las notas favorbales son: [7, 8, 9, 10]\n",
      "Las notas desfavorables son: [1, 4, 5, 4]\n",
      "Las notas medias son: []\n"
     ]
    }
   ],
   "source": [
    "# Vamos asignar los elementos de una lista de notass de examen, y clasificarlas en 3 grados\n",
    "\n",
    "lista_notas = [1,4,5,7,8,9,4,10]\n",
    "\n",
    "favorables = []\n",
    "desfavorables = []\n",
    "media = []\n",
    "\n",
    "for nota in lista_notas:\n",
    "\n",
    "    if nota >= 7:\n",
    "        favorables.append(nota)\n",
    "    elif nota >= 6:\n",
    "        media.append(nota)\n",
    "    else:\n",
    "        desfavorables.append(nota)\n",
    "\n",
    "print(\"Las notas favorbales son:\",favorables)\n",
    "print(\"Las notas desfavorables son:\",desfavorables)\n",
    "print(\"Las notas medias son:\",media)"
   ]
  },
  {
   "cell_type": "code",
   "execution_count": 9,
   "metadata": {},
   "outputs": [
    {
     "name": "stdout",
     "output_type": "stream",
     "text": [
      "Estamos en primavera\n",
      "Estamos en verano\n",
      "Estamos en otoño\n",
      "Estamos en invierno\n"
     ]
    }
   ],
   "source": [
    "# Otro ejemplo con print y estaciones del año\n",
    "\n",
    "estaciones = [\"primavera\",\"verano\",\"otoño\",\"invierno\"]\n",
    "\n",
    "for estacion in estaciones:\n",
    "    print(f\"Estamos en {estacion}\")"
   ]
  },
  {
   "cell_type": "code",
   "execution_count": 1,
   "metadata": {},
   "outputs": [
    {
     "name": "stdout",
     "output_type": "stream",
     "text": [
      "p\n",
      "r\n",
      "i\n",
      "m\n",
      "a\n",
      "v\n",
      "e\n",
      "r\n",
      "a\n"
     ]
    }
   ],
   "source": [
    "# Usar for con una variable de tipo cadena\n",
    "\n",
    "estacion = \"primavera\"\n",
    "\n",
    "for letra in estacion:\n",
    "    print(letra)"
   ]
  },
  {
   "cell_type": "code",
   "execution_count": 11,
   "metadata": {},
   "outputs": [
    {
     "name": "stdout",
     "output_type": "stream",
     "text": [
      "El estado de la lista vacía es: [30]\n",
      "El estado de la lista vacía es: [30, 20]\n",
      "El estado de la lista vacía es: [30, 20, 40]\n",
      "El estado de la lista vacía es: [30, 20, 40, 20]\n",
      "El estado de la lista vacía es: [30, 20, 40, 20, 10]\n"
     ]
    }
   ],
   "source": [
    "# En lista de precios, un listado vacio de precios, un for y un append\n",
    "\n",
    "lista = [30,20,40,20,10]\n",
    "lista_aniadidos = []\n",
    "\n",
    "for numero in lista:\n",
    "    lista_aniadidos.append(numero)\n",
    "    #cada vez que me añade cada elemento, quiero que me lo imprima\n",
    "    print(\"El estado de la lista vacía es:\",lista_aniadidos)\n",
    "    "
   ]
  },
  {
   "cell_type": "code",
   "execution_count": 14,
   "metadata": {},
   "outputs": [
    {
     "name": "stdout",
     "output_type": "stream",
     "text": [
      "['MADRID', 'BARCELONA', 'SEVILLA', 'JAEN']\n"
     ]
    }
   ],
   "source": [
    "# podemos hacer lo mismo usando .upper() para hacer una nueva lista de ciudades con mayuscula\n",
    "\n",
    "Lista = [\"madrid\",\"barcelona\",\"sevilla\",\"jaen\"]\n",
    "Lista_mayusculas = []\n",
    "\n",
    "for ciudad in Lista:\n",
    "    Lista_mayusculas.append(ciudad.upper())\n",
    "\n",
    "print(Lista_mayusculas)"
   ]
  },
  {
   "cell_type": "code",
   "execution_count": 20,
   "metadata": {},
   "outputs": [
    {
     "name": "stdout",
     "output_type": "stream",
     "text": [
      "laura\n",
      "bella\n",
      "maria\n",
      "167\n",
      "172\n",
      "155\n",
      "('laura', 167)\n",
      "('bella', 172)\n",
      "('maria', 155)\n"
     ]
    }
   ],
   "source": [
    "# Como usar el for con un diccionario:\n",
    "# Primero definimos diccionario con nombres y alturas,\n",
    "\n",
    "lista_alturas = {\"laura\":167,\"bella\":172,\"maria\":155}\n",
    "\n",
    "# probamos un if basico con print, al hacer esto nos da solo las keys\n",
    "\n",
    "for elemento in lista_alturas:\n",
    "    print(elemento)\n",
    "\n",
    "# Si queremos ver los keys (valores):\n",
    "\n",
    "for elemento in lista_alturas.values():\n",
    "    print(elemento)\n",
    "\n",
    "# todo junto:\n",
    "\n",
    "for elemento in lista_alturas.items():\n",
    "    print(elemento)"
   ]
  },
  {
   "cell_type": "code",
   "execution_count": 21,
   "metadata": {},
   "outputs": [
    {
     "name": "stdout",
     "output_type": "stream",
     "text": [
      "range(3, 30)\n"
     ]
    }
   ],
   "source": [
    "# RANGE: Es una manera de hacer listas de secuencias\n",
    "# Tiene 3 fases: START STOP STEP\n",
    "\n",
    "lista_range = range(3,30)\n",
    "print(lista_range)"
   ]
  },
  {
   "cell_type": "code",
   "execution_count": 22,
   "metadata": {},
   "outputs": [
    {
     "name": "stdout",
     "output_type": "stream",
     "text": [
      "3\n",
      "4\n",
      "5\n",
      "6\n",
      "7\n",
      "8\n",
      "9\n",
      "10\n",
      "11\n",
      "12\n",
      "13\n",
      "14\n",
      "15\n",
      "16\n",
      "17\n",
      "18\n",
      "19\n",
      "20\n",
      "21\n",
      "22\n",
      "23\n",
      "24\n",
      "25\n",
      "26\n",
      "27\n",
      "28\n",
      "29\n"
     ]
    }
   ],
   "source": [
    "for num in lista_range:\n",
    "    print(num)"
   ]
  },
  {
   "cell_type": "markdown",
   "metadata": {},
   "source": [
    "## PARTE 2 DE LA CLASE 11 mayo 24"
   ]
  },
  {
   "cell_type": "code",
   "execution_count": 2,
   "metadata": {},
   "outputs": [
    {
     "name": "stdout",
     "output_type": "stream",
     "text": [
      "[10, 20, 30, 40, 50, 60, 70, 80, 90]\n"
     ]
    }
   ],
   "source": [
    "# Hacemos un bucle for normal, usango range, lista de numeros y suma y una lista vacia\n",
    "\n",
    "lista = []\n",
    "\n",
    "for num in range(1,10):\n",
    "    lista.append(num * 10)\n",
    "\n",
    "print(lista)"
   ]
  },
  {
   "cell_type": "code",
   "execution_count": 6,
   "metadata": {},
   "outputs": [
    {
     "name": "stdout",
     "output_type": "stream",
     "text": [
      "cuadro []\n",
      "Lista nueva: [0, 2, 4, 6, 8, 10, 12, 14, 16, 18, 20, 22, 24, 26, 28, 30, 32, 34, 36, 38, 40, 42, 44, 46, 48, 50, 52, 54, 56, 58, 60, 62, 64, 66, 68, 70, 72, 74, 76, 78, 80, 82, 84, 86, 88, 90, 92, 94, 96, 98]\n"
     ]
    }
   ],
   "source": [
    "cuadro = []\n",
    "\n",
    "print(\"cuadro\",cuadro)\n",
    "\n",
    "for num in range(50):\n",
    "    cuadro.append(num*2)\n",
    "\n",
    "print(\"Lista nueva:\",cuadro)"
   ]
  },
  {
   "cell_type": "code",
   "execution_count": 7,
   "metadata": {},
   "outputs": [
    {
     "name": "stdout",
     "output_type": "stream",
     "text": [
      "[0, 10, 20, 30, 40, 50, 60, 70, 80, 90]\n"
     ]
    }
   ],
   "source": [
    "# Ahora intentamos hacer lo mismo con list comprehension\n",
    "# es hacer una lista con una linea de codigo\n",
    "\n",
    "list_comprehension = [num ** 2 for num in range(50)]\n",
    "\n",
    "lista2 = [num*10 for num in range(10)]\n",
    "print(lista2)"
   ]
  },
  {
   "cell_type": "markdown",
   "metadata": {},
   "source": [
    "# FUNCIONES"
   ]
  },
  {
   "cell_type": "code",
   "execution_count": 8,
   "metadata": {},
   "outputs": [],
   "source": [
    "# Creamos nuestra primera funcion.\n",
    "\n",
    "def mi_primera_funcion():\n",
    "    variable_local = \"Bienvenido\"\n",
    "    return variable_local"
   ]
  },
  {
   "cell_type": "code",
   "execution_count": 11,
   "metadata": {},
   "outputs": [
    {
     "ename": "NameError",
     "evalue": "name 'variable_local' is not defined",
     "output_type": "error",
     "traceback": [
      "\u001b[1;31m---------------------------------------------------------------------------\u001b[0m",
      "\u001b[1;31mNameError\u001b[0m                                 Traceback (most recent call last)",
      "Cell \u001b[1;32mIn[11], line 2\u001b[0m\n\u001b[0;32m      1\u001b[0m \u001b[38;5;66;03m# Llamamos al variable, nos da error porque está dentro de una funcion\u001b[39;00m\n\u001b[1;32m----> 2\u001b[0m \u001b[38;5;28mprint\u001b[39m(\u001b[43mvariable_local\u001b[49m)\n\u001b[0;32m      4\u001b[0m \u001b[38;5;66;03m# Entonces tendremos que llamar a la función\u001b[39;00m\n\u001b[0;32m      6\u001b[0m \u001b[38;5;28mprint\u001b[39m(mi_primera_funcion())\n",
      "\u001b[1;31mNameError\u001b[0m: name 'variable_local' is not defined"
     ]
    }
   ],
   "source": [
    "# Llamamos al variable, nos da error porque está dentro de una funcion\n",
    "print(variable_local)"
   ]
  },
  {
   "cell_type": "code",
   "execution_count": 12,
   "metadata": {},
   "outputs": [
    {
     "name": "stdout",
     "output_type": "stream",
     "text": [
      "Bienvenido\n"
     ]
    }
   ],
   "source": [
    "# Entonces tendremos que llamar a la función\n",
    "\n",
    "print(mi_primera_funcion())"
   ]
  },
  {
   "cell_type": "markdown",
   "metadata": {},
   "source": [
    "## Argumentos VS Parámetros"
   ]
  },
  {
   "cell_type": "code",
   "execution_count": 14,
   "metadata": {},
   "outputs": [
    {
     "name": "stdout",
     "output_type": "stream",
     "text": [
      "None\n"
     ]
    }
   ],
   "source": [
    "# FUNCIONES SIN PARÁMETROS\n",
    "\n",
    "# Creamos una funcion sin parámetro que solo define una variable y lo da print, SIN RETURN\n",
    "\n",
    "def funcion1():\n",
    "    variable = 3\n",
    "    \n",
    "print(funcion1())\n",
    "\n",
    "# Nos sale done, porque no hay ningun return."
   ]
  },
  {
   "cell_type": "code",
   "execution_count": 16,
   "metadata": {},
   "outputs": [
    {
     "name": "stdout",
     "output_type": "stream",
     "text": [
      "3\n"
     ]
    }
   ],
   "source": [
    "def funcion1():\n",
    "    variable = 3\n",
    "    return variable\n",
    "print(funcion1())"
   ]
  },
  {
   "cell_type": "code",
   "execution_count": 20,
   "metadata": {},
   "outputs": [
    {
     "name": "stdout",
     "output_type": "stream",
     "text": [
      "[2, 4, 6, 8]\n"
     ]
    }
   ],
   "source": [
    "# Funcion que devuelva un sublist de números pares.\n",
    "\n",
    "lista = [1,2,3,4,5,6,7,8,9]\n",
    "\n",
    "lista_pares = []\n",
    "\n",
    "def pares():\n",
    "    for num in lista:\n",
    "        if num % 2 == 0:\n",
    "            lista_pares.append(num)\n",
    "        else:\n",
    "            pass\n",
    "    return lista_pares\n",
    "\n",
    "print(pares())"
   ]
  },
  {
   "cell_type": "code",
   "execution_count": 23,
   "metadata": {},
   "outputs": [
    {
     "name": "stdout",
     "output_type": "stream",
     "text": [
      "[2]\n"
     ]
    }
   ],
   "source": [
    "# Probamos la misma funcion de arriba, pero con return dentro de for.\n",
    "\n",
    "lista_pares2 = []\n",
    "\n",
    "def pares2():\n",
    "    for num in lista:\n",
    "        if num % 2 == 0:\n",
    "            lista_pares2.append(num)\n",
    "            return lista_pares2\n",
    "        else:\n",
    "            pass\n",
    "\n",
    "print(pares2())\n",
    "\n",
    "# Nos devuelve un 2 solo porque al poner el return, el primero que condiciona, para.\n"
   ]
  },
  {
   "cell_type": "code",
   "execution_count": 31,
   "metadata": {},
   "outputs": [
    {
     "name": "stdout",
     "output_type": "stream",
     "text": [
      "10\n"
     ]
    },
    {
     "data": {
      "text/plain": [
       "10"
      ]
     },
     "execution_count": 31,
     "metadata": {},
     "output_type": "execute_result"
    }
   ],
   "source": [
    "# Funcion que toma 2 parámetros numéricos, los suma y print\n",
    "\n",
    "def suma(num1,num2):\n",
    "    suma_numeros = num1 + num2\n",
    "    return(suma_numeros)\n",
    "\n",
    "print(suma(6,4))\n",
    "suma(6,4)"
   ]
  },
  {
   "cell_type": "code",
   "execution_count": 38,
   "metadata": {},
   "outputs": [
    {
     "data": {
      "text/plain": [
       "[30]"
      ]
     },
     "execution_count": 38,
     "metadata": {},
     "output_type": "execute_result"
    }
   ],
   "source": [
    "# Usamos una funcion que hace una lista de números pares de una lista.\n",
    "lista_pares = []\n",
    "\n",
    "def pares3(lista_completa):\n",
    "    for num in lista_completa:\n",
    "     if num % 2 == 0:\n",
    "        lista_pares.append(num)\n",
    "     else:\n",
    "        pass\n",
    "    return lista_pares\n",
    "\n",
    "mi_lista = [30,41,51]\n",
    "pares3(mi_lista)"
   ]
  },
  {
   "cell_type": "code",
   "execution_count": 39,
   "metadata": {},
   "outputs": [
    {
     "data": {
      "text/plain": [
       "[30, 60, 90]"
      ]
     },
     "execution_count": 39,
     "metadata": {},
     "output_type": "execute_result"
    }
   ],
   "source": [
    "edades = [21,45,60,90,1]\n",
    "\n",
    "pares3(edades)\n",
    "\n"
   ]
  }
 ],
 "metadata": {
  "kernelspec": {
   "display_name": "Python 3",
   "language": "python",
   "name": "python3"
  },
  "language_info": {
   "codemirror_mode": {
    "name": "ipython",
    "version": 3
   },
   "file_extension": ".py",
   "mimetype": "text/x-python",
   "name": "python",
   "nbconvert_exporter": "python",
   "pygments_lexer": "ipython3",
   "version": "3.11.9"
  }
 },
 "nbformat": 4,
 "nbformat_minor": 2
}
