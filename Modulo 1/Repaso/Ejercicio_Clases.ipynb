{
 "cells": [
  {
   "cell_type": "markdown",
   "metadata": {},
   "source": [
    "1. La clase Empleados permite gestionar información relacionada con los empleados de una empresa, con las siguientes características:\n",
    "\n",
    "- Debes crear una clase llamada \"Empleados\" que tenga los siguientes atributos: nombre, apellidos, edad, posicion, año , vacaciones(cantidad de días de vacaciones que le quedan al empleado) y herramientas.\n",
    "\n",
    "- El constructor __init__ debe recibir estos atributos como parámetros y asignarlos a los respectivos atributos de la clase.\n",
    "\n",
    "- Los atributos representan la información personal y profesional de un empleado, como su nombre completo, edad, posición en la empresa, año de ingreso, días de vacaciones disponibles y una lista de herramientas que el empleado sabe utilizar."
   ]
  },
  {
   "cell_type": "code",
   "execution_count": 3,
   "metadata": {},
   "outputs": [],
   "source": [
    "from datetime import datetime\n",
    "import time"
   ]
  },
  {
   "cell_type": "code",
   "execution_count": 14,
   "metadata": {},
   "outputs": [],
   "source": [
    "class Empleados:\n",
    "\n",
    "    def __init__(self, nombre, apellidos, edad, posicion, incorporacion, vacaciones, herramientas, salario):\n",
    "        self.nombre = nombre\n",
    "        self.apellidos = apellidos\n",
    "        self.edad = edad\n",
    "        self.posicion = posicion\n",
    "        self.incorporacion = incorporacion\n",
    "        self.vacaciones = vacaciones\n",
    "        self.herramientas = herramientas\n",
    "        self.salario = salario\n",
    "    \n",
    "    def descripcion(self):\n",
    "        return print(f'El empleado {self.nombre}, con posición de {self.posicion}, se incorporó el {self.incorporacion} le quedan {self.vacaciones} días de vacaciones.')\n",
    "\n",
    "    def cambiando_posicion(self):\n",
    "        \n",
    "        if 'python' in [item.lower() for item in self.herramientas]:\n",
    "            return print(f'Enhorabuena por utilizar Python')\n",
    "        elif 'excel' in [item.lower() for item in self.herramientas]:\n",
    "            return print(f'Deja el Excel y aprende Python')\n",
    "        else:\n",
    "            return print(f'Aprenda Python')\n",
    "    \n",
    "    def calcular_antiguedad(self):\n",
    "        fecha_actual = datetime.now()\n",
    "        años = fecha_actual.year - self.incorporacion.year\n",
    "        meses = fecha_actual.month - self.incorporacion.month\n",
    "\n",
    "        # Ajuste si la diferencia de meses es negativa\n",
    "        if meses < 0:\n",
    "            años -= 1\n",
    "            meses += 12\n",
    "            \n",
    "        return f\"{self.nombre} lleva {años} años y {meses} meses en la empresa.\"\n",
    "\n",
    "    def solicitar_aumento_vacaciones(self, dias_solicitados):\n",
    "\n",
    "        if dias_solicitados > 0:\n",
    "            self.vacaciones += dias_solicitados\n",
    "            return (f'El total de días solicitados es {dias_solicitados}, haciendo un total de {self.vacaciones} días en total.')\n",
    "        else:\n",
    "            return (f'Solicite una cantidad correcta de días.')\n",
    "        \n",
    "    def registrar_herramienta(self, herramienta):\n",
    "\n",
    "        if [herramienta.lower() for item in herramienta] not in [item.lower() for item in self.herramientas]:\n",
    "\n",
    "            self.herramientas.append(herramienta)\n",
    "            return f'Las herramientas de {self.nombre} son: {self.herramientas}'\n",
    "\n",
    "        else:\n",
    "            return (f'La herramienta ya se encuentra registrada.')\n",
    "\n",
    "    def cambiar_posicion(self, nueva_posicion, nuevo_salario):\n",
    "\n",
    "        if nueva_posicion == self.posicion:\n",
    "            return f'{self.nombre} ya trabaja como {nueva_posicion}'\n",
    "        \n",
    "        else:\n",
    "            self.posicion = nueva_posicion\n",
    "            self.salario = nuevo_salario\n",
    "            return f'{self.nombre} ahora trabaja como {self.posicion}, con un salario de {self.salario} euros.'\n",
    "            \n",
    "    def tomar_vacaciones(self):\n",
    "        dias_tomados = int(input())\n",
    "        if dias_tomados > 0:\n",
    "            disminucion_vacaciones =  self.vacaciones - dias_tomados\n",
    "            return f'Se han actualizado sus vacaciones, vas a tomar {dias_tomados} y te quedan {disminucion_vacaciones} días de vacaciones'\n",
    "        else:\n",
    "            return \"La solicitud debe ser un número positivo\"\n",
    "            \n",
    "    def solicitar_aumento_salario(self):\n",
    "        try:\n",
    "            solicitud = int(input('Inserte un porcentaje de aumento de salario:'))\n",
    "            while solicitud <= 0:\n",
    "                print(f'Error: Ingresa un valor válido para el aumento  de salario.')\n",
    "                solicitud = int(input('Inserte un porcentaje de aumento de salario:'))\n",
    "                \n",
    "            nuevo_salario = round(self.salario * (1+(solicitud/100)),2)\n",
    "            return f'El salario se ha actualizado para {self.nombre}, aumentándose un %{solicitud} hasta los {nuevo_salario} euros.'\n",
    "        \n",
    "        except ValueError:\n",
    "            return f'Error: Ingresa un valor válido para el aumento  de salario.'\n",
    "        \n",
    "        \n"
   ]
  },
  {
   "cell_type": "code",
   "execution_count": 5,
   "metadata": {},
   "outputs": [],
   "source": [
    "empleado_1 = Empleados('Nerea', 'Rial Conde', 27,'Analista de Datos', datetime(2023, 11, 19), 30, ['Python','SQL'], 23000)\n",
    "empleado_2 = Empleados('Luzma', 'Hernández', 31,'Analista de Datos', datetime(2022, 6, 12), 23, ['Python','SQL'], 24000)\n",
    "empleado_3 = Empleados('Marisa','Gutierrez', 45, 'Administrativa', datetime(2015, 4, 1), 23, ['ContaPlus'], 20000)"
   ]
  },
  {
   "cell_type": "code",
   "execution_count": 4,
   "metadata": {},
   "outputs": [
    {
     "data": {
      "text/plain": [
       "['ContaPlus']"
      ]
     },
     "execution_count": 4,
     "metadata": {},
     "output_type": "execute_result"
    }
   ],
   "source": [
    "empleado_3.herramientas"
   ]
  },
  {
   "cell_type": "markdown",
   "metadata": {},
   "source": [
    "Método descripcion: Proporciona una descripción del empleado, incluyendo su nombre, posición en la empresa, y la cantidad de días de vacaciones que le quedan para el año actual. Los pasos para resolver el ejercicio del método descripcion son:\n",
    "\n",
    "- Utilizar F-Strings: Utiliza f-strings para construir la descripción del empleado de manera legible y eficiente.\n",
    "\n",
    "- Especificar los Atributos a Incluir: Determina cuáles de los atributos del empleado se deben incluir en la descripción. Los atributos necesarios son nombre, posicion, año, y vacaciones.\n",
    "\n",
    "- Concatenar los Atributos: Usar f-strings para concatenar los atributos seleccionados y crear una descripción coherente."
   ]
  },
  {
   "cell_type": "code",
   "execution_count": 32,
   "metadata": {},
   "outputs": [
    {
     "name": "stdout",
     "output_type": "stream",
     "text": [
      "El empleado Nerea, con posición de Analista de Datos, se incorporó el 2023-11-19 00:00:00 le quedan 30 días de vacaciones.\n"
     ]
    }
   ],
   "source": [
    "# Instanciamos para comprobar que el método descripción funciona.\n",
    "empleado_1.descripcion()"
   ]
  },
  {
   "cell_type": "markdown",
   "metadata": {},
   "source": [
    "\n",
    "2. Método cambiando_posicion: Verifica las herramientas que el empleado tiene en su lista y devuelve un mensaje específico basado en las herramientas. Puede elogiar al empleado si tiene \"Python\" en su lista o sugerirle que deje de usar \"Excel\" y aprenda Python. Los pasos para resolver este ejercicio son:\n",
    "\n",
    "- Iterar a través de las Herramientas: La función debe recorrer la lista de herramientas (self.herramientas) del empleado.\n",
    "\n",
    "- Evaluar Cada Herramienta: Para cada herramienta en la lista, verifica si es igual a \"Python\" o \"Excel\" (en minúsculas)."
   ]
  },
  {
   "cell_type": "code",
   "execution_count": 33,
   "metadata": {},
   "outputs": [
    {
     "name": "stdout",
     "output_type": "stream",
     "text": [
      "Enhorabuena por utilizar Python\n"
     ]
    }
   ],
   "source": [
    "empleado_2.cambiando_posicion()"
   ]
  },
  {
   "cell_type": "markdown",
   "metadata": {},
   "source": [
    "\n",
    "3. Método calcular_antiguedad: Calcula la antigüedad del empleado en años y meses desde el año de ingreso hasta la fecha actual.\n",
    "\n",
    "- Calcular la Antigüedad en Años y Meses: Utiliza el módulo datetime de Python para obtener el año actual y el mes actual.\n",
    "\n",
    "- Generar el Mensaje de Antigüedad: Usa los valores calculados para años y meses de antigüedad para generar un mensaje descriptivo. Por ejemplo, \"Juan lleva 5 años y 3 meses en la empresa\"."
   ]
  },
  {
   "cell_type": "code",
   "execution_count": 34,
   "metadata": {},
   "outputs": [
    {
     "name": "stdout",
     "output_type": "stream",
     "text": [
      "El empleado Nerea, con posición de Analista de Datos, se incorporó el 2023-11-19 00:00:00 le quedan 30 días de vacaciones.\n"
     ]
    }
   ],
   "source": [
    "empleado_1.descripcion()"
   ]
  },
  {
   "cell_type": "code",
   "execution_count": 35,
   "metadata": {},
   "outputs": [
    {
     "data": {
      "text/plain": [
       "'Nerea lleva 0 años y 9 meses en la empresa.'"
      ]
     },
     "execution_count": 35,
     "metadata": {},
     "output_type": "execute_result"
    }
   ],
   "source": [
    "empleado_1.calcular_antiguedad()"
   ]
  },
  {
   "cell_type": "markdown",
   "metadata": {},
   "source": [
    "4. Método solicitar_aumento_vacaciones: Permite al empleado solicitar un aumento en la cantidad de días de vacaciones. Si la solicitud es válida (es decir, se solicitan días positivos), actualiza los días de vacaciones del empleado y devuelve un mensaje de confirmación. Recibirá un parámetro dias_solicitados, que corresponderá con el número de días de vacaciones que quiere solicitar.\n",
    "\n",
    "- Validar los Días Solicitados: Utiliza una estructura de control para verificar si la cantidad de días solicitados (dias_solicitados) es mayor que cero. Esto garantiza que solo se procesen solicitudes de aumento válidas.\n",
    "\n",
    "- Actualizar los Días de Vacaciones: Si la solicitud es válida, aumenta la cantidad de días de vacaciones del empleado (self.vacaciones) sumando la cantidad de días solicitados.\n",
    "\n",
    "- Generar un Mensaje de Confirmación: Crea un mensaje informativo que confirme la aprobación de la solicitud y muestre la cantidad actualizada de días de vacaciones del empleado.\n",
    "\n",
    "- Manejar Solicitudes No Válidas: Si la solicitud no es válida (es decir, dias_solicitados es menor o igual a cero), generar un mensaje de error que indique que la solicitud debe ser un número positivo."
   ]
  },
  {
   "cell_type": "code",
   "execution_count": 36,
   "metadata": {},
   "outputs": [
    {
     "name": "stdout",
     "output_type": "stream",
     "text": [
      "El empleado Nerea, con posición de Analista de Datos, se incorporó el 2023-11-19 00:00:00 le quedan 30 días de vacaciones.\n",
      "None\n",
      "El total de días solicitados es 10, haciendo un total de 40 días en total.\n"
     ]
    }
   ],
   "source": [
    "print(empleado_1.descripcion())\n",
    "print(empleado_1.solicitar_aumento_vacaciones(10))"
   ]
  },
  {
   "cell_type": "markdown",
   "metadata": {},
   "source": [
    "5. Método registrar_herramienta: Permite al empleado registrar una nueva herramienta en su lista de habilidades. La herramienta se registra si no está registrada previamente en la lista de herramientas del empleado. Recibirá un parámetro que será la nueva herramienta.\n",
    "\n",
    "- Validar la Nueva Herramienta: Utiliza una estructura de control para verificar si la nueva herramienta no está en la lista de herramientas existentes.\n",
    "\n",
    "- Agregar la Nueva Herramienta: Si la nueva herramienta no está en la lista existente, agregarla a la lista.\n",
    "\n",
    "- Generar un Mensaje de Confirmación: Crea un mensaje informativo que confirme el registro exitoso de la nueva herramienta y muestre el nombre de la herramienta registrada.\n",
    "\n",
    "- Manejar Herramientas Duplicadas: Si la nueva herramienta ya existe en la lista, genera un mensaje que indique que la herramienta ya ha sido registrada previamente."
   ]
  },
  {
   "cell_type": "code",
   "execution_count": 37,
   "metadata": {},
   "outputs": [
    {
     "data": {
      "text/plain": [
       "\"Las herramientas de Nerea son: ['Python', 'SQL', 'mySQL']\""
      ]
     },
     "execution_count": 37,
     "metadata": {},
     "output_type": "execute_result"
    }
   ],
   "source": [
    "empleado_1.registrar_herramienta('mySQL')"
   ]
  },
  {
   "cell_type": "markdown",
   "metadata": {},
   "source": [
    "6. Método cambiar_posicion: Permite al empleado cambiar su posición y salario en la empresa. Actualiza la posición y el salario y devuelve un mensaje de felicitación. Recibirá dos parámetros, la nueva posición y el nuevo salario.\n",
    "\n",
    "- Actualizar la Posición y el Salario: Utiliza los parámetros nueva_posicion y nuevo_salario para actualizar la posición y el salario del empleado.\n",
    "\n",
    "- Generar un Mensaje de Confirmación: Crea un mensaje informativo que confirme el cambio de posición y salario del empleado y muestre el nombre del empleado, la nueva posición y el nuevo salario."
   ]
  },
  {
   "cell_type": "code",
   "execution_count": 38,
   "metadata": {},
   "outputs": [
    {
     "data": {
      "text/plain": [
       "'Nerea ahora trabaja como Data Engineer, con un salario de 32000 euros.'"
      ]
     },
     "execution_count": 38,
     "metadata": {},
     "output_type": "execute_result"
    }
   ],
   "source": [
    "empleado_1.cambiar_posicion('Data Engineer', 32000)"
   ]
  },
  {
   "cell_type": "markdown",
   "metadata": {},
   "source": [
    "7. Método tomar_vacaciones: Permite al empleado tomar días de vacaciones, solicitando la cantidad deseada y actualizando los días de vacaciones restantes. Verifica que se solicite al menos un día de vacaciones y que el empleado tenga suficientes días disponibles. No recibe ningún parámetro adicional.\n",
    "\n",
    "- Solicitar la Cantidad de Días de Vacaciones: Usar la función input para solicitar al usuario la cantidad de días de vacaciones que desea tomar.\n",
    "\n",
    "- Validar la Cantidad de Días: Comprueba que la cantidad de días solicitados sea mayor que cero. Si el usuario ingresa un valor no válido (cero o negativo), muestra un mensaje de error y solicita nuevamente la cantidad de días hasta que sea válida.\n",
    "\n",
    "- Verificar Disponibilidad de Días de Vacaciones: Comprueba si la cantidad de días solicitados es menor o igual a la cantidad de días de vacaciones disponibles para el empleado.\n",
    "\n",
    "- Actualizar Días de Vacaciones: Si hay suficientes días de vacaciones disponibles, modifica el código para que se modifiquen los días de vacaciones que le quedan. Si no hay suficientes días disponibles, mostrar un mensaje de error.\n",
    "\n",
    "- Generar un Mensaje de Confirmación o Error: Dependiendo de si la solicitud se procesó con éxito o no, genera un mensaje que informe al empleado sobre el resultado de su solicitud."
   ]
  },
  {
   "cell_type": "code",
   "execution_count": null,
   "metadata": {},
   "outputs": [],
   "source": [
    "empleado_2.tomar_vacaciones()"
   ]
  },
  {
   "cell_type": "markdown",
   "metadata": {},
   "source": [
    "8. Método solicitar_aumento_salario: Permite al empleado solicitar un aumento de salario en porcentaje y calcula el nuevo salario. Verifica que el aumento sea un valor positivo o igual a cero. Este método no recibe ningún parámetro.\n",
    "\n",
    "- Solicitar el Porcentaje de Aumento de Salario: Utiliza la función input para solicitar al usuario el porcentaje de aumento de salario que desea. Asegurate de que el valor ingresado sea un número decimal.\n",
    "\n",
    "- Validar el Porcentaje de Aumento: Utiliza un bucle while para garantizar que el porcentaje de aumento sea mayor o igual a cero. Si el usuario ingresa un valor no válido (negativo), muestra un mensaje de error y solicita nuevamente el porcentaje hasta que sea válido.\n",
    "\n",
    "- Calcular el Nuevo Salario: Calcula el nuevo salario.\n",
    "\n",
    "- Generar un Mensaje de Confirmación: Crea un mensaje que informe al empleado sobre el resultado de su solicitud. Incluye el nuevo salario calculado en el mensaje.\n",
    "\n",
    "- Manejar Errores de Entrada: Utiliza un bloque try...except para manejar posibles errores de entrada, como cuando el usuario ingresa un valor que no se puede convertir a un número decimal."
   ]
  },
  {
   "cell_type": "code",
   "execution_count": 5,
   "metadata": {},
   "outputs": [
    {
     "name": "stdout",
     "output_type": "stream",
     "text": [
      "El empleado Luzma, con posición de Analista de Datos, se incorporó el 2022-06-12 00:00:00 le quedan 23 días de vacaciones.\n"
     ]
    }
   ],
   "source": [
    "empleado_2.descripcion()"
   ]
  },
  {
   "cell_type": "code",
   "execution_count": 12,
   "metadata": {},
   "outputs": [
    {
     "data": {
      "text/plain": [
       "24000"
      ]
     },
     "execution_count": 12,
     "metadata": {},
     "output_type": "execute_result"
    }
   ],
   "source": [
    "empleado_2.salario"
   ]
  },
  {
   "cell_type": "code",
   "execution_count": 15,
   "metadata": {},
   "outputs": [
    {
     "data": {
      "text/plain": [
       "'El salario se ha actualizado para Luzma, aumentándose un %-5 hasta los 19352.67 euros.'"
      ]
     },
     "execution_count": 15,
     "metadata": {},
     "output_type": "execute_result"
    }
   ],
   "source": [
    "empleado_2.solicitar_aumento_salario()"
   ]
  },
  {
   "cell_type": "markdown",
   "metadata": {},
   "source": [
    "9. Método realizar_evaluacion: Permite al empleado recibir una calificación de desempeño, con opciones como \"Excelente\", \"Bueno\", \"Regular\" o \"Malo\". Verifica que la calificación ingresada sea válida. Este método no recibe ningún parámetro.\n",
    "\n",
    "- Solicitar la Calificación del Desempeño: Utiliza la función input para solicitar al usuario que califique su propio desempeño. Asegurate de que el valor ingresado sea una de las opciones válidas: \"excelente\", \"bueno\", \"regular\" o \"malo\".\n",
    "\n",
    "- Validar la Calificación: Utiliza un bucle while para garantizar que la calificación ingresada sea una de las opciones válidas. Si el usuario ingresa una calificación no válida, muestra un mensaje de error y solicita nuevamente la calificación hasta que sea válida.\n",
    "\n",
    "- Generar un Mensaje de Retroalimentación: Crear un mensaje que proporcione retroalimentación al empleado basada en la calificación ingresada.\n",
    "\n",
    "- Retornar el Mensaje Generado: La función debe incluir una instrucción return que devuelva el mensaje generado."
   ]
  }
 ],
 "metadata": {
  "kernelspec": {
   "display_name": "base",
   "language": "python",
   "name": "python3"
  },
  "language_info": {
   "codemirror_mode": {
    "name": "ipython",
    "version": 3
   },
   "file_extension": ".py",
   "mimetype": "text/x-python",
   "name": "python",
   "nbconvert_exporter": "python",
   "pygments_lexer": "ipython3",
   "version": "3.11.7"
  }
 },
 "nbformat": 4,
 "nbformat_minor": 2
}
