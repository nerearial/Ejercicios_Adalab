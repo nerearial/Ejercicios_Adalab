{
 "cells": [
  {
   "cell_type": "markdown",
   "metadata": {},
   "source": [
    "## Ejercicios PYTHON de repaso"
   ]
  },
  {
   "cell_type": "code",
   "execution_count": 1,
   "metadata": {},
   "outputs": [],
   "source": [
    "import math"
   ]
  },
  {
   "cell_type": "code",
   "execution_count": 6,
   "metadata": {},
   "outputs": [],
   "source": [
    "# 1. Calcular el área de un círculo.\n",
    "# Descripción: Crea una función llamada calcular_area_circulo que tome el radio como parámetro y devuelva el área del círculo.\n",
    "\n",
    "def calcular_area(radio):\n",
    "\n",
    "    area = (radio ** 2) * math.pi\n",
    "\n",
    "    print(f'El área del círculo con radio {radio} es {area}')\n",
    "\n",
    "    return "
   ]
  },
  {
   "cell_type": "code",
   "execution_count": 7,
   "metadata": {},
   "outputs": [
    {
     "name": "stdout",
     "output_type": "stream",
     "text": [
      "El área del círculo con radio 5 es 78.53981633974483\n"
     ]
    }
   ],
   "source": [
    "radio = 5\n",
    "\n",
    "calcular_area(radio)"
   ]
  },
  {
   "cell_type": "code",
   "execution_count": 1,
   "metadata": {},
   "outputs": [],
   "source": [
    "# 2. Contar la cantidad de caracteres en una cadena.\n",
    "# Descripción: Crea una función llamada contar_caracteres que tome una cadena como parámetro y devuelva la cantidad de caracteres que contiene.\n",
    "\n",
    "def contar_caract(cadena):\n",
    "\n",
    "    return len(cadena)"
   ]
  },
  {
   "cell_type": "code",
   "execution_count": 2,
   "metadata": {},
   "outputs": [
    {
     "data": {
      "text/plain": [
       "5"
      ]
     },
     "execution_count": 2,
     "metadata": {},
     "output_type": "execute_result"
    }
   ],
   "source": [
    "cadena = 'Nerea'\n",
    "\n",
    "contar_caract(cadena)"
   ]
  },
  {
   "cell_type": "code",
   "execution_count": 3,
   "metadata": {},
   "outputs": [
    {
     "data": {
      "text/plain": [
       "True"
      ]
     },
     "execution_count": 3,
     "metadata": {},
     "output_type": "execute_result"
    }
   ],
   "source": [
    "# 3. Determinar si una cadena es un palíndromo.\n",
    "# Descripción: Crea una función llamada es_palindromo que tome una cadena como parámetro y devuelva True si es un palíndromo, o False si no lo es.\n",
    "\n",
    "def es_palindromo(cadena1):\n",
    "    cadena1 = cadena1.lower().replace(\" \", \"\")\n",
    "    return cadena == cadena[::-1]\n",
    "\n",
    "cadena = \"reconocer\"\n",
    "es_palindromo(cadena)\n"
   ]
  },
  {
   "cell_type": "code",
   "execution_count": 9,
   "metadata": {},
   "outputs": [
    {
     "data": {
      "text/plain": [
       "3.0"
      ]
     },
     "execution_count": 9,
     "metadata": {},
     "output_type": "execute_result"
    }
   ],
   "source": [
    "# 4. Calcular el promedio de una lista de números.\n",
    "# Descripción: Crea una función llamada calcular_promedio que tome una lista de números como parámetro y devuelva el promedio de todos sus elementos.\n",
    "\n",
    "def calcular_promedio(lista):\n",
    "    return sum(lista) / len(lista)\n",
    "\n",
    "lista = [1,2,3,4,5]\n",
    "\n",
    "calcular_promedio(lista)"
   ]
  },
  {
   "cell_type": "code",
   "execution_count": 14,
   "metadata": {},
   "outputs": [
    {
     "data": {
      "text/plain": [
       "1104.0808032"
      ]
     },
     "execution_count": 14,
     "metadata": {},
     "output_type": "execute_result"
    }
   ],
   "source": [
    "# 5.Calcular el interés compuesto.\n",
    "# Descripción: Crea una función llamada calcular_interes_compuesto que tome el capital inicial, la tasa de interés y el número de períodos como parámetros y devuelva el beneficio final después del interés compuesto.\n",
    "\n",
    "def calcular_interescompuesto(capital_inicial, tasa_interes, periodos):\n",
    "\n",
    "    beneficio_final = capital_inicial * ((1 + (tasa_interes/100))**periodos)\n",
    "\n",
    "    return beneficio_final\n",
    "\n",
    "calcular_interescompuesto(1000, 2, 5)"
   ]
  },
  {
   "cell_type": "code",
   "execution_count": 15,
   "metadata": {},
   "outputs": [
    {
     "name": "stdout",
     "output_type": "stream",
     "text": [
      "Las palabras son anagramas.\n"
     ]
    }
   ],
   "source": [
    "# 6. Validar si una palabra es un anagrama de otra.\n",
    "# Descripción: Crea una función llamada es_anagrama que tome dos palabras como parámetros y devuelva True si una es un anagrama de la otra, o False si no lo es.\n",
    "\n",
    "def es_anagrama(palabra1, palabra2):\n",
    "    palabra1 = palabra1.lower().replace(\" \", \"\")\n",
    "    palabra2 = palabra2.lower().replace(\" \", \"\")\n",
    "    return sorted(palabra1) == sorted(palabra2)\n",
    "\n",
    "palabra_1 = input(\"Ingresa la primera palabra: \")\n",
    "palabra_2 = input(\"Ingresa la segunda palabra: \")\n",
    "if es_anagrama(palabra_1, palabra_2):\n",
    "    print(\"Las palabras son anagramas.\")\n",
    "else:\n",
    "    print(\"Las palabras no son anagramas.\")\n",
    "\n"
   ]
  },
  {
   "cell_type": "code",
   "execution_count": 39,
   "metadata": {},
   "outputs": [
    {
     "data": {
      "text/plain": [
       "False"
      ]
     },
     "execution_count": 39,
     "metadata": {},
     "output_type": "execute_result"
    }
   ],
   "source": [
    "# 7. Validar si una cadena de texto es un isograma.\n",
    "# Descripción: Crea una función llamada es_isograma que tome una cadena de texto como parámetro y devuelva True si es un isograma. En caso contrario, devuelve False.\n",
    "\n",
    "def es_isograma(cadena_texto):\n",
    "\n",
    "    cadena_texto = cadena_texto.lower()\n",
    "\n",
    "    for letra in cadena_texto:\n",
    "        if cadena_texto.count(letra) > 1:\n",
    "            return False\n",
    "\n",
    "    return True\n",
    "\n",
    "es_isograma(\"diccionario\")"
   ]
  },
  {
   "cell_type": "code",
   "execution_count": 44,
   "metadata": {},
   "outputs": [
    {
     "name": "stdout",
     "output_type": "stream",
     "text": [
      "Resultado 1: Hola Mundo\n",
      "Resultado 2: Python es genial\n"
     ]
    }
   ],
   "source": [
    "# 8. Concatenar múltiples cadenas de texto\n",
    "# Descripción: Crea una función llamada concatenar_cadenas que tome una cantidad variable de cadenas de texto como argumentos y devuelva una única cadena que contenga la concatenación de todas las cadenas ingresadas.\n",
    "\n",
    "def concatenar_cadenas(*args):\n",
    "    return ''.join(args)\n",
    "\n",
    "resultado1 = concatenar_cadenas(\"Hola\", \" \", \"Mundo\")\n",
    "resultado2 = concatenar_cadenas(\"Python\", \" \", \"es\", \" \", \"genial\")\n",
    "\n",
    "print(\"Resultado 1:\", resultado1)\n",
    "print(\"Resultado 2:\", resultado2)\n",
    "\n",
    "# nota: input no es compatible con múltiple inputs"
   ]
  },
  {
   "cell_type": "code",
   "execution_count": 50,
   "metadata": {},
   "outputs": [
    {
     "name": "stdout",
     "output_type": "stream",
     "text": [
      "{'nombre': 'Nerea', 'edad': 27, 'ciudad': 'Ourense'}\n"
     ]
    }
   ],
   "source": [
    "# 9.Crear un diccionario con información de una persona.\n",
    "# Descripción: Crea una función llamada crear_persona que tome como argumentos clave-valor los datos de una persona, como nombre, edad, ciudad, etc., y devuelva un diccionario con toda la información ingresada.\n",
    "\n",
    "info_persona = {}\n",
    "\n",
    "def crear_persona(**kwargs):\n",
    "    return kwargs\n",
    "\n",
    "persona1 = crear_persona(nombre=\"Nerea\", edad = 27, ciudad = 'Ourense')\n",
    "\n",
    "print(persona1)"
   ]
  },
  {
   "cell_type": "code",
   "execution_count": 66,
   "metadata": {},
   "outputs": [
    {
     "name": "stdout",
     "output_type": "stream",
     "text": [
      "En la lista falta el número 2\n"
     ]
    }
   ],
   "source": [
    "# 10. Encontrar el número que falta en una lista ordenada de números consecutivos.\n",
    "# Descripción: Crea una función llamada encontrar_numero_faltante que tome una lista de números consecutivos (del 1 al N, sin repetir) con un número faltante y devuelva ese número faltante.\n",
    "\n",
    "def numero_faltante(lista):\n",
    "    \n",
    "    n = lista[-1]\n",
    "\n",
    "    for i in range(1, n):\n",
    "        if i not in lista:\n",
    "            return print(f\"En la lista falta el número {i}\")\n",
    "\n",
    "lista = [1,3,4,5]\n",
    "\n",
    "numero_faltante(lista)"
   ]
  },
  {
   "cell_type": "code",
   "execution_count": 71,
   "metadata": {},
   "outputs": [
    {
     "name": "stdout",
     "output_type": "stream",
     "text": [
      "El número duplicado es 2\n"
     ]
    }
   ],
   "source": [
    "# 11. Encontrar el elemento duplicado en una lista de números.\n",
    "# Descripción: Crea una función llamada encontrar_duplicado que tome una lista de números enteros y devuelva el elemento que está duplicado en la lista.\n",
    "\n",
    "def encontrar_duplicado(lista_numeros):\n",
    "\n",
    "    lista_vistos = set()\n",
    "\n",
    "    for num in lista_numeros:\n",
    "        \n",
    "        if num not in lista_vistos:\n",
    "            lista_vistos.add(num)\n",
    "        else:\n",
    "            print(f\"El número duplicado es {num}\")\n",
    "\n",
    "\n",
    "lista_numeros = [1, 2, 4, 5, 2]\n",
    "\n",
    "encontrar_duplicado(lista_numeros)\n"
   ]
  }
 ],
 "metadata": {
  "kernelspec": {
   "display_name": "base",
   "language": "python",
   "name": "python3"
  },
  "language_info": {
   "codemirror_mode": {
    "name": "ipython",
    "version": 3
   },
   "file_extension": ".py",
   "mimetype": "text/x-python",
   "name": "python",
   "nbconvert_exporter": "python",
   "pygments_lexer": "ipython3",
   "version": "3.11.7"
  }
 },
 "nbformat": 4,
 "nbformat_minor": 2
}
