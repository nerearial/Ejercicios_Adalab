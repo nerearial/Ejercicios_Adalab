{
 "cells": [
  {
   "cell_type": "code",
   "execution_count": 1,
   "metadata": {},
   "outputs": [
    {
     "name": "stdout",
     "output_type": "stream",
     "text": [
      "1\n",
      "2\n",
      "3\n",
      "4\n",
      "5\n"
     ]
    }
   ],
   "source": [
    "# Imprimir los números del 1 al 5 utilizando un bucle for.\n",
    "\n",
    "for i in range(1,6):\n",
    "    print(i)\n"
   ]
  },
  {
   "cell_type": "code",
   "execution_count": 7,
   "metadata": {},
   "outputs": [
    {
     "name": "stdout",
     "output_type": "stream",
     "text": [
      "1\n",
      "3\n",
      "6\n",
      "10\n",
      "15\n",
      "21\n",
      "28\n",
      "36\n",
      "45\n",
      "55\n"
     ]
    }
   ],
   "source": [
    "# 2. Calcular la suma de los primeros 10 números naturales utilizando un bucle for\n",
    "\n",
    "suma = 0\n",
    "\n",
    "for i in range(1,11):\n",
    "    suma += i\n",
    "    print(suma)\n",
    "\n"
   ]
  },
  {
   "cell_type": "code",
   "execution_count": 12,
   "metadata": {},
   "outputs": [
    {
     "name": "stdout",
     "output_type": "stream",
     "text": [
      "El producto de los números de la lista es: 120\n"
     ]
    }
   ],
   "source": [
    "# 3. Calcular el producto de los elementos de una lista\n",
    "\n",
    "lista_numeros = [2,3,4,5]\n",
    "producto = 1\n",
    "\n",
    "for i in lista_numeros:\n",
    "    producto *= i\n",
    "\n",
    "print(f\"El producto de los números de la lista es: {producto}\")"
   ]
  },
  {
   "cell_type": "code",
   "execution_count": 14,
   "metadata": {},
   "outputs": [
    {
     "name": "stdout",
     "output_type": "stream",
     "text": [
      "c\n",
      "o\n",
      "o\n",
      "k\n",
      "i\n",
      "e\n"
     ]
    }
   ],
   "source": [
    "# 4. Imprimir los caracteres de una cadena de texto \n",
    "\n",
    "cadena = \"cookie\"\n",
    "\n",
    "for caracter in cadena:\n",
    "    print(caracter)"
   ]
  },
  {
   "cell_type": "code",
   "execution_count": 17,
   "metadata": {},
   "outputs": [
    {
     "name": "stdout",
     "output_type": "stream",
     "text": [
      "El número par es: 2\n",
      "El número par es: 4\n",
      "El número par es: 6\n",
      "El número par es: 8\n",
      "El número par es: 10\n",
      "El número par es: 12\n",
      "El número par es: 14\n",
      "El número par es: 16\n",
      "El número par es: 18\n",
      "El número par es: 20\n",
      "El número par es: 22\n",
      "El número par es: 24\n",
      "El número par es: 26\n",
      "El número par es: 28\n",
      "El número par es: 30\n",
      "El número par es: 32\n",
      "El número par es: 34\n",
      "El número par es: 36\n",
      "El número par es: 38\n",
      "El número par es: 40\n",
      "El número par es: 42\n",
      "El número par es: 44\n",
      "El número par es: 46\n",
      "El número par es: 48\n",
      "El número par es: 50\n",
      "El número par es: 52\n",
      "El número par es: 54\n",
      "El número par es: 56\n",
      "El número par es: 58\n",
      "El número par es: 60\n",
      "El número par es: 62\n",
      "El número par es: 64\n",
      "El número par es: 66\n",
      "El número par es: 68\n",
      "El número par es: 70\n",
      "El número par es: 72\n",
      "El número par es: 74\n",
      "El número par es: 76\n",
      "El número par es: 78\n",
      "El número par es: 80\n",
      "El número par es: 82\n",
      "El número par es: 84\n",
      "El número par es: 86\n",
      "El número par es: 88\n",
      "El número par es: 90\n",
      "El número par es: 92\n",
      "El número par es: 94\n",
      "El número par es: 96\n",
      "El número par es: 98\n",
      "El número par es: 100\n"
     ]
    }
   ],
   "source": [
    "# 5. Imprimir los números pares del 1 al 100 utilizando un bucle for\n",
    "\n",
    "for number in range(1,101):\n",
    "    if number % 2 == 0:\n",
    "        print(f\"El número par es: {number}\")\n",
    "    else:\n",
    "        pass"
   ]
  },
  {
   "cell_type": "code",
   "execution_count": 35,
   "metadata": {},
   "outputs": [
    {
     "name": "stdout",
     "output_type": "stream",
     "text": [
      "2\n",
      "3\n",
      "5\n",
      "7\n",
      "11\n",
      "13\n",
      "17\n",
      "19\n",
      "23\n",
      "29\n",
      "31\n",
      "37\n",
      "41\n",
      "43\n",
      "47\n"
     ]
    }
   ],
   "source": [
    "# 6. Imprimir los números primos del 1 al 50 utilizando un bucle for\n",
    "\n",
    "for numero in range(1,51):\n",
    "    if numero > 1:\n",
    "        primo = True\n",
    "        for i in range(2, numero):\n",
    "            if numero % i == 0:\n",
    "                primo = False\n",
    "                break\n",
    "        if primo:\n",
    "            print(numero)"
   ]
  },
  {
   "cell_type": "code",
   "execution_count": 41,
   "metadata": {},
   "outputs": [
    {
     "name": "stdout",
     "output_type": "stream",
     "text": [
      "El factorial de 6 es 720\n"
     ]
    }
   ],
   "source": [
    "# 7. Ejercicio: Calcular el factorial de un número utilizando un bucle for\n",
    "\n",
    "numero = 6\n",
    "factorial = 1\n",
    "\n",
    "for i in range(1, numero+1):\n",
    "    factorial *= i\n",
    "\n",
    "print(f\"El factorial de {numero} es {factorial}\")"
   ]
  },
  {
   "cell_type": "code",
   "execution_count": 45,
   "metadata": {},
   "outputs": [
    {
     "name": "stdout",
     "output_type": "stream",
     "text": [
      "No has acertado la palabra, llevas 1 intentos.\n",
      "No has acertado la palabra, llevas 2 intentos.\n",
      "No has acertado la palabra, llevas 3 intentos.\n",
      "No has acertado la palabra, llevas 4 intentos.\n"
     ]
    }
   ],
   "source": [
    "# 8. Juego de adivinar palabras utilizando un bucle for\n",
    "\n",
    "palabra = \"loro\"\n",
    "intentos = 0\n",
    "\n",
    "for intento in intento:\n",
    "\n",
    "    intento = input(\"Acierta la palabra\")\n",
    "\n",
    "    if palabra == intento:\n",
    "        print(f'Enhorabuena, adivinaste la palabra {palabra} en {intentos} intentos')\n",
    "        break\n",
    "    else:\n",
    "        intentos += 1\n",
    "        print(f\"No has acertado la palabra, llevas {intentos} intentos.\")"
   ]
  },
  {
   "cell_type": "markdown",
   "metadata": {},
   "source": [
    "### LIST COMPREHENSION"
   ]
  },
  {
   "cell_type": "code",
   "execution_count": 47,
   "metadata": {},
   "outputs": [
    {
     "name": "stdout",
     "output_type": "stream",
     "text": [
      "[2, 4, 6, 8, 10, 12, 14, 16, 18, 20]\n"
     ]
    }
   ],
   "source": [
    "# 1. Generar una lista de los números pares del 1 al 20.\n",
    "\n",
    "lista_pares = [numero for numero in range(1,21) if numero % 2 == 0]\n",
    "print(lista_pares)"
   ]
  },
  {
   "cell_type": "code",
   "execution_count": 51,
   "metadata": {},
   "outputs": [
    {
     "name": "stdout",
     "output_type": "stream",
     "text": [
      "['o', 'a']\n"
     ]
    }
   ],
   "source": [
    "# 2. Obtener una lista de las vocales en una cadena de texto.\n",
    "\n",
    "string = input(\"Escribe una palabra\")\n",
    "lista_vocales = [letra for letra in string if letra in 'aeiou']\n",
    "print(lista_vocales)"
   ]
  },
  {
   "cell_type": "code",
   "execution_count": 54,
   "metadata": {},
   "outputs": [
    {
     "name": "stdout",
     "output_type": "stream",
     "text": [
      "[9, 49, 1, 16]\n"
     ]
    }
   ],
   "source": [
    "# 3. Filtrar los números positivos de una lista y calcular su cuadrado.\n",
    "\n",
    "lista = [3, -2, 7, -5, 1, -8, 4]\n",
    "\n",
    "lista_numeros = [numero**2 for numero in lista if numero >= 0 ]\n",
    "\n",
    "print(lista_numeros)"
   ]
  },
  {
   "cell_type": "markdown",
   "metadata": {},
   "source": [
    "### Try - Except"
   ]
  },
  {
   "cell_type": "code",
   "execution_count": 55,
   "metadata": {},
   "outputs": [
    {
     "name": "stdout",
     "output_type": "stream",
     "text": [
      "Error: El nombre no se encuentra en la lista.\n"
     ]
    },
    {
     "ename": "",
     "evalue": "",
     "output_type": "error",
     "traceback": [
      "\u001b[1;31mThe Kernel crashed while executing code in the current cell or a previous cell. \n",
      "\u001b[1;31mPlease review the code in the cell(s) to identify a possible cause of the failure. \n",
      "\u001b[1;31mClick <a href='https://aka.ms/vscodeJupyterKernelCrash'>here</a> for more info. \n",
      "\u001b[1;31mView Jupyter <a href='command:jupyter.viewOutput'>log</a> for further details."
     ]
    }
   ],
   "source": [
    "# 1. Realizar una búsqueda en una lista y capturar una excepción en caso de valor no encontrado.\n",
    "\n",
    "try:\n",
    "    lista_nombres = input(\"Ingresa una lista de nombres separados por espacios: \").split()\n",
    "    nombre_buscar = input(\"Ingresa el nombre que deseas buscar: \")\n",
    "    \n",
    "    indice = lista_nombres.index(nombre_buscar)\n",
    "    print(\"El nombre\", nombre_buscar, \"se encuentra en el índice\", indice)\n",
    "except ValueError:\n",
    "    print(\"Error: El nombre no se encuentra en la lista.\")"
   ]
  }
 ],
 "metadata": {
  "kernelspec": {
   "display_name": "base",
   "language": "python",
   "name": "python3"
  },
  "language_info": {
   "codemirror_mode": {
    "name": "ipython",
    "version": 3
   },
   "file_extension": ".py",
   "mimetype": "text/x-python",
   "name": "python",
   "nbconvert_exporter": "python",
   "pygments_lexer": "ipython3",
   "version": "3.11.7"
  }
 },
 "nbformat": 4,
 "nbformat_minor": 2
}
