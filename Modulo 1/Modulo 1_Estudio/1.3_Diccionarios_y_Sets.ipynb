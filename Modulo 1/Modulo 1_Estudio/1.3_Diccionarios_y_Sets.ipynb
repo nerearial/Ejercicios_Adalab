{
 "cells": [
  {
   "cell_type": "markdown",
   "metadata": {},
   "source": [
    "# PARTE 1 - DICCIONARIOS\n",
    "\n",
    "Los diccionarios es una estructura de datos, que almacena elementos en pares:\n",
    "> clave-valor (key-value)\n",
    "\n",
    "- Los *valores* pueden ser: números, cadenas, listas, tuplas u otros diccionarios.\n",
    "\n",
    "> Definimos un diccionario utilizando {}.\n",
    "\n",
    "Características:\n",
    "- No están ordenados\n",
    "- Las claves son únicas\n",
    "- Se pueden modificar, añadir o eliminar sus pares.\n",
    "- Pueden contener cualquier tipo de int, str, ...\n",
    "\n",
    "Un diccionario se define así:\n",
    "> - diccionario = {\"clave1\":\"valor1\",\"clave2\":\"valor2\",...}\n",
    "> - diccionario2 = {int:\"str\"}\n",
    "> - diccionario3 = {\"str\":[loquesea,loquesea]}\n",
    "\n",
    "- definimos el diccionario con \"dict\" usando el operador \"=\" y cada par de clave-valor separado por comas:\n",
    "\n",
    "> diccionario5 = dict( jueves = 'thursday', viernes='friday' )\n",
    "\n",
    "- definimos el diccionario con \"dict\" usando una lista de tuplas, separando cada tupla por coma. Cada tupla será el par de clave-valor\n",
    "\n",
    "> diccionario6 = dict( [ ('sábado','saturday'), ('domingo','sunday') ] )\n",
    "\n",
    "Para crear un diccionario con claves y valores predeterminados:\n",
    "\n",
    "> claves = ['jueves', 'viernes', 'sabado']\n",
    "\n",
    "- establecemos el valor predeterminado de lo que serán nuestro futuros values. En este caso todos tendrán el valor de una lista vacía\n",
    "\n",
    "> valor_predeterminado = []\n",
    "\n",
    "- definimos el diccionario usando: \n",
    "\n",
    "> diccionario7 = dict.fromkeys(claves, valor_predeterminado)\n",
    "\n",
    "PROPIEDADES DE LOS DICCIONARIOS\n",
    "- len()\n",
    "- keys() \n",
    "- values()\n",
    "- items()\n",
    "\n",
    "MÉTODOS:\n",
    "- copy(): devuelve una copia superficial del diccionario.\n",
    "- clear(): elimina todos los elementos del diccionario.\n",
    "- update(): actualiza el diccionario con pares clave-valor de otro diccionario o de una lista de tuplas (clave,valor).\n",
    "- get(): devuelve el valor de la clave si está presente, sino un valor predeterminado.\n",
    "- setdefault(): si la clave está en el diccionario, devuelve el valor, sino inserta en la clave con el valor predeterminado.\n",
    "- pop(argumento): elimina la clave y devuelve su valor. \n",
    "    - Si la clave no está presente y se proporciona un valor predeterminado, se devuelve ese valor. \n",
    "    - Si la clave no está presente y no se proporciona un valor predeterminado, se produce una excepción KeyError. \n",
    "- popitem(): elimina y devuelve un par clave-valor arbitrario del diccionario. EL ÚLTIMO.\n",
    "    - Si el diccionario está vacío, se produce una excepción KeyError.\n",
    "\n",
    "- sorted(): devuelve una lista de tuplas que representan cada par clave-valor ordenado por la clave. (si son strings)\n"
   ]
  },
  {
   "cell_type": "markdown",
   "metadata": {},
   "source": [
    "## EJERCICIOS DICCIONARIOS"
   ]
  },
  {
   "cell_type": "code",
   "execution_count": 21,
   "metadata": {},
   "outputs": [],
   "source": [
    "# 1 y 2: crear diccionarios:\n",
    "\n",
    "# import datetime\n",
    "\n",
    "# fecha1 = datetime.date(datetime.MINYEAR,1,1)\n",
    "# fecha2 = datetime.date(datetime.MINYEAR,1,6)\n",
    "# fecha3 = datetime.date(datetime.MINYEAR,4,15)\n",
    "# fecha4 = datetime.date(datetime.MINYEAR,8,15)\n",
    "# fecha5 = datetime.date(datetime.MINYEAR,10,12)\n",
    "# fecha6 = datetime.date(datetime.MINYEAR,11,1)\n",
    "# fecha7 = datetime.date(datetime.MINYEAR,12,6)\n",
    "# fecha8 = datetime.date(datetime.MINYEAR,12,8)\n",
    "\n",
    "# festivos = {\n",
    "#     fecha1:\"Año Nuevo\",\n",
    "#     fecha2:\"Epifanía del Señor\",\n",
    "#     fecha3:\"Viernes Santo\",\n",
    "#     fecha4:\"Asunción de la Virgen\",\n",
    "#     fecha5:\"Fiesta Nacional de España\",\n",
    "#     fecha6:\"Todos los Santos\",\n",
    "#     fecha7:\"Día de la Constitución Española\",\n",
    "#     fecha8:\"Inmaculada Concepción\"\n",
    "#             }\n",
    "\n",
    "festivos = {\n",
    "    \"01/01\":\"Año Nuevo\",\n",
    "    \"06/01\":\"Epifanía del Señor\",\n",
    "    \"15/04\":\"Viernes Santo\",\n",
    "    \"15/08\":\"Asunción de la Virgen\",\n",
    "    \"12/10\":\"Fiesta Nacional de España\",\n",
    "    \"01/11\":\"Todos los Santos\",\n",
    "    \"06/12\":\"Día de la Constitución Española\",\n",
    "    \"08/12\":\"Inmaculada Concepción\"\n",
    "           }\n",
    "\n",
    "monarcas = {\n",
    "    \"Bélgica\":\"Philippe\",\n",
    "    \"Dinamarca\":\"Margrethe II\",\n",
    "    \"Holanda\":\"Beatrix\",\n",
    "    \"Noruega\":\"Harald V\",\n",
    "    \"España\":\"Felipe VI\",\n",
    "    \"Reino Unido\":\"Carlos III\"\n",
    "}"
   ]
  },
  {
   "cell_type": "code",
   "execution_count": 32,
   "metadata": {},
   "outputs": [
    {
     "name": "stdout",
     "output_type": "stream",
     "text": [
      "El día 15 de abril es: Viernes Santo\n",
      "Willem-Alexander\n",
      "{'Bélgica': 'Philippe', 'Dinamarca': 'Margrethe II', 'Noruega': 'Harald V', 'España': 'Felipe VI', 'Reino Unido': 'Carlos III', 'Holanda': 'Willem-Alexander', 'Luxemburgo': 'Henri'}\n"
     ]
    }
   ],
   "source": [
    "# 3, 4 y 5. Leer, añadir y cambiar elementos.\n",
    "\n",
    "quefestivo = festivos.get(\"15/04\")\n",
    "print(\"El día 15 de abril es:\",quefestivo)\n",
    "\n",
    "monarcas.pop(\"Holanda\")\n",
    "monarcas1 = {\"Holanda\":\"Willem-Alexander\"}\n",
    "monarcas.update(monarcas1)\n",
    "\n",
    "mirarsiestabien = monarcas.get(\"Holanda\")\n",
    "print(mirarsiestabien)\n",
    "\n",
    "monarcas2 = {\"Luxemburgo\":\"Henri\"}\n",
    "monarcas.update(monarcas2)\n",
    "print(monarcas)"
   ]
  },
  {
   "cell_type": "code",
   "execution_count": 37,
   "metadata": {},
   "outputs": [
    {
     "name": "stdout",
     "output_type": "stream",
     "text": [
      "7\n",
      "None\n",
      "False\n"
     ]
    }
   ],
   "source": [
    "# 6, 7 y 8 - Comprobar contenidos\n",
    "\n",
    "saber1 = len(monarcas)\n",
    "print(saber1)\n",
    "\n",
    "saber2 = monarcas.get(\"Monaco\")\n",
    "print(saber2)\n",
    "\n",
    "saber3 = True\n",
    "if \"Suecia\" in monarcas:\n",
    "    print(saber3)\n",
    "else:\n",
    "    saber3 = False\n",
    "    print(saber3)"
   ]
  },
  {
   "cell_type": "code",
   "execution_count": 43,
   "metadata": {},
   "outputs": [
    {
     "name": "stdout",
     "output_type": "stream",
     "text": [
      "{'01/01': 'Año Nuevo', '06/01': 'Epifanía del Señor', '15/04': 'Viernes Santo', '15/08': 'Asunción de la Virgen', '12/10': 'Fiesta Nacional de España', '01/11': 'Todos los Santos', '06/12': 'Día de la Constitución Española', '08/12': 'Inmaculada Concepción'}\n",
      "[('01/01', 'Año Nuevo'), ('06/01', 'Epifanía del Señor'), ('15/04', 'Viernes Santo'), ('15/08', 'Asunción de la Virgen'), ('12/10', 'Fiesta Nacional de España'), ('01/11', 'Todos los Santos'), ('06/12', 'Día de la Constitución Española'), ('08/12', 'Inmaculada Concepción')]\n"
     ]
    }
   ],
   "source": [
    "# 9, 10, 11 y 12: Listas los contenidos:\n",
    "\n",
    "lista_monarcas = list(monarcas)\n",
    "lista_festivos = list(festivos.items())\n",
    "\n",
    "print(festivos)\n",
    "print(lista_festivos)"
   ]
  },
  {
   "cell_type": "code",
   "execution_count": 47,
   "metadata": {},
   "outputs": [
    {
     "data": {
      "text/plain": [
       "('Luxemburgo', 'Henri')"
      ]
     },
     "execution_count": 47,
     "metadata": {},
     "output_type": "execute_result"
    }
   ],
   "source": [
    "# 13, 14 y 15: Copiar dicts y borrar elementos.\n",
    "\n",
    "monarcas2010 = monarcas.copy()\n",
    "\n",
    "monarcas2010.pop(\"España\")\n",
    "monarcas2010.popitem()\n"
   ]
  },
  {
   "cell_type": "code",
   "execution_count": 48,
   "metadata": {},
   "outputs": [
    {
     "name": "stdout",
     "output_type": "stream",
     "text": [
      "None\n"
     ]
    }
   ],
   "source": [
    "# 16. Vaciar el diccionario.\n",
    "\n",
    "monarcas2010 = monarcas2010.clear()\n",
    "print(monarcas2010)"
   ]
  },
  {
   "cell_type": "code",
   "execution_count": 54,
   "metadata": {},
   "outputs": [
    {
     "name": "stdout",
     "output_type": "stream",
     "text": [
      "Epifanía del Señor\n",
      "Día Internacional de la mujer\n",
      "Día Internacional de la mujer\n",
      "Día Internacional de la mujer\n"
     ]
    }
   ],
   "source": [
    "# 17 y 18. Obtener valores\n",
    "\n",
    "# ¿Qué festivo hay el 06/01?\n",
    "\n",
    "cualfestivo = festivos.get(\"06/01\")\n",
    "print(cualfestivo)\n",
    "\n",
    "# Obtén el festivo del 8 de marzo, y en su defecto que devuelva\n",
    "# \"Día Internacional de la Mujer\"\n",
    "\n",
    "festivomujer = festivos.get(\"08/03\")\n",
    "print(festivomujer)\n",
    "\n",
    "actualizardia = festivos.setdefault(\"08/03\",\"Día Internacional de la mujer\")\n",
    "print(actualizardia)\n",
    "\n",
    "print(festivomujer)"
   ]
  },
  {
   "cell_type": "code",
   "execution_count": 1,
   "metadata": {},
   "outputs": [],
   "source": [
    "# 19. Obten el 31 de diciembre, sino crea un par clave-valor \"Todos los santos\"\n",
    "\n",
    "# festivo_santos = festivos.get(\"31/11\")\n",
    "# print(festivo_santos)\n",
    "\n",
    "# festivos.setdefault(\"31/11\",\"Todos los Santos\")\n",
    "# festivos\n",
    "\n",
    "# ESTE EJERCICO ES ASÍ NO SÉ PORQUE DA ERROR.."
   ]
  },
  {
   "cell_type": "markdown",
   "metadata": {},
   "source": [
    "## PARTE 2 - SETS"
   ]
  },
  {
   "cell_type": "markdown",
   "metadata": {},
   "source": [
    "Los sets es una colección desordenada y no repetida de elementos únicos y mutables definidos por {}.\n",
    "Podemos crearlos utilizando:\n",
    "- Utilizando llaves {}\n",
    "- Utilizando la función set()\n",
    "\n",
    "Propiedades:\n",
    "- len(): obtener cantidad de elementos del set\n",
    "- in y not in\n",
    "\n",
    "Métodos:\n",
    "- add(): para añadir el elemento, si ya está, no hace nada.\n",
    "- update(): agregar elementos múltiples al conjunto.\n",
    "- copy()\n",
    "- pop(): elimina y devuelve un elemento aleatorio\n",
    "- remove(): elimina elemento, si no está, da error\n",
    "- discard(): elimina elemento, si no está, no da error\n",
    "- clear(): elimina todos los elementos del conjunto\n",
    "\n",
    "Operaciones:\n",
    "- union()\n",
    "- intersection()\n",
    "- difference(): retorna nuevo conjunto de elementos del primer conjunto pero no del segundo.\n",
    "- symmetric_difference(): retorna un conjunto que tiene uno de los elementos pero no ambos\n",
    "- isdisjoint(): elementos que están en ambos\n",
    "- issubset(): retorna un booleano True si el conjunto es un subconjunto\n",
    "- issuperset(): retorna un True si el primer conjunto contiene todos los elementos del segundo conjunto. "
   ]
  },
  {
   "cell_type": "markdown",
   "metadata": {},
   "source": [
    "## Ejercicios SETS"
   ]
  },
  {
   "cell_type": "code",
   "execution_count": 4,
   "metadata": {},
   "outputs": [
    {
     "name": "stdout",
     "output_type": "stream",
     "text": [
      "<class 'set'>\n"
     ]
    }
   ],
   "source": [
    "# 1, 2 y 3: definir una lista\n",
    "temperaturas_diciembre = [10, 10, 13, 14, 12, 15, \n",
    "                                  12, 11, 13, 17, 18, 15, \n",
    "                                  15, 17, 17, 13, 13, 11,\n",
    "                                  12, 10, 12, 14, 12, 12,\n",
    "                                  11, 12, 16, 16, 14, 17, 18]\n",
    "\n",
    "diciembre = set(temperaturas_diciembre)\n",
    "\n",
    "colores = {\"azul\",\"amarillo\",\"rojo\",\"rosa\",\"naranja\",\"verde\"}\n",
    "print(type(colores))"
   ]
  },
  {
   "cell_type": "code",
   "execution_count": 5,
   "metadata": {},
   "outputs": [
    {
     "name": "stdout",
     "output_type": "stream",
     "text": [
      "{'verde', 'naranja', 'lila', 'amarillo', 'rosa', 'rojo', 'azul'}\n",
      "{'u', 'z', 'rosa', 'naranja', 'lila', 'a', 'g', 'azul', 'e', 'amarillo', 'r', 'j', 'rojo', 'n', 'l', 'o', 't', 'verde'}\n"
     ]
    }
   ],
   "source": [
    "# 4 y 5. Ampliar sets:\n",
    "\n",
    "colores.add(\"lila\")\n",
    "print(colores)\n",
    "\n",
    "colores.update(\"azul\",\"rojo\",\"granate\")\n",
    "print(colores)"
   ]
  },
  {
   "cell_type": "code",
   "execution_count": 8,
   "metadata": {},
   "outputs": [
    {
     "name": "stdout",
     "output_type": "stream",
     "text": [
      "True\n",
      "True\n"
     ]
    }
   ],
   "source": [
    "# 6 y 7. in, not in:\n",
    "\n",
    "print(\"verde\" in colores)\n",
    "print(\"rojo\" in colores)"
   ]
  },
  {
   "cell_type": "code",
   "execution_count": 14,
   "metadata": {},
   "outputs": [
    {
     "name": "stdout",
     "output_type": "stream",
     "text": [
      "{10, 11, 12, 13, 14, 15, 16, 17, 18}\n",
      "{10, 11, 12, 13, 14, 15, 16}\n"
     ]
    }
   ],
   "source": [
    "# 8 y 9. copiar y borrar elementos:\n",
    "enero = diciembre.copy()\n",
    "print(enero)\n",
    "\n",
    "enero.remove(17)\n",
    "enero.remove(18)\n",
    "print(enero)"
   ]
  },
  {
   "cell_type": "code",
   "execution_count": 16,
   "metadata": {},
   "outputs": [
    {
     "name": "stdout",
     "output_type": "stream",
     "text": [
      "9\n",
      "7\n"
     ]
    }
   ],
   "source": [
    "# 10 y 11. Tamaño de un set:\n",
    "print(len(diciembre))\n",
    "print(len(enero))"
   ]
  },
  {
   "cell_type": "code",
   "execution_count": 30,
   "metadata": {},
   "outputs": [
    {
     "name": "stdout",
     "output_type": "stream",
     "text": [
      "{17, 18}\n",
      "set()\n",
      "{10, 11, 12, 13, 14, 15, 16, 17, 18}\n"
     ]
    },
    {
     "data": {
      "text/plain": [
       "{'a',\n",
       " 'azul',\n",
       " 'cyan',\n",
       " 'e',\n",
       " 'g',\n",
       " 'j',\n",
       " 'l',\n",
       " 'lila',\n",
       " 'marrón',\n",
       " 'n',\n",
       " 'naranja',\n",
       " 'o',\n",
       " 'r',\n",
       " 'rojo',\n",
       " 'rosa',\n",
       " 't',\n",
       " 'u',\n",
       " 'verde',\n",
       " 'z'}"
      ]
     },
     "execution_count": 30,
     "metadata": {},
     "output_type": "execute_result"
    }
   ],
   "source": [
    "# 12, 13, 14 y 15: conjuntos con sets:\n",
    "\n",
    "# si en diciembre pero no en enero\n",
    "\n",
    "print(diciembre.difference(enero))\n",
    "\n",
    "# enero pero no en diciembre\n",
    "\n",
    "print(enero.difference(diciembre))\n",
    "\n",
    "# elementos en común de diciembre y enero\n",
    "print(enero.union(diciembre))\n",
    "\n",
    "# identifica la diferencia simétrica de colores y:\n",
    "setcolores = {\"marrón\",\"amarillo\",\"cyan\"}\n",
    "setcolores.symmetric_difference(colores)"
   ]
  },
  {
   "cell_type": "code",
   "execution_count": 28,
   "metadata": {},
   "outputs": [
    {
     "name": "stdout",
     "output_type": "stream",
     "text": [
      "False\n",
      "False\n",
      "True\n"
     ]
    }
   ],
   "source": [
    "# 16, 17 y 18: comparar sets.\n",
    "setdisjoint = diciembre.isdisjoint(enero)\n",
    "print(setdisjoint)\n",
    "\n",
    "# es rojo y azul un superset de colores?\n",
    "colores2 = {\"rojo\",\"azul\"}\n",
    "colores22 = colores2.issuperset(colores)\n",
    "print(colores22)\n",
    "\n",
    "# y un subset?\n",
    "colores222 = colores2.issubset(colores)\n",
    "print(colores222)"
   ]
  }
 ],
 "metadata": {
  "kernelspec": {
   "display_name": "Python 3",
   "language": "python",
   "name": "python3"
  },
  "language_info": {
   "codemirror_mode": {
    "name": "ipython",
    "version": 3
   },
   "file_extension": ".py",
   "mimetype": "text/x-python",
   "name": "python",
   "nbconvert_exporter": "python",
   "pygments_lexer": "ipython3",
   "version": "3.11.9"
  }
 },
 "nbformat": 4,
 "nbformat_minor": 2
}
