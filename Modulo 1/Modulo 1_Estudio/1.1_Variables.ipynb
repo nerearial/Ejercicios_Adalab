{
 "cells": [
  {
   "cell_type": "markdown",
   "metadata": {},
   "source": [
    "## MODULO 1 - PYTHON BÁSICO"
   ]
  },
  {
   "cell_type": "markdown",
   "metadata": {},
   "source": [
    "***Conceptos básicos de Python, desde estructuras de datos y tipos de datos hasta el uso de expresiones regulares (regex) para la manipulación de cadenas de texto***\n",
    "***Utilización de clases y funciones, para modulizar y organizar el código de manera eficiente.***\n",
    "* Listas, tuplas, diccionarios y sets\n",
    "* Técnicas esenciales de programación: bucles y condicionales"
   ]
  },
  {
   "cell_type": "markdown",
   "metadata": {},
   "source": [
    "Aquí tenemos unas pocas librerías de Python (para realizar cálculos numéricos, manipular y analizar datos estructurados) para visualizar resultados de manera efectiva:\n",
    "- Numpy\n",
    "- Pandas\n",
    "- Matplotlib"
   ]
  },
  {
   "cell_type": "markdown",
   "metadata": {},
   "source": [
    "#### Los Markdown podemos clasificarlos en \"# TITULO\"; \"## SUBTITULO\" Y \"### Texto\", de todas maneras, tienes toda la info en: https://markdown.es/sintaxis-markdown/"
   ]
  },
  {
   "cell_type": "markdown",
   "metadata": {},
   "source": [
    "* EJERCICIO 1 - APRENDIENDO VARIABLES"
   ]
  },
  {
   "cell_type": "markdown",
   "metadata": {},
   "source": [
    "*** Siempre hay que utilizar un Kernel, arriba a la derecha \"Select Kernel\""
   ]
  },
  {
   "cell_type": "code",
   "execution_count": 16,
   "metadata": {},
   "outputs": [],
   "source": [
    "# \"a\" \"lo que ponemos entre comillas es un COMENTARIO, 1.2 es un float, un numero\""
   ]
  },
  {
   "cell_type": "code",
   "execution_count": 3,
   "metadata": {},
   "outputs": [],
   "source": [
    "metros = 1.87"
   ]
  },
  {
   "cell_type": "code",
   "execution_count": 5,
   "metadata": {},
   "outputs": [
    {
     "data": {
      "text/plain": [
       "1.87"
      ]
     },
     "execution_count": 5,
     "metadata": {},
     "output_type": "execute_result"
    }
   ],
   "source": [
    "metros"
   ]
  },
  {
   "cell_type": "code",
   "execution_count": 13,
   "metadata": {},
   "outputs": [
    {
     "name": "stdout",
     "output_type": "stream",
     "text": [
      "1.87\n"
     ]
    }
   ],
   "source": [
    "# cuando pongo print siempre me da el resultado de lo que ponemos entre ()\n",
    "print(metros)"
   ]
  },
  {
   "cell_type": "code",
   "execution_count": 8,
   "metadata": {},
   "outputs": [],
   "source": [
    "# Esto es un comentario sobre el código - los string es texto\n",
    "# Creamos una variable que se llama \"comida\""
   ]
  },
  {
   "cell_type": "code",
   "execution_count": 11,
   "metadata": {},
   "outputs": [],
   "source": [
    "comida = \"batata\""
   ]
  },
  {
   "cell_type": "code",
   "execution_count": 14,
   "metadata": {},
   "outputs": [
    {
     "name": "stdout",
     "output_type": "stream",
     "text": [
      "3\n"
     ]
    }
   ],
   "source": [
    "# creamos un variable numérico que sea cantidad\n",
    "cantidad = 3\n",
    "print(cantidad)"
   ]
  },
  {
   "cell_type": "code",
   "execution_count": 17,
   "metadata": {},
   "outputs": [
    {
     "name": "stdout",
     "output_type": "stream",
     "text": [
      "verde\n"
     ]
    }
   ],
   "source": [
    "# Creamos una variable del tipo 'string' que se llama categoria1\n",
    "categoria1 = \"verde\"\n",
    "print(categoria1)"
   ]
  },
  {
   "cell_type": "code",
   "execution_count": 18,
   "metadata": {},
   "outputs": [
    {
     "name": "stdout",
     "output_type": "stream",
     "text": [
      "azul\n"
     ]
    }
   ],
   "source": [
    "# Creamos una variable del tipo \"string\" que se llama categoria2\n",
    "categoria2 = \"azul\"\n",
    "print(categoria2)"
   ]
  },
  {
   "cell_type": "code",
   "execution_count": 19,
   "metadata": {},
   "outputs": [
    {
     "name": "stdout",
     "output_type": "stream",
     "text": [
      "verde oscuro\n"
     ]
    }
   ],
   "source": [
    "# Otro tipo de variable\n",
    "color_detalle = categoria1 + \" \" + \"oscuro\"\n",
    "print(color_detalle)"
   ]
  },
  {
   "cell_type": "code",
   "execution_count": 23,
   "metadata": {},
   "outputs": [
    {
     "name": "stdout",
     "output_type": "stream",
     "text": [
      "verde oscuro\n",
      "verde oscuro\n"
     ]
    }
   ],
   "source": [
    "print(categoria1+\" oscuro\") #ó así también\n",
    "print(categoria1, \"oscuro\")"
   ]
  },
  {
   "cell_type": "code",
   "execution_count": 24,
   "metadata": {},
   "outputs": [],
   "source": [
    "# definimos algunas variables con distintos datos numéricos\n",
    "b1 = 3.0\n",
    "b2 = 5\n",
    "b3 = 5.0\n",
    "b4 = 118"
   ]
  },
  {
   "cell_type": "code",
   "execution_count": 27,
   "metadata": {},
   "outputs": [
    {
     "name": "stdout",
     "output_type": "stream",
     "text": [
      "8.0\n",
      "113.0\n",
      "1.0\n",
      "8.0 113.0 1.0\n"
     ]
    }
   ],
   "source": [
    "# en esta celda hacemos un into a algunas operaciones básicas de python\n",
    "c1 = b1 + b2\n",
    "c2 = b4 - b3\n",
    "c3 = b3 / b2\n",
    "print(c1)\n",
    "print(c2)\n",
    "print(c3)\n",
    "print(c1,c2,c3)"
   ]
  },
  {
   "cell_type": "code",
   "execution_count": 29,
   "metadata": {},
   "outputs": [
    {
     "name": "stdout",
     "output_type": "stream",
     "text": [
      "c1  =  3.0  + 5\n"
     ]
    }
   ],
   "source": [
    "print(\"c1  = \", b1, \" +\", b2)\n",
    "# MUCHO CUIDADO CON LAS MAYUSCULAS PORQUE LAS RECONOCE"
   ]
  },
  {
   "cell_type": "code",
   "execution_count": 30,
   "metadata": {},
   "outputs": [
    {
     "name": "stdout",
     "output_type": "stream",
     "text": [
      "<class 'float'>\n",
      "<class 'float'>\n"
     ]
    }
   ],
   "source": [
    "# Vamos a revisar los tipos de nuestras variables\n",
    "t = type(b1)\n",
    "print(t)\n",
    "# asi se puede saber tambien el tipo de variable\n",
    "print(type(b1))"
   ]
  },
  {
   "cell_type": "code",
   "execution_count": 34,
   "metadata": {},
   "outputs": [
    {
     "name": "stdout",
     "output_type": "stream",
     "text": [
      "False\n"
     ]
    }
   ],
   "source": [
    "# Último tipo de variable, str es string, le estamos preguntando si la variable b1 es un string.\n",
    "print(isinstance(b1, str))"
   ]
  },
  {
   "cell_type": "code",
   "execution_count": 36,
   "metadata": {},
   "outputs": [
    {
     "name": "stdout",
     "output_type": "stream",
     "text": [
      "True\n"
     ]
    }
   ],
   "source": [
    "# Nos da que es falso, preguntamos si es un float\n",
    "# Buleano, es una variable que tiene dos probabilidades, 0 o 1. \n",
    "print(isinstance(b1,float))"
   ]
  },
  {
   "cell_type": "code",
   "execution_count": 37,
   "metadata": {},
   "outputs": [
    {
     "name": "stdout",
     "output_type": "stream",
     "text": [
      "True\n"
     ]
    }
   ],
   "source": [
    "# Como crear una variable buleana\n",
    "d1 = True\n",
    "print(isinstance(d1,bool))"
   ]
  },
  {
   "cell_type": "code",
   "execution_count": 38,
   "metadata": {},
   "outputs": [],
   "source": [
    "# Vamos a crear variables con nombre completos, para saber qué recogen\n",
    "unidades_por_pack_de_ahorro = 3\n",
    "packs_vendidos = 5\n",
    "unidades_en_almacen = 17"
   ]
  },
  {
   "cell_type": "code",
   "execution_count": 39,
   "metadata": {},
   "outputs": [
    {
     "name": "stdout",
     "output_type": "stream",
     "text": [
      "Has vendido 15\n"
     ]
    }
   ],
   "source": [
    "print('Has vendido', unidades_por_pack_de_ahorro * packs_vendidos)"
   ]
  },
  {
   "cell_type": "code",
   "execution_count": 40,
   "metadata": {},
   "outputs": [
    {
     "data": {
      "text/plain": [
       "25"
      ]
     },
     "execution_count": 40,
     "metadata": {},
     "output_type": "execute_result"
    }
   ],
   "source": [
    "# Cuando ponemos dos asteriscos (**), es elevar, es una potencia\n",
    "5**2"
   ]
  },
  {
   "cell_type": "code",
   "execution_count": 41,
   "metadata": {},
   "outputs": [
    {
     "name": "stdout",
     "output_type": "stream",
     "text": [
      "4\n"
     ]
    }
   ],
   "source": [
    "# Round significa redondear\n",
    "rita = 3.5\n",
    "maria = round(rita)\n",
    "print(maria)"
   ]
  },
  {
   "cell_type": "code",
   "execution_count": 49,
   "metadata": {},
   "outputs": [
    {
     "name": "stdout",
     "output_type": "stream",
     "text": [
      "False\n"
     ]
    }
   ],
   "source": [
    "# OPERACIONES BINARIAS\n",
    "# 1. Definimos unas variables\n",
    "cucharas_de_azucar = 5\n",
    "cucharas_en_receta1 = 7\n",
    "cucharas_en_receta2 = 5\n",
    "# Estoy preguntando si cucharas de azucar es igual a cucharas en receta1\n",
    "print(cucharas_de_azucar == cucharas_en_receta1)"
   ]
  },
  {
   "cell_type": "code",
   "execution_count": 50,
   "metadata": {},
   "outputs": [
    {
     "name": "stdout",
     "output_type": "stream",
     "text": [
      "True\n"
     ]
    }
   ],
   "source": [
    "# Para preguntarle lo contrario\n",
    "print(cucharas_de_azucar != cucharas_en_receta1)"
   ]
  },
  {
   "cell_type": "code",
   "execution_count": 51,
   "metadata": {},
   "outputs": [
    {
     "name": "stdout",
     "output_type": "stream",
     "text": [
      "False\n"
     ]
    }
   ],
   "source": [
    "# Para preguntarle si es la misma variable\n",
    "print(cucharas_de_azucar is cucharas_en_receta1)"
   ]
  },
  {
   "cell_type": "code",
   "execution_count": 54,
   "metadata": {},
   "outputs": [
    {
     "name": "stdout",
     "output_type": "stream",
     "text": [
      "False\n",
      "False\n"
     ]
    }
   ],
   "source": [
    "print(cucharas_de_azucar > cucharas_en_receta1)\n",
    "print(cucharas_de_azucar >= cucharas_en_receta1)"
   ]
  },
  {
   "cell_type": "code",
   "execution_count": 56,
   "metadata": {},
   "outputs": [
    {
     "name": "stdout",
     "output_type": "stream",
     "text": [
      "False\n"
     ]
    }
   ],
   "source": [
    "# vamos a probar and y or\n",
    "huevos_que_quedan = 4\n",
    "azucar_que_queda_litros = 250\n",
    "harina_bizcocho_que_queda_gramos = 500\n",
    "harina_trigo_que_queda_gramos = 500\n",
    "impulsor_quimico_que_queda_cucharas = 2\n",
    "\n",
    "print(huevos_que_quedan > azucar_que_queda_litros)"
   ]
  },
  {
   "cell_type": "code",
   "execution_count": 57,
   "metadata": {},
   "outputs": [
    {
     "name": "stdout",
     "output_type": "stream",
     "text": [
      "True\n"
     ]
    }
   ],
   "source": [
    "print(harina_trigo_que_queda_gramos == harina_bizcocho_que_queda_gramos)"
   ]
  },
  {
   "cell_type": "code",
   "execution_count": 58,
   "metadata": {},
   "outputs": [
    {
     "name": "stdout",
     "output_type": "stream",
     "text": [
      "False\n"
     ]
    }
   ],
   "source": [
    "# CONDICIONAL - AND \n",
    "print((huevos_que_quedan > azucar_que_queda_litros) and (harina_trigo_que_queda_gramos == harina_bizcocho_que_queda_gramos))"
   ]
  },
  {
   "cell_type": "code",
   "execution_count": 59,
   "metadata": {},
   "outputs": [],
   "source": [
    "hola = \"Hello\"\n",
    "nombre = \"Ada\"\n",
    "apellido = \"Loverlace\""
   ]
  },
  {
   "cell_type": "code",
   "execution_count": 61,
   "metadata": {},
   "outputs": [
    {
     "name": "stdout",
     "output_type": "stream",
     "text": [
      "Ada Loverlace\n",
      "Hello Ada Loverlace\n"
     ]
    }
   ],
   "source": [
    "nombre_completo = nombre + \" \" + apellido\n",
    "print(nombre_completo)\n",
    "print(hola, nombre_completo)"
   ]
  },
  {
   "cell_type": "code",
   "execution_count": 63,
   "metadata": {},
   "outputs": [
    {
     "name": "stdout",
     "output_type": "stream",
     "text": [
      "maria\n"
     ]
    }
   ],
   "source": [
    "# está esperando a que introduzcamos el input, si lo ejecutamos\n",
    "nombre = input()\n",
    "print(nombre)"
   ]
  },
  {
   "cell_type": "code",
   "execution_count": 1,
   "metadata": {},
   "outputs": [
    {
     "name": "stdout",
     "output_type": "stream",
     "text": [
      "13\n"
     ]
    }
   ],
   "source": [
    "# funcion round()\n",
    "\n",
    "valor_del_stock = 236.45 \n",
    "uds_stock = 18\n",
    "precio_minimo_ud = round(valor_del_stock/uds_stock)\n",
    "print(precio_minimo_ud)"
   ]
  },
  {
   "cell_type": "code",
   "execution_count": 3,
   "metadata": {},
   "outputs": [
    {
     "name": "stdout",
     "output_type": "stream",
     "text": [
      "3 chuches por nino\n"
     ]
    }
   ],
   "source": [
    "ninos_clase = 29\n",
    "chuches_bolsa = 75\n",
    "chuches_nino = round(chuches_bolsa/ninos_clase)\n",
    "print(chuches_nino,\"chuches por nino\")"
   ]
  },
  {
   "cell_type": "code",
   "execution_count": null,
   "metadata": {},
   "outputs": [],
   "source": [
    "# OPERACIONES BINARIAS - VARIABLES BOOLEANAS"
   ]
  },
  {
   "cell_type": "code",
   "execution_count": 4,
   "metadata": {},
   "outputs": [],
   "source": [
    "cucharas_azucar = 5\n",
    "cucharas_receta1 = 7\n",
    "cucharas_receta2 = 5"
   ]
  },
  {
   "cell_type": "code",
   "execution_count": 6,
   "metadata": {},
   "outputs": [
    {
     "name": "stdout",
     "output_type": "stream",
     "text": [
      "False\n",
      "True\n"
     ]
    }
   ],
   "source": [
    "# valor de las cucharas de azucar = a cucharas receta1\n",
    "print(cucharas_azucar == cucharas_receta1)\n",
    "print(cucharas_azucar == cucharas_receta2)"
   ]
  },
  {
   "cell_type": "code",
   "execution_count": 7,
   "metadata": {},
   "outputs": [
    {
     "name": "stdout",
     "output_type": "stream",
     "text": [
      "True\n"
     ]
    }
   ],
   "source": [
    "# ¿Valor de las cucharas de azucar igual al de las de la receta2?\n",
    "\n",
    "print(cucharas_receta2 is cucharas_azucar)"
   ]
  },
  {
   "cell_type": "code",
   "execution_count": 8,
   "metadata": {},
   "outputs": [
    {
     "name": "stdout",
     "output_type": "stream",
     "text": [
      "True\n",
      "False\n"
     ]
    }
   ],
   "source": [
    "# OJO, si son tipo FLOAT, la comparación de variables debe hacerse con ==. Ejemplo:\n",
    "\n",
    "cucharas1 = 5.0\n",
    "cucharas2 = 5.0\n",
    "\n",
    "print(cucharas1 == cucharas2)\n",
    "print(cucharas1 is cucharas2)"
   ]
  },
  {
   "cell_type": "code",
   "execution_count": 9,
   "metadata": {},
   "outputs": [
    {
     "name": "stdout",
     "output_type": "stream",
     "text": [
      "True\n"
     ]
    }
   ],
   "source": [
    "# Sin embargo, si hacemos así, nos devuelve:\n",
    "cucharas3 = 5.0\n",
    "cucharas_usadas = cucharas3\n",
    "print(cucharas3 is cucharas_usadas)"
   ]
  },
  {
   "cell_type": "code",
   "execution_count": 14,
   "metadata": {},
   "outputs": [
    {
     "name": "stdout",
     "output_type": "stream",
     "text": [
      "5.0\n",
      "5.0\n",
      "True\n",
      "False\n"
     ]
    }
   ],
   "source": [
    "print(cucharas2)\n",
    "print(cucharas3)\n",
    "\n",
    "# vamos a crear una variable que se llame cucharas_bote\n",
    "cucharas_bote = 5\n",
    "print(cucharas_bote is not cucharas3)\n",
    "print(cucharas_bote != cucharas2)"
   ]
  },
  {
   "cell_type": "code",
   "execution_count": 15,
   "metadata": {},
   "outputs": [
    {
     "name": "stdout",
     "output_type": "stream",
     "text": [
      "Podemos hacer la receta si:\n",
      "True es True\n",
      "True es True\n"
     ]
    }
   ],
   "source": [
    "cucharas_que_quedan = 7\n",
    "cucharas_en_receta = 5\n",
    "\n",
    "print(\"Podemos hacer la receta si:\")\n",
    "print(cucharas_en_receta < cucharas_que_quedan, \"es True\")\n",
    "print(cucharas_que_quedan > cucharas_en_receta, \"es True\")"
   ]
  },
  {
   "cell_type": "code",
   "execution_count": 16,
   "metadata": {},
   "outputs": [
    {
     "name": "stdout",
     "output_type": "stream",
     "text": [
      "Podemos hacer la receta si:\n",
      "True es True\n",
      "True es True\n",
      "Nos sobrará azúcar si:\n",
      "True es True\n",
      "True es True\n"
     ]
    }
   ],
   "source": [
    "# ¿Y si nos quedan las justas?\n",
    "print('Podemos hacer la receta si:')\n",
    "print(cucharas_en_receta <= cucharas_que_quedan,'es True')\n",
    "print(cucharas_que_quedan >= cucharas_en_receta,'es True')\n",
    "print('Nos sobrará azúcar si:')\n",
    "print(cucharas_en_receta < cucharas_que_quedan,'es True')\n",
    "print(cucharas_que_quedan > cucharas_en_receta,'es True')\n"
   ]
  },
  {
   "cell_type": "code",
   "execution_count": 20,
   "metadata": {},
   "outputs": [
    {
     "name": "stdout",
     "output_type": "stream",
     "text": [
      "['hola', 'mi', 'nombre', 'es', 'Nerea']\n",
      "hola mi nombre es Nerea\n",
      "hola_mi_nombre_es_Nerea\n"
     ]
    }
   ],
   "source": [
    "# JOIN() - Une todos los elementos de un iterable = lista o tupla y los une en un único string.\n",
    "\n",
    "lista_random = [\"hola\",\"mi\",\"nombre\",\"es\",\"Nerea\"]\n",
    "print(lista_random)\n",
    "lista_unida = \" \".join(lista_random)\n",
    "print(lista_unida)\n",
    "\n",
    "# probamos con otra movida\n",
    "lista_unida1 = \"_\".join(lista_random)\n",
    "print(lista_unida1)"
   ]
  },
  {
   "cell_type": "code",
   "execution_count": 23,
   "metadata": {},
   "outputs": [
    {
     "data": {
      "text/plain": [
       "25"
      ]
     },
     "execution_count": 23,
     "metadata": {},
     "output_type": "execute_result"
    }
   ],
   "source": [
    "# Vamos a buscar cositas con el find()\n",
    "saludo = \"Buenos días, chicas, sigamos aprendiendo métodos de los strings\"\n",
    "saludo\n",
    "\n",
    "saludo.find(\"m\",10,30)\n",
    "\n",
    "# Nos devuelve 25, hay una m en la posición 25."
   ]
  },
  {
   "cell_type": "markdown",
   "metadata": {},
   "source": [
    "***EJERCICIOS VARIABLES***"
   ]
  },
  {
   "cell_type": "code",
   "execution_count": 24,
   "metadata": {},
   "outputs": [],
   "source": [
    "# 1. Crea la variable gatos con el numero valor 8\n",
    "gatos = 8"
   ]
  },
  {
   "cell_type": "code",
   "execution_count": 27,
   "metadata": {},
   "outputs": [],
   "source": [
    "# 2. Crea la variable perros que sea un texto de seis caracteres: la palabra cuatro\n",
    "perros = \"cuatro\""
   ]
  },
  {
   "cell_type": "code",
   "execution_count": 25,
   "metadata": {},
   "outputs": [
    {
     "name": "stdout",
     "output_type": "stream",
     "text": [
      "8\n"
     ]
    }
   ],
   "source": [
    "# 3. Imprime la variable gatos:\n",
    "print(gatos)"
   ]
  },
  {
   "cell_type": "code",
   "execution_count": 28,
   "metadata": {},
   "outputs": [
    {
     "name": "stdout",
     "output_type": "stream",
     "text": [
      "cuatro\n"
     ]
    }
   ],
   "source": [
    "# 4. Imprime la variable perros.\n",
    "print(perros)"
   ]
  },
  {
   "cell_type": "code",
   "execution_count": 29,
   "metadata": {},
   "outputs": [
    {
     "name": "stdout",
     "output_type": "stream",
     "text": [
      "cuatro más cuatro\n"
     ]
    }
   ],
   "source": [
    "# 5. Imprime la variable `perros` seguida por la palabra `más` y la palabra `perros` otra vez.\n",
    "print(perros, \"más\", perros)"
   ]
  },
  {
   "cell_type": "code",
   "execution_count": 31,
   "metadata": {},
   "outputs": [
    {
     "name": "stdout",
     "output_type": "stream",
     "text": [
      "cuatro más cuatro es igual a 8\n",
      "cuatro + cuatro = 8\n"
     ]
    }
   ],
   "source": [
    "# 6. Consigue que el ordenador devuelva el siguiente texto, usando la variable `perros`: `cuatro más cuatro es igual a 8`.\n",
    "print(perros,\"más\",perros,\"es igual a\",gatos)\n",
    "# 7. 7. Consigue que el ordenador devuelva el siguiente texto, usando la variable`perros`: `cuatro + cuatro = 8`.\n",
    "print(perros,\"+\",perros,\"=\",gatos)"
   ]
  },
  {
   "cell_type": "code",
   "execution_count": 46,
   "metadata": {},
   "outputs": [
    {
     "name": "stdout",
     "output_type": "stream",
     "text": [
      "2.0\n",
      "<class 'float'>\n",
      "<class 'str'>\n",
      "0\n",
      "<class 'int'>\n",
      "<class 'float'>\n",
      "True\n"
     ]
    }
   ],
   "source": [
    "# 8. Define una variable `pizzas` con un valor `2` que sea del tipo float.\n",
    "pizzas = float(2)\n",
    "print(pizzas)\n",
    "print(type(pizzas))\n",
    "# 9. Define `magdalenas` con un valor `2` que sea del tipo string.\n",
    "magdalenas = str(\"2\")\n",
    "print(type(magdalenas))\n",
    "# 10. Define `postres` con un valor `0` que sea del tipo int.\n",
    "postres = int(0)\n",
    "print(postres)\n",
    "print(type(postres))\n",
    "# 11. ¿Qué tipo de dato es la variable `pizzas`?\n",
    "print(type(pizzas))\n",
    "# 12. ¿Es la variable `magdalenas` de tipo string?\n",
    "print(magdalenas != type(str))"
   ]
  },
  {
   "cell_type": "code",
   "execution_count": 73,
   "metadata": {},
   "outputs": [
    {
     "name": "stdout",
     "output_type": "stream",
     "text": [
      "8\n",
      "2.0\n",
      "10.0\n",
      "6.0\n",
      "16. 16\n",
      "17. 16.0\n",
      "18. 19.0\n",
      "19. 81\n",
      "20. 10.125\n",
      "21. 2.375\n",
      "22. -149.0\n",
      "23. 10\n",
      "24. True\n",
      "25. True\n",
      "26. True\n",
      "27. False\n",
      "28. False\n",
      "29. True\n",
      "30. False True\n",
      "31. True\n",
      "True\n"
     ]
    },
    {
     "name": "stderr",
     "output_type": "stream",
     "text": [
      "<>:46: SyntaxWarning: \"is not\" with a literal. Did you mean \"!=\"?\n",
      "<>:46: SyntaxWarning: \"is not\" with a literal. Did you mean \"!=\"?\n",
      "C:\\Users\\Nerea\\AppData\\Local\\Temp\\ipykernel_19136\\803646484.py:46: SyntaxWarning: \"is not\" with a literal. Did you mean \"!=\"?\n",
      "  print(superficie is not 0)\n"
     ]
    }
   ],
   "source": [
    "# Siguientes ejercicios\n",
    "\n",
    "postres = 0\n",
    "print(gatos)\n",
    "print(pizzas)\n",
    "\n",
    "print(gatos + pizzas)\n",
    "print(gatos - pizzas)\n",
    "# 16.\n",
    "print(\"16.\",gatos*2)\n",
    "# 17.\n",
    "piezas = 8 * pizzas \n",
    "print(\"17.\",piezas)\n",
    "# 18.\n",
    "piezas = piezas + 3\n",
    "print(\"18.\",piezas)\n",
    "#19. \n",
    "superficie = 9**2\n",
    "print(\"19.\",superficie)\n",
    "# 20.\n",
    "print(\"20.\",superficie/gatos)\n",
    "# 21.\n",
    "print(\"21.\",piezas/gatos)\n",
    "# 22. \n",
    "print(\"22.\",piezas - (gatos*21))\n",
    "# 23. \n",
    "gatos_metros_cuadrados = round(superficie/gatos)\n",
    "print(\"23.\",gatos_metros_cuadrados)\n",
    "# 24. \n",
    "print(\"24.\",gatos >= pizzas)\n",
    "# 25. \n",
    "print(\"25.\",gatos < superficie)\n",
    "# 26. \n",
    "print(\"26.\",2*pizzas != gatos)\n",
    "# 27.\n",
    "print(\"27.\",2*pizzas == gatos)\n",
    "# 28.\n",
    "print(\"28.\",pizzas <= piezas and superficie <= piezas and piezas != 0)\n",
    "# 29. \n",
    "print(\"29.\",piezas >= pizzas and piezas < superficie)\n",
    "# 30. \n",
    "print(\"30.\",pizzas > gatos,gatos%piezas != 0)\n",
    "# 31. \n",
    "print(\"31.\",piezas >= pizzas < superficie)\n",
    "# 32.\n",
    "print(\"32.\",superficie is not 0)\n"
   ]
  },
  {
   "cell_type": "code",
   "execution_count": 74,
   "metadata": {},
   "outputs": [
    {
     "name": "stdout",
     "output_type": "stream",
     "text": [
      "19\n"
     ]
    }
   ],
   "source": [
    "# 33. input dia cumple\n",
    "cumple = input(\"¿Cuál es tu dia de cumple\")\n",
    "print(cumple)"
   ]
  },
  {
   "cell_type": "code",
   "execution_count": 75,
   "metadata": {},
   "outputs": [
    {
     "name": "stdout",
     "output_type": "stream",
     "text": [
      "noviembre\n"
     ]
    }
   ],
   "source": [
    "# 34. mes de cumple\n",
    "mes_cumple = input(\"¿Cuál mes cumples\")\n",
    "print(mes_cumple)"
   ]
  },
  {
   "cell_type": "code",
   "execution_count": 78,
   "metadata": {},
   "outputs": [
    {
     "name": "stdout",
     "output_type": "stream",
     "text": [
      "9\n",
      "noviembre\n"
     ]
    }
   ],
   "source": [
    "# 35.\n",
    "print(cumple.strip(\"1\"))\n",
    "print(mes_cumple.strip(\"o\"))"
   ]
  },
  {
   "cell_type": "code",
   "execution_count": 83,
   "metadata": {},
   "outputs": [
    {
     "name": "stdout",
     "output_type": "stream",
     "text": [
      "19 noviembre\n"
     ]
    }
   ],
   "source": [
    "# 36. \n",
    "mescumple = input(\"cual es tu mes\")\n",
    "diacumple = input(\"que dia es tu cumple\")\n",
    "fecha_cumple = diacumple + \" \" + mescumple\n",
    "print(fecha_cumple)"
   ]
  },
  {
   "cell_type": "code",
   "execution_count": 85,
   "metadata": {},
   "outputs": [
    {
     "name": "stdout",
     "output_type": "stream",
     "text": [
      "Mi fecha de cumpleaños es: 19 noviembre\n"
     ]
    }
   ],
   "source": [
    "# 37. \n",
    "print(\"Mi fecha de cumpleaños es:\",fecha_cumple)"
   ]
  },
  {
   "cell_type": "code",
   "execution_count": 86,
   "metadata": {},
   "outputs": [
    {
     "name": "stdout",
     "output_type": "stream",
     "text": [
      "CUATRO\n"
     ]
    }
   ],
   "source": [
    "# 38. \n",
    "print(perros.upper())"
   ]
  }
 ],
 "metadata": {
  "kernelspec": {
   "display_name": "Python 3",
   "language": "python",
   "name": "python3"
  },
  "language_info": {
   "codemirror_mode": {
    "name": "ipython",
    "version": 3
   },
   "file_extension": ".py",
   "mimetype": "text/x-python",
   "name": "python",
   "nbconvert_exporter": "python",
   "pygments_lexer": "ipython3",
   "version": "3.11.7"
  }
 },
 "nbformat": 4,
 "nbformat_minor": 2
}
