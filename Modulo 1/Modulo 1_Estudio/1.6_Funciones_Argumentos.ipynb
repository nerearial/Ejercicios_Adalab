{
 "cells": [
  {
   "cell_type": "code",
   "execution_count": 43,
   "metadata": {},
   "outputs": [
    {
     "ename": "SyntaxError",
     "evalue": "incomplete input (3829730705.py, line 5)",
     "output_type": "error",
     "traceback": [
      "\u001b[1;36m  Cell \u001b[1;32mIn[43], line 5\u001b[1;36m\u001b[0m\n\u001b[1;33m    # cuerpo de la funcion\u001b[0m\n\u001b[1;37m                          ^\u001b[0m\n\u001b[1;31mSyntaxError\u001b[0m\u001b[1;31m:\u001b[0m incomplete input\n"
     ]
    }
   ],
   "source": [
    "## DIFERENCIACIÓN DE PARÁMETROS OBLIGATORIOS CON LOS POR DEFECTO.\n",
    "# Siempre debe ir el parámetro obligatorio, despues el por defecto.\n",
    "\n",
    "def mifuncion(parametro1, parametro2=valor_por_defecto):\n",
    "    # cuerpo de la funcion"
   ]
  },
  {
   "cell_type": "code",
   "execution_count": null,
   "metadata": {},
   "outputs": [
    {
     "name": "stdout",
     "output_type": "stream",
     "text": [
      "hola, Alicia, buenos días!\n"
     ]
    }
   ],
   "source": [
    "# Funcion de saludo personalizada\n",
    "\n",
    "def buenos_dias(nombre, saludo=\"buenos días!\"):\n",
    "    frase = f\"hola, {nombre}, {saludo}\"\n",
    "    return frase\n",
    "\n",
    "saludo1 = buenos_dias(\"Alicia\")\n",
    "print(saludo1)"
   ]
  },
  {
   "cell_type": "code",
   "execution_count": null,
   "metadata": {},
   "outputs": [
    {
     "name": "stdout",
     "output_type": "stream",
     "text": [
      "hola, María, buenos días!\n"
     ]
    }
   ],
   "source": [
    "saludo1 = buenos_dias(\"María\")\n",
    "print(saludo1)"
   ]
  },
  {
   "cell_type": "code",
   "execution_count": null,
   "metadata": {},
   "outputs": [
    {
     "name": "stdout",
     "output_type": "stream",
     "text": [
      "Hola,hola, Rebeca, Cómo estás?\n"
     ]
    }
   ],
   "source": [
    "# Como cambiar el parámetro por defecto\n",
    "\n",
    "saludo3 = buenos_dias(\"Rebeca\",saludo=\"Cómo estás?\")\n",
    "print(f\"Hola,{saludo3}\")"
   ]
  },
  {
   "cell_type": "code",
   "execution_count": null,
   "metadata": {},
   "outputs": [
    {
     "name": "stdout",
     "output_type": "stream",
     "text": [
      "El resultado de la multiplicación es: 2\n",
      "3\n"
     ]
    }
   ],
   "source": [
    "# Creamos una calculadora:\n",
    "\n",
    "def calculadora(numero1, numero2, operacion = \"multiplicacion\"):\n",
    "    if operacion == \"multiplicacion\":\n",
    "        return numero1 * numero2\n",
    "    elif operacion == \"suma\":\n",
    "        return numero1 + numero2\n",
    "    elif operacion == \"resta\":\n",
    "        return numero1 - numero2\n",
    "    else:\n",
    "        return numero1/numero2\n",
    "\n",
    "resultado = calculadora(1,2)\n",
    "print(f\"El resultado de la multiplicación es: {resultado}\")\n",
    "\n",
    "# --------------------\n",
    "resultado2 = calculadora(1,2, operacion=\"suma\")\n",
    "print(resultado2)\n"
   ]
  },
  {
   "cell_type": "code",
   "execution_count": null,
   "metadata": {},
   "outputs": [
    {
     "name": "stdout",
     "output_type": "stream",
     "text": [
      "Producto:camiseta\n",
      "Cantidad:1\n",
      "Descuento:0\n",
      "Total a pagar:10\n",
      "--------------------\n",
      "Producto:pantalon\n",
      "Cantidad:2\n",
      "Descuento:0\n",
      "Total a pagar:20\n",
      "--------------------\n",
      "Producto:pantalones\n",
      "Cantidad:3\n",
      "Descuento:0.1\n",
      "Total a pagar:27.0\n"
     ]
    }
   ],
   "source": [
    "# Vamos a crear otra función.\n",
    "\n",
    "def calcular_precio(producto, cantidad=1, descuento=0):\n",
    "    precio_unitario = 10 # Precio por unidad de producto\n",
    "    total = cantidad * precio_unitario * (1 - descuento)\n",
    "    print(f\"Producto:{producto}\")\n",
    "    print(f\"Cantidad:{cantidad}\")\n",
    "    print(f\"Descuento:{descuento}\")\n",
    "    print(f\"Total a pagar:{total}\")\n",
    "\n",
    "precio_final1 = calcular_precio(\"camiseta\")\n",
    "print(\"--------------------\")\n",
    "precio_final2 = calcular_precio(\"pantalon\",cantidad=2)\n",
    "print(\"--------------------\")\n",
    "precio_final3 = calcular_precio(\"pantalones\",cantidad=3,descuento=0.1)"
   ]
  },
  {
   "cell_type": "code",
   "execution_count": null,
   "metadata": {},
   "outputs": [
    {
     "name": "stdout",
     "output_type": "stream",
     "text": [
      "La media de las alumnas en esta clase es: 7.0\n"
     ]
    }
   ],
   "source": [
    "### ARGS \n",
    "\n",
    "def media_clase1(alumna1,alumna2,alumna3):\n",
    "    return (alumna1 + alumna2 + alumna3) / 3\n",
    "\n",
    "media1 = media_clase1(7, 9, 5)\n",
    "print(f\"La media de las alumnas en esta clase es: {media1}\")"
   ]
  },
  {
   "cell_type": "code",
   "execution_count": null,
   "metadata": {},
   "outputs": [],
   "source": [
    "# Si queremos cambiar el número de parámetros:\n",
    "\n",
    "def media_clase2 (*args):\n",
    "    return sum(args) / len(args)"
   ]
  },
  {
   "cell_type": "code",
   "execution_count": null,
   "metadata": {},
   "outputs": [
    {
     "data": {
      "text/plain": [
       "4.0"
      ]
     },
     "execution_count": 30,
     "metadata": {},
     "output_type": "execute_result"
    }
   ],
   "source": [
    "# Probamos el ejemplo\n",
    "media2 = media_clase2(1,2,3,4,5,6,7)\n",
    "media2"
   ]
  },
  {
   "cell_type": "code",
   "execution_count": null,
   "metadata": {},
   "outputs": [
    {
     "name": "stdout",
     "output_type": "stream",
     "text": [
      "La nota media de las alumnas sin cambiar el valor por defecto es 7.5\n",
      "--------\n",
      "La nota media de las alumnas cambiando el valor por defecto es: 6.0\n"
     ]
    }
   ],
   "source": [
    "# Que pasa si a un args le metemos un parámetro por defecto.\n",
    "\n",
    "def media_clase3(*args,peso=1):\n",
    "    total = sum(args)\n",
    "    media = total / len(args)\n",
    "    media_con_peso = media * peso\n",
    "    return media_con_peso\n",
    "\n",
    "media_sin_peso = media_clase3(7,8,9,6,7.5)\n",
    "print(f\"La nota media de las alumnas sin cambiar el valor por defecto es {media_sin_peso}\")\n",
    "print(\"--------\")\n",
    "media_con_peso = media_clase3(7, 8, 9, 6, 7.5, peso=0.8)\n",
    "print(f\"La nota media de las alumnas cambiando el valor por defecto es: {media_con_peso}\")"
   ]
  },
  {
   "cell_type": "code",
   "execution_count": null,
   "metadata": {},
   "outputs": [],
   "source": [
    "## KWARGS\n",
    "\n",
    "# Primero creamos nuestro diccionario:\n",
    "\n",
    "alumnas = { \"nombre\":[\"Lorena\", \"Laura\", \"Loreto\"], \n",
    "            \"apellidos\": [\"López\", \"Rodriguez\", \"Luengo\"], \n",
    "            \"notas\": [[7,8,5,10],[8,6,9,10], [6,7,7,10] ]}"
   ]
  },
  {
   "cell_type": "code",
   "execution_count": null,
   "metadata": {},
   "outputs": [
    {
     "data": {
      "text/plain": [
       "['Lorena', 'Laura', 'Loreto']"
      ]
     },
     "execution_count": 35,
     "metadata": {},
     "output_type": "execute_result"
    }
   ],
   "source": [
    "# Para saber los values:\n",
    "\n",
    "alumnas[\"nombre\"]"
   ]
  },
  {
   "cell_type": "code",
   "execution_count": null,
   "metadata": {},
   "outputs": [
    {
     "data": {
      "text/plain": [
       "'Loreto'"
      ]
     },
     "execution_count": 36,
     "metadata": {},
     "output_type": "execute_result"
    }
   ],
   "source": [
    "# Para iterar lo que queremos saber:\n",
    "alumnas[\"nombre\"][2]"
   ]
  },
  {
   "cell_type": "code",
   "execution_count": null,
   "metadata": {},
   "outputs": [
    {
     "name": "stdout",
     "output_type": "stream",
     "text": [
      "La media de las notas de las alumnas es:\n",
      "las media de Lorena López de Data Analytics de  son: 7.5\n",
      "las media de Laura Rodriguez de Data Analytics de  son: 8.25\n",
      "las media de Loreto Luengo de Data Analytics de  son: 7.5\n"
     ]
    }
   ],
   "source": [
    "# Ojo, los kwargs siempre al final\n",
    "\n",
    "def notas_alumnas(bootcamp = \"Data Analytics\", **kwargs ):\n",
    "\n",
    "    # ponemos un contador para ir iterando cada elemento del diccionario\n",
    "    contador = 0\n",
    "\n",
    "    # usamos while para determinar el numero de veces que tenemos que iterar\n",
    "    while contador < len(kwargs):\n",
    "\n",
    "        # media para cada una de las alumnas, \n",
    "        # accedemos a la key sobre la que queremos calcular la media\n",
    "        # luego indicamos el indice del que queremos calcular la media para eso usamos el contador\n",
    "        media = sum(kwargs[\"notas\"][contador]) / len(kwargs[\"notas\"][contador])\n",
    "\n",
    "        # hacemos un print para saber que alumna es la que corresponde cada media calculada en el paso anterior\n",
    "        print(f'las media de {kwargs[\"nombre\"][contador]} {kwargs[\"apellidos\"][contador]} de {bootcamp} de  son: {media}')\n",
    "\n",
    "        # sumamos 1 al contador para que en la siguiente iteración ya la cuente\n",
    "        contador += 1\n",
    "\n",
    "print(\"La media de las notas de las alumnas es:\")\n",
    "notas_alumnas(**alumnas)"
   ]
  },
  {
   "cell_type": "markdown",
   "metadata": {},
   "source": [
    "Veamos otro ejemplo conn *kwargs*. Imaginemos ahora que estamos a final de mes y tenemos que ir a la compra. Sin embargo, no nos podemos permitir comprar nada cuyo valor sea mayor de 3 euros. Aquellos productos que podamos comprar, los apendearemos a una lista la cuál queremos que nos devuelva la función para saber que es lo que podemos comprar. "
   ]
  },
  {
   "cell_type": "code",
   "execution_count": 46,
   "metadata": {},
   "outputs": [
    {
     "ename": "SyntaxError",
     "evalue": "invalid syntax (3576194659.py, line 2)",
     "output_type": "error",
     "traceback": [
      "\u001b[1;36m  Cell \u001b[1;32mIn[46], line 2\u001b[1;36m\u001b[0m\n\u001b[1;33m    ,\u001b[0m\n\u001b[1;37m    ^\u001b[0m\n\u001b[1;31mSyntaxError\u001b[0m\u001b[1;31m:\u001b[0m invalid syntax\n"
     ]
    }
   ],
   "source": [
    "diccionario = { \n",
    "              , \n",
    "              , \n",
    "              }"
   ]
  },
  {
   "cell_type": "code",
   "execution_count": 48,
   "metadata": {},
   "outputs": [
    {
     "name": "stdout",
     "output_type": "stream",
     "text": [
      "{'brocoli': 1.5, 'chorizo': 4.5, 'zanahoria': 1.3, 'jamon': 7.9}\n",
      "Este mes no puedes comprar chorizo\n",
      "Este mes no puedes comprar jamon\n",
      "Este mes podremos comprar: ['brocoli', 'zanahoria']\n",
      "------------------\n",
      "{'brocoli': 1.5, 'leche': 0.9, 'papel_higienico': 3.9, 'avellanas': 5.9}\n",
      "Este mes no puedes comprar papel_higienico\n",
      "Este mes no puedes comprar avellanas\n",
      "Este mes podremos comprar: ['brocoli', 'leche']\n"
     ]
    }
   ],
   "source": [
    "def compra_fin_mes(**kwargs):\n",
    "\n",
    "    print(kwargs)\n",
    "\n",
    "    lista_compra = []\n",
    "\n",
    "    for k,v in kwargs.items():\n",
    "        if v < 3:\n",
    "            lista_compra.append(k)\n",
    "        else:\n",
    "            print(f\"Este mes no puedes comprar {k}\")\n",
    "    return lista_compra\n",
    "\n",
    "que_comprar_enero = compra_fin_mes(brocoli=  1.50, chorizo = 4.5, zanahoria = 1.30, jamon = 7.90)\n",
    "print(\"Este mes podremos comprar:\",  que_comprar_enero)\n",
    "\n",
    "print(\"------------------\")\n",
    "\n",
    "# mostremos otro ejemplo\n",
    "que_comprar_febrero = compra_fin_mes(brocoli=  1.50, leche = 0.90, papel_higienico = 3.90, avellanas = 5.90 )\n",
    "print(\"Este mes podremos comprar:\",  que_comprar_febrero)\n"
   ]
  },
  {
   "cell_type": "code",
   "execution_count": null,
   "metadata": {},
   "outputs": [],
   "source": [
    "# EJERCICIOS -------\n",
    "\n",
    "# 1. Función que tome un número arbitrario de cadenas de texto como argumentos\n",
    "# y devuelva una cadena de texto que sea concatenación de todas ellas.\n",
    "\n",
    "def ejercicio1(**args)"
   ]
  }
 ],
 "metadata": {
  "kernelspec": {
   "display_name": "base",
   "language": "python",
   "name": "python3"
  },
  "language_info": {
   "codemirror_mode": {
    "name": "ipython",
    "version": 3
   },
   "file_extension": ".py",
   "mimetype": "text/x-python",
   "name": "python",
   "nbconvert_exporter": "python",
   "pygments_lexer": "ipython3",
   "version": "3.11.7"
  }
 },
 "nbformat": 4,
 "nbformat_minor": 2
}
