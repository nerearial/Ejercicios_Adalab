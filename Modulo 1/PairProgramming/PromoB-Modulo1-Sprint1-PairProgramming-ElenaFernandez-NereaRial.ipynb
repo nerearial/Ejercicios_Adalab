{
 "cells": [
  {
   "cell_type": "code",
   "execution_count": null,
   "metadata": {},
   "outputs": [],
   "source": []
  },
  {
   "cell_type": "markdown",
   "metadata": {},
   "source": [
    "## Ejercicios diccionarios"
   ]
  },
  {
   "cell_type": "code",
   "execution_count": 7,
   "metadata": {},
   "outputs": [
    {
     "name": "stdout",
     "output_type": "stream",
     "text": [
      "{'altura1': 1, 'altura2': 2, 'altura3': 3, 'altura4': 4, 'altura5': 5}\n"
     ]
    },
    {
     "ename": "KeyError",
     "evalue": "'altura6'",
     "output_type": "error",
     "traceback": [
      "\u001b[1;31m---------------------------------------------------------------------------\u001b[0m",
      "\u001b[1;31mKeyError\u001b[0m                                  Traceback (most recent call last)",
      "Cell \u001b[1;32mIn[7], line 11\u001b[0m\n\u001b[0;32m      9\u001b[0m \u001b[38;5;66;03m# 3. Accede al valor de una clave \u001b[39;00m\n\u001b[0;32m     10\u001b[0m clave \u001b[38;5;241m=\u001b[39m \u001b[38;5;28minput\u001b[39m(\u001b[38;5;124m\"\u001b[39m\u001b[38;5;124m¿Qué altura quieres saber\u001b[39m\u001b[38;5;124m\"\u001b[39m)\n\u001b[1;32m---> 11\u001b[0m \u001b[38;5;28mprint\u001b[39m(alturas[clave])\n\u001b[0;32m     13\u001b[0m \u001b[38;5;66;03m# 4. Agregar un nuevo par clave-valor al diccionaario\u001b[39;00m\n\u001b[0;32m     14\u001b[0m alturas\u001b[38;5;241m.\u001b[39mupdate({\u001b[38;5;124m\"\u001b[39m\u001b[38;5;124maltura6\u001b[39m\u001b[38;5;124m\"\u001b[39m:\u001b[38;5;241m6\u001b[39m})\n",
      "\u001b[1;31mKeyError\u001b[0m: 'altura6'"
     ]
    }
   ],
   "source": [
    "# 1. Crea un diccionario vacio\n",
    "dicc = {}\n",
    "\n",
    "# 2. Crear un diccionario con elementos\n",
    "# con pares clave-valor predefinidos. \n",
    "alturas = {\"altura1\":1,\"altura2\":2,\"altura3\":3,\"altura4\":4,\"altura5\":5}\n",
    "print(alturas)\n",
    "\n",
    "# 3. Accede al valor de una clave \n",
    "clave = input(\"¿Qué altura quieres saber\")\n",
    "print(alturas[clave])\n"
   ]
  },
  {
   "cell_type": "code",
   "execution_count": 9,
   "metadata": {},
   "outputs": [
    {
     "name": "stdout",
     "output_type": "stream",
     "text": [
      "{'altura1': 1, 'altura2': 2, 'altura3': 3, 'altura4': 4, 'altura5': 5, 'altura6': 6}\n"
     ]
    }
   ],
   "source": [
    "# 4. Agregar un nuevo par clave-valor al diccionaario\n",
    "alturas.update({\"altura6\":6})\n",
    "print(alturas)"
   ]
  },
  {
   "cell_type": "code",
   "execution_count": null,
   "metadata": {},
   "outputs": [],
   "source": []
  },
  {
   "cell_type": "code",
   "execution_count": 10,
   "metadata": {},
   "outputs": [
    {
     "name": "stdout",
     "output_type": "stream",
     "text": [
      "{'altura1': 1, 'altura2': 2, 'altura3': 3, 'altura4': 4, 'altura5': 5, 'altura6': 6}\n",
      "{'altura1': 1, 'altura2': 2, 'altura4': 4, 'altura5': 5, 'altura6': 6}\n"
     ]
    }
   ],
   "source": [
    "# 5. Actualizar el valor de una clave en un diccionario\n",
    "print(alturas)\n",
    "expulsar = input(\"¿Qué valor quieres eliminar?\")\n",
    "alturas.pop(expulsar)\n",
    "print(alturas)"
   ]
  },
  {
   "cell_type": "code",
   "execution_count": 12,
   "metadata": {},
   "outputs": [],
   "source": [
    "# 7. Verificar si una clave está presente en el diccionario\n",
    "verificar = input(\"¿Qué clave quieres verificar que está?\")\n",
    "alturas.get(verificar)"
   ]
  },
  {
   "cell_type": "code",
   "execution_count": 13,
   "metadata": {},
   "outputs": [
    {
     "name": "stdout",
     "output_type": "stream",
     "text": [
      "dict_keys(['altura1', 'altura2', 'altura4', 'altura5', 'altura6'])\n"
     ]
    }
   ],
   "source": [
    "# 8. Obtener una lista de todas las claves de un diccionario\n",
    "print(alturas.keys())"
   ]
  },
  {
   "cell_type": "code",
   "execution_count": 15,
   "metadata": {},
   "outputs": [
    {
     "name": "stdout",
     "output_type": "stream",
     "text": [
      "dict_values([1, 2, 4, 5, 6])\n"
     ]
    }
   ],
   "source": [
    "# 9. Lo mismo pero valores\n",
    "print(alturas.values())"
   ]
  },
  {
   "cell_type": "code",
   "execution_count": 20,
   "metadata": {},
   "outputs": [
    {
     "name": "stdout",
     "output_type": "stream",
     "text": [
      "{'altura1': 1, 'altura2': 2, 'altura4': 4, 'altura5': 5, 'altura6': 6, 'altura3': '3'}\n"
     ]
    }
   ],
   "source": [
    "# 10. Utilizar setdefault() para establecer valor predet. si la clave no exist.\n",
    "alturas.setdefault(\"altura3\",3)\n",
    "print(alturas)"
   ]
  },
  {
   "cell_type": "code",
   "execution_count": 23,
   "metadata": {},
   "outputs": [
    {
     "ename": "KeyError",
     "evalue": "'altura1'",
     "output_type": "error",
     "traceback": [
      "\u001b[1;31m---------------------------------------------------------------------------\u001b[0m",
      "\u001b[1;31mKeyError\u001b[0m                                  Traceback (most recent call last)",
      "Cell \u001b[1;32mIn[23], line 2\u001b[0m\n\u001b[0;32m      1\u001b[0m \u001b[38;5;66;03m# Manipulacion pop() y popitem()\u001b[39;00m\n\u001b[1;32m----> 2\u001b[0m alturas\u001b[38;5;241m.\u001b[39mpop(\u001b[38;5;124m\"\u001b[39m\u001b[38;5;124maltura1\u001b[39m\u001b[38;5;124m\"\u001b[39m)\n\u001b[0;32m      3\u001b[0m alturas\u001b[38;5;241m.\u001b[39mpopitem()\n",
      "\u001b[1;31mKeyError\u001b[0m: 'altura1'"
     ]
    }
   ],
   "source": [
    "# Manipulacion pop() y popitem()\n",
    "alturas.pop(\"altura1\")\n"
   ]
  },
  {
   "cell_type": "code",
   "execution_count": 24,
   "metadata": {},
   "outputs": [
    {
     "data": {
      "text/plain": [
       "('altura3', '3')"
      ]
     },
     "execution_count": 24,
     "metadata": {},
     "output_type": "execute_result"
    }
   ],
   "source": [
    "alturas.popitem()"
   ]
  },
  {
   "cell_type": "markdown",
   "metadata": {},
   "source": [
    "## EJERCICIOS SETS"
   ]
  },
  {
   "cell_type": "code",
   "execution_count": 25,
   "metadata": {},
   "outputs": [],
   "source": [
    "# Crear un conjunto vacío\n",
    "set0 = set()"
   ]
  },
  {
   "cell_type": "code",
   "execution_count": 43,
   "metadata": {},
   "outputs": [],
   "source": [
    "# 2. Crear un conjunto con elementos\n",
    "set1 = {1,2,3,4,5,6}"
   ]
  },
  {
   "cell_type": "code",
   "execution_count": 44,
   "metadata": {},
   "outputs": [
    {
     "name": "stdout",
     "output_type": "stream",
     "text": [
      "{1, 2, 3, 4, 5, 6, 7}\n",
      "{1, 2, 3, 4, 5, 6, 7, 8, 9}\n"
     ]
    }
   ],
   "source": [
    "# 3. Agregar elementos\n",
    "set1.add(7)\n",
    "print(set1)\n",
    "\n",
    "set2 = {8,9}\n",
    "set1 = set1.union(set2)\n",
    "print(set1)"
   ]
  },
  {
   "cell_type": "code",
   "execution_count": 45,
   "metadata": {},
   "outputs": [
    {
     "name": "stdout",
     "output_type": "stream",
     "text": [
      "{1, 2, 3, 4, 5, 6, 7, 8, 9}\n"
     ]
    }
   ],
   "source": [
    "print(set1)"
   ]
  },
  {
   "cell_type": "code",
   "execution_count": 46,
   "metadata": {},
   "outputs": [
    {
     "name": "stdout",
     "output_type": "stream",
     "text": [
      "{1, 2, 3, 5, 6, 7, 8, 9}\n"
     ]
    }
   ],
   "source": [
    "# 4. Eliminar un elemento de u conjunto\n",
    "eliminacion = input(\"¿Qué valor del set quieres eliminar?\")\n",
    "eliminacion = int(eliminacion)\n",
    "set1.remove(eliminacion)\n",
    "print(set1)"
   ]
  },
  {
   "cell_type": "code",
   "execution_count": 48,
   "metadata": {},
   "outputs": [
    {
     "name": "stdout",
     "output_type": "stream",
     "text": [
      "True\n"
     ]
    }
   ],
   "source": [
    "# 5. Verificar la pertenencia de un elemento en un conjunto\n",
    "print(1 in set1)"
   ]
  },
  {
   "cell_type": "code",
   "execution_count": 51,
   "metadata": {},
   "outputs": [
    {
     "name": "stdout",
     "output_type": "stream",
     "text": [
      "{1, 2, 3, 5, 6, 7, 8, 9, 12, 13, 14}\n"
     ]
    }
   ],
   "source": [
    "# 6. Realizar una unión de conjunto\n",
    "set3 = {12,13,14}\n",
    "set1 = set1.union(set3)\n",
    "print(set1)\n"
   ]
  },
  {
   "cell_type": "code",
   "execution_count": 52,
   "metadata": {},
   "outputs": [
    {
     "name": "stdout",
     "output_type": "stream",
     "text": [
      "{12, 13, 14}\n"
     ]
    }
   ],
   "source": [
    "# 7 . interseccion\n",
    "set4 = set1.intersection(set3)\n",
    "print(set4)"
   ]
  },
  {
   "cell_type": "code",
   "execution_count": 53,
   "metadata": {},
   "outputs": [
    {
     "name": "stdout",
     "output_type": "stream",
     "text": [
      "{1, 2, 3, 5, 6, 7, 8, 9}\n"
     ]
    }
   ],
   "source": [
    "# 8 . diferencia\n",
    "set4 = set1.difference(set3)\n",
    "print(set4)"
   ]
  },
  {
   "cell_type": "code",
   "execution_count": 54,
   "metadata": {},
   "outputs": [
    {
     "data": {
      "text/plain": [
       "False"
      ]
     },
     "execution_count": 54,
     "metadata": {},
     "output_type": "execute_result"
    }
   ],
   "source": [
    "# 9. verificar dados dos conjuntos, verifica si uno es subconj. del otro\n",
    "set1.issubset(set4)\n"
   ]
  }
 ],
 "metadata": {
  "kernelspec": {
   "display_name": "base",
   "language": "python",
   "name": "python3"
  },
  "language_info": {
   "codemirror_mode": {
    "name": "ipython",
    "version": 3
   },
   "file_extension": ".py",
   "mimetype": "text/x-python",
   "name": "python",
   "nbconvert_exporter": "python",
   "pygments_lexer": "ipython3",
   "version": "3.11.7"
  }
 },
 "nbformat": 4,
 "nbformat_minor": 2
}
