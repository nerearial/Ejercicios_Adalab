{
 "cells": [
  {
   "cell_type": "markdown",
   "metadata": {},
   "source": [
    "### EJERCICIOS SENTENCIAS DE CONTROL 2 - BUCLES FOR"
   ]
  },
  {
   "cell_type": "code",
   "execution_count": 2,
   "metadata": {},
   "outputs": [
    {
     "name": "stdout",
     "output_type": "stream",
     "text": [
      "Las temperaturas bajas son: [2, 1]\n",
      "Las temperaturas medias son: [12]\n",
      "Las temperaturas altas son: [45, 67, 23, 45, 66, 34, 67, 99, 98, 67, 64, 44, 100]\n"
     ]
    }
   ],
   "source": [
    "# Usando la siguiente lista:\n",
    "\n",
    "temperaturas = [2,45,67,23, 45,66,12,1,34,67,99,98,67,64, 44, 100]\n",
    "\n",
    "# Crea listas nuevas donde:\n",
    "# a) En la primera tengamos temperaturas entre 0-10\n",
    "# b) En la segunda tengamos temperaturas entre 11-20\n",
    "# c) en la tercera tengamos temperaturas por encima de 20\n",
    "\n",
    "bajas_temp = []\n",
    "medias_temp = []\n",
    "altas_temp = []\n",
    "\n",
    "for temperatura in temperaturas:\n",
    "    if 0 <= temperatura <= 10:\n",
    "        bajas_temp.append(temperatura)\n",
    "    elif 11 <= temperatura <= 20:\n",
    "        medias_temp.append(temperatura)\n",
    "    else:\n",
    "        altas_temp.append(temperatura)\n",
    "print(\"Las temperaturas bajas son:\",bajas_temp)\n",
    "print(\"Las temperaturas medias son:\",medias_temp)\n",
    "print(\"Las temperaturas altas son:\",altas_temp)"
   ]
  },
  {
   "cell_type": "code",
   "execution_count": 4,
   "metadata": {},
   "outputs": [
    {
     "name": "stdout",
     "output_type": "stream",
     "text": [
      "Las temperaturas bajas en grados Fahrenheit son: [35.6, 33.8]\n",
      "Las temperaturas medias en grados Fahrenheit son: [53.6]\n",
      "Las temperaturas altas en grados Fahrenheit son: [113.0, 152.60000000000002, 73.4, 113.0, 150.8, 93.2, 152.60000000000002, 210.20000000000002, 208.4, 152.60000000000002, 147.2, 111.2, 212.0]\n"
     ]
    }
   ],
   "source": [
    "# 2. Las temperaturas están en Celsius. Para cada una de las listas, \n",
    "# en el anterior ejercicio, conviértelas en grados fahrenheit.\n",
    "f_bajas_temp = []\n",
    "f_medias_temp = []\n",
    "f_altas_temp = []\n",
    "\n",
    "for temperatura in bajas_temp:\n",
    "    f_bajas_temp.append(temperatura*(9/5)+32)\n",
    "for temperatura in medias_temp:\n",
    "    f_medias_temp.append(temperatura*(9/5)+32)\n",
    "for temperatura in altas_temp:\n",
    "    f_altas_temp.append(temperatura*(9/5)+32)\n",
    "\n",
    "print(f\"Las temperaturas bajas en grados Fahrenheit son:\",f_bajas_temp)\n",
    "print(f\"Las temperaturas medias en grados Fahrenheit son:\",f_medias_temp)\n",
    "print(f\"Las temperaturas altas en grados Fahrenheit son:\",f_altas_temp)"
   ]
  },
  {
   "cell_type": "code",
   "execution_count": 6,
   "metadata": {},
   "outputs": [
    {
     "name": "stdout",
     "output_type": "stream",
     "text": [
      "0\n",
      "1\n",
      "2\n",
      "3\n",
      "4\n",
      "5\n"
     ]
    }
   ],
   "source": [
    "# 3. Define e imprime un rango de 0 a 6 (excluido)\n",
    "\n",
    "marias = range(0,6)\n",
    "for i in marias:\n",
    "    print(i)"
   ]
  },
  {
   "cell_type": "code",
   "execution_count": 7,
   "metadata": {},
   "outputs": [
    {
     "name": "stdout",
     "output_type": "stream",
     "text": [
      "3\n",
      "4\n",
      "5\n",
      "6\n"
     ]
    }
   ],
   "source": [
    "# 4. Define e imprime un rango de 3 a 6 ambos incluidos\n",
    "\n",
    "mariass = range (3,7)\n",
    "for i in mariass:\n",
    "    print(i)"
   ]
  },
  {
   "cell_type": "code",
   "execution_count": 8,
   "metadata": {},
   "outputs": [
    {
     "name": "stdout",
     "output_type": "stream",
     "text": [
      "6\n",
      "7\n",
      "8\n"
     ]
    }
   ],
   "source": [
    "# 5. Define e imprime un rango de 5 a 9 ambos excluidos.\n",
    "\n",
    "nereas = range (6,9)\n",
    "for i in nereas:\n",
    "    print(i)"
   ]
  },
  {
   "cell_type": "code",
   "execution_count": 9,
   "metadata": {},
   "outputs": [
    {
     "name": "stdout",
     "output_type": "stream",
     "text": [
      "2\n",
      "3\n",
      "4\n"
     ]
    }
   ],
   "source": [
    "# 6. Define e imprime un rango de 3 números que empiece en 2.\n",
    "\n",
    "nerea = range(2,5)\n",
    "for i in nerea:\n",
    "    print(i)"
   ]
  },
  {
   "cell_type": "code",
   "execution_count": 11,
   "metadata": {},
   "outputs": [
    {
     "name": "stdout",
     "output_type": "stream",
     "text": [
      "2\n",
      "5\n",
      "8\n",
      "11\n"
     ]
    }
   ],
   "source": [
    "# 7. Define e imprime un rango que empiece en 2, aumentando cada paso por 3 y que pare antes de llegar al número 13.\n",
    "\n",
    "variable = range(2,13,3)\n",
    "\n",
    "for i in variable:\n",
    "        print(i)\n"
   ]
  },
  {
   "cell_type": "code",
   "execution_count": 16,
   "metadata": {},
   "outputs": [
    {
     "name": "stdout",
     "output_type": "stream",
     "text": [
      "1\n",
      "3\n",
      "5\n",
      "7\n",
      "9\n"
     ]
    }
   ],
   "source": [
    "# 8. Define e imprime un rango con todos los valores impares hasta el 10.\n",
    "\n",
    "for i in range(1,11,2):\n",
    "    print(i)"
   ]
  },
  {
   "cell_type": "code",
   "execution_count": 19,
   "metadata": {},
   "outputs": [
    {
     "name": "stdout",
     "output_type": "stream",
     "text": [
      "[4, 2025, 4489, 529, 2025, 4356, 144, 1, 1156, 4489, 9801, 9604, 4489, 4096, 1936, 10000]\n"
     ]
    }
   ],
   "source": [
    "# 9. Crea una lista nueva donde tengamos los números de la lista temperaturas elevados al cuadrado.\n",
    "\n",
    "temperaturas_cuadrado = []\n",
    "\n",
    "for temp in temperaturas:\n",
    "    temperaturas_cuadrado.append(temp**2)\n",
    "print(temperaturas_cuadrado)"
   ]
  },
  {
   "cell_type": "code",
   "execution_count": 21,
   "metadata": {},
   "outputs": [
    {
     "name": "stdout",
     "output_type": "stream",
     "text": [
      "[2.0, 1012.5, 2244.5, 264.5, 1012.5, 2178.0, 72.0, 0.5, 578.0, 2244.5, 4900.5, 4802.0, 2244.5, 2048.0, 968.0, 5000.0]\n"
     ]
    }
   ],
   "source": [
    "# 10. Crea una lista nueva donde tengamos el resto de la division\n",
    "# de cada uno de los números elevados al cuadrado.\n",
    "\n",
    "lista_cuadrado_division = []\n",
    "\n",
    "for i in temperaturas_cuadrado:\n",
    "    lista_cuadrado_division.append(i/2)\n",
    "print(lista_cuadrado_division)"
   ]
  },
  {
   "cell_type": "code",
   "execution_count": 22,
   "metadata": {},
   "outputs": [
    {
     "name": "stdout",
     "output_type": "stream",
     "text": [
      "[2, 66, 12, 34, 98, 64, 44, 100]\n"
     ]
    }
   ],
   "source": [
    "# 11. Crea una lista nueva donde tengamos solo los elementos pares:\n",
    "\n",
    "lista_pares = []\n",
    "\n",
    "for i in temperaturas:\n",
    "    if i % 2 == 0:\n",
    "        lista_pares.append(i)\n",
    "    else:\n",
    "        pass\n",
    "\n",
    "print(lista_pares)\n",
    "        "
   ]
  },
  {
   "cell_type": "code",
   "execution_count": 23,
   "metadata": {},
   "outputs": [
    {
     "name": "stdout",
     "output_type": "stream",
     "text": [
      "[2, 45, 23, 45, 12, 1, 34, 44]\n"
     ]
    }
   ],
   "source": [
    "# 12. Crea una lista nueva donde tengamos solo los elementos que sean menores de 50.\n",
    "\n",
    "lista_menores = []\n",
    "\n",
    "for i in temperaturas:\n",
    "    if i < 50:\n",
    "        lista_menores.append(i)\n",
    "    else:\n",
    "        pass\n",
    "\n",
    "print(lista_menores)"
   ]
  },
  {
   "cell_type": "code",
   "execution_count": 24,
   "metadata": {},
   "outputs": [
    {
     "name": "stdout",
     "output_type": "stream",
     "text": [
      "['par', 'impar', 'impar', 'impar', 'impar', 'par', 'par', 'impar', 'par', 'impar', 'impar', 'par', 'impar', 'par', 'par', 'par']\n"
     ]
    }
   ],
   "source": [
    "# 13. Crea una lista donde tengamos los valores \"par\" e \"impar\",\n",
    "# en función de los valores de la lista original. \n",
    "\n",
    "lista_strings = []\n",
    "\n",
    "for i in temperaturas:\n",
    "    if i % 2 == 0:\n",
    "        lista_strings.append(\"par\")\n",
    "    else:\n",
    "        lista_strings.append(\"impar\")\n",
    "\n",
    "print(lista_strings)"
   ]
  },
  {
   "cell_type": "code",
   "execution_count": 25,
   "metadata": {},
   "outputs": [
    {
     "name": "stdout",
     "output_type": "stream",
     "text": [
      "La suma de los pares es:2\n",
      "La suma de los impares es:3\n"
     ]
    }
   ],
   "source": [
    "# 14. Pide al usuario un número entero positivo y suma los números pares e impares por separado hasta ese número.\n",
    "\n",
    "numero = int(input(\"Escribe un número entero positivo\"))\n",
    "suma_pares = 0\n",
    "suma_impares = 0\n",
    "\n",
    "for i in range(1,numero+1):\n",
    "    if i % 2 == 0:\n",
    "        suma_pares += 1\n",
    "    else:\n",
    "        suma_impares += 1\n",
    "\n",
    "print(f\"La suma de los pares es:{suma_pares}\")\n",
    "print(f\"La suma de los impares es:{suma_impares}\")\n",
    "\n"
   ]
  },
  {
   "cell_type": "code",
   "execution_count": 31,
   "metadata": {},
   "outputs": [
    {
     "data": {
      "text/plain": [
       "{'a': 1, 'e': 0, 'i': 0, 'o': 1, 'u': 0}"
      ]
     },
     "execution_count": 31,
     "metadata": {},
     "output_type": "execute_result"
    }
   ],
   "source": [
    "# 15. Pide al usuario ingresar una cadena y\n",
    "# cuenta cuántas veces aparece cada vocal en la cadena.\n",
    "\n",
    "frase = input(\"Introduce una frase\")\n",
    "vocales = {\"a\":0,\"e\":0,\"i\":0,\"o\":0,\"u\":0}\n",
    "\n",
    "for letra, key in vocales.items():\n",
    "    vocales[letra] += frase.count(letra)\n",
    "\n",
    "vocales\n",
    "        "
   ]
  }
 ],
 "metadata": {
  "kernelspec": {
   "display_name": "Python 3",
   "language": "python",
   "name": "python3"
  },
  "language_info": {
   "codemirror_mode": {
    "name": "ipython",
    "version": 3
   },
   "file_extension": ".py",
   "mimetype": "text/x-python",
   "name": "python",
   "nbconvert_exporter": "python",
   "pygments_lexer": "ipython3",
   "version": "3.11.9"
  }
 },
 "nbformat": 4,
 "nbformat_minor": 2
}
