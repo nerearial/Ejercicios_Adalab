{
 "cells": [
  {
   "cell_type": "markdown",
   "metadata": {},
   "source": [
    "# TITULO DEL EJERCICIO\n",
    "## PRIMER EJERCICIO"
   ]
  },
  {
   "cell_type": "markdown",
   "metadata": {},
   "source": [
    "***Nerea, asi para escribir en cursiva***"
   ]
  },
  {
   "cell_type": "markdown",
   "metadata": {},
   "source": [
    "***OJO, recordatorio! cuando tenemos que escribir \"documentación\" tendremos que utilizar Markdown, si es código click en + Code para escribir las líneas de código que deseemos***"
   ]
  },
  {
   "cell_type": "markdown",
   "metadata": {},
   "source": [
    "#### Los Markdown podemos clasificarlos en \"# TITULO\"; \"## SUBTITULO\" Y \"### Texto\", de todas maneras, tienes toda la info en: https://markdown.es/sintaxis-markdown/"
   ]
  },
  {
   "cell_type": "markdown",
   "metadata": {},
   "source": [
    "* EJERCICIO 1 - APRENDIENDO VARIABLES"
   ]
  },
  {
   "cell_type": "markdown",
   "metadata": {},
   "source": [
    "*** Siempre hay que utilizar un Kernel, arriba a la derecha \"Select Kernel\""
   ]
  },
  {
   "cell_type": "code",
   "execution_count": 1,
   "metadata": {},
   "outputs": [
    {
     "ename": "NameError",
     "evalue": "name 'a' is not defined",
     "output_type": "error",
     "traceback": [
      "\u001b[1;31m---------------------------------------------------------------------------\u001b[0m",
      "\u001b[1;31mNameError\u001b[0m                                 Traceback (most recent call last)",
      "Cell \u001b[1;32mIn[1], line 1\u001b[0m\n\u001b[1;32m----> 1\u001b[0m \u001b[43ma\u001b[49m\n",
      "\u001b[1;31mNameError\u001b[0m: name 'a' is not defined"
     ]
    }
   ],
   "source": [
    "a"
   ]
  },
  {
   "cell_type": "code",
   "execution_count": 16,
   "metadata": {},
   "outputs": [],
   "source": [
    "# \"a\" \"lo que ponemos entre comillas es un COMENTARIO, 1.2 es un float, un numero\""
   ]
  },
  {
   "cell_type": "code",
   "execution_count": 3,
   "metadata": {},
   "outputs": [],
   "source": [
    "metros = 1.87"
   ]
  },
  {
   "cell_type": "code",
   "execution_count": 5,
   "metadata": {},
   "outputs": [
    {
     "data": {
      "text/plain": [
       "1.87"
      ]
     },
     "execution_count": 5,
     "metadata": {},
     "output_type": "execute_result"
    }
   ],
   "source": [
    "metros"
   ]
  },
  {
   "cell_type": "code",
   "execution_count": 13,
   "metadata": {},
   "outputs": [
    {
     "name": "stdout",
     "output_type": "stream",
     "text": [
      "1.87\n"
     ]
    }
   ],
   "source": [
    "# cuando pongo print siempre me da el resultado de lo que ponemos entre ()\n",
    "print(metros)"
   ]
  },
  {
   "cell_type": "code",
   "execution_count": 8,
   "metadata": {},
   "outputs": [],
   "source": [
    "# Esto es un comentario sobre el código - los string es texto\n",
    "# Creamos una variable que se llama \"comida\""
   ]
  },
  {
   "cell_type": "code",
   "execution_count": 11,
   "metadata": {},
   "outputs": [],
   "source": [
    "comida = \"batata\""
   ]
  },
  {
   "cell_type": "code",
   "execution_count": 14,
   "metadata": {},
   "outputs": [
    {
     "name": "stdout",
     "output_type": "stream",
     "text": [
      "3\n"
     ]
    }
   ],
   "source": [
    "# creamos un variable numérico que sea cantidad\n",
    "cantidad = 3\n",
    "print(cantidad)"
   ]
  },
  {
   "cell_type": "code",
   "execution_count": 17,
   "metadata": {},
   "outputs": [
    {
     "name": "stdout",
     "output_type": "stream",
     "text": [
      "verde\n"
     ]
    }
   ],
   "source": [
    "# Creamos una variable del tipo 'string' que se llama categoria1\n",
    "categoria1 = \"verde\"\n",
    "print(categoria1)"
   ]
  },
  {
   "cell_type": "code",
   "execution_count": 18,
   "metadata": {},
   "outputs": [
    {
     "name": "stdout",
     "output_type": "stream",
     "text": [
      "azul\n"
     ]
    }
   ],
   "source": [
    "# Creamos una variable del tipo \"string\" que se llama categoria2\n",
    "categoria2 = \"azul\"\n",
    "print(categoria2)"
   ]
  },
  {
   "cell_type": "code",
   "execution_count": 19,
   "metadata": {},
   "outputs": [
    {
     "name": "stdout",
     "output_type": "stream",
     "text": [
      "verde oscuro\n"
     ]
    }
   ],
   "source": [
    "# Otro tipo de variable\n",
    "color_detalle = categoria1 + \" \" + \"oscuro\"\n",
    "print(color_detalle)"
   ]
  },
  {
   "cell_type": "code",
   "execution_count": 23,
   "metadata": {},
   "outputs": [
    {
     "name": "stdout",
     "output_type": "stream",
     "text": [
      "verde oscuro\n",
      "verde oscuro\n"
     ]
    }
   ],
   "source": [
    "print(categoria1+\" oscuro\") #ó así también\n",
    "print(categoria1, \"oscuro\")"
   ]
  },
  {
   "cell_type": "code",
   "execution_count": 24,
   "metadata": {},
   "outputs": [],
   "source": [
    "# definimos algunas variables con distintos datos numéricos\n",
    "b1 = 3.0\n",
    "b2 = 5\n",
    "b3 = 5.0\n",
    "b4 = 118"
   ]
  },
  {
   "cell_type": "code",
   "execution_count": 27,
   "metadata": {},
   "outputs": [
    {
     "name": "stdout",
     "output_type": "stream",
     "text": [
      "8.0\n",
      "113.0\n",
      "1.0\n",
      "8.0 113.0 1.0\n"
     ]
    }
   ],
   "source": [
    "# en esta celda hacemos un into a algunas operaciones básicas de python\n",
    "c1 = b1 + b2\n",
    "c2 = b4 - b3\n",
    "c3 = b3 / b2\n",
    "print(c1)\n",
    "print(c2)\n",
    "print(c3)\n",
    "print(c1,c2,c3)"
   ]
  },
  {
   "cell_type": "code",
   "execution_count": 29,
   "metadata": {},
   "outputs": [
    {
     "name": "stdout",
     "output_type": "stream",
     "text": [
      "c1  =  3.0  + 5\n"
     ]
    }
   ],
   "source": [
    "print(\"c1  = \", b1, \" +\", b2)\n",
    "# MUCHO CUIDADO CON LAS MAYUSCULAS PORQUE LAS RECONOCE"
   ]
  },
  {
   "cell_type": "code",
   "execution_count": 30,
   "metadata": {},
   "outputs": [
    {
     "name": "stdout",
     "output_type": "stream",
     "text": [
      "<class 'float'>\n",
      "<class 'float'>\n"
     ]
    }
   ],
   "source": [
    "# Vamos a revisar los tipos de nuestras variables\n",
    "t = type(b1)\n",
    "print(t)\n",
    "# asi se puede saber tambien el tipo de variable\n",
    "print(type(b1))"
   ]
  },
  {
   "cell_type": "code",
   "execution_count": 34,
   "metadata": {},
   "outputs": [
    {
     "name": "stdout",
     "output_type": "stream",
     "text": [
      "False\n"
     ]
    }
   ],
   "source": [
    "# Último tipo de variable, str es string, le estamos preguntando si la variable b1 es un string.\n",
    "print(isinstance(b1, str))"
   ]
  },
  {
   "cell_type": "code",
   "execution_count": 36,
   "metadata": {},
   "outputs": [
    {
     "name": "stdout",
     "output_type": "stream",
     "text": [
      "True\n"
     ]
    }
   ],
   "source": [
    "# Nos da que es falso, preguntamos si es un float\n",
    "# Buleano, es una variable que tiene dos probabilidades, 0 o 1. \n",
    "print(isinstance(b1,float))"
   ]
  },
  {
   "cell_type": "code",
   "execution_count": 37,
   "metadata": {},
   "outputs": [
    {
     "name": "stdout",
     "output_type": "stream",
     "text": [
      "True\n"
     ]
    }
   ],
   "source": [
    "# Como crear una variable buleana\n",
    "d1 = True\n",
    "print(isinstance(d1,bool))"
   ]
  },
  {
   "cell_type": "code",
   "execution_count": 38,
   "metadata": {},
   "outputs": [],
   "source": [
    "# Vamos a crear variables con nombre completos, para saber qué recogen\n",
    "unidades_por_pack_de_ahorro = 3\n",
    "packs_vendidos = 5\n",
    "unidades_en_almacen = 17"
   ]
  },
  {
   "cell_type": "code",
   "execution_count": 39,
   "metadata": {},
   "outputs": [
    {
     "name": "stdout",
     "output_type": "stream",
     "text": [
      "Has vendido 15\n"
     ]
    }
   ],
   "source": [
    "print('Has vendido', unidades_por_pack_de_ahorro * packs_vendidos)"
   ]
  },
  {
   "cell_type": "code",
   "execution_count": 40,
   "metadata": {},
   "outputs": [
    {
     "data": {
      "text/plain": [
       "25"
      ]
     },
     "execution_count": 40,
     "metadata": {},
     "output_type": "execute_result"
    }
   ],
   "source": [
    "# Cuando ponemos dos asteriscos (**), es elevar, es una potencia\n",
    "5**2"
   ]
  },
  {
   "cell_type": "code",
   "execution_count": 41,
   "metadata": {},
   "outputs": [
    {
     "name": "stdout",
     "output_type": "stream",
     "text": [
      "4\n"
     ]
    }
   ],
   "source": [
    "# Round significa redondear\n",
    "rita = 3.5\n",
    "maria = round(rita)\n",
    "print(maria)"
   ]
  },
  {
   "cell_type": "code",
   "execution_count": 49,
   "metadata": {},
   "outputs": [
    {
     "name": "stdout",
     "output_type": "stream",
     "text": [
      "False\n"
     ]
    }
   ],
   "source": [
    "# OPERACIONES BINARIAS\n",
    "# 1. Definimos unas variables\n",
    "cucharas_de_azucar = 5\n",
    "cucharas_en_receta1 = 7\n",
    "cucharas_en_receta2 = 5\n",
    "# Estoy preguntando si cucharas de azucar es igual a cucharas en receta1\n",
    "print(cucharas_de_azucar == cucharas_en_receta1)"
   ]
  },
  {
   "cell_type": "code",
   "execution_count": 50,
   "metadata": {},
   "outputs": [
    {
     "name": "stdout",
     "output_type": "stream",
     "text": [
      "True\n"
     ]
    }
   ],
   "source": [
    "# Para preguntarle lo contrario\n",
    "print(cucharas_de_azucar != cucharas_en_receta1)"
   ]
  },
  {
   "cell_type": "code",
   "execution_count": 51,
   "metadata": {},
   "outputs": [
    {
     "name": "stdout",
     "output_type": "stream",
     "text": [
      "False\n"
     ]
    }
   ],
   "source": [
    "# Para preguntarle si es la misma variable\n",
    "print(cucharas_de_azucar is cucharas_en_receta1)"
   ]
  },
  {
   "cell_type": "code",
   "execution_count": 54,
   "metadata": {},
   "outputs": [
    {
     "name": "stdout",
     "output_type": "stream",
     "text": [
      "False\n",
      "False\n"
     ]
    }
   ],
   "source": [
    "print(cucharas_de_azucar > cucharas_en_receta1)\n",
    "print(cucharas_de_azucar >= cucharas_en_receta1)"
   ]
  },
  {
   "cell_type": "code",
   "execution_count": 56,
   "metadata": {},
   "outputs": [
    {
     "name": "stdout",
     "output_type": "stream",
     "text": [
      "False\n"
     ]
    }
   ],
   "source": [
    "# vamos a probar and y or\n",
    "huevos_que_quedan = 4\n",
    "azucar_que_queda_litros = 250\n",
    "harina_bizcocho_que_queda_gramos = 500\n",
    "harina_trigo_que_queda_gramos = 500\n",
    "impulsor_quimico_que_queda_cucharas = 2\n",
    "\n",
    "print(huevos_que_quedan > azucar_que_queda_litros)"
   ]
  },
  {
   "cell_type": "code",
   "execution_count": 57,
   "metadata": {},
   "outputs": [
    {
     "name": "stdout",
     "output_type": "stream",
     "text": [
      "True\n"
     ]
    }
   ],
   "source": [
    "print(harina_trigo_que_queda_gramos == harina_bizcocho_que_queda_gramos)"
   ]
  },
  {
   "cell_type": "code",
   "execution_count": 58,
   "metadata": {},
   "outputs": [
    {
     "name": "stdout",
     "output_type": "stream",
     "text": [
      "False\n"
     ]
    }
   ],
   "source": [
    "# CONDICIONAL - AND \n",
    "print((huevos_que_quedan > azucar_que_queda_litros) and (harina_trigo_que_queda_gramos == harina_bizcocho_que_queda_gramos))"
   ]
  },
  {
   "cell_type": "code",
   "execution_count": 59,
   "metadata": {},
   "outputs": [],
   "source": [
    "hola = \"Hello\"\n",
    "nombre = \"Ada\"\n",
    "apellido = \"Loverlace\""
   ]
  },
  {
   "cell_type": "code",
   "execution_count": 61,
   "metadata": {},
   "outputs": [
    {
     "name": "stdout",
     "output_type": "stream",
     "text": [
      "Ada Loverlace\n",
      "Hello Ada Loverlace\n"
     ]
    }
   ],
   "source": [
    "nombre_completo = nombre + \" \" + apellido\n",
    "print(nombre_completo)\n",
    "print(hola, nombre_completo)"
   ]
  },
  {
   "cell_type": "code",
   "execution_count": 63,
   "metadata": {},
   "outputs": [
    {
     "name": "stdout",
     "output_type": "stream",
     "text": [
      "maria\n"
     ]
    }
   ],
   "source": [
    "# está esperando a que introduzcamos el input, si lo ejecutamos\n",
    "nombre = input()\n",
    "print(nombre)"
   ]
  }
 ],
 "metadata": {
  "kernelspec": {
   "display_name": "Python 3",
   "language": "python",
   "name": "python3"
  },
  "language_info": {
   "codemirror_mode": {
    "name": "ipython",
    "version": 3
   },
   "file_extension": ".py",
   "mimetype": "text/x-python",
   "name": "python",
   "nbconvert_exporter": "python",
   "pygments_lexer": "ipython3",
   "version": "3.11.9"
  }
 },
 "nbformat": 4,
 "nbformat_minor": 2
}
