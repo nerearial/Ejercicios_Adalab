{
 "cells": [
  {
   "cell_type": "code",
   "execution_count": 1,
   "metadata": {},
   "outputs": [],
   "source": [
    "\n",
    "# importamos las librerías que necesitamos\n",
    "\n",
    "# Tratamiento de datos\n",
    "# -----------------------------------------------------------------------\n",
    "import pandas as pd\n",
    "import numpy as np\n",
    "\n",
    "# Visualización\n",
    "# ------------------------------------------------------------------------------\n",
    "import matplotlib.pyplot as plt\n",
    "import seaborn as sns\n",
    "\n",
    "# Evaluar linealidad de las relaciones entre las variables\n",
    "# y la distribución de las variables\n",
    "# ------------------------------------------------------------------------------\n",
    "#import scipy.stats as stats\n",
    "import scipy.stats as stats\n",
    "from scipy.stats import shapiro, poisson, chisquare, expon, kstest\n",
    "\n",
    "\n",
    "# Configuración\n",
    "# -----------------------------------------------------------------------\n",
    "pd.set_option('display.max_columns', None) # para poder visualizar todas las columnas de los DataFrames\n",
    "\n",
    "# Gestión de los warnings\n",
    "# -----------------------------------------------------------------------\n",
    "import warnings\n",
    "warnings.filterwarnings(\"ignore\")"
   ]
  },
  {
   "cell_type": "markdown",
   "metadata": {},
   "source": [
    "### Distribución uniforme\n",
    "\n",
    "\n",
    "Un ejemplo de distribución uniforme es el lanzamiento de un dado estándar de seis caras. En este caso, cada uno de los seis resultados posibles (1, 2, 3, 4, 5 y 6) tiene la misma probabilidad de ocurrir, que es 1/6. Nadie espera que salga un número en particular más a menudo que otro; todos los resultados son igualmente probables (siempre y cuando el dado no este trucado).\n",
    "Para generar una distribución de datos uniforme usaremos el método `np.random.uniform()`. Su sintaxis es: \n",
    "\n",
    "```python\n",
    "np.random.uniform(low, high, size)\n",
    "```\n",
    "\n",
    "Donde:\n",
    "- `low`: Es el límite inferior del rango de valores posibles para la distribución uniforme. Por defecto, es 0.0.\n",
    "\n",
    "- `high`: Es el límite superior del rango de valores posibles para la distribución uniforme. Por defecto, es 1.0.\n",
    "\n",
    "- `size`: Es el tamaño de la muestra que deseas generar. Puede ser un número entero o una tupla que especifique las dimensiones de la muestra. Por defecto, es None, lo que genera un solo número aleatorio."
   ]
  },
  {
   "cell_type": "code",
   "execution_count": 2,
   "metadata": {},
   "outputs": [
    {
     "data": {
      "image/png": "[encoded data removed]",
      "text/plain": [
       "<Figure size 640x480 with 1 Axes>"
      ]
     },
     "metadata": {},
     "output_type": "display_data"
    }
   ],
   "source": [
    "# Generar una matriz de números aleatorios entre 0 y 1\n",
    "matriz_uniforme = np.random.uniform(0, 1, size=10000)\n",
    "\n",
    "# creamos un DataFrame con los datos normales creados previamente\n",
    "df_uniforme = pd.DataFrame({'Datos': matriz_uniforme})\n",
    "\n",
    "# Crear un histograma para visualizar la distribución\n",
    "plt.hist(df_uniforme['Datos'], \n",
    "         bins=30, \n",
    "         density=True, \n",
    "         alpha=0.5)\n",
    "\n",
    "# ponemos título a la gráfica\n",
    "plt.title('Histograma de Datos')\n",
    "\n",
    "# cambiamos el nombre del eje x\n",
    "plt.xlabel('Valor')\n",
    "\n",
    "# cambiamos el nombre del eje y\n",
    "plt.ylabel('Frecuencia');"
   ]
  }
 ],
 "metadata": {
  "kernelspec": {
   "display_name": "Python 3 (ipykernel)",
   "language": "python",
   "name": "python3"
  },
  "language_info": {
   "codemirror_mode": {
    "name": "ipython",
    "version": 3
   },
   "file_extension": ".py",
   "mimetype": "text/x-python",
   "name": "python",
   "nbconvert_exporter": "python",
   "pygments_lexer": "ipython3",
   "version": "3.9.7"
  },
  "toc": {
   "base_numbering": 1,
   "nav_menu": {},
   "number_sections": true,
   "sideBar": true,
   "skip_h1_title": false,
   "title_cell": "Table of Contents",
   "title_sidebar": "Contents",
   "toc_cell": true,
   "toc_position": {
    "height": "calc(100% - 180px)",
    "left": "10px",
    "top": "150px",
    "width": "384px"
   },
   "toc_section_display": true,
   "toc_window_display": true
  }
 },
 "nbformat": 4,
 "nbformat_minor": 2
}
