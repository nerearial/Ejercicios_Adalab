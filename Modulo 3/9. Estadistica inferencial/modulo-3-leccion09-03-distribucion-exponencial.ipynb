{
 "cells": [
  {
   "cell_type": "code",
   "execution_count": 1,
   "metadata": {},
   "outputs": [],
   "source": [
    "\n",
    "# importamos las librerías que necesitamos\n",
    "\n",
    "# Tratamiento de datos\n",
    "# -----------------------------------------------------------------------\n",
    "import pandas as pd\n",
    "import numpy as np\n",
    "\n",
    "# Visualización\n",
    "# ------------------------------------------------------------------------------\n",
    "import matplotlib.pyplot as plt\n",
    "import seaborn as sns\n",
    "\n",
    "# Evaluar linealidad de las relaciones entre las variables\n",
    "# y la distribución de las variables\n",
    "# ------------------------------------------------------------------------------\n",
    "#import scipy.stats as stats\n",
    "import scipy.stats as stats\n",
    "from scipy.stats import shapiro, poisson, chisquare, expon, kstest\n",
    "\n",
    "\n",
    "# Configuración\n",
    "# -----------------------------------------------------------------------\n",
    "pd.set_option('display.max_columns', None) # para poder visualizar todas las columnas de los DataFrames\n",
    "\n",
    "# Gestión de los warnings\n",
    "# -----------------------------------------------------------------------\n",
    "import warnings\n",
    "warnings.filterwarnings(\"ignore\")"
   ]
  },
  {
   "cell_type": "markdown",
   "metadata": {},
   "source": [
    "### Distribución exponencial\n",
    "\n",
    "\n",
    "Un ejemplo de distribución exponencia es el tiempo entre la llegada de clientes a un mostrador de servicio en un banco. Supongamos que los clientes llegan de manera aleatoria e independiente, y que el tiempo que transcurre entre la llegada de un cliente y el siguiente sigue una distribución exponencial.\n",
    "\n",
    "En este caso, la distribución exponencial se utiliza para modelar el tiempo que el personal del banco debe esperar antes de que llegue el próximo cliente. La distribución exponencial se caracteriza por tener una tasa de llegada (λ) que indica cuántos clientes llegan en promedio por unidad de tiempo. La probabilidad de que llegue un cliente en un período específico sigue una distribución exponencial.\n",
    "\n",
    "La biblioteca NumPy en Python no incluye una función llamada `np.random.exponencial`. En su lugar, para generar números aleatorios que sigan una distribución exponencial, puedes usar la función `np.random.exponential`. Aquí está la sintaxis de `np.random.exponential`:\n",
    "\n",
    "```python\n",
    "np.random.exponential(scale=1.0, size=None)\n",
    "```"
   ]
  },
  {
   "cell_type": "code",
   "execution_count": 2,
   "metadata": {},
   "outputs": [
    {
     "data": {
      "text/plain": [
       "array([6.59795583, 0.89094315, 0.27604322, 1.100583  , 3.68831202,\n",
       "       1.35599952, 0.04957023, 4.44474185, 0.18689462, 1.67451414])"
      ]
     },
     "execution_count": 2,
     "metadata": {},
     "output_type": "execute_result"
    }
   ],
   "source": [
    "# Parámetro de tasa lambda (también conocido como tasa de eventos)\n",
    "lambda_param = 0.5  # Puedes ajustar este valor según tus necesidades\n",
    "\n",
    "# generamos números aleatorios distribuidos exponencialmente\n",
    "datos_exponenciales = np.random.exponential(scale=1/lambda_param, size=1000)\n",
    "datos_exponenciales[:10]"
   ]
  },
  {
   "cell_type": "markdown",
   "metadata": {},
   "source": [
    "**Cómo podemos saber si un conjunto de datos sigue una distribución exponencial?**\n",
    "\n",
    "\n",
    "1. Ajustar los datos a una distribución exponencial: Para eso vamos a usar el método `expon.scale()` el cual va a intentrar encontrar la mejor curva de distribución exponencial que se ajuste a los datos. Este método nos va a devolver dos valores: \n",
    "\n",
    "2. Prueba estadística para verificar el ajuste de la distribución exponencial: usaremos la prueba de  Kolmogorov-Smirnov (KS) (la misma que usabamos para la distribución normal). Lo que hace esta prueba es comparar nuestros datos con la distribución exponencial esperada ysando los parámetros ajustados para ver cuando se parecen. Este test nos devolverá un p-valor que interpretaremos de la siguiente forma:\n",
    "    - Si p_value > 0.05 podremos concluir que los datos se parecen a una distribución exponencial. En otras palabras, **los datos siguen una distribución exponencial.**\n",
    "\n",
    "    - Si p_value < 0.05, concluimos que nuestros datos no se parecen a una distribución exponencial. En este caso, **los datos no siguen una distribución exponencial.**\n",
    "\n"
   ]
  },
  {
   "cell_type": "code",
   "execution_count": 3,
   "metadata": {},
   "outputs": [
    {
     "name": "stdout",
     "output_type": "stream",
     "text": [
      "Estadística de prueba KS: 0.01335077510798402, Valor p: 0.993177575744856\n",
      "Los datos siguen una distribución exponencial (no se rechaza la hipótesis nula)\n"
     ]
    }
   ],
   "source": [
    "# Ajuste de los datos a una distribución exponencial\n",
    "loc, scale = expon.fit(datos_exponenciales)\n",
    "\n",
    "# Prueba estadística para verificar el ajuste a la distribución exponencial\n",
    "statistic, p_value = kstest(datos_exponenciales, 'expon', args=(loc, scale))\n",
    "\n",
    "# Interpretación de los resultados\n",
    "alpha = 0.05  # Nivel de significancia\n",
    "print(f'Estadística de prueba KS: {statistic}, Valor p: {p_value}')\n",
    "\n",
    "if p_value > alpha:\n",
    "    print(\"Los datos siguen una distribución exponencial (no se rechaza la hipótesis nula)\")\n",
    "else:\n",
    "    print(\"Los datos no siguen una distribución exponencial (se rechaza la hipótesis nula)\")\n"
   ]
  }
 ],
 "metadata": {
  "kernelspec": {
   "display_name": "Python 3 (ipykernel)",
   "language": "python",
   "name": "python3"
  },
  "language_info": {
   "codemirror_mode": {
    "name": "ipython",
    "version": 3
   },
   "file_extension": ".py",
   "mimetype": "text/x-python",
   "name": "python",
   "nbconvert_exporter": "python",
   "pygments_lexer": "ipython3",
   "version": "3.9.7"
  },
  "toc": {
   "base_numbering": 1,
   "nav_menu": {},
   "number_sections": true,
   "sideBar": true,
   "skip_h1_title": false,
   "title_cell": "Table of Contents",
   "title_sidebar": "Contents",
   "toc_cell": true,
   "toc_position": {
    "height": "calc(100% - 180px)",
    "left": "10px",
    "top": "150px",
    "width": "384px"
   },
   "toc_section_display": true,
   "toc_window_display": true
  }
 },
 "nbformat": 4,
 "nbformat_minor": 2
}
