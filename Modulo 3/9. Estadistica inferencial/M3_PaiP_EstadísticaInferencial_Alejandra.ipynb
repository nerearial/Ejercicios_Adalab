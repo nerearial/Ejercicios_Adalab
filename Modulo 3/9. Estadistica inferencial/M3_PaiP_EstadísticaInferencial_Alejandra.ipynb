{
 "cells": [
  {
   "cell_type": "markdown",
   "metadata": {},
   "source": [
    "Partiendo del conjuntos de datos contestad a las siguientes preguntas:\n",
    "\n",
    "1. Dadas las situaciones, decide si se trata de una distribución de tipo exponencial o de poisson. A nivel teórico, no hace falta que lo demuestres con código.\n",
    "\n",
    "- Imagina que estás registrando el tiempo que transcurre entre la llegada de clientes a una tienda en minutos. ¿Se asemeja más a una distribución exponencial o de Poisson?\n",
    "\n",
    "`Respuesta`: A una distribución exponencial pues medimos el tiempo entre eventos (evento = llegada de un cliente).\n",
    "\n",
    "- Si observas el número de accidentes que ocurren en una intersección en un día determinado, ¿tiene más sentido pensar en una distribución exponencial o de Poisson?\n",
    "\n",
    "`Respuesta`: A una distribución de Poisson pues estamos midiendo el número de eventos (accidentes) en un periodo de tiempo dado (un día).\n",
    "\n",
    "- Cuando las personas esperan en una cola para recibir atención al cliente en una tienda, se registra el tiempo que esperan en minutos. ¿Parece seguir una distribución exponencial o de Poisson?\n",
    "\n",
    "`Respuesta`: A una distribución exponencial pues estamos midiendo el tiempo entre eventos (evento = que atiendan a un cliente).\n",
    "\n",
    "- Si supervisas el número de llamadas telefónicas que llegan a un centro de atención al cliente en una hora, ¿sería más apropiado pensar en una distribución exponencial o de Poisson?\n",
    "\n",
    "`Respuesta`: Una distribución de Poisson pues medimos el número de eventos (en este caso llamadas telefónicas) en un intervalo de tiempop dado (una hora en este caso).\n",
    "\n",
    "- Si mides el tiempo entre la llegada de correos electrónicos a tu bandeja de entrada durante el día, ¿se ajusta mejor a una distribución exponencial o de Poisson?\n",
    "\n",
    "`Respuesta`: A una distribución exponencial pues medidos el tiempo entre eventos (llegada de un correo electrónico)."
   ]
  },
  {
   "cell_type": "code",
   "execution_count": null,
   "metadata": {},
   "outputs": [],
   "source": [
    "# 2. Ejercicios intervalo de confianza: Para cada uno de los ejercicios interpreta los resultados y piensa que ventaja a nivel \n",
    "# de negocio podemos sacar de calcularlo.\n",
    "\n",
    "# Trabajas para una plataforma de comercio en línea y deseas determinar el intervalo de confianza al 95% para el precio promedio\n",
    "# de productos con una cantidad de media de valoraciones al producto (mean_product_ratings_count) superior a 500.\n",
    "\n",
    "\n",
    "\n"
   ]
  },
  {
   "cell_type": "code",
   "execution_count": null,
   "metadata": {},
   "outputs": [],
   "source": [
    "# Eres un analista de ventas en una plataforma de comercio electrónico y quieres calcular el intervalo de confianza al 90% para \n",
    "# el número promedio de unidades vendidas(mean_units_sold_per_product) por producto.\n",
    "\n",
    "\n",
    "\n",
    "\n",
    "\n"
   ]
  },
  {
   "cell_type": "code",
   "execution_count": null,
   "metadata": {},
   "outputs": [],
   "source": [
    "# Trabajas en la gestión de inventario de una tienda en línea y necesitas calcular el intervalo de confianza al 99% para el \n",
    "# precio promedio de productos(mean_product_prices) según su país de origen(origin_country).\n",
    "\n"
   ]
  },
  {
   "cell_type": "code",
   "execution_count": null,
   "metadata": {},
   "outputs": [],
   "source": [
    "# Eres un gerente de ventas en una plataforma de comercio electrónico y quieres determinar el intervalo de confianza al 95% para\n",
    "#  la valoración promedio de los vendedores(rating_employee) según si ofrecen envío express o no(shipping_is_expres).\n",
    "\n"
   ]
  },
  {
   "cell_type": "code",
   "execution_count": null,
   "metadata": {},
   "outputs": [],
   "source": [
    "# Trabajas en el departamento de precios de una tienda en línea y necesitas calcular el intervalo de confianza al 90% para el \n",
    "# descuento promedio de productos(discount_percentage) según la reputación del empleado (rating_employee)(alta, media o baja).\n",
    "\n"
   ]
  },
  {
   "cell_type": "markdown",
   "metadata": {},
   "source": [
    "# 3. Ejercicios prueba de hipótesis:\n",
    "\n",
    "Prueba de Hipótesis sobre el precio promedio de productos con o sin empleados calificados\n",
    "\n",
    "Contexto: Trabajas en una plataforma de comercio en línea que ofrece productos de moda. Quieres saber si hay una diferencia significativa en el precio promedio de productos entre aquellos vendidos por empleados calificados (rating_employee > 4) y aquellos vendidos por empleados menos calificados (rating_employee <= 4). Esto te ayudará a tomar decisiones sobre la estrategia de precios y capacitación de empleados.\n",
    "\n",
    "Hipótesis Nula (H0): No hay diferencia significativa en el precio promedio de productos entre empleados con buena y mala reputación.\n",
    "\n",
    "Hipótesis Alternativa (H1): Existe una diferencia significativa en el precio promedio de productos entre empleados calificados y menos calificados."
   ]
  },
  {
   "cell_type": "markdown",
   "metadata": {},
   "source": [
    "Prueba de Hipótesis sobre el número de unidades vendidas en envío express y envío estándar\n",
    "\n",
    "Contexto: Eres un gerente de operaciones de envío en una plataforma de comercio electrónico. Quieres determinar si el número promedio de unidades vendidas difiere cuando los productos se envían con envío express (shipping_option_name = \"Express Shipping\") en comparación con envío estándar (shipping_option_name = \"Livraison standard\"). Esto te ayudará a tomar decisiones sobre la logística de envío.\n",
    "\n",
    "Hipótesis Nula (H0): No hay diferencia significativa en el número promedio de unidades vendidas entre envío express y envío estándar.\n",
    "\n",
    "Hipótesis Alternativa (H1): Existe una diferencia significativa en el número promedio de unidades vendidas entre envío express y envío estándar."
   ]
  }
 ],
 "metadata": {
  "language_info": {
   "name": "python"
  }
 },
 "nbformat": 4,
 "nbformat_minor": 2
}
