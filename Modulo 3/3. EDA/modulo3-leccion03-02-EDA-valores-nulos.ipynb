{
 "cells": [
  {
   "cell_type": "code",
   "execution_count": 1,
   "metadata": {},
   "outputs": [],
   "source": [
    "# Tratamiento de datos\n",
    "# -----------------------------------------------------------------------\n",
    "import pandas as pd\n",
    "\n",
    "# Configuración\n",
    "# -----------------------------------------------------------------------\n",
    "pd.set_option('display.max_columns', None) # para poder visualizar todas las columnas de los DataFrames"
   ]
  },
  {
   "cell_type": "code",
   "execution_count": 2,
   "metadata": {},
   "outputs": [
    {
     "data": {
      "text/html": [
       "<div>\n",
       "<style scoped>\n",
       "    .dataframe tbody tr th:only-of-type {\n",
       "        vertical-align: middle;\n",
       "    }\n",
       "\n",
       "    .dataframe tbody tr th {\n",
       "        vertical-align: top;\n",
       "    }\n",
       "\n",
       "    .dataframe thead th {\n",
       "        text-align: right;\n",
       "    }\n",
       "</style>\n",
       "<table border=\"1\" class=\"dataframe\">\n",
       "  <thead>\n",
       "    <tr style=\"text-align: right;\">\n",
       "      <th></th>\n",
       "      <th>age</th>\n",
       "      <th>job</th>\n",
       "      <th>marital</th>\n",
       "      <th>education</th>\n",
       "      <th>default</th>\n",
       "      <th>housing</th>\n",
       "      <th>loan</th>\n",
       "      <th>contact</th>\n",
       "      <th>duration</th>\n",
       "      <th>campaign</th>\n",
       "      <th>pdays</th>\n",
       "      <th>previous</th>\n",
       "      <th>poutcome</th>\n",
       "      <th>emp.var.rate</th>\n",
       "      <th>cons.price.idx</th>\n",
       "      <th>cons.conf.idx</th>\n",
       "      <th>euribor3m</th>\n",
       "      <th>nr.employed</th>\n",
       "      <th>y</th>\n",
       "      <th>date</th>\n",
       "      <th>latitude</th>\n",
       "      <th>longitude</th>\n",
       "      <th>id_</th>\n",
       "    </tr>\n",
       "  </thead>\n",
       "  <tbody>\n",
       "    <tr>\n",
       "      <th>0</th>\n",
       "      <td>NaN</td>\n",
       "      <td>housemaid</td>\n",
       "      <td>MARRIED</td>\n",
       "      <td>basic.4y</td>\n",
       "      <td>0.0</td>\n",
       "      <td>0.0</td>\n",
       "      <td>0.0</td>\n",
       "      <td>telephone</td>\n",
       "      <td>261</td>\n",
       "      <td>1</td>\n",
       "      <td>999</td>\n",
       "      <td>0</td>\n",
       "      <td>NONEXISTENT</td>\n",
       "      <td>1.1</td>\n",
       "      <td>93,994</td>\n",
       "      <td>-36,4</td>\n",
       "      <td>4,857</td>\n",
       "      <td>5191</td>\n",
       "      <td>no</td>\n",
       "      <td>2-agosto-2019</td>\n",
       "      <td>41.495</td>\n",
       "      <td>-71.233</td>\n",
       "      <td>089b39d8-e4d0-461b-87d4-814d71e0e079</td>\n",
       "    </tr>\n",
       "    <tr>\n",
       "      <th>1</th>\n",
       "      <td>57.0</td>\n",
       "      <td>services</td>\n",
       "      <td>MARRIED</td>\n",
       "      <td>high.school</td>\n",
       "      <td>NaN</td>\n",
       "      <td>0.0</td>\n",
       "      <td>0.0</td>\n",
       "      <td>telephone</td>\n",
       "      <td>149</td>\n",
       "      <td>1</td>\n",
       "      <td>999</td>\n",
       "      <td>0</td>\n",
       "      <td>NONEXISTENT</td>\n",
       "      <td>1.1</td>\n",
       "      <td>93,994</td>\n",
       "      <td>-36,4</td>\n",
       "      <td>NaN</td>\n",
       "      <td>5191</td>\n",
       "      <td>no</td>\n",
       "      <td>14-septiembre-2016</td>\n",
       "      <td>34.601</td>\n",
       "      <td>-83.923</td>\n",
       "      <td>e9d37224-cb6f-4942-98d7-46672963d097</td>\n",
       "    </tr>\n",
       "    <tr>\n",
       "      <th>2</th>\n",
       "      <td>37.0</td>\n",
       "      <td>services</td>\n",
       "      <td>MARRIED</td>\n",
       "      <td>high.school</td>\n",
       "      <td>0.0</td>\n",
       "      <td>1.0</td>\n",
       "      <td>0.0</td>\n",
       "      <td>telephone</td>\n",
       "      <td>226</td>\n",
       "      <td>1</td>\n",
       "      <td>999</td>\n",
       "      <td>0</td>\n",
       "      <td>NONEXISTENT</td>\n",
       "      <td>1.1</td>\n",
       "      <td>93,994</td>\n",
       "      <td>-36,4</td>\n",
       "      <td>4,857</td>\n",
       "      <td>5191</td>\n",
       "      <td>no</td>\n",
       "      <td>15-febrero-2019</td>\n",
       "      <td>34.939</td>\n",
       "      <td>-94.847</td>\n",
       "      <td>3f9f49b5-e410-4948-bf6e-f9244f04918b</td>\n",
       "    </tr>\n",
       "    <tr>\n",
       "      <th>3</th>\n",
       "      <td>40.0</td>\n",
       "      <td>admin.</td>\n",
       "      <td>MARRIED</td>\n",
       "      <td>basic.6y</td>\n",
       "      <td>0.0</td>\n",
       "      <td>0.0</td>\n",
       "      <td>0.0</td>\n",
       "      <td>telephone</td>\n",
       "      <td>151</td>\n",
       "      <td>1</td>\n",
       "      <td>999</td>\n",
       "      <td>0</td>\n",
       "      <td>NONEXISTENT</td>\n",
       "      <td>1.1</td>\n",
       "      <td>93,994</td>\n",
       "      <td>-36,4</td>\n",
       "      <td>NaN</td>\n",
       "      <td>5191</td>\n",
       "      <td>no</td>\n",
       "      <td>29-noviembre-2015</td>\n",
       "      <td>49.041</td>\n",
       "      <td>-70.308</td>\n",
       "      <td>9991fafb-4447-451a-8be2-b0df6098d13e</td>\n",
       "    </tr>\n",
       "    <tr>\n",
       "      <th>4</th>\n",
       "      <td>56.0</td>\n",
       "      <td>services</td>\n",
       "      <td>MARRIED</td>\n",
       "      <td>high.school</td>\n",
       "      <td>0.0</td>\n",
       "      <td>0.0</td>\n",
       "      <td>1.0</td>\n",
       "      <td>telephone</td>\n",
       "      <td>307</td>\n",
       "      <td>1</td>\n",
       "      <td>999</td>\n",
       "      <td>0</td>\n",
       "      <td>NONEXISTENT</td>\n",
       "      <td>1.1</td>\n",
       "      <td>93,994</td>\n",
       "      <td>-36,4</td>\n",
       "      <td>NaN</td>\n",
       "      <td>5191</td>\n",
       "      <td>no</td>\n",
       "      <td>29-enero-2017</td>\n",
       "      <td>38.033</td>\n",
       "      <td>-104.463</td>\n",
       "      <td>eca60b76-70b6-4077-80ba-bc52e8ebb0eb</td>\n",
       "    </tr>\n",
       "  </tbody>\n",
       "</table>\n",
       "</div>"
      ],
      "text/plain": [
       "    age        job  marital    education  default  housing  loan    contact  \\\n",
       "0   NaN  housemaid  MARRIED     basic.4y      0.0      0.0   0.0  telephone   \n",
       "1  57.0   services  MARRIED  high.school      NaN      0.0   0.0  telephone   \n",
       "2  37.0   services  MARRIED  high.school      0.0      1.0   0.0  telephone   \n",
       "3  40.0     admin.  MARRIED     basic.6y      0.0      0.0   0.0  telephone   \n",
       "4  56.0   services  MARRIED  high.school      0.0      0.0   1.0  telephone   \n",
       "\n",
       "   duration  campaign  pdays  previous     poutcome  emp.var.rate  \\\n",
       "0       261         1    999         0  NONEXISTENT           1.1   \n",
       "1       149         1    999         0  NONEXISTENT           1.1   \n",
       "2       226         1    999         0  NONEXISTENT           1.1   \n",
       "3       151         1    999         0  NONEXISTENT           1.1   \n",
       "4       307         1    999         0  NONEXISTENT           1.1   \n",
       "\n",
       "  cons.price.idx cons.conf.idx euribor3m nr.employed   y                date  \\\n",
       "0         93,994         -36,4     4,857        5191  no       2-agosto-2019   \n",
       "1         93,994         -36,4       NaN        5191  no  14-septiembre-2016   \n",
       "2         93,994         -36,4     4,857        5191  no     15-febrero-2019   \n",
       "3         93,994         -36,4       NaN        5191  no   29-noviembre-2015   \n",
       "4         93,994         -36,4       NaN        5191  no       29-enero-2017   \n",
       "\n",
       "   latitude  longitude                                   id_  \n",
       "0    41.495    -71.233  089b39d8-e4d0-461b-87d4-814d71e0e079  \n",
       "1    34.601    -83.923  e9d37224-cb6f-4942-98d7-46672963d097  \n",
       "2    34.939    -94.847  3f9f49b5-e410-4948-bf6e-f9244f04918b  \n",
       "3    49.041    -70.308  9991fafb-4447-451a-8be2-b0df6098d13e  \n",
       "4    38.033   -104.463  eca60b76-70b6-4077-80ba-bc52e8ebb0eb  "
      ]
     },
     "execution_count": 2,
     "metadata": {},
     "output_type": "execute_result"
    }
   ],
   "source": [
    "# cargamos el csv con el que vamos a ir desarrollando la lección de hoy, recordad que la descripción la tenéis al inicio del jupyter. \n",
    "# para eso usaremos el método \"pd.read_csv\" que ya vimos al inicio del módulo 2 cuando aprendimos las herramientas de web scrapping\n",
    "df = pd.read_csv(\"bank-additional.csv\", index_col = 0)\n",
    "\n",
    "# hacemos un \".head()\" para mostrar las 5 primeras filas del dataframe\n",
    "df.head()"
   ]
  },
  {
   "cell_type": "markdown",
   "metadata": {},
   "source": [
    "## Valores nulos\n"
   ]
  },
  {
   "cell_type": "code",
   "execution_count": 3,
   "metadata": {},
   "outputs": [
    {
     "data": {
      "text/plain": [
       "0        False\n",
       "1         True\n",
       "2        False\n",
       "3        False\n",
       "4        False\n",
       "         ...  \n",
       "19154    False\n",
       "26206    False\n",
       "15046    False\n",
       "15280     True\n",
       "27570    False\n",
       "Name: default, Length: 43000, dtype: bool"
      ]
     },
     "execution_count": 3,
     "metadata": {},
     "output_type": "execute_result"
    }
   ],
   "source": [
    "# ¿Cuántos valores nulos tenemos en la columna 'default' ?\n",
    "# en este caso usaremos el método '.isnull()'\n",
    "# como vemos nos devuelve una Serie que recordemos es una estructura de datos unidimensional que contiene datos etiquetados y se asemeja a una columna de un DataFrame\n",
    "df[\"default\"].isnull()"
   ]
  },
  {
   "cell_type": "code",
   "execution_count": 5,
   "metadata": {},
   "outputs": [
    {
     "data": {
      "text/plain": [
       "8981"
      ]
     },
     "execution_count": 5,
     "metadata": {},
     "output_type": "execute_result"
    }
   ],
   "source": [
    "# lo que nos devuelve el método '.isnull()' por si mismo es poco entendible, \n",
    "# es por esto que nos suma todos los valores nulos que ha indentificado como False usando el método '.sum()'\n",
    "# en este caso tenemos 9016 valores nulos para la columna 'default'. \n",
    "df[\"default\"].isnull().sum()"
   ]
  },
  {
   "cell_type": "code",
   "execution_count": 6,
   "metadata": {},
   "outputs": [
    {
     "data": {
      "text/plain": [
       "age               5120\n",
       "job                345\n",
       "marital             85\n",
       "education         1807\n",
       "default           8981\n",
       "housing           1026\n",
       "loan              1026\n",
       "contact              0\n",
       "duration             0\n",
       "campaign             0\n",
       "pdays                0\n",
       "previous             0\n",
       "poutcome             0\n",
       "emp.var.rate         0\n",
       "cons.price.idx     471\n",
       "cons.conf.idx        0\n",
       "euribor3m         9256\n",
       "nr.employed          0\n",
       "y                    0\n",
       "date               248\n",
       "latitude             0\n",
       "longitude            0\n",
       "id_                  0\n",
       "dtype: int64"
      ]
     },
     "execution_count": 6,
     "metadata": {},
     "output_type": "execute_result"
    }
   ],
   "source": [
    "# en ejemplo anterior hemos visto el número de nulos para una sola columna,\n",
    "# en este ejemplo lo haremos para todo el DataFrame, para que nos diga el número de nulos que hay por columna\n",
    "df.isnull().sum()"
   ]
  },
  {
   "cell_type": "markdown",
   "metadata": {},
   "source": [
    "En este ejemplo vemos que solo tenemos valores nulos para algunas columnas, en concreto para:\n",
    "\n",
    "- age, la cual tiene 5120 nulos. \n",
    "\n",
    "- job, la cual tiene 345 nulos. \n",
    "\n",
    "- marital, la cual tiene 85 nulos. \n",
    "\n",
    "- education, la cual tiene 1807 nulos. \n",
    "\n",
    "- default, la cual tiene 8981 nulos.\n",
    "\n",
    "- housing, la cual tiene 1026 nulos.\n",
    "\n",
    "- loan, la cual tiene 1026 nulos, \n",
    "\n",
    "- cons.price.idx, la cual tienne 471 nulos. \n",
    "\n",
    "- euribor3m, la cual tiene 9256 nulos.\n",
    "\n",
    "- date, la cual tiene 248 nulos. \n",
    "\n",
    "\n",
    "🚨 **NOTA** En Pandas existe el método `.isna()` que es exactamente igual que el `.isnull()`. Su sintaxis básica es:\n",
    "\n",
    "```python\n",
    "dataframe.isna()\n",
    "# fijaos como es exactamente igual que el '.isnull()`\n",
    "```"
   ]
  },
  {
   "cell_type": "code",
   "execution_count": 8,
   "metadata": {},
   "outputs": [
    {
     "data": {
      "text/plain": [
       "34019"
      ]
     },
     "execution_count": 8,
     "metadata": {},
     "output_type": "execute_result"
    }
   ],
   "source": [
    "# veamos ahora el mismo ejemplo pero usando el metodo '.notnull()`\n",
    "# que recordemos nos devuelve el número de valores no nulos que tenemos en cada columna\n",
    "# en este caso, nos esta diciendo que en la columna \"default\" tenemos 34154 valores no nulos, es decir, 34019 con valores. \n",
    "df[\"default\"].notnull().sum()"
   ]
  },
  {
   "cell_type": "code",
   "execution_count": 9,
   "metadata": {},
   "outputs": [
    {
     "data": {
      "text/plain": [
       "age               37880\n",
       "job               42655\n",
       "marital           42915\n",
       "education         41193\n",
       "default           34019\n",
       "housing           41974\n",
       "loan              41974\n",
       "contact           43000\n",
       "duration          43000\n",
       "campaign          43000\n",
       "pdays             43000\n",
       "previous          43000\n",
       "poutcome          43000\n",
       "emp.var.rate      43000\n",
       "cons.price.idx    42529\n",
       "cons.conf.idx     43000\n",
       "euribor3m         33744\n",
       "nr.employed       43000\n",
       "y                 43000\n",
       "date              42752\n",
       "latitude          43000\n",
       "longitude         43000\n",
       "id_               43000\n",
       "dtype: int64"
      ]
     },
     "execution_count": 9,
     "metadata": {},
     "output_type": "execute_result"
    }
   ],
   "source": [
    "# si lo hacemos para todo el DataFrame\n",
    "df.notnull().sum()"
   ]
  },
  {
   "cell_type": "code",
   "execution_count": 10,
   "metadata": {},
   "outputs": [
    {
     "name": "stdout",
     "output_type": "stream",
     "text": [
      "<class 'pandas.core.frame.DataFrame'>\n",
      "Int64Index: 43000 entries, 0 to 27570\n",
      "Data columns (total 23 columns):\n",
      " #   Column          Non-Null Count  Dtype  \n",
      "---  ------          --------------  -----  \n",
      " 0   age             37880 non-null  float64\n",
      " 1   job             42655 non-null  object \n",
      " 2   marital         42915 non-null  object \n",
      " 3   education       41193 non-null  object \n",
      " 4   default         34019 non-null  float64\n",
      " 5   housing         41974 non-null  float64\n",
      " 6   loan            41974 non-null  float64\n",
      " 7   contact         43000 non-null  object \n",
      " 8   duration        43000 non-null  int64  \n",
      " 9   campaign        43000 non-null  int64  \n",
      " 10  pdays           43000 non-null  int64  \n",
      " 11  previous        43000 non-null  int64  \n",
      " 12  poutcome        43000 non-null  object \n",
      " 13  emp.var.rate    43000 non-null  float64\n",
      " 14  cons.price.idx  42529 non-null  object \n",
      " 15  cons.conf.idx   43000 non-null  object \n",
      " 16  euribor3m       33744 non-null  object \n",
      " 17  nr.employed     43000 non-null  object \n",
      " 18  y               43000 non-null  object \n",
      " 19  date            42752 non-null  object \n",
      " 20  latitude        43000 non-null  float64\n",
      " 21  longitude       43000 non-null  float64\n",
      " 22  id_             43000 non-null  object \n",
      "dtypes: float64(7), int64(4), object(12)\n",
      "memory usage: 7.9+ MB\n"
     ]
    }
   ],
   "source": [
    "# hemos comentado que también podemos usar el método .info()' \n",
    "# que recordemos muestra información resumida sobre el DataFrame, incluyendo el número de datos, tipos de datos o valores no nulos\n",
    "df.info()"
   ]
  },
  {
   "cell_type": "markdown",
   "metadata": {},
   "source": [
    "Si interpretaramos los resultados obtenidos del método `.info()` que:\n",
    "\n",
    "- Nos dice el número de filas que tenemos en el DataFrame, en este caso 43000\n",
    "\n",
    "- Nos dice el número total de columnas que tenemos en el DataFrame, en este caso 23\n",
    "\n",
    "- Los nombres de todas las columnas del DataFrame, en este caso 'age', 'job', 'marital', 'education', 'default', 'housing', 'loan', 'contact', 'duration', 'campaign', 'pdays', 'previous', 'poutcome', 'emp.var.rate', 'cons.price.idx', 'cons.conf.idx', 'euribor3m', 'nr.employed', 'y', 'month_day_week'\n",
    "\n",
    "- El tipo de datos que tenemos en nuestro DataFrame, con el número de columnas que tenemos de cada tipo, en este caso float64(7), int64(4), object(12)\n",
    "\n",
    "- Para cada una de las columnas tenemos:\n",
    "\n",
    "    - El número de valores no nulos. En el caso de la columna `job` tiene 42655  valores no nulos\n",
    "\n",
    "    - El tipo de la columna. En el caso de la columna `job` es de tipo object, que recordemos que es como el *string* con el que estamos familiarizadas.   "
   ]
  }
 ],
 "metadata": {
  "kernelspec": {
   "display_name": "Python 3 (ipykernel)",
   "language": "python",
   "name": "python3"
  },
  "language_info": {
   "codemirror_mode": {
    "name": "ipython",
    "version": 3
   },
   "file_extension": ".py",
   "mimetype": "text/x-python",
   "name": "python",
   "nbconvert_exporter": "python",
   "pygments_lexer": "ipython3",
   "version": "3.9.7"
  },
  "toc": {
   "base_numbering": 1,
   "nav_menu": {},
   "number_sections": true,
   "sideBar": true,
   "skip_h1_title": false,
   "title_cell": "Tabla de Contenidos",
   "title_sidebar": "Contents",
   "toc_cell": true,
   "toc_position": {
    "height": "calc(100% - 180px)",
    "left": "10px",
    "top": "150px",
    "width": "326.667px"
   },
   "toc_section_display": true,
   "toc_window_display": true
  }
 },
 "nbformat": 4,
 "nbformat_minor": 2
}
