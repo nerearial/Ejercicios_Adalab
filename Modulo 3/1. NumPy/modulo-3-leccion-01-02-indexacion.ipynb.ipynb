{
 "cells": [
  {
   "cell_type": "markdown",
   "metadata": {},
   "source": [
    "## Indexación en *arrays* unidimensionales\n",
    "\n",
    "Como ya hemos dicho, la indexación se utiliza para acceder y manipular elementos individuales o grupos de elementos en un array. En NumPy, la indexación se realiza utilizando corchetes `[]`, al igual que hacíamos en listas. \n",
    "\n",
    "```python\n",
    "array[i]\n",
    "# donde i es el índice del elemento al que queremos acceder\n",
    "```\n"
   ]
  },
  {
   "cell_type": "code",
   "execution_count": 1,
   "metadata": {},
   "outputs": [],
   "source": [
    "# antes de empezar importamos la librería de NumPy para poder trabajar con todos sus métodos. \n",
    "import numpy as np"
   ]
  },
  {
   "cell_type": "code",
   "execution_count": 2,
   "metadata": {},
   "outputs": [
    {
     "name": "stdout",
     "output_type": "stream",
     "text": [
      "El array unidimensional que tenemos es: \n",
      " [0.15466414 0.74124357 0.4429453  0.16248862 0.10859269 0.8193303\n",
      " 0.595627   0.9315573  0.22209103 0.80825342 0.44141689 0.49798342\n",
      " 0.31977266 0.03833874 0.94869692]\n",
      "\n",
      "---------------------------\n",
      "\n",
      "El primer elemento de nuestro array es: \n",
      " 0.15466413716584404\n"
     ]
    }
   ],
   "source": [
    "# Imaginemos que tenemos el siguiente array unidimensional con 15 elementos\n",
    "## en nuestro array\n",
    "\n",
    "unidimensional = np.random.random_sample(15)\n",
    "print(f\"El array unidimensional que tenemos es: \\n {unidimensional}\")\n",
    "\n",
    "# si queremos acceder al primer elemento de nuestro array\n",
    "print(\"\\n---------------------------\\n\")\n",
    "print(f\"El primer elemento de nuestro array es: \\n {unidimensional[0]}\")"
   ]
  },
  {
   "cell_type": "markdown",
   "metadata": {},
   "source": [
    "Bien! en caso de querer obtener o acceder a los ultimos 3 elementos podriamos hacerlo de la misma forma que haciamos con las listas."
   ]
  },
  {
   "cell_type": "code",
   "execution_count": 3,
   "metadata": {},
   "outputs": [
    {
     "name": "stdout",
     "output_type": "stream",
     "text": [
      "El array unidimensional que tenemos es: \n",
      " [0.88439828 0.51706322 0.07594348 0.55783837 0.55060401 0.90166389\n",
      " 0.70146671 0.90830646 0.06195051 0.06447099 0.75050799 0.65929755\n",
      " 0.98011174 0.4137062  0.80001065]\n",
      "\n",
      "---------------------------\n",
      "\n",
      "Los tres últimos elementos de nuestro array son: \n",
      " [0.98011174 0.4137062  0.80001065]\n"
     ]
    }
   ],
   "source": [
    "unidimensional = np.random.random_sample(15)\n",
    "print(f\"El array unidimensional que tenemos es: \\n {unidimensional}\")\n",
    "\n",
    "\n",
    "# si queremos acceder a los tres últimos elementos:\n",
    "print(\"\\n---------------------------\\n\")\n",
    "print(f\"Los tres últimos elementos de nuestro array son: \\n {unidimensional[-3:]}\")"
   ]
  },
  {
   "cell_type": "markdown",
   "metadata": {},
   "source": [
    "Para una seleccion acotada de elementos, nuevamente lo hacemos de manera similiar que las listas, esta vez para los elementos ubicados desde la posicion 2 (incluido) y la posicion 4 (no incluido), MUCHA ATENCION EN COMO SE SELECCIONAN LOS ELEMENTOS!!"
   ]
  },
  {
   "cell_type": "code",
   "execution_count": 4,
   "metadata": {},
   "outputs": [
    {
     "name": "stdout",
     "output_type": "stream",
     "text": [
      "El array unidimensional que tenemos es: \n",
      " [0.42791213 0.22099181 0.18343128 0.15356766 0.58032517 0.80545918\n",
      " 0.9750707  0.03767743 0.48070849 0.50280385 0.73518306 0.10160182\n",
      " 0.17723571 0.20127334 0.75944253]\n",
      "\n",
      "---------------------------\n",
      "\n",
      "El tercer y cuarto elemento de nuestro array son: \n",
      " [0.18343128 0.15356766]\n"
     ]
    }
   ],
   "source": [
    "unidimensional = np.random.random_sample(15)\n",
    "print(f\"El array unidimensional que tenemos es: \\n {unidimensional}\")\n",
    "\n",
    "# si queremos seleccionar el tercer y cuarto elemento\n",
    "print(\"\\n---------------------------\\n\")\n",
    "print(f\"El tercer y cuarto elemento de nuestro array son: \\n {unidimensional[2:4]}\")\n"
   ]
  },
  {
   "cell_type": "markdown",
   "metadata": {},
   "source": [
    "Continuando con la seleccion de elementos, vemos que podemos combinar ya que se nos pide seleccionar todos los elementos desde el inicio hasta la posicion 10 ( recuerden que como queremos la posicion 10, entonces indicamos como fin el 11 quedando de la manera [:11]) y que a su vez deben ser en saltos de a dos posiciones, por lo que la expresion completa sera [:11:2]"
   ]
  },
  {
   "cell_type": "code",
   "execution_count": 5,
   "metadata": {},
   "outputs": [
    {
     "name": "stdout",
     "output_type": "stream",
     "text": [
      "El array unidimensional que tenemos es: \n",
      " [0.7317626  0.64767596 0.62042063 0.56059709 0.38674266 0.85492649\n",
      " 0.3410154  0.95972124 0.44521223 0.34436242 0.79109583 0.91953436\n",
      " 0.68008048 0.01894294 0.79779067]\n",
      "\n",
      "---------------------------\n",
      "\n",
      "Los elementos desde el inicio hasta el 10 de dos en dos son: \n",
      " [0.7317626  0.62042063 0.38674266 0.3410154  0.44521223 0.79109583]\n"
     ]
    }
   ],
   "source": [
    "unidimensional = np.random.random_sample(15)\n",
    "print(f\"El array unidimensional que tenemos es: \\n {unidimensional}\")\n",
    "\n",
    "# los elementos desde el inicio hasta el 10 en saltos de dos en dos\n",
    "print(\"\\n---------------------------\\n\")\n",
    "print(f\"Los elementos desde el inicio hasta el 10 de dos en dos son: \\n {unidimensional[:11:2]}\")\n",
    "\n"
   ]
  },
  {
   "cell_type": "markdown",
   "metadata": {},
   "source": [
    "## Indexación en *arrays* bidimensionales\n",
    "\n",
    "En el caso de este tipo de *arrays* se acceder a elementos individuales en una matriz bidimensional utilizando la sintaxis `[fila, columna]` entre corchetes.\n",
    "\n",
    "Los podemos entender como una lista de listas.\n",
    "\n",
    "```python\n",
    "array[i,j]\n",
    "array[i][j]\n",
    "\n",
    "# 🚨 Las dos lineas anteriores son exactamente lo mismo\n",
    "# seleccionará el elemento de la fila \"i\" y columna \"j\"\n",
    "```\n",
    "\n",
    "\n",
    "Donde: \n",
    "- `i` --> filas\n",
    "\n",
    "- `j` --> columnas"
   ]
  },
  {
   "cell_type": "code",
   "execution_count": 6,
   "metadata": {},
   "outputs": [
    {
     "name": "stdout",
     "output_type": "stream",
     "text": [
      "El array bidimensional que tenemos es: \n",
      " [[0.49894948 0.81918606 0.49995564 0.01063952]\n",
      " [0.97400453 0.882342   0.88136946 0.12250225]\n",
      " [0.66354283 0.1945655  0.80980866 0.47723235]\n",
      " [0.24480485 0.85632059 0.23936831 0.59240251]\n",
      " [0.73047092 0.55031518 0.88063376 0.2583223 ]]\n",
      "\n",
      "El primer elemento de nuestro array es: \n",
      " [0.49894948 0.81918606 0.49995564 0.01063952]\n"
     ]
    }
   ],
   "source": [
    "# definimos un array bidimensional\n",
    "# en este caso estamos generando un array de 5 filas y 4 columnas con números aleatorios entre el 0 y el 1\n",
    "bidimensional = np.random.rand(5, 4)\n",
    "print(f\"El array bidimensional que tenemos es: \\n {bidimensional}\")\n",
    "\n",
    "# desgranemos la indexación en este tipo de arrays\n",
    "# si accedemos al elemento 0 del array obtenemos a la fila que queramos de nuestro array\n",
    "\n",
    "print(f\"\\nEl primer elemento de nuestro array es: \\n {bidimensional[0]}\")"
   ]
  },
  {
   "cell_type": "code",
   "execution_count": 7,
   "metadata": {},
   "outputs": [
    {
     "name": "stdout",
     "output_type": "stream",
     "text": [
      "El array bidimensional que tenemos es: \n",
      " [[0.49894948 0.81918606 0.49995564 0.01063952]\n",
      " [0.97400453 0.882342   0.88136946 0.12250225]\n",
      " [0.66354283 0.1945655  0.80980866 0.47723235]\n",
      " [0.24480485 0.85632059 0.23936831 0.59240251]\n",
      " [0.73047092 0.55031518 0.88063376 0.2583223 ]]\n",
      "\n",
      "El primer elemento de la primera fila de nuestro array es: \n",
      " 0.4989494807056887\n",
      "\n",
      "-------------------------------------\n",
      "\n",
      "bidimensional[0][0] es exactamente lo mismo que bidimensional[0,0]: \n",
      " 0.4989494807056887\n"
     ]
    }
   ],
   "source": [
    "print(f\"El array bidimensional que tenemos es: \\n {bidimensional}\")\n",
    "\n",
    "# dado el resultado del paso anterior, sigamos buceando en el array, \n",
    "# en este caso querremos acceder al primer elemento del resultado anterior\n",
    "# fijaos como ponemos dos indices, el primero para acceder a las filas \n",
    "# y el segundo para acceder a las columnas\n",
    "# podríamos decir que es como el juego de hundir la flota\n",
    "print(f\"\\nEl primer elemento de la primera fila de nuestro array es: \\n {bidimensional[0][0]}\")\n",
    "print(\"\\n-------------------------------------\\n\")\n",
    "print(f\"bidimensional[0][0] es exactamente lo mismo que bidimensional[0,0]: \\n {bidimensional[0,0]}\")"
   ]
  },
  {
   "cell_type": "code",
   "execution_count": 8,
   "metadata": {},
   "outputs": [
    {
     "name": "stdout",
     "output_type": "stream",
     "text": [
      "El array bidimensional que tenemos es: \n",
      " [[0.49894948 0.81918606 0.49995564 0.01063952]\n",
      " [0.97400453 0.882342   0.88136946 0.12250225]\n",
      " [0.66354283 0.1945655  0.80980866 0.47723235]\n",
      " [0.24480485 0.85632059 0.23936831 0.59240251]\n",
      " [0.73047092 0.55031518 0.88063376 0.2583223 ]]\n",
      "\n",
      "---------------------------\n",
      "\n",
      "El elemento que esta en la 2ª fila y 3ª columna es: \n",
      " 0.8813694633568555\n"
     ]
    }
   ],
   "source": [
    "print(f\"El array bidimensional que tenemos es: \\n {bidimensional}\")\n",
    "# accedemos a la segunda fila, tercer columna. \n",
    "print(\"\\n---------------------------\\n\")\n",
    "print(f\"El elemento que esta en la 2ª fila y 3ª columna es: \\n {bidimensional[1,2]}\")\n"
   ]
  },
  {
   "cell_type": "markdown",
   "metadata": {},
   "source": [
    "📌 **NOTA** Cuando usamos la siguiente estructura `array[i,j]`: \n",
    "\n",
    "- Todo lo que haya antes de la coma se referirá a filas.\n",
    "\n",
    "\n",
    "- Todo lo que haya después de la coma se referirá a columnas. \n",
    "\n",
    "De esta forma, si por ejemplo queremos seleccionar solo las dos primeras filas usaremos la nomenclatura que ya conocemos con los `:`. Si no especificamos nada (o solo ponemos `:`) se entiende que lo queremos todo. Por ejemplo 👇🏽"
   ]
  },
  {
   "cell_type": "code",
   "execution_count": 9,
   "metadata": {},
   "outputs": [
    {
     "name": "stdout",
     "output_type": "stream",
     "text": [
      "El array bidimensional que tenemos es: \n",
      " [[0.49894948 0.81918606 0.49995564 0.01063952]\n",
      " [0.97400453 0.882342   0.88136946 0.12250225]\n",
      " [0.66354283 0.1945655  0.80980866 0.47723235]\n",
      " [0.24480485 0.85632059 0.23936831 0.59240251]\n",
      " [0.73047092 0.55031518 0.88063376 0.2583223 ]]\n",
      "\n",
      "---------------------------\n",
      "\n",
      "Las dos primeras filas con todas sus columnas son: \n",
      " [[0.49894948 0.81918606 0.49995564 0.01063952]\n",
      " [0.97400453 0.882342   0.88136946 0.12250225]]\n"
     ]
    }
   ],
   "source": [
    "print(f\"El array bidimensional que tenemos es: \\n {bidimensional}\")\n",
    "# seleccionamos las dos primeras filas, y todas las columnas (no ponemos \n",
    "# nada después de la coma). \n",
    "print(\"\\n---------------------------\\n\")\n",
    "print(f\"Las dos primeras filas con todas sus columnas son: \\n {bidimensional[:2,:]}\")\n"
   ]
  },
  {
   "cell_type": "code",
   "execution_count": 17,
   "metadata": {},
   "outputs": [
    {
     "name": "stdout",
     "output_type": "stream",
     "text": [
      "El array bidimensional que tenemos es: \n",
      " [[0.72392106 0.80117079 0.39905824 0.6022385 ]\n",
      " [0.86921394 0.18769465 0.72761844 0.01098491]\n",
      " [0.90781688 0.53888175 0.66061778 0.6726556 ]\n",
      " [0.07557314 0.74275994 0.64192431 0.87129239]\n",
      " [0.11393153 0.05006257 0.00643769 0.51710953]]\n",
      "\n",
      "---------------------------\n",
      "\n",
      "Todas las filas y las últimas tres columnas son: \n",
      " [[0.80117079 0.39905824 0.6022385 ]\n",
      " [0.18769465 0.72761844 0.01098491]\n",
      " [0.53888175 0.66061778 0.6726556 ]\n",
      " [0.74275994 0.64192431 0.87129239]\n",
      " [0.05006257 0.00643769 0.51710953]]\n"
     ]
    }
   ],
   "source": [
    "print(f\"El array bidimensional que tenemos es: \\n {bidimensional}\")\n",
    "\n",
    "# seleccionamos todas las filas y solo las tres últimas columnas\n",
    "print(\"\\n---------------------------\\n\")\n",
    "print(f\"Todas las filas y las últimas tres columnas son: \\n {bidimensional[:,-3:]}\")"
   ]
  },
  {
   "cell_type": "markdown",
   "metadata": {},
   "source": [
    "## Indexación en *arrays* tridimensionales\n",
    "\n",
    "De la misma forma que en los bidimensionales, el los mutidimensionales podemos acceder a sus elementos de dos formas: \n",
    "\n",
    "```python\n",
    "array[i,j,k]\n",
    "array[i][j][k]\n",
    "```\n",
    "\n",
    "- i → *array* al que queremos acceder \n",
    "\n",
    "\n",
    "- j → fila de nuestro *array* al que queremos acceder\n",
    "\n",
    "\n",
    "- k → columna de nuestro *array* al que queremos acceder\n",
    "\n",
    "    ![3d-array-index.png](https://github.com/Adalab/data_imagenes/blob/main/Modulo-2/NumPy/index_numpy_multidimensional.png?raw=true)"
   ]
  },
  {
   "cell_type": "code",
   "execution_count": 10,
   "metadata": {},
   "outputs": [
    {
     "name": "stdout",
     "output_type": "stream",
     "text": [
      "El array multidimensional que tenemos es: \n",
      " [[[53 55 39 16 97]\n",
      "  [93 72 56 36 69]\n",
      "  [64 12 76 44 39]]\n",
      "\n",
      " [[36 78 84 75 72]\n",
      "  [59 97 19 77 30]\n",
      "  [81 56 79 63 33]]]\n",
      "\n",
      "---------------------------\n",
      "\n",
      "El elemento de la 1ª matriz, 2ª fila y 4ª columna es : \n",
      " 36\n"
     ]
    }
   ],
   "source": [
    "# definimos un array tridimensional\n",
    "# en este caso estamos creando un array de números enteros entre el 10 y el 100 con\n",
    "# 2 matrices, 3 filas y 5 columnas\n",
    "tridimensional = np.random.randint(10,100, (2,3,5))\n",
    "print(f\"El array multidimensional que tenemos es: \\n {tridimensional}\")\n",
    "\n",
    "# accedemos al primer array y al elemento que está en la fila 2 y la columna 4\n",
    "print(\"\\n---------------------------\\n\")\n",
    "print(f\"El elemento de la 1ª matriz, 2ª fila y 4ª columna es : \\n {tridimensional[0,1,3]}\")"
   ]
  },
  {
   "cell_type": "code",
   "execution_count": 11,
   "metadata": {},
   "outputs": [
    {
     "name": "stdout",
     "output_type": "stream",
     "text": [
      "El array multidimensional que tenemos es: \n",
      " [[[53 55 39 16 97]\n",
      "  [93 72 56 36 69]\n",
      "  [64 12 76 44 39]]\n",
      "\n",
      " [[36 78 84 75 72]\n",
      "  [59 97 19 77 30]\n",
      "  [81 56 79 63 33]]]\n",
      "\n",
      "---------------------------\n",
      "\n",
      "Los elementos del 1ª matriz, 1ª fila y todas las columnas  : \n",
      " [53 55 39 16 97]\n"
     ]
    }
   ],
   "source": [
    "print(f\"El array multidimensional que tenemos es: \\n {tridimensional}\")\n",
    "\n",
    "# primer array primera fila y todas las columnas\n",
    "print(\"\\n---------------------------\\n\")\n",
    "print(f\"Los elementos del 1ª matriz, 1ª fila y todas las columnas  : \\n {tridimensional[0,0, :]}\")\n"
   ]
  }
 ],
 "metadata": {
  "kernelspec": {
   "display_name": "Python 3 (ipykernel)",
   "language": "python",
   "name": "python3"
  },
  "language_info": {
   "codemirror_mode": {
    "name": "ipython",
    "version": 3
   },
   "file_extension": ".py",
   "mimetype": "text/x-python",
   "name": "python",
   "nbconvert_exporter": "python",
   "pygments_lexer": "ipython3",
   "version": "3.9.7"
  },
  "toc": {
   "base_numbering": 1,
   "nav_menu": {},
   "number_sections": true,
   "sideBar": true,
   "skip_h1_title": false,
   "title_cell": "Table of Contents",
   "title_sidebar": "Contents",
   "toc_cell": true,
   "toc_position": {
    "height": "calc(100% - 180px)",
    "left": "10px",
    "top": "150px",
    "width": "426.667px"
   },
   "toc_section_display": true,
   "toc_window_display": true
  }
 },
 "nbformat": 4,
 "nbformat_minor": 2
}
