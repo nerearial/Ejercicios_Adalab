{
 "cells": [
  {
   "cell_type": "code",
   "execution_count": 2,
   "metadata": {},
   "outputs": [
    {
     "name": "stdout",
     "output_type": "stream",
     "text": [
      "Requirement already satisfied: numpy in c:\\users\\nerea\\anaconda3\\lib\\site-packages (1.26.4)\n"
     ]
    }
   ],
   "source": [
    "! pip install numpy"
   ]
  },
  {
   "cell_type": "code",
   "execution_count": 1,
   "metadata": {},
   "outputs": [],
   "source": [
    "# Importación de librerías\n",
    "import numpy as np"
   ]
  },
  {
   "cell_type": "code",
   "execution_count": 7,
   "metadata": {},
   "outputs": [],
   "source": [
    "# Generamos un array unidimensional de 5 elementos, de ejemplo:\n",
    "np.array_1d = [1, 2, 3, 4, 5]"
   ]
  },
  {
   "cell_type": "markdown",
   "metadata": {},
   "source": [
    " AND &\n",
    " \n",
    "  OR |\n"
   ]
  },
  {
   "cell_type": "code",
   "execution_count": null,
   "metadata": {},
   "outputs": [],
   "source": [
    "# Por defecto, los arrays son tipo float. Para convertirlos a integer:\n",
    "int(np.mean(array_2d))"
   ]
  },
  {
   "cell_type": "code",
   "execution_count": 2,
   "metadata": {},
   "outputs": [],
   "source": [
    "# 1. Genera un array bidimensional de 4 filas x 3 columnas con valores aleatorios \n",
    "# enteros entre el 34 y el 98. Una vez creado cada array comprueba \n",
    "# las dimensiones y los tipos de datos que tenemos en el array.\n",
    "\n",
    "array_aleatorio = np.random.randint(34, 99, size=(4,3))"
   ]
  },
  {
   "cell_type": "code",
   "execution_count": 4,
   "metadata": {},
   "outputs": [
    {
     "data": {
      "text/plain": [
       "array([[39, 88, 39],\n",
       "       [85, 77, 57],\n",
       "       [84, 64, 57],\n",
       "       [51, 44, 37]])"
      ]
     },
     "execution_count": 4,
     "metadata": {},
     "output_type": "execute_result"
    }
   ],
   "source": [
    "array_aleatorio"
   ]
  },
  {
   "cell_type": "code",
   "execution_count": 7,
   "metadata": {},
   "outputs": [],
   "source": [
    "# Comprobamos las dimensiones del array:\n",
    "dimensiones = array_aleatorio.shape"
   ]
  },
  {
   "cell_type": "code",
   "execution_count": 8,
   "metadata": {},
   "outputs": [],
   "source": [
    "# Comprobamos el tipo de dato que tengo en el array\n",
    "tipo_dato = array_aleatorio.dtype"
   ]
  },
  {
   "cell_type": "code",
   "execution_count": 9,
   "metadata": {},
   "outputs": [
    {
     "name": "stdout",
     "output_type": "stream",
     "text": [
      "Array generado:\n",
      "[[39 88 39]\n",
      " [85 77 57]\n",
      " [84 64 57]\n",
      " [51 44 37]]\n",
      "Dimensiones del array: (4, 3)\n",
      "Tipo de dato del array: int32\n"
     ]
    }
   ],
   "source": [
    "# Imprimir el array generado, dimensiones y tipo de dato\n",
    "print(\"Array generado:\")\n",
    "print(array_aleatorio)\n",
    "print(\"Dimensiones del array:\", dimensiones)\n",
    "print(\"Tipo de dato del array:\", tipo_dato)"
   ]
  },
  {
   "cell_type": "code",
   "execution_count": 12,
   "metadata": {},
   "outputs": [],
   "source": [
    "# 2. Crea dos arrays (unidimensional, bidimensional) usando el método \n",
    "# np.array().\n",
    "# Las listas para crear los arrays son las siguientes\n",
    "\n",
    "lista1 = [34,56,71,98, 10]\n",
    "lista2 = [[23,45,89, 56], [12,43,82,44]]\n",
    "\n",
    "array_unidimensional = np.array(lista1)\n",
    "\n",
    "array_bidimensional = np.array(lista2)"
   ]
  },
  {
   "cell_type": "code",
   "execution_count": 13,
   "metadata": {},
   "outputs": [
    {
     "name": "stdout",
     "output_type": "stream",
     "text": [
      "descripcion del array unidimensional\n",
      "-----------------------------------------\n",
      "El array unidimensional es: \n",
      "  [34 56 71 98 10]\n",
      "La forma del array unidimensional es: (5,)\n",
      "El número de dimensiones del array unidimensional es: 1\n",
      "El número de elementos del array unidimensional es: 5\n",
      "El tipo de dato que tenemos en el array unidimensional es: int32\n",
      "\n",
      "\n",
      "-*-*-*-*-*-*-*-*-*-*-*-*-*-*-*-*-*-*-*-\n",
      "\n",
      "descripcion del array bidimensional\n",
      "-----------------------------------------\n",
      "El array bidimensional es: \n",
      "  [[23 45 89 56]\n",
      " [12 43 82 44]]\n",
      "La forma del array bidimensional es: (2, 4)\n",
      "El número de dimensiones del array bidimensional es: 2\n",
      "El número de elementos del array bidimensional es: 8\n",
      "El tipo de dato que tenemos en el array bidimensional es: int32\n",
      "\n"
     ]
    }
   ],
   "source": [
    "print(\"descripcion del array unidimensional\")\n",
    "print(\"-----------------------------------------\")\n",
    "print(f\"El array unidimensional es: \\n  {array_unidimensional}\")\n",
    "print(f\"La forma del array unidimensional es: {array_unidimensional.shape}\")\n",
    "print(f\"El número de dimensiones del array unidimensional es: {array_unidimensional.ndim}\")\n",
    "print(f\"El número de elementos del array unidimensional es: {array_unidimensional.size}\")\n",
    "print(f\"El tipo de dato que tenemos en el array unidimensional es: {array_unidimensional.dtype}\\n\")\n",
    "print()\n",
    "print(\"-*-*-*-*-*-*-*-*-*-*-*-*-*-*-*-*-*-*-*-\")\n",
    "print()\n",
    "print(\"descripcion del array bidimensional\")\n",
    "print(\"-----------------------------------------\")\n",
    "print(f\"El array bidimensional es: \\n  {array_bidimensional}\")\n",
    "print(f\"La forma del array bidimensional es: {array_bidimensional.shape}\")\n",
    "print(f\"El número de dimensiones del array bidimensional es: {array_bidimensional.ndim}\")\n",
    "print(f\"El número de elementos del array bidimensional es: {array_bidimensional.size}\")\n",
    "print(f\"El tipo de dato que tenemos en el array bidimensional es: {array_bidimensional.dtype}\\n\")"
   ]
  },
  {
   "cell_type": "code",
   "execution_count": 20,
   "metadata": {},
   "outputs": [
    {
     "name": "stdout",
     "output_type": "stream",
     "text": [
      "El primer elemento del array es: 70\n",
      "Los elementos de posición impar son: [76 42 77 96 66 52 47 78 84 90 86 84 91 96 96 82 66 39 89 55 35 76 51 79\n",
      " 89]\n",
      "Los 4 primeros elementos son: [70 76 50 42 66]\n",
      "Los últimos 3 elementos son: [79 89 89]\n",
      "Los elementos entre el 4 y el 8 incluido son: [66 77 89 96 81]\n"
     ]
    }
   ],
   "source": [
    "# 3. Crea un array unidimensional con 50 elementos con el método que \n",
    "# prefieras y extrae:\n",
    "\n",
    "array3= np.random.randint(34, 98, (1, 50))\n",
    "\n",
    "# El primer elemento.\n",
    "print(\"El primer elemento del array es:\", array3[0][0])\n",
    "# Lo elementos que están en posición impar.\n",
    "print(\"Los elementos de posición impar son:\", array3[0][1::2])\n",
    "# Los cuatro primeros elementos.\n",
    "print(\"Los 4 primeros elementos son:\", array3[0][:5])\n",
    "# Los últimos tres elementos.\n",
    "print(\"Los últimos 3 elementos son:\", array3[0][-3:])\n",
    "# Los elementos entre el 4 y el 8 (incluido).\n",
    "print(\"Los elementos entre el 4 y el 8 incluido son:\", array3[0][4:9])"
   ]
  },
  {
   "cell_type": "code",
   "execution_count": 22,
   "metadata": {},
   "outputs": [
    {
     "name": "stdout",
     "output_type": "stream",
     "text": [
      "[[40 88 59 13 33]\n",
      " [ 5 43 47 42 51]\n",
      " [75 41 65 11 77]\n",
      " [65 82 48 52 94]]\n",
      "La primera fila y todas las columnas son: [40 88 59 13 33]\n",
      "Las filas pares son: [[40 88 59 13 33]\n",
      " [75 41 65 11 77]]\n",
      "La primera columna y todas las filas: [40  5 75 65]\n"
     ]
    }
   ],
   "source": [
    "# 4. Crea un array de dos dimensiones de 4 x 5 con el método que \n",
    "# prefieras y extrae:\n",
    "\n",
    "array4 = np.random.randint(0,99, (4,5))\n",
    "\n",
    "print(array4)\n",
    "\n",
    "# La primera fila y todas las columnas.\n",
    "print(\"La primera fila y todas las columnas son:\", array4[0, :])\n",
    "\n",
    "# Todas las filas pares.\n",
    "print(\"Las filas pares son:\", array4[0::2])\n",
    "\n",
    "# La primera columna y todas las filas.\n",
    "print(\"La primera columna y todas las filas:\", array4[:, 0])"
   ]
  },
  {
   "cell_type": "code",
   "execution_count": 68,
   "metadata": {},
   "outputs": [],
   "source": [
    "# 5. Crea un array bidimensional con 20 elementos aleatrorios entre\n",
    "#  0 y 50 con el método que prefieras y:\n",
    "# Crea una mascara o filtro donde los valores mayores a 30 y \n",
    "# menores a 10 se reemplace por \"objetivo\" y el resto por \n",
    "# \"no es mi objetivo\".\n",
    "# Los valores de mi array bidimensional multiplicalos por el\n",
    "#  escalar 10.\n",
    "\n",
    "array5 = np.random.randint(0, 50, (2,10))"
   ]
  },
  {
   "cell_type": "code",
   "execution_count": 74,
   "metadata": {},
   "outputs": [
    {
     "data": {
      "text/plain": [
       "array([[18, 25, 48, 35, 46, 43, 20, 46, 23, 14],\n",
       "       [ 9, 20,  1, 21, 27, 26, 44, 40, 49, 18]])"
      ]
     },
     "execution_count": 74,
     "metadata": {},
     "output_type": "execute_result"
    }
   ],
   "source": [
    "array5"
   ]
  },
  {
   "cell_type": "code",
   "execution_count": 72,
   "metadata": {},
   "outputs": [],
   "source": [
    "# Crea una mascara o filtro donde los valores mayores a 30 y \n",
    "# menores a 10 se reemplace por \"objetivo\" y el resto por \n",
    "# \"no es mi objetivo\".\n",
    "\n",
    "mascara = (array5 > 10) & (array5 < 30)\n",
    "array_condicion = np.where(mascara, \"objetivo\",\"no es mi objetivo\")"
   ]
  },
  {
   "cell_type": "code",
   "execution_count": 73,
   "metadata": {},
   "outputs": [
    {
     "data": {
      "text/plain": [
       "array([['objetivo', 'objetivo', 'no es mi objetivo', 'no es mi objetivo',\n",
       "        'no es mi objetivo', 'no es mi objetivo', 'objetivo',\n",
       "        'no es mi objetivo', 'objetivo', 'objetivo'],\n",
       "       ['no es mi objetivo', 'objetivo', 'no es mi objetivo', 'objetivo',\n",
       "        'objetivo', 'objetivo', 'no es mi objetivo', 'no es mi objetivo',\n",
       "        'no es mi objetivo', 'objetivo']], dtype='<U17')"
      ]
     },
     "execution_count": 73,
     "metadata": {},
     "output_type": "execute_result"
    }
   ],
   "source": [
    "array_condicion"
   ]
  },
  {
   "cell_type": "code",
   "execution_count": 69,
   "metadata": {},
   "outputs": [
    {
     "data": {
      "text/plain": [
       "array([[18, 25, 48, 35, 46, 43, 20, 46, 23, 14],\n",
       "       [ 9, 20,  1, 21, 27, 26, 44, 40, 49, 18]])"
      ]
     },
     "execution_count": 69,
     "metadata": {},
     "output_type": "execute_result"
    }
   ],
   "source": [
    "array5"
   ]
  },
  {
   "cell_type": "code",
   "execution_count": 75,
   "metadata": {},
   "outputs": [
    {
     "data": {
      "text/plain": [
       "array([[180, 250, 480, 350, 460, 430, 200, 460, 230, 140],\n",
       "       [ 90, 200,  10, 210, 270, 260, 440, 400, 490, 180]])"
      ]
     },
     "execution_count": 75,
     "metadata": {},
     "output_type": "execute_result"
    }
   ],
   "source": [
    "# Los valores de mi array bidimensional multiplicalos por el escalar 10.\n",
    "\n",
    "array5 * 10"
   ]
  },
  {
   "cell_type": "code",
   "execution_count": 80,
   "metadata": {},
   "outputs": [],
   "source": [
    "# 6. Crea un nuevo array de dos dimensiones con la misma forma que \n",
    "# el anterior y \n",
    "# con el método que prefieras y realiza lo siguiente:\n",
    "\n",
    "array6 = np.random.randint(0,50,(2,10))\n",
    "array61 = np.random.randint(0,50,(2,10))"
   ]
  },
  {
   "cell_type": "code",
   "execution_count": 83,
   "metadata": {},
   "outputs": [
    {
     "data": {
      "text/plain": [
       "array([[ 9, 17, 38, 42, 16, 22, 36, 47,  3, 31],\n",
       "       [13,  4, 35, 31, 45, 14, 37, 34, 25, 30]])"
      ]
     },
     "execution_count": 83,
     "metadata": {},
     "output_type": "execute_result"
    }
   ],
   "source": [
    "array6 "
   ]
  },
  {
   "cell_type": "code",
   "execution_count": 82,
   "metadata": {},
   "outputs": [
    {
     "data": {
      "text/plain": [
       "array([[11,  9, 42, 14, 43, 45, 14, 31, 34, 16],\n",
       "       [14, 48,  6, 37, 49,  8, 27, 31, 11,  8]])"
      ]
     },
     "execution_count": 82,
     "metadata": {},
     "output_type": "execute_result"
    }
   ],
   "source": [
    "array61\n"
   ]
  },
  {
   "cell_type": "code",
   "execution_count": 84,
   "metadata": {},
   "outputs": [
    {
     "data": {
      "text/plain": [
       "array([[20, 26, 80, 56, 59, 67, 50, 78, 37, 47],\n",
       "       [27, 52, 41, 68, 94, 22, 64, 65, 36, 38]])"
      ]
     },
     "execution_count": 84,
     "metadata": {},
     "output_type": "execute_result"
    }
   ],
   "source": [
    "# Suma el primer array con el segundo.\n",
    "array6 + array61"
   ]
  },
  {
   "cell_type": "code",
   "execution_count": 85,
   "metadata": {},
   "outputs": [
    {
     "data": {
      "text/plain": [
       "array([[ 1316288537, -1671207791,           0,  1003634688,           0,\n",
       "                  0,   268435456,    69729487,  -217042295,  1353309697],\n",
       "       [ -523170343,           0,  1838265625,  1632803999,   635433965,\n",
       "         1475789056, -2134678531, -2147483648, -2094601527, -1029996288]])"
      ]
     },
     "execution_count": 85,
     "metadata": {},
     "output_type": "execute_result"
    }
   ],
   "source": [
    "# Aplicar la potencia para el primer array elevado al segundo.\n",
    "\n",
    "array6 ** array61"
   ]
  },
  {
   "cell_type": "code",
   "execution_count": 86,
   "metadata": {},
   "outputs": [],
   "source": [
    "# 7. Crea un array, puede ser bidimensional! Eso si, los valores tienen \n",
    "# que estar entre 0-100. calcula:\n",
    "\n",
    "array7 = np.random.randint(0,100,(2,10))\n",
    "\n",
    "# La media de los elementos\n",
    "np.mean(array7)\n",
    "# La media de las columnas y redondéalo a dos decimales\n",
    "mean = np.mean(array7, axis = 0)\n",
    "np.round(mean,2)\n",
    "# El valor máximo de cada fila\n",
    "np.max(array7, axis = 0)\n",
    "# El valor mínimo de cada fila\n",
    "np.min(array7, axis = 0)\n",
    "# Hay algun valor que sea mayor que 90 en tu array\n",
    "array7 [ array7 > 90]\n",
    "# Donde los podemos encontrar, cuáles son sus índices\n",
    "np.argwhere(array7 > 70)\n",
    "# Ordena el array de mayor a menor\n",
    "array_ordenado = np.sort(array7)"
   ]
  },
  {
   "cell_type": "code",
   "execution_count": 88,
   "metadata": {},
   "outputs": [
    {
     "data": {
      "text/plain": [
       "array([[85, 53, 23, 39, 13, 43, 36, 70, 73, 12],\n",
       "       [67, 69, 10, 77, 81, 28, 80, 32, 22, 60]])"
      ]
     },
     "execution_count": 88,
     "metadata": {},
     "output_type": "execute_result"
    }
   ],
   "source": [
    "array7 "
   ]
  },
  {
   "cell_type": "code",
   "execution_count": 95,
   "metadata": {},
   "outputs": [],
   "source": [
    "mean = np.mean(array7, axis = 0)\n"
   ]
  },
  {
   "cell_type": "code",
   "execution_count": 102,
   "metadata": {},
   "outputs": [
    {
     "data": {
      "text/plain": [
       "array([76. , 61. , 16.5, 58. , 47. , 35.5, 58. , 51. , 47.5, 36. ])"
      ]
     },
     "execution_count": 102,
     "metadata": {},
     "output_type": "execute_result"
    }
   ],
   "source": [
    "np.round(mean,2)"
   ]
  },
  {
   "cell_type": "code",
   "execution_count": 105,
   "metadata": {},
   "outputs": [
    {
     "data": {
      "text/plain": [
       "array([85, 69, 23, 77, 81, 43, 80, 70, 73, 60])"
      ]
     },
     "execution_count": 105,
     "metadata": {},
     "output_type": "execute_result"
    }
   ],
   "source": [
    "np.max(array7, axis = 0)"
   ]
  },
  {
   "cell_type": "code",
   "execution_count": 106,
   "metadata": {},
   "outputs": [
    {
     "data": {
      "text/plain": [
       "array([67, 53, 10, 39, 13, 28, 36, 32, 22, 12])"
      ]
     },
     "execution_count": 106,
     "metadata": {},
     "output_type": "execute_result"
    }
   ],
   "source": [
    "np.min(array7, axis = 0)"
   ]
  },
  {
   "cell_type": "code",
   "execution_count": 113,
   "metadata": {},
   "outputs": [
    {
     "data": {
      "text/plain": [
       "array([85, 73, 77, 81, 80])"
      ]
     },
     "execution_count": 113,
     "metadata": {},
     "output_type": "execute_result"
    }
   ],
   "source": [
    "# cogemos 70 porque no hay mayores que 90\n",
    "\n",
    "array7 [ array7 > 70]"
   ]
  },
  {
   "cell_type": "code",
   "execution_count": 116,
   "metadata": {},
   "outputs": [
    {
     "data": {
      "text/plain": [
       "array([[85, 53, 23, 39, 13, 43, 36, 70, 73, 12],\n",
       "       [67, 69, 10, 77, 81, 28, 80, 32, 22, 60]])"
      ]
     },
     "execution_count": 116,
     "metadata": {},
     "output_type": "execute_result"
    }
   ],
   "source": [
    "array7"
   ]
  },
  {
   "cell_type": "code",
   "execution_count": 117,
   "metadata": {},
   "outputs": [
    {
     "data": {
      "text/plain": [
       "array([[0, 0],\n",
       "       [0, 8],\n",
       "       [1, 3],\n",
       "       [1, 4],\n",
       "       [1, 6]], dtype=int64)"
      ]
     },
     "execution_count": 117,
     "metadata": {},
     "output_type": "execute_result"
    }
   ],
   "source": [
    "np.argwhere(array7 > 70)"
   ]
  },
  {
   "cell_type": "code",
   "execution_count": 118,
   "metadata": {},
   "outputs": [],
   "source": [
    "array_ordenado = np.sort(array7)"
   ]
  },
  {
   "cell_type": "code",
   "execution_count": 119,
   "metadata": {},
   "outputs": [
    {
     "data": {
      "text/plain": [
       "array([[12, 13, 23, 36, 39, 43, 53, 70, 73, 85],\n",
       "       [10, 22, 28, 32, 60, 67, 69, 77, 80, 81]])"
      ]
     },
     "execution_count": 119,
     "metadata": {},
     "output_type": "execute_result"
    }
   ],
   "source": [
    "array_ordenado"
   ]
  }
 ],
 "metadata": {
  "kernelspec": {
   "display_name": "base",
   "language": "python",
   "name": "python3"
  },
  "language_info": {
   "codemirror_mode": {
    "name": "ipython",
    "version": 3
   },
   "file_extension": ".py",
   "mimetype": "text/x-python",
   "name": "python",
   "nbconvert_exporter": "python",
   "pygments_lexer": "ipython3",
   "version": "3.11.7"
  }
 },
 "nbformat": 4,
 "nbformat_minor": 2
}
