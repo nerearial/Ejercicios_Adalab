{
 "cells": [
  {
   "cell_type": "markdown",
   "metadata": {},
   "source": [
    "### NUMPY\n",
    "Creación e indexación:"
   ]
  },
  {
   "cell_type": "code",
   "execution_count": 1,
   "metadata": {},
   "outputs": [],
   "source": [
    "import numpy as np"
   ]
  },
  {
   "cell_type": "code",
   "execution_count": 8,
   "metadata": {},
   "outputs": [
    {
     "name": "stdout",
     "output_type": "stream",
     "text": [
      "Los múltiplos de 5 son:[0.49318025 0.60980574 0.54544053 0.25670153 0.61163031 0.53704793\n",
      " 0.93165128 0.30329956 0.15272063 0.63912298]\n"
     ]
    }
   ],
   "source": [
    "# 1. Crea un array 1D con 50 valores aleatorio del 10 al 99. Accede a los elementos en las posiciones múltiplos de 5.\n",
    "\n",
    "array_uni = np.random.random_sample(50)\n",
    "multiplos5 = array_uni[::5]\n",
    "print(f'Los múltiplos de 5 son:{multiplos5}')"
   ]
  },
  {
   "cell_type": "code",
   "execution_count": 13,
   "metadata": {},
   "outputs": [
    {
     "name": "stdout",
     "output_type": "stream",
     "text": [
      "[[[0.85670811 0.85057197 0.38299237 0.76455962 0.31771325 0.33296732\n",
      "   0.74813847 0.072847   0.45451403 0.62391263 0.34989739 0.65284005\n",
      "   0.20452881 0.72535824 0.32605508 0.53830282 0.7472101  0.91342116\n",
      "   0.40571986 0.95865799 0.84919645 0.44856963 0.13800047 0.49692664\n",
      "   0.66408458 0.63050943 0.98466191 0.3329231  0.23824484 0.54263387]\n",
      "  [0.90679257 0.70120791 0.08410729 0.39699494 0.09572153 0.38352001\n",
      "   0.86501785 0.50888524 0.73755321 0.68620246 0.8409767  0.41805044\n",
      "   0.10173521 0.54484358 0.66132521 0.39008438 0.77914682 0.67722295\n",
      "   0.76681344 0.62075496 0.15937223 0.18058099 0.258795   0.31770141\n",
      "   0.60259663 0.1117018  0.65073831 0.52276303 0.94062972 0.4064714 ]\n",
      "  [0.81681064 0.63604653 0.32925048 0.51346623 0.10013367 0.55657235\n",
      "   0.33635673 0.54247779 0.44237007 0.74982409 0.59197649 0.61828485\n",
      "   0.32653456 0.3315715  0.19288796 0.33013253 0.46603692 0.30778705\n",
      "   0.75290282 0.2241747  0.48533361 0.62717134 0.87040013 0.47785085\n",
      "   0.5682501  0.68066986 0.93133824 0.5225016  0.68292849 0.29463015]\n",
      "  [0.83876495 0.85269161 0.06051453 0.62203015 0.39157839 0.67569444\n",
      "   0.72201077 0.55216172 0.54553527 0.73029127 0.99177729 0.87057458\n",
      "   0.77102595 0.86680429 0.79358132 0.87217726 0.04587546 0.15797969\n",
      "   0.46526931 0.95113027 0.23573197 0.53189963 0.92258252 0.53211423\n",
      "   0.74574701 0.075779   0.0631772  0.46200078 0.66311889 0.72293673]\n",
      "  [0.96429354 0.80588791 0.08350651 0.93318313 0.57608617 0.62530467\n",
      "   0.14695538 0.66012665 0.65808266 0.57061813 0.44361865 0.84766807\n",
      "   0.52895583 0.42330102 0.13874304 0.9666231  0.622373   0.17030306\n",
      "   0.35040937 0.10762392 0.8265414  0.64314868 0.97615162 0.35538442\n",
      "   0.70849177 0.99542802 0.08592339 0.54506928 0.8843557  0.9492078 ]\n",
      "  [0.29937209 0.52533783 0.6235664  0.36280126 0.29174025 0.60158198\n",
      "   0.24008308 0.11499399 0.74159258 0.3750358  0.42935346 0.29680765\n",
      "   0.16458422 0.09070163 0.17723333 0.63526459 0.10587658 0.27547842\n",
      "   0.474363   0.02550819 0.27906884 0.1136336  0.05884569 0.01945457\n",
      "   0.18335526 0.76365732 0.07369036 0.21335894 0.7588553  0.63181647]\n",
      "  [0.38325824 0.01465668 0.58908939 0.76218137 0.98081834 0.36024744\n",
      "   0.3600603  0.00571977 0.79822839 0.95754927 0.7592186  0.60657514\n",
      "   0.98727587 0.77666795 0.81370063 0.90299151 0.54629288 0.61560889\n",
      "   0.03673294 0.48765214 0.23083246 0.88138739 0.92033853 0.92025887\n",
      "   0.30686755 0.10794582 0.50830213 0.2455977  0.4750889  0.59647303]\n",
      "  [0.11583659 0.53387126 0.33131345 0.51878805 0.9827782  0.1385747\n",
      "   0.87420075 0.61943047 0.04563361 0.58318489 0.20788062 0.96881129\n",
      "   0.33338225 0.38000073 0.13265472 0.39922783 0.46561673 0.40743923\n",
      "   0.67600825 0.2983221  0.41877591 0.00747457 0.11225103 0.24922761\n",
      "   0.37683246 0.39814791 0.09763403 0.1239056  0.79659847 0.85405806]\n",
      "  [0.64165505 0.86778949 0.11931421 0.6828137  0.1207373  0.88204039\n",
      "   0.6877655  0.83794074 0.51582416 0.72144189 0.09986952 0.23136471\n",
      "   0.92380949 0.82804993 0.39231509 0.9697287  0.58025674 0.75788768\n",
      "   0.67027875 0.89314263 0.23949344 0.12061184 0.81865246 0.30318671\n",
      "   0.63965037 0.96773918 0.01680314 0.25878034 0.14323392 0.94850575]\n",
      "  [0.91312422 0.33606049 0.5279798  0.24801506 0.73968474 0.61118334\n",
      "   0.5533817  0.17820002 0.21870117 0.31836868 0.72541415 0.60908819\n",
      "   0.94533967 0.22144549 0.05902069 0.63845279 0.05433942 0.04787411\n",
      "   0.44663934 0.38622104 0.49780389 0.87608784 0.6339616  0.38875381\n",
      "   0.96734725 0.94304298 0.76438622 0.85337196 0.46743075 0.38574141]\n",
      "  [0.50641808 0.30613385 0.56128257 0.53329734 0.93823519 0.64736726\n",
      "   0.81458399 0.55998543 0.9628595  0.39584821 0.80832846 0.54034659\n",
      "   0.22628283 0.49925492 0.21969825 0.50516971 0.89245457 0.68128264\n",
      "   0.95171979 0.91215391 0.9007101  0.8709684  0.77121286 0.1357246\n",
      "   0.5637617  0.86728147 0.07435125 0.23365032 0.66773926 0.67782031]\n",
      "  [0.34063196 0.43969027 0.69908641 0.64066708 0.20216222 0.03397561\n",
      "   0.07702677 0.75606647 0.3868774  0.62579591 0.46763487 0.13038171\n",
      "   0.58836942 0.84226252 0.71943008 0.18089498 0.27365752 0.98124417\n",
      "   0.98386922 0.0458286  0.77775281 0.504602   0.93852665 0.63122728\n",
      "   0.87807884 0.64961748 0.76788677 0.68754559 0.46389214 0.73909908]\n",
      "  [0.12665225 0.50125491 0.02746139 0.63596437 0.2995078  0.93727944\n",
      "   0.1775996  0.33224664 0.42324419 0.84309458 0.08481538 0.68219088\n",
      "   0.53610509 0.86686982 0.04954527 0.89349775 0.53463035 0.09907956\n",
      "   0.05304792 0.63098498 0.51110627 0.37995712 0.06340948 0.68216943\n",
      "   0.44659691 0.11306174 0.68169298 0.90235249 0.17892111 0.41621878]\n",
      "  [0.24533763 0.18448416 0.29720728 0.41687037 0.07329962 0.50291776\n",
      "   0.37778947 0.78396933 0.73357316 0.76857631 0.55464753 0.76653653\n",
      "   0.22453038 0.91440906 0.26970453 0.69946982 0.48461425 0.68657163\n",
      "   0.78653404 0.52375096 0.01316547 0.82823491 0.39202051 0.52568461\n",
      "   0.8954071  0.57212587 0.37761045 0.58355045 0.2842917  0.84954209]\n",
      "  [0.46976349 0.2158289  0.91252558 0.40461332 0.94368101 0.44032288\n",
      "   0.74070773 0.79875274 0.9028835  0.83337203 0.10576248 0.17381122\n",
      "   0.63814599 0.2835386  0.1043863  0.49826749 0.56169656 0.83882001\n",
      "   0.48916156 0.62198113 0.56726185 0.2228824  0.29474286 0.96655761\n",
      "   0.40648032 0.01492152 0.61259094 0.27011084 0.38132071 0.67632752]\n",
      "  [0.96075127 0.59499686 0.33537195 0.76603962 0.87032411 0.9929239\n",
      "   0.19953393 0.51468708 0.71949366 0.24891406 0.75954831 0.86328621\n",
      "   0.3076426  0.17976748 0.52320522 0.80570049 0.01127149 0.49701528\n",
      "   0.78426363 0.45715865 0.91064038 0.06588269 0.99267282 0.29129393\n",
      "   0.55946347 0.79805007 0.19364621 0.71373954 0.62382407 0.08309708]\n",
      "  [0.96814665 0.52906337 0.96493472 0.94096611 0.55469618 0.23004579\n",
      "   0.64367193 0.7895479  0.90912504 0.74146829 0.74321518 0.88152299\n",
      "   0.01344309 0.25338042 0.06916556 0.82071097 0.67995276 0.55700792\n",
      "   0.1694947  0.77786389 0.97351127 0.74107088 0.62306769 0.38752628\n",
      "   0.89300058 0.39292214 0.82995014 0.52502098 0.82961466 0.11935669]\n",
      "  [0.40963894 0.18419709 0.46663435 0.33742245 0.05016982 0.34520202\n",
      "   0.48201167 0.27831222 0.9033841  0.30652042 0.0841002  0.24954307\n",
      "   0.31136294 0.83377654 0.94988256 0.73501726 0.65572886 0.52169704\n",
      "   0.4459558  0.15454882 0.39946946 0.1059792  0.14609959 0.20616299\n",
      "   0.23484288 0.98506033 0.64045238 0.39748    0.14751123 0.83589925]\n",
      "  [0.02262432 0.02985205 0.99464404 0.44298606 0.09405185 0.40044789\n",
      "   0.25375983 0.84046687 0.28056126 0.56255204 0.42960622 0.11066892\n",
      "   0.47166895 0.67568677 0.34626027 0.8652563  0.57418521 0.46560196\n",
      "   0.84609185 0.68489383 0.06195217 0.45313544 0.3161226  0.58080482\n",
      "   0.54784922 0.80474691 0.12620011 0.94404989 0.85222658 0.25836075]\n",
      "  [0.89766278 0.51964947 0.51448517 0.97551635 0.25055928 0.08556573\n",
      "   0.70434468 0.36912761 0.90256921 0.16356219 0.83310889 0.61793371\n",
      "   0.66651247 0.2559598  0.7801912  0.89117633 0.92964195 0.14300094\n",
      "   0.23827097 0.85318891 0.87947258 0.63552946 0.47799657 0.21043831\n",
      "   0.76964307 0.72638598 0.02634989 0.94665222 0.6885153  0.90776093]\n",
      "  [0.02997793 0.91306956 0.66592452 0.19605294 0.39960789 0.01576178\n",
      "   0.85798718 0.228466   0.59728912 0.82294934 0.81097388 0.83494568\n",
      "   0.34724937 0.19382668 0.81921426 0.57896116 0.71708828 0.69893329\n",
      "   0.8204779  0.09613746 0.39486204 0.89127222 0.49252472 0.37590101\n",
      "   0.04376223 0.15439804 0.32575342 0.00163993 0.6872094  0.71417829]]]\n",
      "Los elementos impares son: []\n"
     ]
    }
   ],
   "source": [
    "# 2. Crea un array 1D con 30 valores del 1 al 20 (ambos incluidos). Utiliza indexación para obtener los elementos en las posiciones impares.\n",
    "\n",
    "array_uni2 = np.random.rand(1, 21, 30)\n",
    "print(array_uni2)\n",
    "\n",
    "print('Los elementos impares son:', array_uni2[1:2])"
   ]
  },
  {
   "cell_type": "code",
   "execution_count": 14,
   "metadata": {},
   "outputs": [
    {
     "name": "stdout",
     "output_type": "stream",
     "text": [
      "Array 2D original:\n",
      "[[14.11 30.   31.72 80.71 60.63 48.17]\n",
      " [98.63 14.13 80.27 84.68 58.41 44.45]\n",
      " [97.53 37.54 58.93 59.08 63.85 32.83]\n",
      " [76.89 96.79 70.66 62.14 20.69 99.31]]\n",
      "\n",
      "Última fila de la matriz:\n",
      "[76.89 96.79 70.66 62.14 20.69 99.31]\n"
     ]
    }
   ],
   "source": [
    "# 3. Crea un array 2D de forma (4, 6) con números aleatorios decimales (no deben estar comprendidos solo entre 0 y 1). \n",
    "# Accede a la última fila de la matriz. Los decimales deben estar redondeados a 2 decimales.\n",
    "\n",
    "array3 = (np.random.random((4, 6)) * 90) + 10  # Escalar y desplazar para obtener el rango entre 10 y 100\n",
    "array3 = np.round(array3, 2)  # Redondear los decimales a 2 decimales\n",
    "print(\"Array 2D original:\")\n",
    "print(array3)\n",
    "\n",
    "# Acceder a la última fila de la matriz\n",
    "last_row = array3[-1, :]\n",
    "print(\"\\nÚltima fila de la matriz:\")\n",
    "print(last_row)"
   ]
  },
  {
   "cell_type": "code",
   "execution_count": 17,
   "metadata": {},
   "outputs": [
    {
     "name": "stdout",
     "output_type": "stream",
     "text": [
      "\n",
      "Array 3D con elementos en posiciones múltiplos de 3 reemplazados por 0:\n",
      "[[[ 0 27 95  0 79]\n",
      "  [19  0 49 30  0]\n",
      "  [34 80  0 61 95]]\n",
      "\n",
      " [[ 0 83 97  0 96]\n",
      "  [15  0 45 30  0]\n",
      "  [51 13  0  7 29]]]\n"
     ]
    }
   ],
   "source": [
    "# 4. BONUS: Crea un array 3D de forma (2, 3, 5) y 30 elementos con números enteros entre 0 y 100 (ambos incluidos). \n",
    "# Reemplaza los elementos en posiciones múltiplos de 3 por 0.\n",
    "\n",
    "array4 = np.random.randint(0, 101, (2, 3, 5))\n",
    "\n",
    "# Reemplazar los elementos en posiciones múltiplos de 3 por 0\n",
    "array4_flat = array4.flatten()  # Convertir el array a 1D para facilitar el acceso\n",
    "array4_flat[::3] = 0\n",
    "array4 = array4_flat.reshape((2, 3, 5))  # Reconstruir el array 3D\n",
    "print(\"\\nArray 3D con elementos en posiciones múltiplos de 3 reemplazados por 0:\")\n",
    "print(array4)"
   ]
  },
  {
   "cell_type": "markdown",
   "metadata": {},
   "source": [
    "Preguntas teóricas:\n",
    "¿Qué diferencia existe entre el reshape y el transpose?\n",
    "reshape:\n",
    "\n",
    "Propósito: Cambia la forma del array sin alterar los datos subyacentes. Uso: Especificas la nueva forma que quieres para el array, siempre que el número total de elementos se mantenga constante. Ejemplo simple: Cambiar un array de 12 elementos de 1D (una dimensión) a 2D (dos dimensiones) con 3 filas y 4 columnas.\n",
    "\n",
    "transpose:\n",
    "\n",
    "Propósito: Permuta los ejes del array. Uso: Cambia el orden de las dimensiones del array, reorganizando cómo se disponen los elementos. Ejemplo simple: Convertir un array 2D de 3x4 (3 filas y 4 columnas) a 4x3 (4 filas y 3 columnas) intercambiando filas por columnas.\n",
    "\n",
    "¿Y entre el transpose y el swapaxes?\n",
    "transpose:\n",
    "\n",
    "Propósito: Permuta todos los ejes del array según el orden que especifiques. Uso: Se utiliza para reordenar completamente las dimensiones del array. Ejemplo simple: Cambiar un array 3D de forma (2, 3, 4) a (4, 3, 2) especificando el nuevo orden de los ejes.\n",
    "\n",
    "swapaxes:\n",
    "\n",
    "Propósito: Intercambia solo dos ejes específicos del array. Uso: Especificas dos ejes para intercambiar su posición. Ejemplo simple: Cambiar un array 3D de forma (2, 3, 4) a (4, 3, 2) intercambiando solo el primer y el tercer eje."
   ]
  },
  {
   "cell_type": "markdown",
   "metadata": {},
   "source": [
    "### Funciones Aritméticas y Estadísticas:"
   ]
  },
  {
   "cell_type": "markdown",
   "metadata": {},
   "source": [
    "1. Crea un array de tres 3D con elementos entre el 0 y 1 de forma (2, 3, 5) cuyos valores solo tengan 1 decimal."
   ]
  },
  {
   "cell_type": "code",
   "execution_count": 18,
   "metadata": {},
   "outputs": [
    {
     "name": "stdout",
     "output_type": "stream",
     "text": [
      "Array 3D original:\n",
      "[[[0.8 0.6 0.9 0.5 0.4]\n",
      "  [0.2 0.1 0.2 0.7 0.2]\n",
      "  [0.1 0.7 0.3 0.5 0.8]]\n",
      "\n",
      " [[0.3 0.7 0.7 0.8 0.6]\n",
      "  [0.9 0.  0.4 0.1 0.6]\n",
      "  [0.9 0.8 0.5 0.3 0. ]]]\n"
     ]
    }
   ],
   "source": [
    "# Crear el array 3D con valores entre 0 y 1, y redondearlos a 1 decimal\n",
    "array_3d = np.round(np.random.random((2, 3, 5)), 1)\n",
    "print(\"Array 3D original:\")\n",
    "print(array_3d)"
   ]
  },
  {
   "cell_type": "markdown",
   "metadata": {},
   "source": [
    "2. Crea un array vacío con la misma forma y dimensiones que el array creado anteriormente. Vamos a reemplazar los valores de la matriz vacía que nos acabamos de crear pero basándonos en los valores del primer array bajo las siguientes condiciones:\n",
    "\n",
    "- Si el valor del array es igual que la media, se reemplaza por \"A\".\n",
    "\n",
    "- Si el valor del array es mayor que la media, se reemplaza por \"B\".\n",
    "\n",
    "- Si el valor del array es menor que la media, se reemplaza por \"C\".\n",
    "\n",
    "- Si el valor es igual que el máximo, se reemplaza por \"D\".\n",
    "\n",
    "- Si el valor es igual que el mínimo, se reemplaza por \"E\"."
   ]
  },
  {
   "cell_type": "code",
   "execution_count": 21,
   "metadata": {},
   "outputs": [
    {
     "data": {
      "text/plain": [
       "[[['A', 'B', 'C', 'B', 'C'],\n",
       "  ['C', 'B', 'B', 'C', 'C'],\n",
       "  ['D', 'C', 'C', 'B', 'C']],\n",
       " [['E', 'C', 'A', 'B', 'C'],\n",
       "  ['B', 'B', 'B', 'E', 'B'],\n",
       "  ['B', 'C', 'B', 'B', 'C']]]"
      ]
     },
     "execution_count": 21,
     "metadata": {},
     "output_type": "execute_result"
    }
   ],
   "source": [
    "# a modo de ejemplo. Si tenemos el siguiente array\n",
    "[[[0.4, 0.7, 0.2, 0.9, 0.2],\n",
    "    [0.1, 0.9, 0.6, 0.1, 0.2],\n",
    "    [1. , 0.2, 0.1, 0.8, 0.3]],\n",
    "\n",
    "[[0. , 0.3, 0.4, 0.5, 0.1],\n",
    "    [0.5, 0.7, 0.9, 0. , 0.8],\n",
    "    [0.5, 0.3, 0.5, 0.8, 0.1]]]\n",
    "\n",
    "# sabiendo que la media es 0.4 y el máximo es 1.0 y el mínimo es 0.0\n",
    "\n",
    "# nuestro array vacío debería quedar como este: \n",
    "[[[\"A\", \"B\", \"C\", \"B\", \"C\"],\n",
    "    [\"C\", \"B\", \"B\", \"C\", \"C\"],\n",
    "    [\"D\" , \"C\", \"C\", \"B\", \"C\"]],\n",
    "\n",
    "[[\"E\" , \"C\", \"A\", \"B\", \"C\"],\n",
    "    [\"B\", \"B\",\"B\", \"E\" , \"B\"],\n",
    "    [\"B\", \"C\", \"B\", \"B\", \"C\"]]]"
   ]
  },
  {
   "cell_type": "code",
   "execution_count": 22,
   "metadata": {},
   "outputs": [
    {
     "name": "stdout",
     "output_type": "stream",
     "text": [
      "la media es: 0.4866666666666667\n",
      "el maximo es: 0.9\n",
      "el minimo es: 0.0\n",
      "*-*-*-*-*-*-*-*-*-*-*-*\n",
      "el nuevo array es: [[['B' 'B' 'D' 'B' 'C']\n",
      "  ['C' 'C' 'C' 'B' 'C']\n",
      "  ['C' 'B' 'C' 'B' 'B']]\n",
      "\n",
      " [['C' 'B' 'B' 'B' 'B']\n",
      "  ['D' 'E' 'C' 'C' 'B']\n",
      "  ['D' 'B' 'B' 'C' 'E']]]\n"
     ]
    }
   ],
   "source": [
    "# Crear un array vacío con la misma forma que array_3d\n",
    "array_replacement = np.empty(array_3d.shape, dtype=str)\n",
    "\n",
    "\n",
    "# Calcular la media, el máximo y el mínimo del array original\n",
    "media = np.mean(array_3d)\n",
    "maximo = np.max(array_3d)\n",
    "minimo = np.min(array_3d)\n",
    "\n",
    "print(\"la media es:\",media) \n",
    "print(\"el maximo es:\",maximo)\n",
    "print(\"el minimo es:\",minimo)\n",
    "\n",
    "\n",
    "# Usar np.where para reemplazar valores según las condiciones\n",
    "array_replacement = np.where(array_3d == maximo, 'D',\n",
    "                    np.where(array_3d == minimo, 'E',\n",
    "                    np.where(array_3d == media, 'A',\n",
    "                    np.where(array_3d > media, 'B',\n",
    "                    np.where(array_3d < media, 'C', '')))))\n",
    "\n",
    "\n",
    "\n",
    "print(\"*-*-*-*-*-*-*-*-*-*-*-*\")\n",
    "print(\"el nuevo array es:\",array_replacement)"
   ]
  }
 ],
 "metadata": {
  "kernelspec": {
   "display_name": "base",
   "language": "python",
   "name": "python3"
  },
  "language_info": {
   "codemirror_mode": {
    "name": "ipython",
    "version": 3
   },
   "file_extension": ".py",
   "mimetype": "text/x-python",
   "name": "python",
   "nbconvert_exporter": "python",
   "pygments_lexer": "ipython3",
   "version": "3.11.7"
  }
 },
 "nbformat": 4,
 "nbformat_minor": 2
}
