{
 "cells": [
  {
   "cell_type": "markdown",
   "metadata": {},
   "source": [
    "## Imputación de nulos en variables categóricas\n",
    "\n",
    "Vamos a describir como imputaremos los valores nulos para las columnas categóricas que tienen nulos, para eso trabajaremos sobre el 'value_counts() para cada una de las columnas:\n"
   ]
  },
  {
   "cell_type": "code",
   "execution_count": 1,
   "metadata": {},
   "outputs": [],
   "source": [
    "# importamos las librerías que necesitamos\n",
    "\n",
    "# Tratamiento de datos\n",
    "# -----------------------------------------------------------------------\n",
    "import pandas as pd\n",
    "import numpy as np\n",
    "\n",
    "# Imputación de nulos usando métodos avanzados estadísticos\n",
    "# -----------------------------------------------------------------------\n",
    "from sklearn.impute import SimpleImputer\n",
    "from sklearn.experimental import enable_iterative_imputer\n",
    "from sklearn.impute import IterativeImputer\n",
    "from sklearn.impute import KNNImputer\n",
    "\n",
    "# Librerías de visualización\n",
    "# -----------------------------------------------------------------------\n",
    "import seaborn as sns\n",
    "import matplotlib.pyplot as plt\n",
    "# Configuración\n",
    "# -----------------------------------------------------------------------\n",
    "pd.set_option('display.max_columns', None) # para poder visualizar todas las columnas de los DataFrames"
   ]
  },
  {
   "cell_type": "code",
   "execution_count": 2,
   "metadata": {},
   "outputs": [
    {
     "data": {
      "text/html": [
       "<div>\n",
       "<style scoped>\n",
       "    .dataframe tbody tr th:only-of-type {\n",
       "        vertical-align: middle;\n",
       "    }\n",
       "\n",
       "    .dataframe tbody tr th {\n",
       "        vertical-align: top;\n",
       "    }\n",
       "\n",
       "    .dataframe thead th {\n",
       "        text-align: right;\n",
       "    }\n",
       "</style>\n",
       "<table border=\"1\" class=\"dataframe\">\n",
       "  <thead>\n",
       "    <tr style=\"text-align: right;\">\n",
       "      <th></th>\n",
       "      <th>income</th>\n",
       "      <th>kidhome</th>\n",
       "      <th>teenhome</th>\n",
       "      <th>dt_customer</th>\n",
       "      <th>numwebvisitsmonth</th>\n",
       "      <th>id</th>\n",
       "      <th>age</th>\n",
       "      <th>job</th>\n",
       "      <th>marital</th>\n",
       "      <th>education</th>\n",
       "      <th>default</th>\n",
       "      <th>housing</th>\n",
       "      <th>loan</th>\n",
       "      <th>contact</th>\n",
       "      <th>duration</th>\n",
       "      <th>campaign</th>\n",
       "      <th>pdays</th>\n",
       "      <th>previous</th>\n",
       "      <th>poutcome</th>\n",
       "      <th>empvarrate</th>\n",
       "      <th>conspriceidx</th>\n",
       "      <th>consconfidx</th>\n",
       "      <th>euribor3m</th>\n",
       "      <th>nremployed</th>\n",
       "      <th>y</th>\n",
       "      <th>date</th>\n",
       "      <th>latitude</th>\n",
       "      <th>longitude</th>\n",
       "      <th>contact_month</th>\n",
       "      <th>contact_year</th>\n",
       "      <th>age_cat</th>\n",
       "      <th>hijos_totales</th>\n",
       "    </tr>\n",
       "  </thead>\n",
       "  <tbody>\n",
       "    <tr>\n",
       "      <th>0</th>\n",
       "      <td>161770.0</td>\n",
       "      <td>1.0</td>\n",
       "      <td>0.0</td>\n",
       "      <td>2012-04-04</td>\n",
       "      <td>29.0</td>\n",
       "      <td>089b39d8-e4d0-461b-87d4-814d71e0e079</td>\n",
       "      <td>NaN</td>\n",
       "      <td>housemaid</td>\n",
       "      <td>married</td>\n",
       "      <td>basic 4y</td>\n",
       "      <td>No</td>\n",
       "      <td>No</td>\n",
       "      <td>No</td>\n",
       "      <td>telephone</td>\n",
       "      <td>261</td>\n",
       "      <td>1</td>\n",
       "      <td>NaN</td>\n",
       "      <td>0</td>\n",
       "      <td>nonexistent</td>\n",
       "      <td>1.1</td>\n",
       "      <td>93.994</td>\n",
       "      <td>-36.4</td>\n",
       "      <td>4.857</td>\n",
       "      <td>5191</td>\n",
       "      <td>no</td>\n",
       "      <td>2-agosto-2019</td>\n",
       "      <td>41.495</td>\n",
       "      <td>-71.233</td>\n",
       "      <td>agosto</td>\n",
       "      <td>2019.0</td>\n",
       "      <td>Adultos mayores</td>\n",
       "      <td>1.0 hijos</td>\n",
       "    </tr>\n",
       "  </tbody>\n",
       "</table>\n",
       "</div>"
      ],
      "text/plain": [
       "     income  kidhome  teenhome dt_customer  numwebvisitsmonth  \\\n",
       "0  161770.0      1.0       0.0  2012-04-04               29.0   \n",
       "\n",
       "                                     id  age        job  marital education  \\\n",
       "0  089b39d8-e4d0-461b-87d4-814d71e0e079  NaN  housemaid  married  basic 4y   \n",
       "\n",
       "  default housing loan    contact  duration  campaign  pdays  previous  \\\n",
       "0      No      No   No  telephone       261         1    NaN         0   \n",
       "\n",
       "      poutcome  empvarrate  conspriceidx  consconfidx  euribor3m nremployed  \\\n",
       "0  nonexistent         1.1        93.994        -36.4      4.857       5191   \n",
       "\n",
       "    y           date  latitude  longitude contact_month  contact_year  \\\n",
       "0  no  2-agosto-2019    41.495    -71.233        agosto        2019.0   \n",
       "\n",
       "           age_cat hijos_totales  \n",
       "0  Adultos mayores     1.0 hijos  "
      ]
     },
     "execution_count": 2,
     "metadata": {},
     "output_type": "execute_result"
    }
   ],
   "source": [
    "# cargamos el dataframe creado en la lección anterior\n",
    "df = pd.read_csv(\"bank-additional_clean.csv\", index_col = 0)\n",
    "df.head(1)"
   ]
  },
  {
   "cell_type": "code",
   "execution_count": 3,
   "metadata": {},
   "outputs": [
    {
     "name": "stdout",
     "output_type": "stream",
     "text": [
      "Las columnas categóricas que tienen nulos son : \n",
      " \n",
      "Index(['job', 'marital', 'education', 'default', 'housing', 'loan', 'date',\n",
      "       'contact_month'],\n",
      "      dtype='object')\n"
     ]
    }
   ],
   "source": [
    "# Obtenemos la lista de columnas categóricas que tienen nulos\n",
    "nulos_esta_cat = df[df.columns[df.isnull().any()]].select_dtypes(include = \"O\").columns\n",
    "print(\"Las columnas categóricas que tienen nulos son : \\n \")\n",
    "print(nulos_esta_cat)"
   ]
  },
  {
   "cell_type": "code",
   "execution_count": 4,
   "metadata": {},
   "outputs": [
    {
     "name": "stdout",
     "output_type": "stream",
     "text": [
      "La distribución de las categorías para la columna JOB\n"
     ]
    },
    {
     "data": {
      "text/plain": [
       "admin.           0.252860\n",
       "blue-collar      0.224512\n",
       "technician       0.163395\n",
       "services         0.096791\n",
       "management       0.070930\n",
       "retired          0.041628\n",
       "entrepreneur     0.035395\n",
       "self-employed    0.034628\n",
       "housemaid        0.026116\n",
       "unemployed       0.024721\n",
       "student          0.021000\n",
       "Name: job, dtype: float64"
      ]
     },
     "metadata": {},
     "output_type": "display_data"
    },
    {
     "name": "stdout",
     "output_type": "stream",
     "text": [
      "........................\n",
      "La distribución de las categorías para la columna MARITAL\n"
     ]
    },
    {
     "data": {
      "text/plain": [
       "married     0.604628\n",
       "single      0.281512\n",
       "divorced    0.111884\n",
       "Name: marital, dtype: float64"
      ]
     },
     "metadata": {},
     "output_type": "display_data"
    },
    {
     "name": "stdout",
     "output_type": "stream",
     "text": [
      "........................\n",
      "La distribución de las categorías para la columna EDUCATION\n"
     ]
    },
    {
     "data": {
      "text/plain": [
       "university degree      0.295860\n",
       "high school            0.230814\n",
       "basic 9y               0.146721\n",
       "professional course    0.127372\n",
       "basic 4y               0.101302\n",
       "basic 6y               0.055488\n",
       "illiterate             0.000419\n",
       "Name: education, dtype: float64"
      ]
     },
     "metadata": {},
     "output_type": "display_data"
    },
    {
     "name": "stdout",
     "output_type": "stream",
     "text": [
      "........................\n",
      "La distribución de las categorías para la columna DEFAULT\n"
     ]
    },
    {
     "data": {
      "text/plain": [
       "No    0.79107\n",
       "Si    0.00007\n",
       "Name: default, dtype: float64"
      ]
     },
     "metadata": {},
     "output_type": "display_data"
    },
    {
     "name": "stdout",
     "output_type": "stream",
     "text": [
      "........................\n",
      "La distribución de las categorías para la columna HOUSING\n"
     ]
    },
    {
     "data": {
      "text/plain": [
       "Si    0.523209\n",
       "No    0.452930\n",
       "Name: housing, dtype: float64"
      ]
     },
     "metadata": {},
     "output_type": "display_data"
    },
    {
     "name": "stdout",
     "output_type": "stream",
     "text": [
      "........................\n",
      "La distribución de las categorías para la columna LOAN\n"
     ]
    },
    {
     "data": {
      "text/plain": [
       "No    0.824233\n",
       "Si    0.151907\n",
       "Name: loan, dtype: float64"
      ]
     },
     "metadata": {},
     "output_type": "display_data"
    },
    {
     "name": "stdout",
     "output_type": "stream",
     "text": [
      "........................\n",
      "La distribución de las categorías para la columna DATE\n"
     ]
    },
    {
     "data": {
      "text/plain": [
       "4-septiembre-2019    0.000953\n",
       "4-agosto-2017        0.000907\n",
       "22-junio-2019        0.000884\n",
       "26-febrero-2019      0.000860\n",
       "20-julio-2017        0.000860\n",
       "                       ...   \n",
       "19-agosto-2015       0.000256\n",
       "20-noviembre-2015    0.000233\n",
       "4-abril-2017         0.000233\n",
       "21-diciembre-2019    0.000233\n",
       "14-abril-2015        0.000233\n",
       "Name: date, Length: 1860, dtype: float64"
      ]
     },
     "metadata": {},
     "output_type": "display_data"
    },
    {
     "name": "stdout",
     "output_type": "stream",
     "text": [
      "........................\n",
      "La distribución de las categorías para la columna CONTACT_MONTH\n"
     ]
    },
    {
     "data": {
      "text/plain": [
       "noviembre     0.083791\n",
       "octubre       0.083698\n",
       "julio         0.083558\n",
       "marzo         0.083465\n",
       "abril         0.083302\n",
       "febrero       0.083186\n",
       "septiembre    0.083000\n",
       "mayo          0.082488\n",
       "junio         0.082279\n",
       "agosto        0.082000\n",
       "enero         0.081791\n",
       "diciembre     0.081674\n",
       "Name: contact_month, dtype: float64"
      ]
     },
     "metadata": {},
     "output_type": "display_data"
    },
    {
     "name": "stdout",
     "output_type": "stream",
     "text": [
      "........................\n"
     ]
    }
   ],
   "source": [
    "# sacamos el 'value_counts()' de cada una de las columnas categóricas que tienen nulos para saber como es la distribución de sus categorías\n",
    "for col in nulos_esta_cat:\n",
    "    print(f\"La distribución de las categorías para la columna {col.upper()}\")\n",
    "    display(df[col].value_counts() / df.shape[0])  # display es una función utilizada para mostrar objetos de manera más legible en Jupyter Notebooks o entornos similares. \n",
    "    print(\"........................\")"
   ]
  },
  {
   "cell_type": "markdown",
   "metadata": {},
   "source": [
    "Decidamos ahora que hacer con cada una de las columnas: \n",
    "\n",
    "1. **job**: Dado que hay dos categorías que dominan, `admin` y `blue-collar` con un (25% y 22%) del total de los datos, no podemos decir que haya una categoría dominante, por lo tanto reemplazaremos los nulos por una categoría nueva, por ejemplo \"Unknown\". \n",
    "\n",
    "2. **marital** : Al contrario que en la columna `job`, en esta columna encontramos que el 60% de los clientes pertencen a la categoría de 'married' por lo que en este caso optaremos por reemplazar los nulos por la categoría dominante o moda. \n",
    "\n",
    "3. **education** y **housing**: En este caso, nos pasa lo mismo que en la columna `job`, por lo que optaremos por reemplazar por una categoría nueva, de nuevo, \"Unknown\". \n",
    "\n",
    "4. **default**: En esta columna, observamos que hay una categoría dominante \"No\" con un 79% de los clientes, por lo que reemplazaremos por la moda. \n",
    "\n",
    "5. **loan**: Mismo caso que la columna `marital`, en este caso, tenemos que el 82% de los clientes pertenecen a la categoría de \"No\", por lo que reemplazaremos por esos valores. \n",
    "\n",
    "6. **contact_month**: Mismo caso que las columnas de `job`, `education` y `housing`, por lo que reemplazaremos por \"Unknown\". \n",
    "\n",
    "7. **date**: En esta columna, tampoco observamos que haya una clase mayoritaría por lo que optaremos por reemplazar también por \"Unknown\". \n",
    "\n",
    "Resumiendo:\n",
    "- Columnas que reemplazaremos por la moda:\n",
    "\n",
    "    - marital\n",
    "\n",
    "    - loan \n",
    "\n",
    "    - default\n",
    "    \n",
    "- Columnas que reemplzaremos por ina categoría nueva (\"Uknown\"):\n",
    "\n",
    "    - job\n",
    "\n",
    "    - education\n",
    "\n",
    "    - housing\n",
    "\n",
    "    - contact_month\n",
    "    \n",
    "    - date\n",
    "\n",
    "\n",
    "\n",
    "Recuerda que cada conjunto de datos es único, por lo que es importante tomar decisiones basadas en una comprensión profunda del dominio y del impacto potencial en tus análisis. Siempre es una buena idea evaluar el efecto de la imputación en la distribución y calidad de tus datos antes de continuar con el análisis.\n"
   ]
  },
  {
   "cell_type": "code",
   "execution_count": 5,
   "metadata": {},
   "outputs": [],
   "source": [
    "# lo primero que vamos a hacer es crear dos listas, una con los nombres de las columnas que reemplazaremos por la moda y otra para las columnas que reemplazaremos por una categoría nueva\n",
    "columnas_moda = [\"marital\", \"loan\", \"default\"]\n",
    "columnas_desconocido = [\"job\", \"education\", \"housing\", \"contact_month\", \"date\"]"
   ]
  },
  {
   "cell_type": "markdown",
   "metadata": {},
   "source": [
    "Empezamos reemplazando por la moda las columnas de `marital`,  `loan` y `default`, para eso usaremos el método `.fillna()` de Pandas. El método `fillna()` en Pandas se utiliza para rellenar los valores nulos (NaN) con un valor específico. \n",
    "\n",
    "La sintaxis básica del método `fillna()` es la siguiente:\n",
    "\n",
    "```python\n",
    "df[col].fillna(value, method, axis, inplace, limit)\n",
    "```\n",
    "\n",
    "- `value`: El valor que se utilizará para reemplazar los valores nulos.\n",
    "\n",
    "- `method` (opcional): Método para rellenar los valores nulos. Puede ser \"ffill\" para rellenar hacia adelante con el valor anterior, \"bfill\" para rellenar hacia atrás con el siguiente valor, o None para reemplazar directamente los valores nulos con el valor especificado en `value`.\n",
    "\n",
    "- `axis`: El eje a lo largo del cual se realizará el relleno. Puede ser 0 para rellenar a lo largo de las filas o 1 para rellenar a lo largo de las columnas.\n",
    "\n",
    "- `inplace` (opcional): Si se establece en True, el reemplazo se realizará en el DataFrame original en lugar de devolver un nuevo DataFrame.\n",
    "\n",
    "- `limit` (opcional): El número máximo de valores nulos que se rellenarán.\n"
   ]
  },
  {
   "cell_type": "code",
   "execution_count": 6,
   "metadata": {},
   "outputs": [
    {
     "name": "stdout",
     "output_type": "stream",
     "text": [
      "Después del reemplazo usando 'fillna' quedan los siguientes nulos\n"
     ]
    },
    {
     "data": {
      "text/plain": [
       "marital    0\n",
       "loan       0\n",
       "default    0\n",
       "dtype: int64"
      ]
     },
     "execution_count": 6,
     "metadata": {},
     "output_type": "execute_result"
    }
   ],
   "source": [
    "\n",
    "# iteramos por la lista creada en el paso anterior:\n",
    "for columna in columnas_moda:\n",
    "    \n",
    "    # calculamos la moda para la columna por la que estamos iterando\n",
    "    moda = df[columna].mode()[0]    \n",
    "    \n",
    "    # utilizando el método fillna reemplazamos los valores nulos por la moda calculada en el paso anterior. \n",
    "    df[columna] = df[columna].fillna(moda)\n",
    "\n",
    "# por último chequeamos si se han eliminado los nulos en las columnas de \"marital\" y \"loan\"\n",
    "print(\"Después del reemplazo usando 'fillna' quedan los siguientes nulos\")\n",
    "\n",
    "df[columnas_moda].isnull().sum()"
   ]
  },
  {
   "cell_type": "markdown",
   "metadata": {},
   "source": [
    "Continuamos reemplanzando los valores nulos de las columnas que nos quedan que, recordemos lo haremos creando una nueva categoría. Para esto también usaremos el método `fillna()`. Seguiremos la misma lógica que en el caso anterior, iterar por la lista de columnas `columnas_desconocido` y aplicar el método `.fillna()` a cada una de las columnas. "
   ]
  },
  {
   "cell_type": "code",
   "execution_count": 7,
   "metadata": {},
   "outputs": [
    {
     "name": "stdout",
     "output_type": "stream",
     "text": [
      "Después del reemplazo usando 'fillna' quedan los siguientes nulos\n"
     ]
    },
    {
     "data": {
      "text/plain": [
       "job              0\n",
       "education        0\n",
       "housing          0\n",
       "contact_month    0\n",
       "date             0\n",
       "dtype: int64"
      ]
     },
     "execution_count": 7,
     "metadata": {},
     "output_type": "execute_result"
    }
   ],
   "source": [
    "# iteramos por la lista de columnas a las que le vamos a cambiar los nulos por \"Uknown\"\n",
    "for columna in columnas_desconocido:\n",
    "    \n",
    "    # reemplazamos los nulos por el valor Unknown para cada una de las columnas de la lista\n",
    "    df[columna] = df[columna].fillna(\"Unknown\")\n",
    "    \n",
    "# comprobamos si quedan nulos en las columnas categóricas. \n",
    "print(\"Después del reemplazo usando 'fillna' quedan los siguientes nulos\")\n",
    "df[columnas_desconocido].isnull().sum()"
   ]
  },
  {
   "cell_type": "markdown",
   "metadata": {},
   "source": [
    "Hicimos varias cosas en este apartado, guardemos nuestros datos para usarse mas tarde!"
   ]
  },
  {
   "cell_type": "code",
   "execution_count": 8,
   "metadata": {},
   "outputs": [],
   "source": [
    "# Guarda el DataFrame como un archivo CSV\n",
    "df.to_csv(\"bank-additional_clean_2.csv\", index=False)"
   ]
  }
 ],
 "metadata": {
  "kernelspec": {
   "display_name": "Python 3 (ipykernel)",
   "language": "python",
   "name": "python3"
  },
  "language_info": {
   "codemirror_mode": {
    "name": "ipython",
    "version": 3
   },
   "file_extension": ".py",
   "mimetype": "text/x-python",
   "name": "python",
   "nbconvert_exporter": "python",
   "pygments_lexer": "ipython3",
   "version": "3.9.7"
  },
  "toc": {
   "base_numbering": 1,
   "nav_menu": {},
   "number_sections": true,
   "sideBar": true,
   "skip_h1_title": false,
   "title_cell": "Table of Contents",
   "title_sidebar": "Contents",
   "toc_cell": true,
   "toc_position": {
    "height": "calc(100% - 180px)",
    "left": "10px",
    "top": "150px",
    "width": "384px"
   },
   "toc_section_display": true,
   "toc_window_display": false
  }
 },
 "nbformat": 4,
 "nbformat_minor": 2
}
