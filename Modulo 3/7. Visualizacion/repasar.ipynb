{
 "cells": [
  {
   "cell_type": "code",
   "execution_count": null,
   "metadata": {},
   "outputs": [],
   "source": [
    "# Primero, vamos a agrupar los datos por año:\n",
    "\n",
    "flights2017 = df[df['Year'] == 2017].groupby('Month')['Flights Booked'].sum().reset_index()\n",
    "flights2018 = df[df['Year'] == 2018].groupby('Month')['Flights Booked'].sum().reset_index()\n",
    "months = range(1, 13) # los meses para el eje Y\n",
    "\n",
    "# Creamos el tablero para los gráficos:\n",
    "fig, axs = plt.subplots(nrows=1, ncols=2, figsize=(20, 10))\n",
    "\n",
    "# Primer gráfico en Seaborn para el año 2017:\n",
    "axs[0].hist(x= flights2017['Month'], \n",
    "            y = flights2017,\n",
    "            edgecolor='black') \n",
    "\n",
    "axs[0].set_title('Distribution of Flights Booked in 2017')\n",
    "axs[0].set_xlabel('Month')\n",
    "axs[0].set_ylabel('Amount of Flights Booked')\n",
    "axs[0].set_xticklabels(['Jan', 'Feb', 'Mar', 'Abr', 'May', 'Jun', 'Jul', 'Ago', 'Sep', 'Oct', 'Nov', 'Dic'])\n",
    "\n",
    "# Segundo gráfico en Matplotlib para el año 2018\n",
    "axs[1].hist(x = flights2018['Month'], \n",
    "            y = flights2018,\n",
    "            edgecolor='black') \n",
    "\n",
    "axs[1].set_title('Distribution of Flights Booked in 2018')\n",
    "axs[1].set_xlabel('Month')\n",
    "axs[1].set_ylabel('Amount of Flights Booked')\n",
    "axs[1].set_xticklabels(['Jan', 'Feb', 'Mar', 'Abr', 'May', 'Jun', 'Jul', 'Ago', 'Sep', 'Oct', 'Nov', 'Dic'])\n",
    "\n",
    "plt.show()"
   ]
  }
 ],
 "metadata": {
  "language_info": {
   "name": "python"
  }
 },
 "nbformat": 4,
 "nbformat_minor": 2
}
