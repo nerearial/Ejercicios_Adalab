{
 "cells": [
  {
   "cell_type": "code",
   "execution_count": 1,
   "metadata": {},
   "outputs": [],
   "source": [
    "# importamos la pandas para poder trabajar en la lección\n",
    "import pandas as pd"
   ]
  },
  {
   "cell_type": "code",
   "execution_count": 3,
   "metadata": {},
   "outputs": [
    {
     "data": {
      "text/html": [
       "<div>\n",
       "<style scoped>\n",
       "    .dataframe tbody tr th:only-of-type {\n",
       "        vertical-align: middle;\n",
       "    }\n",
       "\n",
       "    .dataframe tbody tr th {\n",
       "        vertical-align: top;\n",
       "    }\n",
       "\n",
       "    .dataframe thead th {\n",
       "        text-align: right;\n",
       "    }\n",
       "</style>\n",
       "<table border=\"1\" class=\"dataframe\">\n",
       "  <thead>\n",
       "    <tr style=\"text-align: right;\">\n",
       "      <th></th>\n",
       "      <th>Weather</th>\n",
       "      <th>Temperature</th>\n",
       "      <th>Wind</th>\n",
       "      <th>Humidity</th>\n",
       "    </tr>\n",
       "    <tr>\n",
       "      <th>Day</th>\n",
       "      <th></th>\n",
       "      <th></th>\n",
       "      <th></th>\n",
       "      <th></th>\n",
       "    </tr>\n",
       "  </thead>\n",
       "  <tbody>\n",
       "    <tr>\n",
       "      <th>Mon</th>\n",
       "      <td>Sunny</td>\n",
       "      <td>12.79</td>\n",
       "      <td>13</td>\n",
       "      <td>30</td>\n",
       "    </tr>\n",
       "    <tr>\n",
       "      <th>Tue</th>\n",
       "      <td>Sunny</td>\n",
       "      <td>19.67</td>\n",
       "      <td>28</td>\n",
       "      <td>96</td>\n",
       "    </tr>\n",
       "    <tr>\n",
       "      <th>Wed</th>\n",
       "      <td>Sunny</td>\n",
       "      <td>17.51</td>\n",
       "      <td>16</td>\n",
       "      <td>20</td>\n",
       "    </tr>\n",
       "    <tr>\n",
       "      <th>Thu</th>\n",
       "      <td>Cloudy</td>\n",
       "      <td>14.44</td>\n",
       "      <td>11</td>\n",
       "      <td>22</td>\n",
       "    </tr>\n",
       "    <tr>\n",
       "      <th>Fri</th>\n",
       "      <td>Shower</td>\n",
       "      <td>10.51</td>\n",
       "      <td>26</td>\n",
       "      <td>79</td>\n",
       "    </tr>\n",
       "    <tr>\n",
       "      <th>Sat</th>\n",
       "      <td>Shower</td>\n",
       "      <td>11.07</td>\n",
       "      <td>27</td>\n",
       "      <td>62</td>\n",
       "    </tr>\n",
       "    <tr>\n",
       "      <th>Sun</th>\n",
       "      <td>Sunny</td>\n",
       "      <td>17.50</td>\n",
       "      <td>20</td>\n",
       "      <td>10</td>\n",
       "    </tr>\n",
       "  </tbody>\n",
       "</table>\n",
       "</div>"
      ],
      "text/plain": [
       "    Weather  Temperature  Wind  Humidity\n",
       "Day                                     \n",
       "Mon   Sunny        12.79    13        30\n",
       "Tue   Sunny        19.67    28        96\n",
       "Wed   Sunny        17.51    16        20\n",
       "Thu  Cloudy        14.44    11        22\n",
       "Fri  Shower        10.51    26        79\n",
       "Sat  Shower        11.07    27        62\n",
       "Sun   Sunny        17.50    20        10"
      ]
     },
     "execution_count": 3,
     "metadata": {},
     "output_type": "execute_result"
    }
   ],
   "source": [
    "# importamos un nuevo fichero de datos para entender mejor estos conceptos\n",
    "df = pd.read_csv(\"data.csv\", index_col=[\"Day\"])\n",
    "df"
   ]
  },
  {
   "cell_type": "markdown",
   "metadata": {},
   "source": [
    "### Selección a través de un único elemento\n",
    "En este primer ejercicio vamos a intentar sacar el valor de 96, en concreto hace referencia a la humedad el martes. Recordemos que: \n",
    "\n",
    "- En el `loc` usaremos los nombres de las filas y las columnas (es como el juego de hundir la flota), corresponde a lo que tenemos en rojo en la imagen. \n",
    "\n",
    "- En el `iloc` usaremos los indices de las filas y las columnas, igual que hacíamos en las listas o los *arrays* de NumPy, corresponde con lo que vemos en verde en la imagen. \n",
    "\n",
    "![imagen](https://github.com/Adalab/data_imagenes/blob/main/Pandas/loc-iloc-explicacion_ej1.png?raw=true)"
   ]
  },
  {
   "cell_type": "code",
   "execution_count": 5,
   "metadata": {},
   "outputs": [
    {
     "name": "stdout",
     "output_type": "stream",
     "text": [
      "La humedad que hizo el martes usando el LOC es:  96 %\n",
      "La humedad que hizo el martes usando el ILOC es:  96 %\n"
     ]
    }
   ],
   "source": [
    "# Usando el loc, accediendo por los nombres de las filas y las columnas\n",
    "print(f'La humedad que hizo el martes usando el LOC es:  {df.loc[\"Tue\", \"Humidity\"]} %')\n",
    "\n",
    "# usando el iloc, accediendo por los índices, que empiezan en 0 como siempre en Python\n",
    "print(f'La humedad que hizo el martes usando el ILOC es:  {df.iloc[1, 3]} %')"
   ]
  },
  {
   "cell_type": "markdown",
   "metadata": {},
   "source": [
    "Imaginemos que queremos sacar una fila en concreto pero todas las columnas o viceversa:\n",
    "\n",
    "> En estos casos tendremos que usar `:`, esto índica que lo queremos todo. Es decir: \n",
    "\n",
    "```python\n",
    "[filas-deseadas, :] # le estamos diciendo que nos busque por una fila dada y nos devuelva todas las columnas\n",
    "\n",
    "[:, columna-deseada] # devuelvenos todas las filas de la columna que especifiquemos\n",
    "```\n",
    "\n",
    "Imaginemos ahora que queremos extraer toda la información climática del martes. En este caso, querremos de una fila concreta todas las columnas. \n",
    "\n",
    "![imagen2](https://github.com/Adalab/data_imagenes/blob/main/Pandas/loc-iloc-explicacion_ej2.png?raw=true)"
   ]
  },
  {
   "cell_type": "code",
   "execution_count": 6,
   "metadata": {},
   "outputs": [
    {
     "name": "stdout",
     "output_type": "stream",
     "text": [
      "Las condiciones climáticas del martes usando el LOC es: \n",
      "  Weather        Sunny\n",
      "Temperature    19.67\n",
      "Wind              28\n",
      "Humidity          96\n",
      "Name: Tue, dtype: object\n",
      "\n",
      "----------------------\n",
      "\n",
      "Las condiciones climáticas del martes usando el ILOC es: \n",
      "  Weather        Sunny\n",
      "Temperature    19.67\n",
      "Wind              28\n",
      "Humidity          96\n",
      "Name: Tue, dtype: object\n"
     ]
    }
   ],
   "source": [
    "# Usando el loc, accediendo por los nombres de las filas y las columnas\n",
    "print(f'Las condiciones climáticas del martes usando el LOC es: \\n  {df.loc[\"Tue\", :]}')\n",
    "\n",
    "print(\"\\n----------------------\\n\")\n",
    "# Usando el iloc, accediendo por los índices\n",
    "print(f'Las condiciones climáticas del martes usando el ILOC es: \\n  {df.iloc[1, :]}')"
   ]
  },
  {
   "cell_type": "markdown",
   "metadata": {},
   "source": [
    "¿Y si ahora quisieramos extraer el viento que ha hecho durante la semana? En este caso querríamos todas las filas y una sola columna. \n",
    "\n",
    "![imagen3](https://github.com/Adalab/data_imagenes/blob/main/Pandas/loc-iloc-explicacion_ej3.png?raw=true)"
   ]
  },
  {
   "cell_type": "code",
   "execution_count": 7,
   "metadata": {},
   "outputs": [
    {
     "name": "stdout",
     "output_type": "stream",
     "text": [
      "Las viento que hizo durante la semana usando el LOC es: \n",
      "  Day\n",
      "Mon    13\n",
      "Tue    28\n",
      "Wed    16\n",
      "Thu    11\n",
      "Fri    26\n",
      "Sat    27\n",
      "Sun    20\n",
      "Name: Wind, dtype: int64\n",
      "\n",
      "----------------------\n",
      "\n",
      "Las condiciones climáticas del martes usando el ILOC es: \n",
      "  Day\n",
      "Mon    13\n",
      "Tue    28\n",
      "Wed    16\n",
      "Thu    11\n",
      "Fri    26\n",
      "Sat    27\n",
      "Sun    20\n",
      "Name: Wind, dtype: int64\n"
     ]
    }
   ],
   "source": [
    "# Usando el loc, accediendo por los nombres de las filas y las columnas\n",
    "print(f'Las viento que hizo durante la semana usando el LOC es: \\n  {df.loc[:, \"Wind\"]}')\n",
    "\n",
    "print(\"\\n----------------------\\n\")\n",
    "# Usando el iloc, accediendo por los índices\n",
    "print(f'Las condiciones climáticas del martes usando el ILOC es: \\n  {df.iloc[:, 2]}')"
   ]
  },
  {
   "cell_type": "markdown",
   "metadata": {},
   "source": [
    "### Selección a través de una lista de valores \n",
    "\n",
    "En este caso la sintaxis del `loc` y el `iloc` cambian un poco. Seguiremos usando los nombres de las filas y las columnas para el `loc` y los índices para el `iloc`, pero tendremos que añadir algún corchete más. \n",
    "\n",
    "```python\n",
    "[[fila_deseada1, fila_deseada2], :] # le estamos diciendo que nos busque por una fila dada y nos devuelva todas las columnas. FIJAOS COMO LO QUE HEMOS HECHO HA SIDO AÑADIR UNOS CORCHETES MÁS DONDE INCLUIREMOS LOS NOMBRES DE LAS FILAS O COLUMNAS QUE QUERRAMOS SEPARADAS POR COMAS. Los ':' siguen indicando que queremo todas las columnas en este caso.\n",
    "\n",
    "[:, [col_deseada1, col_deseada2]] # devuelvenos todas las filas de la columna que especifiquemos. FIJAOS COMO LO QUE HEMOS HECHO HA SIDO AÑADIR UNOS CORCHETES MÁS DONDE INCLUIREMOS LOS NOMBRES DE LAS FILAS O COLUMNAS QUE QUERRAMOS SEPARADAS POR COMAS. Los ':' siguen indicando que queremos todas las filas.\n",
    "```"
   ]
  },
  {
   "cell_type": "markdown",
   "metadata": {},
   "source": [
    "Ahora queremos extraer la información del viento, pero ya no lo queremos para toda la semana, en realidad lo quiero para el martes y el domingo. "
   ]
  },
  {
   "cell_type": "code",
   "execution_count": 14,
   "metadata": {},
   "outputs": [
    {
     "name": "stdout",
     "output_type": "stream",
     "text": [
      "El viento que hizo el martes y el sabado usando el LOC es: \n",
      "  Day\n",
      "Tue    28\n",
      "Sat    27\n",
      "Name: Wind, dtype: int64\n",
      "\n",
      "----------------------\n",
      "\n",
      "El viento que hizo el martes y el sabado  usando el ILOC es: \n",
      "  Day\n",
      "Tue    28\n",
      "Sat    27\n",
      "Name: Wind, dtype: int64\n"
     ]
    }
   ],
   "source": [
    "# Usando el loc, accediendo por los nombres de las filas y las columnas\n",
    "print(f'El viento que hizo el martes y el sabado usando el LOC es: \\n  {df.loc[[\"Tue\", \"Sat\"], \"Wind\"]}')\n",
    "\n",
    "print(\"\\n----------------------\\n\")\n",
    "# Usando el iloc, accediendo por los índices\n",
    "print(f'El viento que hizo el martes y el sabado  usando el ILOC es: \\n  {df.iloc[[1, 5], 2]}')"
   ]
  },
  {
   "cell_type": "markdown",
   "metadata": {},
   "source": [
    "Imaginemos ahora que no queremos solo la información del viento para el martes y el domingo, sino que también queremos la información de la temperatura."
   ]
  },
  {
   "cell_type": "code",
   "execution_count": 16,
   "metadata": {},
   "outputs": [
    {
     "name": "stdout",
     "output_type": "stream",
     "text": [
      "El viento y la temperatura que hizo el martes y el sabado usando el LOC es: \n",
      "       Wind  Temperature\n",
      "Day                   \n",
      "Tue    28        19.67\n",
      "Sat    27        11.07\n",
      "\n",
      "----------------------\n",
      "\n",
      "El viento y la temperatura que hizo el martes y el sabado usando el ILOC es: \n",
      "       Wind  Temperature\n",
      "Day                   \n",
      "Tue    28        19.67\n",
      "Sat    27        11.07\n"
     ]
    }
   ],
   "source": [
    "# Usando el loc, accediendo por los nombres de las filas y las columnas\n",
    "print(f'El viento y la temperatura que hizo el martes y el sabado usando el LOC es: \\n  {df.loc[[\"Tue\", \"Sat\"], [\"Wind\", \"Temperature\"]]}')\n",
    "\n",
    "print(\"\\n----------------------\\n\")\n",
    "# Usando el iloc, accediendo por los índices\n",
    "print(f'El viento y la temperatura que hizo el martes y el sabado usando el ILOC es: \\n  {df.iloc[[1, 5], [2,1]]}')"
   ]
  },
  {
   "cell_type": "markdown",
   "metadata": {},
   "source": [
    "### Selección de un rango de datos a través de un corte\n",
    "\n",
    "En este caso podremos usar la sintaxis de `[start:stop:step]` que conocemos de listas. "
   ]
  },
  {
   "cell_type": "code",
   "execution_count": 17,
   "metadata": {},
   "outputs": [
    {
     "data": {
      "text/html": [
       "<div>\n",
       "<style scoped>\n",
       "    .dataframe tbody tr th:only-of-type {\n",
       "        vertical-align: middle;\n",
       "    }\n",
       "\n",
       "    .dataframe tbody tr th {\n",
       "        vertical-align: top;\n",
       "    }\n",
       "\n",
       "    .dataframe thead th {\n",
       "        text-align: right;\n",
       "    }\n",
       "</style>\n",
       "<table border=\"1\" class=\"dataframe\">\n",
       "  <thead>\n",
       "    <tr style=\"text-align: right;\">\n",
       "      <th></th>\n",
       "      <th>Weather</th>\n",
       "      <th>Temperature</th>\n",
       "      <th>Wind</th>\n",
       "      <th>Humidity</th>\n",
       "    </tr>\n",
       "    <tr>\n",
       "      <th>Day</th>\n",
       "      <th></th>\n",
       "      <th></th>\n",
       "      <th></th>\n",
       "      <th></th>\n",
       "    </tr>\n",
       "  </thead>\n",
       "  <tbody>\n",
       "    <tr>\n",
       "      <th>Mon</th>\n",
       "      <td>Sunny</td>\n",
       "      <td>12.79</td>\n",
       "      <td>13</td>\n",
       "      <td>30</td>\n",
       "    </tr>\n",
       "    <tr>\n",
       "      <th>Tue</th>\n",
       "      <td>Sunny</td>\n",
       "      <td>19.67</td>\n",
       "      <td>28</td>\n",
       "      <td>96</td>\n",
       "    </tr>\n",
       "    <tr>\n",
       "      <th>Wed</th>\n",
       "      <td>Sunny</td>\n",
       "      <td>17.51</td>\n",
       "      <td>16</td>\n",
       "      <td>20</td>\n",
       "    </tr>\n",
       "    <tr>\n",
       "      <th>Thu</th>\n",
       "      <td>Cloudy</td>\n",
       "      <td>14.44</td>\n",
       "      <td>11</td>\n",
       "      <td>22</td>\n",
       "    </tr>\n",
       "    <tr>\n",
       "      <th>Fri</th>\n",
       "      <td>Shower</td>\n",
       "      <td>10.51</td>\n",
       "      <td>26</td>\n",
       "      <td>79</td>\n",
       "    </tr>\n",
       "    <tr>\n",
       "      <th>Sat</th>\n",
       "      <td>Shower</td>\n",
       "      <td>11.07</td>\n",
       "      <td>27</td>\n",
       "      <td>62</td>\n",
       "    </tr>\n",
       "    <tr>\n",
       "      <th>Sun</th>\n",
       "      <td>Sunny</td>\n",
       "      <td>17.50</td>\n",
       "      <td>20</td>\n",
       "      <td>10</td>\n",
       "    </tr>\n",
       "  </tbody>\n",
       "</table>\n",
       "</div>"
      ],
      "text/plain": [
       "    Weather  Temperature  Wind  Humidity\n",
       "Day                                     \n",
       "Mon   Sunny        12.79    13        30\n",
       "Tue   Sunny        19.67    28        96\n",
       "Wed   Sunny        17.51    16        20\n",
       "Thu  Cloudy        14.44    11        22\n",
       "Fri  Shower        10.51    26        79\n",
       "Sat  Shower        11.07    27        62\n",
       "Sun   Sunny        17.50    20        10"
      ]
     },
     "execution_count": 17,
     "metadata": {},
     "output_type": "execute_result"
    }
   ],
   "source": [
    "# lo primero que vamos a hacer es recordar el DataFrame\n",
    "df"
   ]
  },
  {
   "cell_type": "markdown",
   "metadata": {},
   "source": [
    "En este ejercicio vamos a querer sacar la temperatura, el viento y la humedad del martes y el viernes. "
   ]
  },
  {
   "cell_type": "code",
   "execution_count": 20,
   "metadata": {},
   "outputs": [
    {
     "name": "stdout",
     "output_type": "stream",
     "text": [
      "El viento, la temperatura y la humedad que hizo el jueves y el viernes usando el LOC es: \n",
      "       Temperature  Wind  Humidity\n",
      "Day                             \n",
      "Thu        14.44    11        22\n",
      "Fri        10.51    26        79\n",
      "\n",
      "----------------------\n",
      "\n",
      "El viento, la temperatura y la humedad que hizo el jueves y el viernes usando el ILOC es: \n",
      "       Temperature  Wind  Humidity\n",
      "Day                             \n",
      "Thu        14.44    11        22\n",
      "Fri        10.51    26        79\n"
     ]
    }
   ],
   "source": [
    "# Usando el loc, accediendo por los nombres de las filas y las columnas\n",
    "print(f\"El viento, la temperatura y la humedad que hizo el jueves y el viernes usando el LOC es: \\n  {df.loc[['Thu', 'Fri'], 'Temperature':'Humidity' ]}\")\n",
    "\n",
    "print(\"\\n----------------------\\n\")\n",
    "# Usando el iloc, accediendo por los índices\n",
    "print(f'El viento, la temperatura y la humedad que hizo el jueves y el viernes usando el ILOC es: \\n  {df.iloc[[3, 4], 1:4]}')"
   ]
  },
  {
   "cell_type": "markdown",
   "metadata": {},
   "source": [
    "Y si quisieramos saber todas las condiciones climáticas del lunes , miércoles y viernes? En este caso tendremos que hacer uso del `[start_ stop: step]`"
   ]
  },
  {
   "cell_type": "code",
   "execution_count": 21,
   "metadata": {},
   "outputs": [
    {
     "name": "stdout",
     "output_type": "stream",
     "text": [
      "Las condiciones climáticas que hicieron el lunes, miércoles y viernes usando el LOC es: \n",
      "      Weather  Temperature  Wind  Humidity\n",
      "Day                                     \n",
      "Mon   Sunny        12.79    13        30\n",
      "Wed   Sunny        17.51    16        20\n",
      "Fri  Shower        10.51    26        79\n",
      "\n",
      "----------------------\n",
      "\n",
      "El viento, la temperatura y la humedad que hizo el martes y el viernes usando el ILOC es: \n",
      "      Weather  Temperature  Wind  Humidity\n",
      "Day                                     \n",
      "Mon   Sunny        12.79    13        30\n",
      "Wed   Sunny        17.51    16        20\n",
      "Fri  Shower        10.51    26        79\n"
     ]
    }
   ],
   "source": [
    "# Usando el loc, accediendo por los nombres de las filas y las columnas\n",
    "print(f\"Las condiciones climáticas que hicieron el lunes, miércoles y viernes usando el LOC es: \\n  {df.loc['Mon':'Fri':2 , :]}\")\n",
    "\n",
    "print(\"\\n----------------------\\n\")\n",
    "# Usando el iloc, accediendo por los índices\n",
    "print(f'El viento, la temperatura y la humedad que hizo el martes y el viernes usando el ILOC es: \\n  {df.iloc[0:6:2, :]}')"
   ]
  },
  {
   "cell_type": "markdown",
   "metadata": {},
   "source": [
    "### Seleccionar basado en una condición \n",
    "\n",
    "Al igual que en NumPy podemos filtrar los datos de nuestro DataFrame usando operadores de comparación,  como `>`, `<`, `>=`, `<=`, `==` o `!=`. Pero antes de ponernos a ver como filtrar datos, aprendamos ha acceder solo a una columna de nuestro DataFrame. Podríamos pensar que lo podemos hacer con un `loc` o un `iloc` como hemos estado viendo hasta ahora, pero hay una forma un poco más sencilla. Para eso deberemos seguir la siguiente sintaxis:\n",
    "\n",
    "```python\n",
    "df[\"nombre_columna\"]\n",
    "df.nombre_columna\n",
    "# estas dos opciones me devuelven exactamente lo mismo. \n",
    "```"
   ]
  },
  {
   "cell_type": "code",
   "execution_count": 22,
   "metadata": {},
   "outputs": [
    {
     "data": {
      "text/html": [
       "<div>\n",
       "<style scoped>\n",
       "    .dataframe tbody tr th:only-of-type {\n",
       "        vertical-align: middle;\n",
       "    }\n",
       "\n",
       "    .dataframe tbody tr th {\n",
       "        vertical-align: top;\n",
       "    }\n",
       "\n",
       "    .dataframe thead th {\n",
       "        text-align: right;\n",
       "    }\n",
       "</style>\n",
       "<table border=\"1\" class=\"dataframe\">\n",
       "  <thead>\n",
       "    <tr style=\"text-align: right;\">\n",
       "      <th></th>\n",
       "      <th>Weather</th>\n",
       "      <th>Temperature</th>\n",
       "      <th>Wind</th>\n",
       "      <th>Humidity</th>\n",
       "    </tr>\n",
       "    <tr>\n",
       "      <th>Day</th>\n",
       "      <th></th>\n",
       "      <th></th>\n",
       "      <th></th>\n",
       "      <th></th>\n",
       "    </tr>\n",
       "  </thead>\n",
       "  <tbody>\n",
       "    <tr>\n",
       "      <th>Mon</th>\n",
       "      <td>Sunny</td>\n",
       "      <td>12.79</td>\n",
       "      <td>13</td>\n",
       "      <td>30</td>\n",
       "    </tr>\n",
       "    <tr>\n",
       "      <th>Tue</th>\n",
       "      <td>Sunny</td>\n",
       "      <td>19.67</td>\n",
       "      <td>28</td>\n",
       "      <td>96</td>\n",
       "    </tr>\n",
       "    <tr>\n",
       "      <th>Wed</th>\n",
       "      <td>Sunny</td>\n",
       "      <td>17.51</td>\n",
       "      <td>16</td>\n",
       "      <td>20</td>\n",
       "    </tr>\n",
       "    <tr>\n",
       "      <th>Thu</th>\n",
       "      <td>Cloudy</td>\n",
       "      <td>14.44</td>\n",
       "      <td>11</td>\n",
       "      <td>22</td>\n",
       "    </tr>\n",
       "    <tr>\n",
       "      <th>Fri</th>\n",
       "      <td>Shower</td>\n",
       "      <td>10.51</td>\n",
       "      <td>26</td>\n",
       "      <td>79</td>\n",
       "    </tr>\n",
       "    <tr>\n",
       "      <th>Sat</th>\n",
       "      <td>Shower</td>\n",
       "      <td>11.07</td>\n",
       "      <td>27</td>\n",
       "      <td>62</td>\n",
       "    </tr>\n",
       "    <tr>\n",
       "      <th>Sun</th>\n",
       "      <td>Sunny</td>\n",
       "      <td>17.50</td>\n",
       "      <td>20</td>\n",
       "      <td>10</td>\n",
       "    </tr>\n",
       "  </tbody>\n",
       "</table>\n",
       "</div>"
      ],
      "text/plain": [
       "    Weather  Temperature  Wind  Humidity\n",
       "Day                                     \n",
       "Mon   Sunny        12.79    13        30\n",
       "Tue   Sunny        19.67    28        96\n",
       "Wed   Sunny        17.51    16        20\n",
       "Thu  Cloudy        14.44    11        22\n",
       "Fri  Shower        10.51    26        79\n",
       "Sat  Shower        11.07    27        62\n",
       "Sun   Sunny        17.50    20        10"
      ]
     },
     "execution_count": 22,
     "metadata": {},
     "output_type": "execute_result"
    }
   ],
   "source": [
    "# recordamos el DataFrame\n",
    "df"
   ]
  },
  {
   "cell_type": "code",
   "execution_count": 23,
   "metadata": {},
   "outputs": [
    {
     "data": {
      "text/plain": [
       "Day\n",
       "Mon    12.79\n",
       "Tue    19.67\n",
       "Wed    17.51\n",
       "Thu    14.44\n",
       "Fri    10.51\n",
       "Sat    11.07\n",
       "Sun    17.50\n",
       "Name: Temperature, dtype: float64"
      ]
     },
     "execution_count": 23,
     "metadata": {},
     "output_type": "execute_result"
    }
   ],
   "source": [
    "# accedemos a los datos de la columna 'Temperature'\n",
    "# Fijaos como nos ha devuelto una serie donde tenemos todos los valores de la columna 'Temperature'\n",
    "df[\"Temperature\"]"
   ]
  },
  {
   "cell_type": "code",
   "execution_count": 24,
   "metadata": {},
   "outputs": [
    {
     "data": {
      "text/plain": [
       "Day\n",
       "Mon    12.79\n",
       "Tue    19.67\n",
       "Wed    17.51\n",
       "Thu    14.44\n",
       "Fri    10.51\n",
       "Sat    11.07\n",
       "Sun    17.50\n",
       "Name: Temperature, dtype: float64"
      ]
     },
     "execution_count": 24,
     "metadata": {},
     "output_type": "execute_result"
    }
   ],
   "source": [
    "# El código de arriba es exactamente igual que:\n",
    "df.Temperature"
   ]
  },
  {
   "cell_type": "markdown",
   "metadata": {},
   "source": [
    "¿Y que pasaría si quisiera acceder a varias columnas? Solo podremos usar la sintaxis `df[[\"columna_1\", \"columna_2\"]]`. Fijaos como ahora estamos añadiendo un corchete extra a la sintaxis que hemos aprendido en los pasos anteriores. "
   ]
  },
  {
   "cell_type": "code",
   "execution_count": 25,
   "metadata": {},
   "outputs": [
    {
     "data": {
      "text/html": [
       "<div>\n",
       "<style scoped>\n",
       "    .dataframe tbody tr th:only-of-type {\n",
       "        vertical-align: middle;\n",
       "    }\n",
       "\n",
       "    .dataframe tbody tr th {\n",
       "        vertical-align: top;\n",
       "    }\n",
       "\n",
       "    .dataframe thead th {\n",
       "        text-align: right;\n",
       "    }\n",
       "</style>\n",
       "<table border=\"1\" class=\"dataframe\">\n",
       "  <thead>\n",
       "    <tr style=\"text-align: right;\">\n",
       "      <th></th>\n",
       "      <th>Temperature</th>\n",
       "      <th>Wind</th>\n",
       "    </tr>\n",
       "    <tr>\n",
       "      <th>Day</th>\n",
       "      <th></th>\n",
       "      <th></th>\n",
       "    </tr>\n",
       "  </thead>\n",
       "  <tbody>\n",
       "    <tr>\n",
       "      <th>Mon</th>\n",
       "      <td>12.79</td>\n",
       "      <td>13</td>\n",
       "    </tr>\n",
       "    <tr>\n",
       "      <th>Tue</th>\n",
       "      <td>19.67</td>\n",
       "      <td>28</td>\n",
       "    </tr>\n",
       "    <tr>\n",
       "      <th>Wed</th>\n",
       "      <td>17.51</td>\n",
       "      <td>16</td>\n",
       "    </tr>\n",
       "    <tr>\n",
       "      <th>Thu</th>\n",
       "      <td>14.44</td>\n",
       "      <td>11</td>\n",
       "    </tr>\n",
       "    <tr>\n",
       "      <th>Fri</th>\n",
       "      <td>10.51</td>\n",
       "      <td>26</td>\n",
       "    </tr>\n",
       "    <tr>\n",
       "      <th>Sat</th>\n",
       "      <td>11.07</td>\n",
       "      <td>27</td>\n",
       "    </tr>\n",
       "    <tr>\n",
       "      <th>Sun</th>\n",
       "      <td>17.50</td>\n",
       "      <td>20</td>\n",
       "    </tr>\n",
       "  </tbody>\n",
       "</table>\n",
       "</div>"
      ],
      "text/plain": [
       "     Temperature  Wind\n",
       "Day                   \n",
       "Mon        12.79    13\n",
       "Tue        19.67    28\n",
       "Wed        17.51    16\n",
       "Thu        14.44    11\n",
       "Fri        10.51    26\n",
       "Sat        11.07    27\n",
       "Sun        17.50    20"
      ]
     },
     "execution_count": 25,
     "metadata": {},
     "output_type": "execute_result"
    }
   ],
   "source": [
    "df[[\"Temperature\", \"Wind\"]]"
   ]
  },
  {
   "cell_type": "markdown",
   "metadata": {},
   "source": [
    "Una vez que hemos visto esto como acceder a los datos de una o varias columnas unicamente, vamos a ver como podemos filtrar los datos del DataFrame, igual que hacíamos en los *arrays*. \n",
    "\n",
    "En este primer ejemplo, vamos a quedarnos con todos los datos donde la temperatura sea mayor que 12ºC. En este caso seguiremos la siguiente sintaxis: \n",
    "\n",
    "```python\n",
    "df.loc[df[\"columna\"] CONDICION]\n",
    "```"
   ]
  },
  {
   "cell_type": "code",
   "execution_count": 26,
   "metadata": {},
   "outputs": [
    {
     "name": "stdout",
     "output_type": "stream",
     "text": [
      "El resultado usando la sintaxis de DF.COLUMNA usando LOC es:\n",
      "     Weather  Temperature  Wind  Humidity\n",
      "Day                                     \n",
      "Mon   Sunny        12.79    13        30\n",
      "Tue   Sunny        19.67    28        96\n",
      "Wed   Sunny        17.51    16        20\n",
      "Thu  Cloudy        14.44    11        22\n",
      "Sun   Sunny        17.50    20        10\n",
      "\n",
      " --------------- \n",
      "\n",
      "El resultado usando la sintaxis de df['COLUMNA'] usando LOC es:\n",
      "     Weather  Temperature  Wind  Humidity\n",
      "Day                                     \n",
      "Mon   Sunny        12.79    13        30\n",
      "Tue   Sunny        19.67    28        96\n",
      "Wed   Sunny        17.51    16        20\n",
      "Thu  Cloudy        14.44    11        22\n",
      "Sun   Sunny        17.50    20        10\n"
     ]
    }
   ],
   "source": [
    "# filtramos nuestros datos para quedarnos solo con las filas donde la temperatura sean mayor que 12\n",
    "df_mayor_12_1 = df.loc[df.Temperature > 12, :]\n",
    "print(f\"El resultado usando la sintaxis de DF.COLUMNA usando LOC es:\\n {df_mayor_12_1}\")\n",
    "\n",
    "print(\"\\n --------------- \\n\")\n",
    "\n",
    "# la linea de arriba es exactamente la misma que esta que vemos aquí abajo\n",
    "df_mayor_12_2 = df.loc[df[\"Temperature\"] > 12, :]\n",
    "print(f\"El resultado usando la sintaxis de df['COLUMNA'] usando LOC es:\\n {df_mayor_12_1}\")\n"
   ]
  },
  {
   "cell_type": "code",
   "execution_count": null,
   "metadata": {},
   "outputs": [],
   "source": [
    "# ¿y como lo haríamos con iloc? Se nos ocurriría que usando los corchetes, poniendo el índice de la columna que queremos usar como filtro. \n",
    "# veamoslo. \n",
    "df.iloc[df[1] > 12, :]"
   ]
  },
  {
   "cell_type": "markdown",
   "metadata": {},
   "source": [
    "⚠️ Obtenemos el error porque `iloc` no puede aceptar una Serie booleana. Sólo acepta una lista booleana. Podemos utilizar la función `list()` para convertir una Serie en una lista booleana. Por lo tanto, tendríamos que:"
   ]
  },
  {
   "cell_type": "code",
   "execution_count": 27,
   "metadata": {},
   "outputs": [
    {
     "data": {
      "text/html": [
       "<div>\n",
       "<style scoped>\n",
       "    .dataframe tbody tr th:only-of-type {\n",
       "        vertical-align: middle;\n",
       "    }\n",
       "\n",
       "    .dataframe tbody tr th {\n",
       "        vertical-align: top;\n",
       "    }\n",
       "\n",
       "    .dataframe thead th {\n",
       "        text-align: right;\n",
       "    }\n",
       "</style>\n",
       "<table border=\"1\" class=\"dataframe\">\n",
       "  <thead>\n",
       "    <tr style=\"text-align: right;\">\n",
       "      <th></th>\n",
       "      <th>Weather</th>\n",
       "      <th>Temperature</th>\n",
       "      <th>Wind</th>\n",
       "      <th>Humidity</th>\n",
       "    </tr>\n",
       "    <tr>\n",
       "      <th>Day</th>\n",
       "      <th></th>\n",
       "      <th></th>\n",
       "      <th></th>\n",
       "      <th></th>\n",
       "    </tr>\n",
       "  </thead>\n",
       "  <tbody>\n",
       "    <tr>\n",
       "      <th>Mon</th>\n",
       "      <td>Sunny</td>\n",
       "      <td>12.79</td>\n",
       "      <td>13</td>\n",
       "      <td>30</td>\n",
       "    </tr>\n",
       "    <tr>\n",
       "      <th>Tue</th>\n",
       "      <td>Sunny</td>\n",
       "      <td>19.67</td>\n",
       "      <td>28</td>\n",
       "      <td>96</td>\n",
       "    </tr>\n",
       "    <tr>\n",
       "      <th>Wed</th>\n",
       "      <td>Sunny</td>\n",
       "      <td>17.51</td>\n",
       "      <td>16</td>\n",
       "      <td>20</td>\n",
       "    </tr>\n",
       "    <tr>\n",
       "      <th>Thu</th>\n",
       "      <td>Cloudy</td>\n",
       "      <td>14.44</td>\n",
       "      <td>11</td>\n",
       "      <td>22</td>\n",
       "    </tr>\n",
       "    <tr>\n",
       "      <th>Sun</th>\n",
       "      <td>Sunny</td>\n",
       "      <td>17.50</td>\n",
       "      <td>20</td>\n",
       "      <td>10</td>\n",
       "    </tr>\n",
       "  </tbody>\n",
       "</table>\n",
       "</div>"
      ],
      "text/plain": [
       "    Weather  Temperature  Wind  Humidity\n",
       "Day                                     \n",
       "Mon   Sunny        12.79    13        30\n",
       "Tue   Sunny        19.67    28        96\n",
       "Wed   Sunny        17.51    16        20\n",
       "Thu  Cloudy        14.44    11        22\n",
       "Sun   Sunny        17.50    20        10"
      ]
     },
     "execution_count": 27,
     "metadata": {},
     "output_type": "execute_result"
    }
   ],
   "source": [
    "df.iloc[list(df.Temperature > 12), :]"
   ]
  },
  {
   "cell_type": "code",
   "execution_count": 28,
   "metadata": {},
   "outputs": [
    {
     "name": "stdout",
     "output_type": "stream",
     "text": [
      "El resultado usando la sintaxis de DF.COLUMNA usando LOC es:\n",
      "     Weather  Temperature  Wind  Humidity\n",
      "Day                                     \n",
      "Mon   Sunny        12.79    13        30\n",
      "Tue   Sunny        19.67    28        96\n",
      "Wed   Sunny        17.51    16        20\n",
      "Thu  Cloudy        14.44    11        22\n",
      "Sun   Sunny        17.50    20        10\n",
      "\n",
      " --------------- \n",
      "\n",
      "El resultado usando la sintaxis de df['COLUMNA'] usando LOC es:\n",
      "     Weather  Temperature  Wind  Humidity\n",
      "Day                                     \n",
      "Mon   Sunny        12.79    13        30\n",
      "Tue   Sunny        19.67    28        96\n",
      "Wed   Sunny        17.51    16        20\n",
      "Thu  Cloudy        14.44    11        22\n",
      "Sun   Sunny        17.50    20        10\n",
      "\n",
      " --------------- \n",
      "\n",
      "El resultado usando la sintaxis de df['COLUMNA'] usando ILOC es:\n",
      "     Weather  Temperature  Wind  Humidity\n",
      "Day                                     \n",
      "Mon   Sunny        12.79    13        30\n",
      "Tue   Sunny        19.67    28        96\n",
      "Wed   Sunny        17.51    16        20\n",
      "Thu  Cloudy        14.44    11        22\n",
      "Sun   Sunny        17.50    20        10\n"
     ]
    }
   ],
   "source": [
    "# si juntamos todo lo aprendido de loc e iloc en las últimas celdas\n",
    "\n",
    "# filtramos nuestros datos para quedarnos solo con las filas donde la temperatura sean mayor que 12\n",
    "df_mayor_12_1 = df.loc[df.Temperature > 12, :]\n",
    "print(f\"El resultado usando la sintaxis de DF.COLUMNA usando LOC es:\\n {df_mayor_12_1}\")\n",
    "\n",
    "print(\"\\n --------------- \\n\")\n",
    "\n",
    "# la linea de arriba es exactamente la misma que esta que vemos aquí abajo\n",
    "df_mayor_12_2 = df.loc[df[\"Temperature\"] > 12, :]\n",
    "print(f\"El resultado usando la sintaxis de df['COLUMNA'] usando LOC es:\\n {df_mayor_12_1}\")\n",
    "\n",
    "print(\"\\n --------------- \\n\")\n",
    "\n",
    "# filtramos con ILOC\n",
    "df_mayor_12_iloc = df.iloc[list(df.Temperature > 12), :]\n",
    "print(f\"El resultado usando la sintaxis de df['COLUMNA'] usando ILOC es:\\n {df_mayor_12_iloc}\")\n",
    "\n"
   ]
  },
  {
   "cell_type": "markdown",
   "metadata": {},
   "source": [
    "**¿Y si queremos que se cumplan varias condiciones?**\n",
    "\n",
    "En este caso tendremos que usar los operadores & o |, como vimos en NumPy. Recordemos lo que significan: \n",
    "\n",
    "- `&`: es como el operador `and`. En este caso se tendrán que cumplir todas las condiciones que le pasemos. \n",
    "\n",
    "\n",
    "- `|`: es como el operador `or`. En este caso nos devolverá datos de las condiciones que se cumplan, pero no tienen porque cumplirse todas a la vez. O una condición y otra. \n",
    "\n",
    "En este ejercicio vamos a querer filtrar  los días de la semana que había un viento mayor que 20 y que el tiempo era soleado (\"Sunny\") "
   ]
  },
  {
   "cell_type": "code",
   "execution_count": 33,
   "metadata": {},
   "outputs": [
    {
     "name": "stdout",
     "output_type": "stream",
     "text": [
      "El resultado usando LOC es:\n",
      "      Temperature  Wind\n",
      "Day                   \n",
      "Tue        19.67    28\n",
      "\n",
      " --------------- \n",
      "\n",
      "El resultado usando ILOC es:\n",
      "      Temperature  Wind\n",
      "Day                   \n",
      "Tue        19.67    28\n"
     ]
    }
   ],
   "source": [
    "# Seleccionar aquellas filas donde se cumpla la condición de que el viento es mayor que 20 y el tiempo era soleado.\n",
    "# además estamos especificando que nos devuelva solo las columnas de \"Temperature\" y \" Wind\"\n",
    "# SE TIENEN QUE CUMPLIR LAS DOS CONDICIONES\n",
    "\n",
    "# filtramos con LOC\n",
    "df_dos_condiciones_loc = df.loc[(df.Wind > 20) & (df.Weather == 'Sunny'), ['Temperature', 'Wind']]\n",
    "\n",
    "# filtramos con ILOC\n",
    "df_dos_condiciones_iloc = df.iloc[list((df.Wind > 20) & (df.Weather == 'Sunny')), [1,2]]\n",
    "\n",
    "\n",
    "print(f\"El resultado usando LOC es:\\n {df_dos_condiciones_loc}\")\n",
    "\n",
    "print(\"\\n --------------- \\n\")\n",
    "\n",
    "print(f\"El resultado usando ILOC es:\\n {df_dos_condiciones_iloc}\")"
   ]
  },
  {
   "cell_type": "markdown",
   "metadata": {},
   "source": [
    "**POR LO TANTO, LAS DIFERENCIAS ENTRE `LOC` E `ILOC` SON:**\n",
    "\n",
    "|       | loc                                             | iloc                                                |\n",
    "|-------|-------------------------------------------------|-----------------------------------------------------|\n",
    "| Uso   | Acceso a datos utilizando etiquetas de índice    | Acceso a datos utilizando posiciones de índice       |\n",
    "| Índice| Puede utilizar etiquetas o slices de etiquetas   | Solo puede utilizar posiciones enteras o slices      |\n",
    "| Filtrado | Permite filtrar filas y seleccionar columnas     | Permite filtrar filas y seleccionar columnas         |\n",
    "| Sintaxis | Utiliza etiquetas separadas por comas           | Utiliza posiciones enteras separadas por comas       |\n",
    "| Ejemplo | `df.loc[3:5, 'columna']`                        | `df.iloc[3:5, 2]`                                   |\n"
   ]
  }
 ],
 "metadata": {
  "kernelspec": {
   "display_name": "Python 3 (ipykernel)",
   "language": "python",
   "name": "python3"
  },
  "language_info": {
   "codemirror_mode": {
    "name": "ipython",
    "version": 3
   },
   "file_extension": ".py",
   "mimetype": "text/x-python",
   "name": "python",
   "nbconvert_exporter": "python",
   "pygments_lexer": "ipython3",
   "version": "3.9.7"
  },
  "toc": {
   "base_numbering": 1,
   "nav_menu": {},
   "number_sections": true,
   "sideBar": true,
   "skip_h1_title": false,
   "title_cell": "Tabla de Contenidos",
   "title_sidebar": "Contents",
   "toc_cell": true,
   "toc_position": {
    "height": "calc(100% - 180px)",
    "left": "10px",
    "top": "150px",
    "width": "326.663px"
   },
   "toc_section_display": true,
   "toc_window_display": true
  }
 },
 "nbformat": 4,
 "nbformat_minor": 2
}
