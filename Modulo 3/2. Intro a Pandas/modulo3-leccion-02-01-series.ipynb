{
 "cells": [
  {
   "cell_type": "code",
   "execution_count": 1,
   "metadata": {},
   "outputs": [],
   "source": [
    "# importamos la pandas para poder trabajar en la lección\n",
    "import pandas as pd"
   ]
  },
  {
   "cell_type": "markdown",
   "metadata": {},
   "source": [
    "**Serie vacía**"
   ]
  },
  {
   "cell_type": "code",
   "execution_count": 2,
   "metadata": {},
   "outputs": [
    {
     "name": "stdout",
     "output_type": "stream",
     "text": [
      "mi serie de pandas es: Series([], dtype: object)\n",
      "los tipos de elementos que la componen son: object\n"
     ]
    }
   ],
   "source": [
    "# Creemos algunas Series en Pandas para entenderlas mejor.\n",
    "# en este primer ejemplo crearemos una Serie vacía\n",
    "serie_vacia = pd.Series()\n",
    "print(\"mi serie de pandas es:\",serie_vacia)\n",
    "print(\"los tipos de elementos que la componen son:\",serie_vacia.dtype)"
   ]
  },
  {
   "cell_type": "markdown",
   "metadata": {},
   "source": [
    "**Serie a partir de listas**"
   ]
  },
  {
   "cell_type": "code",
   "execution_count": 3,
   "metadata": {},
   "outputs": [
    {
     "data": {
      "text/plain": [
       "0    23\n",
       "1    45\n",
       "2    17\n",
       "3    83\n",
       "4    67\n",
       "dtype: int64"
      ]
     },
     "execution_count": 3,
     "metadata": {},
     "output_type": "execute_result"
    }
   ],
   "source": [
    "# esta Serie esta bien, pero en realidad por lo general queremos tener Series con datos\n",
    "# creemos ahora una serie a partir de una lista\n",
    "\n",
    "# definimos la lista\n",
    "lista = [23, 45, 17, 83, 67]\n",
    "\n",
    "# convertimos esta lista en una Serie\n",
    "serie_lista1 = pd.Series(lista)\n",
    "serie_lista1"
   ]
  },
  {
   "cell_type": "markdown",
   "metadata": {},
   "source": [
    "📌 Si nos fijamos el método `pd.Series` nos va a generar automáticamente el índice y lo crea con números consecutivos, empezando por el 0. Sin embargo, también le podemos pasar los índices que queramos usando el parámetro `index`. \n",
    "\n",
    "> index: Es un parámetro opcional de la función `pd.Series`. En este caso, se proporciona una lista de índices personalizados para la Serie. Los índices indican cómo se etiquetarán los elementos de la Serie. En este ejemplo, los índices se definen en el orden especificado: 3, 4, 5, 6, 7.\n",
    "\n",
    "Tener índices personalizados puede ser útil cuando necesitamos acceder a los elementos de la Serie utilizando etiquetas específicas en lugar de las posiciones numéricas predeterminadas. Esto facilita la manipulación y el análisis de los datos en la Serie. \n",
    "\n",
    "Es importante destacar que los índices pueden ser de diferentes tipos, incluidos *integer*, cadenas, fechas, etc. Además, los índices no necesariamente tienen que estar en orden o ser consecutivos. Esto proporciona una gran flexibilidad en el uso de las Series en Pandas."
   ]
  },
  {
   "cell_type": "code",
   "execution_count": 4,
   "metadata": {},
   "outputs": [
    {
     "data": {
      "text/plain": [
       "3    23\n",
       "4    45\n",
       "5    17\n",
       "6    83\n",
       "7    67\n",
       "dtype: int64"
      ]
     },
     "execution_count": 4,
     "metadata": {},
     "output_type": "execute_result"
    }
   ],
   "source": [
    "# vamos a definir una nueva serie pero en este caso vamos a ponerle nuestro propio índice usando el parámetro 'index'\n",
    "serie_lista2 = pd.Series(lista, index = [3,4,5,6,7])\n",
    "serie_lista2"
   ]
  },
  {
   "cell_type": "code",
   "execution_count": 5,
   "metadata": {},
   "outputs": [
    {
     "data": {
      "text/plain": [
       "Lunes        23\n",
       "Martes       45\n",
       "Miercoles    17\n",
       "Jueves       83\n",
       "Viernes      67\n",
       "dtype: int64"
      ]
     },
     "execution_count": 5,
     "metadata": {},
     "output_type": "execute_result"
    }
   ],
   "source": [
    "# como hemos mencionado los índices pueden ser de distintos tipos, en este caso crearemos una nueva Serie donde sus índices sean strings\n",
    "serie_lista3 = pd.Series(lista, index = [\"Lunes\",\"Martes\",\"Miercoles\",\"Jueves\",\"Viernes\"])\n",
    "serie_lista3"
   ]
  },
  {
   "cell_type": "markdown",
   "metadata": {},
   "source": [
    "**Series a partir de diccionarios**"
   ]
  },
  {
   "cell_type": "code",
   "execution_count": 6,
   "metadata": {},
   "outputs": [
    {
     "data": {
      "text/plain": [
       "lorena    10\n",
       "marta     20\n",
       "pilar     30\n",
       "laura     50\n",
       "ana       86\n",
       "maria     28\n",
       "dtype: int64"
      ]
     },
     "execution_count": 6,
     "metadata": {},
     "output_type": "execute_result"
    }
   ],
   "source": [
    "# definir un diccionario \n",
    "dicc = {'lorena' : 10, \n",
    "        'marta' : 20, \n",
    "        'pilar' : 30, \n",
    "        'laura': 50, \n",
    "       'ana': 86, \n",
    "        'maria': 28} \n",
    "\n",
    "# crear una serie nueva a partir del diccionario definido previamente\n",
    "serie_diccionario = pd.Series(dicc)\n",
    "serie_diccionario"
   ]
  },
  {
   "cell_type": "markdown",
   "metadata": {},
   "source": [
    "## Propiedades de las Series\n",
    "\n",
    "Las propiedades son atributos específicos que nos proporcionan información sobre las características de una Serie en particular. Las propiedades más importantes de las Series en Pandas son:\n",
    "\n",
    "1. **values**: Esta propiedad devuelve los valores de la Serie como un array NumPy. Puedes acceder a ellos utilizando la sintaxis `serie.values`.\n",
    "\n",
    "2. **index**: Esta propiedad devuelve los índices de la Serie. Los índices pueden ser de cualquier tipo, incluyendo *integer*s, cadenas u otros objetos. Puedes acceder a ellos utilizando la sintaxis `serie.index`.\n",
    "\n",
    "3. **dtype**: Esta propiedad devuelve el tipo de datos de los elementos en la Serie. Puedes acceder a él utilizando la sintaxis `serie.dtype`. Los tipos de datos comunes incluyen `int64`, `float64`, `object`, `datetime64`, entre otros.\n",
    "\n",
    "4. **size**: Esta propiedad devuelve el número total de elementos en la Serie. Puedes acceder a él utilizando la sintaxis `serie.size`.\n",
    "\n",
    "5. **shape**: Esta propiedad devuelve una tupla que representa la forma (dimensiones) de la Serie. En el caso de una Serie unidimensional, la forma será `(n,)`, donde `n` es el número de elementos en la Serie. Puedes acceder a él utilizando la sintaxis `serie.shape`.\n",
    "\n",
    "Estas propiedades son útiles para obtener información sobre una Serie en particular, como el tipo de datos, el número de elementos y los índices asociados. Además, las propiedades pueden ser utilizadas en conjunto con los métodos y funciones de Pandas para realizar operaciones y análisis más avanzados en los datos de la Serie.\n",
    "\n",
    "Es importante tener en cuenta que las Series son inmutables, lo que significa que no puedes cambiar sus elementos directamente. Sin embargo, puedes realizar operaciones y manipulaciones en las Series para obtener nuevos resultados o modificar la estructura de los datos en función de tus necesidades."
   ]
  },
  {
   "cell_type": "code",
   "execution_count": 7,
   "metadata": {},
   "outputs": [
    {
     "data": {
      "text/plain": [
       "'La serie con la que vamos a trabajar es:'"
      ]
     },
     "metadata": {},
     "output_type": "display_data"
    },
    {
     "data": {
      "text/plain": [
       "lorena    10\n",
       "marta     20\n",
       "pilar     30\n",
       "laura     50\n",
       "ana       86\n",
       "maria     28\n",
       "dtype: int64"
      ]
     },
     "metadata": {},
     "output_type": "display_data"
    },
    {
     "name": "stdout",
     "output_type": "stream",
     "text": [
      "---------------------------\n",
      "El método 'index' nos devuelve los índices de la Serie: Index(['lorena', 'marta', 'pilar', 'laura', 'ana', 'maria'], dtype='object')\n",
      "---------------------------\n",
      "El método 'values' nos devuelve los valores de la Serie: [10 20 30 50 86 28]\n",
      "---------------------------\n",
      "El método 'shape' nos devuelve la forma de la Serie: (6,)\n",
      "---------------------------\n",
      "El método 'size' nos devuelve el número de elementos de la Serie: 6\n",
      "---------------------------\n",
      "El método 'dtypes' nos devuelve el tipo de datos de la Serie: int64\n"
     ]
    }
   ],
   "source": [
    "# recordemos la serie\n",
    "display(\"La serie con la que vamos a trabajar es:\", serie_diccionario)\n",
    "print(\"---------------------------\")\n",
    "\n",
    "# utilizamos el método index que nos va a devolver todos los índices \n",
    "# fijaos como en este caso nos ha devuelto todos los índices de nuestra Serie, es decir, los nombres de las alumnas\n",
    "print(f\"El método 'index' nos devuelve los índices de la Serie: {serie_diccionario.index}\")\n",
    "print(\"---------------------------\")\n",
    "\n",
    "# ahora utilizamos el método 'values' nos devuelve todos los valores de la Serie\n",
    "# en este caso los números que teníamos\n",
    "print(f\"El método 'values' nos devuelve los valores de la Serie: {serie_diccionario.values}\")\n",
    "print(\"---------------------------\")\n",
    "\n",
    "#utilizando el método 'shape' nos devuelve el número de \"filas\" que tenemos en la Serie\n",
    "print(f\"El método 'shape' nos devuelve la forma de la Serie: {serie_diccionario.shape}\")\n",
    "print(\"---------------------------\")\n",
    "\n",
    "#utilizando el método 'size' nos devuelve el número de elementos que tenemos en la Serie\n",
    "print(f\"El método 'size' nos devuelve el número de elementos de la Serie: {serie_diccionario.size}\")\n",
    "print(\"---------------------------\")\n",
    "\n",
    "#utilizando el método 'dtypes' nos devuelve el tipo de datos de la Serie\n",
    "print(f\"El método 'dtypes' nos devuelve el tipo de datos de la Serie: {serie_diccionario.dtypes}\")\n",
    "\n"
   ]
  },
  {
   "cell_type": "markdown",
   "metadata": {},
   "source": [
    "## Indexación de las Series\n",
    "\n",
    "La indexación se refiere a la forma en que accedemos a los elementos de una Serie utilizando índices o etiquetas. Pandas ofrece varias opciones para indexar y seleccionar elementos en una Serie. Algunas de las principales formas de realizar la indexación en las Series son:\n",
    "\n",
    "1. **Indexación por posición**: Podemos acceder a los elementos de una Serie utilizando la posición numérica del elemento en la Serie, como hacíamos con las listas\n",
    "\n",
    "2. **Indexación por etiqueta**: Podemos acceder a los elementos de una Serie utilizando las etiquetas de índice asociadas a cada elemento. \n",
    "\n",
    "3. **Indexación por rango**: Podemos acceder a un rango de elementos de una Serie utilizando los índices de inicio y fin. \n",
    "\n",
    "4. **Indexación por lista de índices**: Podemos acceder a varios elementos de una Serie utilizando una lista de índices.\n"
   ]
  },
  {
   "cell_type": "markdown",
   "metadata": {},
   "source": [
    " **Indexación por posición**"
   ]
  },
  {
   "cell_type": "code",
   "execution_count": 8,
   "metadata": {},
   "outputs": [
    {
     "data": {
      "text/plain": [
       "'La serie con la que vamos a trabajar es:'"
      ]
     },
     "metadata": {},
     "output_type": "display_data"
    },
    {
     "data": {
      "text/plain": [
       "lorena    10\n",
       "marta     20\n",
       "pilar     30\n",
       "laura     50\n",
       "ana       86\n",
       "maria     28\n",
       "dtype: int64"
      ]
     },
     "metadata": {},
     "output_type": "display_data"
    },
    {
     "name": "stdout",
     "output_type": "stream",
     "text": [
      "---------------------------\n",
      "El valor que está en posición 0 es: 10\n",
      "---------------------------\n",
      "El valor que está en posición 2 es: 30\n"
     ]
    }
   ],
   "source": [
    "display(\"La serie con la que vamos a trabajar es:\", serie_diccionario)\n",
    "print(\"---------------------------\")\n",
    "\n",
    "# accedemos al primer elemento (el valor 10). 🚨 Fijaos como los índices son como los de las listas, empiezan en 0\n",
    "print(\"El valor que está en posición 0 es:\", serie_diccionario[0])  \n",
    "print(\"---------------------------\")\n",
    "\n",
    "# accedemos al tercer elemento (el valor 30)\n",
    "print(\"El valor que está en posición 2 es:\", serie_diccionario[2])  \n"
   ]
  },
  {
   "cell_type": "markdown",
   "metadata": {},
   "source": [
    "**Indexación por etiqueta**"
   ]
  },
  {
   "cell_type": "code",
   "execution_count": 9,
   "metadata": {},
   "outputs": [
    {
     "data": {
      "text/plain": [
       "'La serie con la que vamos a trabajar es:'"
      ]
     },
     "metadata": {},
     "output_type": "display_data"
    },
    {
     "data": {
      "text/plain": [
       "lorena    10\n",
       "marta     20\n",
       "pilar     30\n",
       "laura     50\n",
       "ana       86\n",
       "maria     28\n",
       "dtype: int64"
      ]
     },
     "metadata": {},
     "output_type": "display_data"
    },
    {
     "name": "stdout",
     "output_type": "stream",
     "text": [
      "---------------------------\n",
      "El valor que está en indice 'laura' es: 50\n",
      "---------------------------\n",
      "El valor que está en indice 'pilar' es: 30\n"
     ]
    }
   ],
   "source": [
    "display(\"La serie con la que vamos a trabajar es:\", serie_diccionario)\n",
    "print(\"---------------------------\")\n",
    "\n",
    "\n",
    "# accedemos al valor de la etiqueta de \"laura\" (el valor 50). 🚨 Esto lo podríamos comparar con los diccionarios\n",
    "print(\"El valor que está en indice 'laura' es:\", serie_diccionario[\"laura\"])  \n",
    "print(\"---------------------------\")\n",
    "\n",
    "# accedemos al valor de la etiqueta de \"pilar\" (el valor 30). \n",
    "print(\"El valor que está en indice 'pilar' es:\", serie_diccionario[\"pilar\"])  "
   ]
  },
  {
   "cell_type": "markdown",
   "metadata": {},
   "source": [
    "**Indexación por rango**: "
   ]
  },
  {
   "cell_type": "code",
   "execution_count": 10,
   "metadata": {},
   "outputs": [
    {
     "data": {
      "text/plain": [
       "'La serie con la que vamos a trabajar es:'"
      ]
     },
     "metadata": {},
     "output_type": "display_data"
    },
    {
     "data": {
      "text/plain": [
       "lorena    10\n",
       "marta     20\n",
       "pilar     30\n",
       "laura     50\n",
       "ana       86\n",
       "maria     28\n",
       "dtype: int64"
      ]
     },
     "metadata": {},
     "output_type": "display_data"
    },
    {
     "name": "stdout",
     "output_type": "stream",
     "text": [
      "---------------------------\n",
      "Los valores de los índices que están entre las posiciones 1 y 3 (incluida) es: \n",
      " marta    20\n",
      "pilar    30\n",
      "laura    50\n",
      "dtype: int64\n"
     ]
    }
   ],
   "source": [
    "display(\"La serie con la que vamos a trabajar es:\", serie_diccionario)\n",
    "print(\"---------------------------\")\n",
    "\n",
    "# accedemos a los elementos desde el índice 1 al 3 ([20, 30, 50]). 🚨 De nuevo fijaos como esto funciona igual que en listas\n",
    "# nos esta incluyendo el valor que está en el índice 1, pero no el que está en el índice 4\n",
    "print(\"Los valores de los índices que están entre las posiciones 1 y 3 (incluida) es: \\n\", serie_diccionario[1:4])  "
   ]
  },
  {
   "cell_type": "markdown",
   "metadata": {},
   "source": [
    "**Indexación por lista de índices**"
   ]
  },
  {
   "cell_type": "code",
   "execution_count": 11,
   "metadata": {},
   "outputs": [
    {
     "data": {
      "text/plain": [
       "'La serie con la que vamos a trabajar es:'"
      ]
     },
     "metadata": {},
     "output_type": "display_data"
    },
    {
     "data": {
      "text/plain": [
       "lorena    10\n",
       "marta     20\n",
       "pilar     30\n",
       "laura     50\n",
       "ana       86\n",
       "maria     28\n",
       "dtype: int64"
      ]
     },
     "metadata": {},
     "output_type": "display_data"
    },
    {
     "name": "stdout",
     "output_type": "stream",
     "text": [
      "---------------------------\n",
      "Los valores de los índices que están en las posiciones 1, 3 y 4 son: \n",
      " lorena    10\n",
      "pilar     30\n",
      "laura     50\n",
      "dtype: int64\n"
     ]
    }
   ],
   "source": [
    "display(\"La serie con la que vamos a trabajar es:\", serie_diccionario)\n",
    "print(\"---------------------------\")\n",
    "\n",
    "# Acceder a los elementos con índices 1, 3 y 4. 🚨 Fijaos como en este caso, le hemos puesto dos corchetes\n",
    "print(\"Los valores de los índices que están en las posiciones 1, 3 y 4 son: \\n\", serie_diccionario[[0,2,3]])  "
   ]
  }
 ],
 "metadata": {
  "kernelspec": {
   "display_name": "Python 3 (ipykernel)",
   "language": "python",
   "name": "python3"
  },
  "language_info": {
   "codemirror_mode": {
    "name": "ipython",
    "version": 3
   },
   "file_extension": ".py",
   "mimetype": "text/x-python",
   "name": "python",
   "nbconvert_exporter": "python",
   "pygments_lexer": "ipython3",
   "version": "3.11.7"
  },
  "toc": {
   "base_numbering": 1,
   "nav_menu": {},
   "number_sections": true,
   "sideBar": true,
   "skip_h1_title": false,
   "title_cell": "Tabla de Contenidos",
   "title_sidebar": "Contents",
   "toc_cell": true,
   "toc_position": {
    "height": "calc(100% - 180px)",
    "left": "10px",
    "top": "150px",
    "width": "326.663px"
   },
   "toc_section_display": true,
   "toc_window_display": true
  }
 },
 "nbformat": 4,
 "nbformat_minor": 2
}
