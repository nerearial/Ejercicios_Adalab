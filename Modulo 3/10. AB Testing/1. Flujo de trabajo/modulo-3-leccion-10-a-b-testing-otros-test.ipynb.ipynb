{
 "cells": [
  {
   "cell_type": "markdown",
   "metadata": {
    "toc": true
   },
   "source": [
    "<h1>Table of Contents<span class=\"tocSkip\"></span></h1>\n",
    "<div class=\"toc\"><ul class=\"toc-item\"><li><span><a href=\"#Prueba-T-Student\" data-toc-modified-id=\"Prueba-T-Student-1\"><span class=\"toc-item-num\">1&nbsp;&nbsp;</span>Prueba T-Student</a></span></li><li><span><a href=\"#Prueba-Z\" data-toc-modified-id=\"Prueba-Z-2\"><span class=\"toc-item-num\">2&nbsp;&nbsp;</span>Prueba Z</a></span></li><li><span><a href=\"#Prueba-de-proporciones\" data-toc-modified-id=\"Prueba-de-proporciones-3\"><span class=\"toc-item-num\">3&nbsp;&nbsp;</span>Prueba de proporciones</a></span></li><li><span><a href=\"#Análisis-de-varianza-(ANOVA)\" data-toc-modified-id=\"Análisis-de-varianza-(ANOVA)-4\"><span class=\"toc-item-num\">4&nbsp;&nbsp;</span>Análisis de varianza (ANOVA)</a></span></li><li><span><a href=\"#Regresión-Lineal\" data-toc-modified-id=\"Regresión-Lineal-5\"><span class=\"toc-item-num\">5&nbsp;&nbsp;</span>Regresión Lineal</a></span></li></ul></div>"
   ]
  },
  {
   "cell_type": "code",
   "execution_count": 1,
   "metadata": {},
   "outputs": [],
   "source": [
    "# importamos las librerías que necesitamos\n",
    "\n",
    "# Tratamiento de datos\n",
    "# -----------------------------------------------------------------------\n",
    "import pandas as pd\n",
    "import numpy as np\n",
    "\n",
    "\n",
    "# Visualización\n",
    "# ------------------------------------------------------------------------------\n",
    "import matplotlib.pyplot as plt\n",
    "import seaborn as sns\n",
    "\n",
    "# Realizar los distintos test\n",
    "# ------------------------------------------------------------------------------\n",
    "\n",
    "from scipy.stats import ttest_ind, norm, chi2_contingency, f_oneway\n",
    "from sklearn.linear_model import LinearRegression\n",
    "\n",
    "\n",
    "# Gestión de los warnings\n",
    "# -----------------------------------------------------------------------\n",
    "import warnings\n",
    "warnings.filterwarnings(\"ignore\")"
   ]
  },
  {
   "cell_type": "markdown",
   "metadata": {},
   "source": [
    "# Prueba T-Student\n",
    "\n",
    "**Cuando la usaremos** :\n",
    "- Se utiliza cuando no conocemos la desviación estándar de la población.\n",
    "\n",
    "- Es apropiada para muestras pequeñas (generalmente n < 30).\n",
    "\n",
    "- Cuando se cumplen todas los supuestos (normalidad, homogeneidad de varianzas e independencia). \n",
    "\n",
    "Supongamos que eres una analista de marketing digital que trabaja para una empresa de comercio electrónico. Recientemente, has realizado una actualización en el diseño de los anuncios en línea de la plataforma, y ahora estás interesada en evaluar si la nueva versión de los anuncios tiene un impacto significativo en la tasa de clics (CTR) en comparación con la versión anterior.\n",
    "\n",
    "Para realizar esta evaluación, has implementado un A/B test, donde has dividido aleatoriamente a los usuarios en dos grupos: el grupo de control, que ve la versión antigua del anuncio, y el grupo de prueba, que ve la nueva versión del anuncio. Cada grupo está compuesto por 1000 usuarios.\n",
    "\n",
    "- **Hipótesis Nula (H0):** No hay diferencia significativa en las tasas de clics entre el grupo de control y el grupo de prueba.\n",
    "\n",
    "- **Hipótesis Alternativa (H1):** Hay una diferencia significativa en las tasas de clics entre el grupo de control y el grupo de prueba.\n",
    "\n",
    "Para realizar esta prueba usaremos el método `ttest_ind`. Su sintaxis básica :\n",
    "\n",
    "```python\n",
    "ttest_ind(a, b, equal_var=True, alternative='two-sided')\n",
    "\n",
    "t_stat, p_value = ttest_ind(grupo1, grupo2)\n",
    "```\n",
    "\n",
    "Donde: \n",
    "- `a` y `b`: Son las dos muestras que deseas comparar.\n",
    "\n",
    "- `equal_var`: Es un parámetro opcional que indica si se debe asumir igualdad de varianzas. Por defecto es True.\n",
    "\n",
    "- `alternative` (opcional): Indica la hipótesis alternativa ('two-sided', 'less', o 'greater'). Por defecto es 'two-sided'.\n",
    "\n",
    "**Los resultados que obtenemos son**:\n",
    "\n",
    "- **t_stat:** Este es el valor estadístico de la prueba t de Student. Cuanto mayor sea este valor (en términos absolutos), más evidencia hay en contra de la hipótesis nula.\n",
    "\n",
    "- **p_value:** Este es el valor p de la prueba. Representa la probabilidad de obtener un valor estadístico tan extremo como el observado, bajo la hipótesis nula. \n",
    "\n",
    "**Interpretación:**\n",
    "\n",
    "- Si `p_value < 0.05`: Rechazamos la hipótesis nula. Hay evidencia suficiente para decir que hay una diferencia significativa entre las dos muestras.\n",
    "\n",
    "- Si `p_value >= 0.05`: No hay evidencia suficiente para rechazar la hipótesis nula. No podemos afirmar que haya una diferencia significativa entre las dos muestras."
   ]
  },
  {
   "cell_type": "code",
   "execution_count": 2,
   "metadata": {},
   "outputs": [
    {
     "data": {
      "text/html": [
       "<div>\n",
       "<style scoped>\n",
       "    .dataframe tbody tr th:only-of-type {\n",
       "        vertical-align: middle;\n",
       "    }\n",
       "\n",
       "    .dataframe tbody tr th {\n",
       "        vertical-align: top;\n",
       "    }\n",
       "\n",
       "    .dataframe thead th {\n",
       "        text-align: right;\n",
       "    }\n",
       "</style>\n",
       "<table border=\"1\" class=\"dataframe\">\n",
       "  <thead>\n",
       "    <tr style=\"text-align: right;\">\n",
       "      <th></th>\n",
       "      <th>Group</th>\n",
       "      <th>CTR</th>\n",
       "    </tr>\n",
       "  </thead>\n",
       "  <tbody>\n",
       "    <tr>\n",
       "      <th>0</th>\n",
       "      <td>Control</td>\n",
       "      <td>0.011474</td>\n",
       "    </tr>\n",
       "    <tr>\n",
       "      <th>1</th>\n",
       "      <td>Control</td>\n",
       "      <td>0.035303</td>\n",
       "    </tr>\n",
       "    <tr>\n",
       "      <th>2</th>\n",
       "      <td>Control</td>\n",
       "      <td>0.033873</td>\n",
       "    </tr>\n",
       "    <tr>\n",
       "      <th>3</th>\n",
       "      <td>Control</td>\n",
       "      <td>0.010277</td>\n",
       "    </tr>\n",
       "    <tr>\n",
       "      <th>4</th>\n",
       "      <td>Control</td>\n",
       "      <td>0.021153</td>\n",
       "    </tr>\n",
       "  </tbody>\n",
       "</table>\n",
       "</div>"
      ],
      "text/plain": [
       "     Group       CTR\n",
       "0  Control  0.011474\n",
       "1  Control  0.035303\n",
       "2  Control  0.033873\n",
       "3  Control  0.010277\n",
       "4  Control  0.021153"
      ]
     },
     "execution_count": 2,
     "metadata": {},
     "output_type": "execute_result"
    }
   ],
   "source": [
    "# crear un diccionario con dos columnas, la del grupo a la que pertecen y otra con los valores de CTR (con una distribución normal)\n",
    "data_t = {'Group': ['Control'] * 25 + ['Test'] * 25,\n",
    "        'CTR': np.concatenate([np.random.normal(0.02, 0.01, 25),\n",
    "                               np.random.normal(0.025, 0.01, 25)])}\n",
    "\n",
    "df_t = pd.DataFrame(data_t)\n",
    "df_t.head()"
   ]
  },
  {
   "cell_type": "code",
   "execution_count": 3,
   "metadata": {},
   "outputs": [
    {
     "data": {
      "image/png": "[encoded data removed]",
      "text/plain": [
       "<Figure size 640x480 with 1 Axes>"
      ]
     },
     "metadata": {},
     "output_type": "display_data"
    }
   ],
   "source": [
    "# antes de hacer la prueba estadística vemos si visualmente vemos diferencias entre los grupos\n",
    "sns.barplot(x=\"Group\", y=\"CTR\", data=df_t,  palette = \"mako\");"
   ]
  },
  {
   "cell_type": "code",
   "execution_count": 4,
   "metadata": {},
   "outputs": [
    {
     "name": "stdout",
     "output_type": "stream",
     "text": [
      "Hay una diferencia significativa en las tasas de clics entre el grupo de control y el grupo de prueba.\n",
      "\n",
      " ---------- \n",
      "\n",
      "\n",
      "          Los resultados sugieren que existe evidencia estadística para afirmar que las medias de las muestras son distintas. \n",
      "          Por lo tanto, nuestro nuevo sistema tiene los efectos deseados y deberíamos cambiar la nueva versión de anuncios   \n",
      "          \n"
     ]
    }
   ],
   "source": [
    "# Al igual que en el ejemplo del jupyter principal, debemos dividir los datos en grupo control y test\n",
    "control_group_t = df_t[df_t['Group'] == 'Control']['CTR']\n",
    "test_group_t = df_t[df_t['Group'] == 'Test']['CTR']\n",
    "\n",
    "# utilizando el método 'ttest_ind', evaluamos si los dos grupos son diferentes\n",
    "t_stat, p_value = ttest_ind(control_group_t, test_group_t)\n",
    "\n",
    "# Imprimir el resultado de la prueba\n",
    "if p_value < 0.05:\n",
    "    print(\"Hay una diferencia significativa en las tasas de clics entre el grupo de control y el grupo de prueba.\")\n",
    "    print(\"\\n ---------- \\n\")\n",
    "    print(\"\"\"\n",
    "          Los resultados sugieren que existe evidencia estadística para afirmar que las medias de las muestras son distintas. \n",
    "          Por lo tanto, nuestro nuevo sistema tiene los efectos deseados y deberíamos cambiar la nueva versión de anuncios   \n",
    "          \"\"\")\n",
    "else:\n",
    "    print(\"No hay evidencia de una diferencia significativa en las tasas de clics entre los grupos.\")\n",
    "    print(\"\\n ---------- \\n\")\n",
    "    print(\"\"\"\n",
    "          Los resultados sugieren que no existe evidencia estadística para afirmar que las medias de las muestras son distintas. \n",
    "          Por lo tanto, aunque en la gráfica veamos que hay diferencias entre el grupo \"test\" y el grupo \"control\", \n",
    "          el análisis estadístico nos sugiera que estas diferencias no son significativas, \n",
    "          por lo que la nueva campaña no esta ayudando a nuestro problema.   \n",
    "          \"\"\")\n"
   ]
  },
  {
   "cell_type": "markdown",
   "metadata": {},
   "source": [
    "# Prueba Z\n",
    "\n",
    "**Cuando la usaremos** :\n",
    "- Se utiliza cuando conocemos la desviación estándar de la población.\n",
    "\n",
    "- Es apropiada para muestras grandes (generalmente n > 30).\n",
    "\n",
    "La plataforma de comercio electrónico donde trabajamos quiere mejorar la retención de usuarios en su sitio web, y para ello ha diseñado una nueva versión de la página de inicio. Han realizado un experimento A/B, donde el grupo de control ve la versión actual de la página de inicio, mientras que el grupo de prueba ve la nueva versión.\n",
    "\n",
    "\n",
    "- **Hipótesis Nula (H0):** No hay diferencia significativa en el tiempo de permanencia entre el grupo de control y el grupo de prueba.\n",
    "\n",
    "- **Hipótesis Alternativa (H1):** Hay una diferencia significativa en el tiempo de permanencia entre el grupo de control y el grupo de prueba.\n",
    "\n",
    "\n",
    "**Los resultados que obtenemos son**:\n",
    "\n",
    "- **Estadístico de Prueba Z (\\(Z\\)):** Representa cuántas desviaciones estándar está una observación de la media muestral en relación con la hipótesis nula. Un \\(Z\\) positivo indica que la media muestral está por encima de la media poblacional asumida, mientras que un \\(Z\\) negativo indica que está por debajo. Cuanto mayor sea el valor absoluto de \\(Z\\), más evidencia hay en contra de la hipótesis nula.\n",
    "\n",
    "- **p-value:** Representa la probabilidad de obtener un estadístico de prueba \\(Z\\) al menos tan extremo como el observado, asumiendo que la hipótesis nula es verdadera.\n",
    "\n",
    "**Interpretación:**\n",
    "\n",
    "- Si `p_value < 0.05`: Rechazamos la hipótesis nula. Hay evidencia suficiente para decir que hay una diferencia significativa entre las dos muestras.\n",
    "\n",
    "- Si `p_value >= 0.05`: No hay evidencia suficiente para rechazar la hipótesis nula. No podemos afirmar que haya una diferencia significativa entre las dos muestras.\n"
   ]
  },
  {
   "cell_type": "code",
   "execution_count": 5,
   "metadata": {},
   "outputs": [
    {
     "data": {
      "text/html": [
       "<div>\n",
       "<style scoped>\n",
       "    .dataframe tbody tr th:only-of-type {\n",
       "        vertical-align: middle;\n",
       "    }\n",
       "\n",
       "    .dataframe tbody tr th {\n",
       "        vertical-align: top;\n",
       "    }\n",
       "\n",
       "    .dataframe thead th {\n",
       "        text-align: right;\n",
       "    }\n",
       "</style>\n",
       "<table border=\"1\" class=\"dataframe\">\n",
       "  <thead>\n",
       "    <tr style=\"text-align: right;\">\n",
       "      <th></th>\n",
       "      <th>Group</th>\n",
       "      <th>Tiempo_Permanencia</th>\n",
       "    </tr>\n",
       "  </thead>\n",
       "  <tbody>\n",
       "    <tr>\n",
       "      <th>0</th>\n",
       "      <td>Control</td>\n",
       "      <td>5.691666</td>\n",
       "    </tr>\n",
       "    <tr>\n",
       "      <th>1</th>\n",
       "      <td>Control</td>\n",
       "      <td>4.558280</td>\n",
       "    </tr>\n",
       "    <tr>\n",
       "      <th>2</th>\n",
       "      <td>Control</td>\n",
       "      <td>5.419934</td>\n",
       "    </tr>\n",
       "    <tr>\n",
       "      <th>3</th>\n",
       "      <td>Control</td>\n",
       "      <td>5.084328</td>\n",
       "    </tr>\n",
       "    <tr>\n",
       "      <th>4</th>\n",
       "      <td>Control</td>\n",
       "      <td>4.027011</td>\n",
       "    </tr>\n",
       "  </tbody>\n",
       "</table>\n",
       "</div>"
      ],
      "text/plain": [
       "     Group  Tiempo_Permanencia\n",
       "0  Control            5.691666\n",
       "1  Control            4.558280\n",
       "2  Control            5.419934\n",
       "3  Control            5.084328\n",
       "4  Control            4.027011"
      ]
     },
     "execution_count": 5,
     "metadata": {},
     "output_type": "execute_result"
    }
   ],
   "source": [
    "# crear un diccionario con dos columnas, la del grupo a la que pertecen y otra con los valores de tiempo de permanencia en la página web\n",
    "data_z = {'Group': ['Control'] * 1000 + ['Test'] * 1000,\n",
    "        'Tiempo_Permanencia': np.concatenate([np.random.normal(5, 1, 1000),\n",
    "                                              np.random.normal(6, 1, 1000)])}\n",
    "df_z = pd.DataFrame(data_z)\n",
    "df_z.head()\n"
   ]
  },
  {
   "cell_type": "code",
   "execution_count": 6,
   "metadata": {},
   "outputs": [
    {
     "data": {
      "image/png": "[encoded data removed]",
      "text/plain": [
       "<Figure size 640x480 with 1 Axes>"
      ]
     },
     "metadata": {},
     "output_type": "display_data"
    }
   ],
   "source": [
    "# analizamos los datos primero visualmente\n",
    "sns.barplot(x=\"Group\", y=\"Tiempo_Permanencia\", data=df_z,  palette = \"viridis\");"
   ]
  },
  {
   "cell_type": "code",
   "execution_count": 7,
   "metadata": {},
   "outputs": [
    {
     "name": "stdout",
     "output_type": "stream",
     "text": [
      "Hay una diferencia significativa en el tiempo de permanencia entre el grupo de control y el grupo de prueba.\n",
      "\n",
      " ---------- \n",
      "\n",
      "\n",
      "          Los resultados sugieren que si que existe una diferencia entre los grupos en la permanencia en la página web,\n",
      "          por lo que tendremos quee optar por la nueva versión de la página web\n",
      "          \n"
     ]
    }
   ],
   "source": [
    "# Calcular la media y la desviación estándar del grupo control\n",
    "media_control_z = df_z[df_z['Group'] == 'Control']['Tiempo_Permanencia'].mean()\n",
    "std_control_z = df_z[df_z['Group'] == 'Control']['Tiempo_Permanencia'].std()\n",
    "\n",
    "# Calcular la media y la desviación estándar del grupo control\n",
    "media_test_z = df_z[df_z['Group'] == 'Test']['Tiempo_Permanencia'].mean()\n",
    "std_test_z = df_z[df_z['Group'] == 'Test']['Tiempo_Permanencia'].std()\n",
    "\n",
    "# Calcular la cantidad de datos que tenemos en el grupo control y el test\n",
    "n_control_z = len(df_z[df_z['Group'] == 'Control'])\n",
    "n_test_z = len(df_z[df_z['Group'] == 'Test'])\n",
    "\n",
    "# calcular el valor de la z\n",
    "z_stat = (media_test_z - media_control_z) / np.sqrt((std_control_z**2 / n_control_z) + (std_test_z**2 / n_test_z))\n",
    "\n",
    "# Calcular el valor p\n",
    "p_value = 2 * (1 - norm.cdf(np.abs(z_stat)))\n",
    "\n",
    "# Imprimir el resultado de la prueba\n",
    "alpha = 0.05\n",
    "if p_value < alpha:\n",
    "    print(\"Hay una diferencia significativa en el tiempo de permanencia entre el grupo de control y el grupo de prueba.\")\n",
    "    print(\"\\n ---------- \\n\")\n",
    "    print(\"\"\"\n",
    "          Los resultados sugieren que si que existe una diferencia entre los grupos en la permanencia en la página web,\n",
    "          por lo que tendremos quee optar por la nueva versión de la página web\n",
    "          \"\"\")\n",
    "else:\n",
    "    print(\"No hay evidencia de una diferencia significativa en el tiempo de permanencia entre los grupos.\")\n",
    "    print(\"\\n ---------- \\n\")\n",
    "    print(\"\"\" \n",
    "          Los resultados sugieren que no existe evidencia estadística para afirmar que las medias de las muestras son distintas,\n",
    "          por lo que la nueva campaña no esta ayudando a nuestro problema. \n",
    "          \"\"\")\n"
   ]
  },
  {
   "cell_type": "markdown",
   "metadata": {},
   "source": [
    "# Prueba de proporciones\n",
    "\n",
    "**Cuando la usaremos** :\n",
    "\n",
    "- Cuando queramos comparar datos que están expresados en proporciones. \n",
    "\n",
    "Supongamos ahora que eres una especialista en marketing digital y estás interesada en mejorar la efectividad de los CTAs en tu sitio web para aumentar la tasa de clics. Decides realizar un A/B testing con dos versiones del botón de CTA: la versión actual (Grupo de Control) y una nueva versión con un diseño modificado (Grupo de Prueba).\n",
    "\n",
    "Para realizar este análisis usaremos la prueba de chi-cuadrado. Si sintaxis básica es:\n",
    "\n",
    "```python\n",
    "from scipy.stats import chi2_contingency\n",
    "\n",
    "# Aplicar la prueba de chi-cuadrado de independencia\n",
    "chi2_stat, p_value, dof, expected = chi2_contingency(tabla_de_contingencia)\n",
    "```\n",
    "\n",
    "- `tabla_de_contingencia`: La tabla de contingencia, generalmente creada con funciones como `pd.crosstab`. Como aprendimos en lecciones previas. \n",
    "\n",
    "- `chi2_stat`: El estadístico de prueba chi-cuadrado.\n",
    "\n",
    "- `p_value`: El valor p asociado al estadístico de prueba.\n",
    "\n",
    "- `dof`: Grados de libertad.\n",
    "\n",
    "- `expected`: La tabla de frecuencias esperadas bajo la hipótesis nula.\n",
    "\n",
    "**Los resultados que obtenemos son:**\n",
    "\n",
    "- **Estadístico de Prueba (chi2_stat):** Representa la magnitud de la diferencia entre las frecuencias observadas y esperadas. Un valor grande indica una mayor discrepancia y sugiere que hay evidencia de asociación entre las variables.\n",
    "\n",
    "- **Valor p (p_value):** Representa la probabilidad de obtener un estadístico de prueba al menos tan extremo como el observado, asumiendo que las variables son independientes. Un valor p bajo (por ejemplo, < 0.05) sugiere que puedes rechazar la hipótesis nula de independencia.\n",
    "\n",
    "- **Grados de Libertad (dof): **Indica el número de grados de libertad asociados con el estadístico de prueba. En general, es igual al producto de los grados de libertad en cada dimensión de la tabla menos uno.\n",
    "\n",
    "- **Tabla de Frecuencias Esperadas (expected):** Contiene las frecuencias que se esperarían bajo la hipótesis nula de independencia. Comparar las frecuencias observadas con las esperadas puede ayudar a entender en qué celdas se observan las mayores desviaciones.\n",
    "\n",
    "**Interpretación:**\n",
    "\n",
    "- Si `p_value < 0.05`: Rechazamos la hipótesis nula. Hay evidencia suficiente para decir que hay una diferencia significativa entre las dos muestras.\n",
    "\n",
    "- Si `p_value >= 0.05`: No hay evidencia suficiente para rechazar la hipótesis nula. No podemos afirmar que haya una diferencia significativa entre las dos muestras."
   ]
  },
  {
   "cell_type": "code",
   "execution_count": 8,
   "metadata": {},
   "outputs": [
    {
     "data": {
      "text/html": [
       "<div>\n",
       "<style scoped>\n",
       "    .dataframe tbody tr th:only-of-type {\n",
       "        vertical-align: middle;\n",
       "    }\n",
       "\n",
       "    .dataframe tbody tr th {\n",
       "        vertical-align: top;\n",
       "    }\n",
       "\n",
       "    .dataframe thead th {\n",
       "        text-align: right;\n",
       "    }\n",
       "</style>\n",
       "<table border=\"1\" class=\"dataframe\">\n",
       "  <thead>\n",
       "    <tr style=\"text-align: right;\">\n",
       "      <th></th>\n",
       "      <th>Grupo</th>\n",
       "      <th>Clics</th>\n",
       "      <th>No_Clics</th>\n",
       "    </tr>\n",
       "  </thead>\n",
       "  <tbody>\n",
       "    <tr>\n",
       "      <th>0</th>\n",
       "      <td>Control</td>\n",
       "      <td>6</td>\n",
       "      <td>94</td>\n",
       "    </tr>\n",
       "    <tr>\n",
       "      <th>1</th>\n",
       "      <td>Control</td>\n",
       "      <td>1</td>\n",
       "      <td>99</td>\n",
       "    </tr>\n",
       "    <tr>\n",
       "      <th>2</th>\n",
       "      <td>Control</td>\n",
       "      <td>2</td>\n",
       "      <td>98</td>\n",
       "    </tr>\n",
       "    <tr>\n",
       "      <th>3</th>\n",
       "      <td>Control</td>\n",
       "      <td>2</td>\n",
       "      <td>98</td>\n",
       "    </tr>\n",
       "    <tr>\n",
       "      <th>4</th>\n",
       "      <td>Control</td>\n",
       "      <td>2</td>\n",
       "      <td>98</td>\n",
       "    </tr>\n",
       "  </tbody>\n",
       "</table>\n",
       "</div>"
      ],
      "text/plain": [
       "     Grupo  Clics  No_Clics\n",
       "0  Control      6        94\n",
       "1  Control      1        99\n",
       "2  Control      2        98\n",
       "3  Control      2        98\n",
       "4  Control      2        98"
      ]
     },
     "execution_count": 8,
     "metadata": {},
     "output_type": "execute_result"
    }
   ],
   "source": [
    "# Grupo de Control (versión actual del CTA)\n",
    "total_visitas_control = 1000\n",
    "clics_control = np.random.binomial(100, 0.03, total_visitas_control)  # Tasa de clics del 3%\n",
    "\n",
    "# Grupo de Prueba (nueva versión del CTA)\n",
    "total_visitas_prueba = 1000\n",
    "clics_prueba = np.random.binomial(100, 0.04, total_visitas_prueba)  # Tasa de clics del 4%\n",
    "\n",
    "# Crear un DataFrame\n",
    "data_p = {\n",
    "    'Grupo': ['Control'] * total_visitas_control + ['Prueba'] * total_visitas_prueba,\n",
    "    'Clics': list(clics_control) + list(clics_prueba),\n",
    "    'No_Clics': [100 - clics for clics in clics_control] + [100 - clics for clics in clics_prueba]\n",
    "}\n",
    "df_p = pd.DataFrame(data_p)\n",
    "df_p.head()"
   ]
  },
  {
   "cell_type": "code",
   "execution_count": 9,
   "metadata": {},
   "outputs": [
    {
     "data": {
      "image/png": "[encoded data removed]",
      "text/plain": [
       "<Figure size 2000x500 with 2 Axes>"
      ]
     },
     "metadata": {},
     "output_type": "display_data"
    }
   ],
   "source": [
    "# hacemos un análisis visual previo\n",
    "fig, axes = plt.subplots(nrows = 1, ncols = 2, figsize = (20, 5))\n",
    "\n",
    "sns.barplot(x=\"Grupo\", y=\"Clics\", data=df_p,  palette = \"flare\", ax = axes[0])\n",
    "sns.barplot(x=\"Grupo\", y=\"No_Clics\", data=df_p,  palette = \"flare\", ax = axes[1])\n",
    "\n",
    "axes[0].set_title(\"Clics\")\n",
    "axes[1].set_title(\"No Clics\");"
   ]
  },
  {
   "cell_type": "code",
   "execution_count": 10,
   "metadata": {},
   "outputs": [
    {
     "name": "stdout",
     "output_type": "stream",
     "text": [
      "Hay una diferencia significativa en las tasas de clics entre el Grupo de Control y el Grupo de Prueba.\n",
      "\n",
      " ---------- \n",
      "\n",
      "\n",
      "          Los resultados sugieren que existe evidencia estadística para afirmar que las medias de las muestras son distintas. \n",
      "          Por lo tanto, nuestro nuevo sistema tiene los efectos deseados y deberíamos cambiar la nueva versión de anuncios   \n",
      "          \n"
     ]
    }
   ],
   "source": [
    "# Crear una tabla de contingencia\n",
    "contingency_table = pd.crosstab(df_p['Grupo'], df_p['Clics'])\n",
    "\n",
    "# Realizar la prueba de proporciones\n",
    "chi2, p_value, _, _ = chi2_contingency(contingency_table)\n",
    "\n",
    "# Imprimir el resultado de la prueba\n",
    "alpha = 0.05\n",
    "if p_value < alpha:\n",
    "    print(\"Hay una diferencia significativa en las tasas de clics entre el Grupo de Control y el Grupo de Prueba.\")\n",
    "    print(\"\\n ---------- \\n\")\n",
    "    print(\"\"\"\n",
    "          Los resultados sugieren que existe evidencia estadística para afirmar que las medias de las muestras son distintas. \n",
    "          Por lo tanto, nuestro nuevo sistema tiene los efectos deseados y deberíamos cambiar la nueva versión de anuncios   \n",
    "          \"\"\")\n",
    "else:\n",
    "    print(\"No hay evidencia de una diferencia significativa en las tasas de clics entre los grupos.\")\n",
    "    print(\"\\n ---------- \\n\")\n",
    "    print(\"\"\" \n",
    "          Los resultados sugieren que no existe evidencia estadística para afirmar que las medias de las muestras son distintas,\n",
    "          por lo que la nueva campaña no esta ayudando a nuestro problema. \n",
    "          \"\"\")"
   ]
  },
  {
   "cell_type": "markdown",
   "metadata": {},
   "source": [
    "# Análisis de varianza (ANOVA)\n",
    "\n",
    "**Cuando la usaremos**\n",
    "\n",
    "- Cuando compares las medias de tres o más grupos independientes.\n",
    "\n",
    "- Los datos tienen que cumplir los supuestos de normalidad, homogeneidad de varianzas e independencia. \n",
    "\n",
    "\n",
    "Supongamos que eres un analista de marketing digital y estás probando tres versiones diferentes de la página de inicio de tu sitio web para ver cuál tiene el mayor impacto en el tiempo promedio que los usuarios pasan en la página. Tienes tres grupos: el Grupo A ve la versión actual, el Grupo B ve una variación con cambios en el diseño, y el Grupo C ve otra variación con cambios en el contenido.\n",
    "\n",
    "Su sintaxis básica es:\n",
    "\n",
    "La función `f_oneway` en Python se encuentra en el módulo `scipy.stats` y se utiliza para realizar un análisis de varianza (ANOVA). Aquí está la sintaxis básica del método:\n",
    "\n",
    "```python\n",
    "from scipy.stats import f_oneway\n",
    "\n",
    "# Aplicar ANOVA\n",
    "resultado_anova = f_oneway(grupo_1, grupo_2, grupo_3)\n",
    "\n",
    "# Imprimir resultados\n",
    "print(\"Estadístico F:\", resultado_anova.statistic)\n",
    "print(\"Valor p:\", resultado_anova.pvalue)\n",
    "```\n",
    "\n",
    "- `grupo_1`, `grupo_2`, `grupo_3`: Listas o arrays que representan las observaciones de cada grupo.\n",
    "\n",
    "- `resultado_anova`: Objeto que contiene el resultado del análisis de varianza.\n",
    "\n",
    "- `resultado_anova.statistic`: Estadístico F.\n",
    "\n",
    "- `resultado_anova.pvalue`: Valor p asociado al estadístico F.\n",
    "\n",
    "\n",
    "\n",
    "**Los resultados que obtenemos son:**\n",
    "\n",
    "- **Estadístico F:** El estadístico F es el resultado principal de ANOVA. Representa la relación entre la variabilidad entre los grupos y la variabilidad dentro de los grupos. Un valor grande de F sugiere que al menos un par de medias son diferentes.\n",
    "\n",
    "- **Valor p:** El valor p asociado al estadístico F indica la probabilidad de obtener un valor de estadístico F tan extremo como el observado, asumiendo que las medias de todos los grupos son iguales. Un valor p pequeño (< 0.05) sugiere que puedes rechazar la hipótesis nula de igualdad de medias.\n",
    "\n",
    "\n",
    "**Interpretación:**\n",
    "\n",
    "- Si `p_value < 0.05`: Rechazamos la hipótesis nula. Hay evidencia suficiente para decir que hay una diferencia significativa entre las dos muestras.\n",
    "\n",
    "- Si `p_value >= 0.05`: No hay evidencia suficiente para rechazar la hipótesis nula. No podemos afirmar que haya una diferencia significativa entre las dos muestras."
   ]
  },
  {
   "cell_type": "code",
   "execution_count": 11,
   "metadata": {},
   "outputs": [
    {
     "data": {
      "text/html": [
       "<div>\n",
       "<style scoped>\n",
       "    .dataframe tbody tr th:only-of-type {\n",
       "        vertical-align: middle;\n",
       "    }\n",
       "\n",
       "    .dataframe tbody tr th {\n",
       "        vertical-align: top;\n",
       "    }\n",
       "\n",
       "    .dataframe thead th {\n",
       "        text-align: right;\n",
       "    }\n",
       "</style>\n",
       "<table border=\"1\" class=\"dataframe\">\n",
       "  <thead>\n",
       "    <tr style=\"text-align: right;\">\n",
       "      <th></th>\n",
       "      <th>Grupo</th>\n",
       "      <th>Tiempo_Promedio</th>\n",
       "    </tr>\n",
       "  </thead>\n",
       "  <tbody>\n",
       "    <tr>\n",
       "      <th>127</th>\n",
       "      <td>B</td>\n",
       "      <td>71.711504</td>\n",
       "    </tr>\n",
       "    <tr>\n",
       "      <th>60</th>\n",
       "      <td>A</td>\n",
       "      <td>62.664824</td>\n",
       "    </tr>\n",
       "    <tr>\n",
       "      <th>153</th>\n",
       "      <td>B</td>\n",
       "      <td>66.341257</td>\n",
       "    </tr>\n",
       "    <tr>\n",
       "      <th>63</th>\n",
       "      <td>A</td>\n",
       "      <td>61.512977</td>\n",
       "    </tr>\n",
       "    <tr>\n",
       "      <th>49</th>\n",
       "      <td>A</td>\n",
       "      <td>52.323681</td>\n",
       "    </tr>\n",
       "    <tr>\n",
       "      <th>105</th>\n",
       "      <td>B</td>\n",
       "      <td>69.333873</td>\n",
       "    </tr>\n",
       "  </tbody>\n",
       "</table>\n",
       "</div>"
      ],
      "text/plain": [
       "    Grupo  Tiempo_Promedio\n",
       "127     B        71.711504\n",
       "60      A        62.664824\n",
       "153     B        66.341257\n",
       "63      A        61.512977\n",
       "49      A        52.323681\n",
       "105     B        69.333873"
      ]
     },
     "execution_count": 11,
     "metadata": {},
     "output_type": "execute_result"
    }
   ],
   "source": [
    "# generamos los datos ficticios del Grupo A (versión actual)\n",
    "grupo_a = np.random.normal(60, 10, 100)\n",
    "\n",
    "# generamos los datos ficticion del Grupo B (variación de diseño)\n",
    "grupo_b = np.random.normal(65, 10, 100)\n",
    "\n",
    "# generamos los datos ficticios del Grupo C (variación de contenido)\n",
    "grupo_c = np.random.normal(55, 10, 100)\n",
    "\n",
    "# Crear DataFrame\n",
    "df_anova = pd.DataFrame({\n",
    "    'Grupo': ['A'] * 100 + ['B'] * 100 + ['C'] * 100,\n",
    "    'Tiempo_Promedio': np.concatenate([grupo_a, grupo_b, grupo_c])\n",
    "})\n",
    "\n",
    "# Visualizar los primeros registros del DataFrame\n",
    "df_anova.sample(6)"
   ]
  },
  {
   "cell_type": "code",
   "execution_count": 75,
   "metadata": {},
   "outputs": [
    {
     "data": {
      "text/plain": [
       "<Axes: xlabel='Grupo', ylabel='Tiempo_Promedio'>"
      ]
     },
     "execution_count": 75,
     "metadata": {},
     "output_type": "execute_result"
    },
    {
     "data": {
      "image/png": "[encoded data removed]",
      "text/plain": [
       "<Figure size 640x480 with 1 Axes>"
      ]
     },
     "metadata": {},
     "output_type": "display_data"
    }
   ],
   "source": [
    "# analizamos los datos primero visualmente\n",
    "sns.barplot(x=\"Grupo\", y=\"Tiempo_Promedio\", data=df_anova,  palette = \"rocket_r\")"
   ]
  },
  {
   "cell_type": "code",
   "execution_count": 12,
   "metadata": {},
   "outputs": [
    {
     "name": "stdout",
     "output_type": "stream",
     "text": [
      "Estadístico F: 29.916728697116163\n",
      "Valor p: 1.4561157185894195e-12\n",
      "Hay diferencias significativas en el tiempo promedio entre al menos dos grupos.\n",
      "\n",
      " ---------- \n",
      "\n",
      "\n",
      "          Los resultados sugieren que existe evidencia estadística para afirmar que las medias de las muestras son distintas. \n",
      "          Por lo tanto, nuestro nuevo sistema tiene los efectos deseados y deberíamos cambiar la nueva versión de anuncios   \n",
      "          \n"
     ]
    }
   ],
   "source": [
    "anova_resultado = f_oneway(df_anova['Tiempo_Promedio'][df_anova['Grupo'] == 'A'],\n",
    "                            df_anova['Tiempo_Promedio'][df_anova['Grupo'] == 'B'],\n",
    "                            df_anova['Tiempo_Promedio'][df_anova['Grupo'] == 'C'])\n",
    "\n",
    "# Imprimir resultados\n",
    "print(\"Estadístico F:\", anova_resultado.statistic)\n",
    "print(\"Valor p:\", anova_resultado.pvalue)\n",
    "\n",
    "# Interpretar los resultados\n",
    "alpha = 0.05\n",
    "if anova_resultado.pvalue < alpha:\n",
    "    print(\"Hay diferencias significativas en el tiempo promedio entre al menos dos grupos.\")\n",
    "    print(\"\\n ---------- \\n\")\n",
    "    print(\"\"\"\n",
    "          Los resultados sugieren que existe evidencia estadística para afirmar que las medias de las muestras son distintas. \n",
    "          Por lo tanto, nuestro nuevo sistema tiene los efectos deseados y deberíamos cambiar la nueva versión de anuncios   \n",
    "          \"\"\")\n",
    "\n",
    "else:\n",
    "    print(\"No hay evidencia de diferencias significativas en el tiempo promedio entre los grupos.\")\n",
    "    print(\"\\n ---------- \\n\")\n",
    "    print(\"\"\" \n",
    "          Los resultados sugieren que no existe evidencia estadística para afirmar que las medias de las muestras son distintas,\n",
    "          por lo que la nueva campaña no esta ayudando a nuestro problema. \n",
    "          \"\"\")"
   ]
  },
  {
   "cell_type": "markdown",
   "metadata": {},
   "source": [
    "# Regresión Lineal\n",
    "\n",
    "La empresa introdujo una nueva función de chat en vivo en su sitio web para mejorar la comunicación con los clientes. Quieren entender cómo el tiempo que los usuarios pasan utilizando esta función (variable independiente) se relaciona con la tasa de conversión (variable dependiente). La variable independiente será el tiempo que los usuarios pasan interactuando con la nueva característica, y la variable dependiente será la tasa de conversión.\n",
    "\n",
    "\n",
    "**Interpretación:**\n",
    "\n",
    "- **Coeficiente (pendiente):** Representa el cambio promedio en la tasa de conversión por cada unidad adicional de tiempo de interacción.\n",
    "\n",
    "- **Intercepto:** Es la estimación de la tasa de conversión cuando el tiempo de interacción es cero.\n",
    "\n",
    "- **Puntaje R^2:** Indica cuánta variabilidad en la tasa de conversión es explicada por el modelo. Un puntaje R^2 más cercano a 1 sugiere un buen ajuste.\n",
    "\n"
   ]
  },
  {
   "cell_type": "code",
   "execution_count": 13,
   "metadata": {
    "scrolled": true
   },
   "outputs": [
    {
     "data": {
      "text/html": [
       "<div>\n",
       "<style scoped>\n",
       "    .dataframe tbody tr th:only-of-type {\n",
       "        vertical-align: middle;\n",
       "    }\n",
       "\n",
       "    .dataframe tbody tr th {\n",
       "        vertical-align: top;\n",
       "    }\n",
       "\n",
       "    .dataframe thead th {\n",
       "        text-align: right;\n",
       "    }\n",
       "</style>\n",
       "<table border=\"1\" class=\"dataframe\">\n",
       "  <thead>\n",
       "    <tr style=\"text-align: right;\">\n",
       "      <th></th>\n",
       "      <th>Tiempo_Interaccion</th>\n",
       "      <th>Tasa_Conversion</th>\n",
       "    </tr>\n",
       "  </thead>\n",
       "  <tbody>\n",
       "    <tr>\n",
       "      <th>0</th>\n",
       "      <td>11.236204</td>\n",
       "      <td>0.563551</td>\n",
       "    </tr>\n",
       "    <tr>\n",
       "      <th>1</th>\n",
       "      <td>28.521429</td>\n",
       "      <td>1.420091</td>\n",
       "    </tr>\n",
       "    <tr>\n",
       "      <th>2</th>\n",
       "      <td>21.959818</td>\n",
       "      <td>1.099826</td>\n",
       "    </tr>\n",
       "    <tr>\n",
       "      <th>3</th>\n",
       "      <td>17.959755</td>\n",
       "      <td>0.858236</td>\n",
       "    </tr>\n",
       "    <tr>\n",
       "      <th>4</th>\n",
       "      <td>4.680559</td>\n",
       "      <td>0.229635</td>\n",
       "    </tr>\n",
       "  </tbody>\n",
       "</table>\n",
       "</div>"
      ],
      "text/plain": [
       "   Tiempo_Interaccion  Tasa_Conversion\n",
       "0           11.236204         0.563551\n",
       "1           28.521429         1.420091\n",
       "2           21.959818         1.099826\n",
       "3           17.959755         0.858236\n",
       "4            4.680559         0.229635"
      ]
     },
     "execution_count": 13,
     "metadata": {},
     "output_type": "execute_result"
    }
   ],
   "source": [
    "# Crear datos ficticios\n",
    "np.random.seed(42)\n",
    "tiempo_interaccion = np.random.uniform(0, 30, 100)\n",
    "tasa_conversion = 0.05 * tiempo_interaccion + 0.02 * np.random.normal(size=100)\n",
    "\n",
    "# Crear DataFrame\n",
    "df_rl = pd.DataFrame({'Tiempo_Interaccion': tiempo_interaccion, 'Tasa_Conversion': tasa_conversion})\n",
    "\n",
    "# Visualizar los primeros registros del DataFrame\n",
    "df_rl.head()"
   ]
  },
  {
   "cell_type": "code",
   "execution_count": 14,
   "metadata": {},
   "outputs": [
    {
     "name": "stdout",
     "output_type": "stream",
     "text": [
      "Coeficiente (pendiente): 0.0497\n",
      "Intercepto: 0.0043\n",
      "Puntaje R^2: 0.9983\n"
     ]
    }
   ],
   "source": [
    "# Separar variables independientes y dependientes\n",
    "X = df_rl[['Tiempo_Interaccion']]\n",
    "y = df_rl['Tasa_Conversion']\n",
    "\n",
    "# Inicializar y entrenar el modelo de regresión lineal\n",
    "modelo_regresion = LinearRegression()\n",
    "modelo_regresion.fit(X, y)\n",
    "\n",
    "# Imprimir coeficientes y puntaje R^2\n",
    "print(f\"Coeficiente (pendiente): {modelo_regresion.coef_[0]:.4f}\")\n",
    "print(f\"Intercepto: {modelo_regresion.intercept_:.4f}\")\n",
    "print(f\"Puntaje R^2: {modelo_regresion.score(X, y):.4f}\")"
   ]
  }
 ],
 "metadata": {
  "kernelspec": {
   "display_name": "Python 3 (ipykernel)",
   "language": "python",
   "name": "python3"
  },
  "language_info": {
   "codemirror_mode": {
    "name": "ipython",
    "version": 3
   },
   "file_extension": ".py",
   "mimetype": "text/x-python",
   "name": "python",
   "nbconvert_exporter": "python",
   "pygments_lexer": "ipython3",
   "version": "3.9.7"
  },
  "toc": {
   "base_numbering": 1,
   "nav_menu": {},
   "number_sections": true,
   "sideBar": true,
   "skip_h1_title": false,
   "title_cell": "Table of Contents",
   "title_sidebar": "Contents",
   "toc_cell": true,
   "toc_position": {
    "height": "calc(100% - 180px)",
    "left": "10px",
    "top": "150px",
    "width": "384px"
   },
   "toc_section_display": true,
   "toc_window_display": true
  }
 },
 "nbformat": 4,
 "nbformat_minor": 2
}
